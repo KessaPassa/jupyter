{
 "cells": [
  {
   "cell_type": "code",
   "execution_count": 1,
   "metadata": {},
   "outputs": [],
   "source": [
    "import pandas as pd\n",
    "import numpy as np\n",
    "from sklearn.linear_model import LinearRegression as LR"
   ]
  },
  {
   "cell_type": "code",
   "execution_count": 2,
   "metadata": {},
   "outputs": [],
   "source": [
    "root_dir = '/Users/kessapassa/OneDrive/research_log/logs/output/'"
   ]
  },
  {
   "cell_type": "code",
   "execution_count": 3,
   "metadata": {},
   "outputs": [],
   "source": [
    "dir_list = '6_4'\n",
    "mobile = pd.read_csv(root_dir+'mobile'+dir_list+'.csv', index_col=0)\n",
    "census = pd.read_csv(root_dir+'census'+dir_list+'.csv', index_col=0)\n",
    "vehicles = pd.read_csv(root_dir+'vehicles'+dir_list+'.csv', index_col=0)\n",
    "pedestrians = pd.read_csv(root_dir+'pedestrians'+dir_list+'.csv', index_col=0)"
   ]
  },
  {
   "cell_type": "code",
   "execution_count": 4,
   "metadata": {},
   "outputs": [],
   "source": [
    "loc_list = [21, 22, 27, 28]\n",
    "mobile = mobile.loc[loc_list]\n",
    "census = census.loc[loc_list]\n",
    "vehicles = vehicles.loc[loc_list]\n",
    "pedestrians = pedestrians.loc[loc_list]"
   ]
  },
  {
   "cell_type": "code",
   "execution_count": 5,
   "metadata": {},
   "outputs": [
    {
     "data": {
      "text/html": [
       "<div>\n",
       "<style scoped>\n",
       "    .dataframe tbody tr th:only-of-type {\n",
       "        vertical-align: middle;\n",
       "    }\n",
       "\n",
       "    .dataframe tbody tr th {\n",
       "        vertical-align: top;\n",
       "    }\n",
       "\n",
       "    .dataframe thead th {\n",
       "        text-align: right;\n",
       "    }\n",
       "</style>\n",
       "<table border=\"1\" class=\"dataframe\">\n",
       "  <thead>\n",
       "    <tr style=\"text-align: right;\">\n",
       "      <th></th>\n",
       "      <th>3600</th>\n",
       "      <th>7200</th>\n",
       "      <th>10800</th>\n",
       "      <th>14400</th>\n",
       "      <th>18000</th>\n",
       "      <th>21600</th>\n",
       "    </tr>\n",
       "  </thead>\n",
       "  <tbody>\n",
       "    <tr>\n",
       "      <th>21</th>\n",
       "      <td>1137.4</td>\n",
       "      <td>1171.0</td>\n",
       "      <td>878.4</td>\n",
       "      <td>738.9</td>\n",
       "      <td>690.5</td>\n",
       "      <td>647.5</td>\n",
       "    </tr>\n",
       "    <tr>\n",
       "      <th>22</th>\n",
       "      <td>533.2</td>\n",
       "      <td>630.1</td>\n",
       "      <td>466.0</td>\n",
       "      <td>394.0</td>\n",
       "      <td>365.0</td>\n",
       "      <td>331.1</td>\n",
       "    </tr>\n",
       "    <tr>\n",
       "      <th>27</th>\n",
       "      <td>1082.9</td>\n",
       "      <td>1522.4</td>\n",
       "      <td>1345.1</td>\n",
       "      <td>1188.3</td>\n",
       "      <td>1132.4</td>\n",
       "      <td>1103.8</td>\n",
       "    </tr>\n",
       "    <tr>\n",
       "      <th>28</th>\n",
       "      <td>546.1</td>\n",
       "      <td>425.6</td>\n",
       "      <td>248.8</td>\n",
       "      <td>167.0</td>\n",
       "      <td>146.6</td>\n",
       "      <td>125.3</td>\n",
       "    </tr>\n",
       "  </tbody>\n",
       "</table>\n",
       "</div>"
      ],
      "text/plain": [
       "      3600    7200   10800   14400   18000   21600\n",
       "21  1137.4  1171.0   878.4   738.9   690.5   647.5\n",
       "22   533.2   630.1   466.0   394.0   365.0   331.1\n",
       "27  1082.9  1522.4  1345.1  1188.3  1132.4  1103.8\n",
       "28   546.1   425.6   248.8   167.0   146.6   125.3"
      ]
     },
     "execution_count": 5,
     "metadata": {},
     "output_type": "execute_result"
    }
   ],
   "source": [
    "mobile"
   ]
  },
  {
   "cell_type": "code",
   "execution_count": 6,
   "metadata": {
    "scrolled": true
   },
   "outputs": [
    {
     "data": {
      "text/html": [
       "<div>\n",
       "<style scoped>\n",
       "    .dataframe tbody tr th:only-of-type {\n",
       "        vertical-align: middle;\n",
       "    }\n",
       "\n",
       "    .dataframe tbody tr th {\n",
       "        vertical-align: top;\n",
       "    }\n",
       "\n",
       "    .dataframe thead th {\n",
       "        text-align: right;\n",
       "    }\n",
       "</style>\n",
       "<table border=\"1\" class=\"dataframe\">\n",
       "  <thead>\n",
       "    <tr style=\"text-align: right;\">\n",
       "      <th></th>\n",
       "      <th>3600</th>\n",
       "      <th>7200</th>\n",
       "      <th>10800</th>\n",
       "      <th>14400</th>\n",
       "      <th>18000</th>\n",
       "      <th>21600</th>\n",
       "    </tr>\n",
       "  </thead>\n",
       "  <tbody>\n",
       "    <tr>\n",
       "      <th>21</th>\n",
       "      <td>271.6</td>\n",
       "      <td>279.4</td>\n",
       "      <td>209.2</td>\n",
       "      <td>185.0</td>\n",
       "      <td>173.3</td>\n",
       "      <td>162.1</td>\n",
       "    </tr>\n",
       "    <tr>\n",
       "      <th>22</th>\n",
       "      <td>75.1</td>\n",
       "      <td>112.7</td>\n",
       "      <td>98.9</td>\n",
       "      <td>97.1</td>\n",
       "      <td>90.3</td>\n",
       "      <td>81.5</td>\n",
       "    </tr>\n",
       "    <tr>\n",
       "      <th>27</th>\n",
       "      <td>305.7</td>\n",
       "      <td>386.2</td>\n",
       "      <td>314.5</td>\n",
       "      <td>270.1</td>\n",
       "      <td>258.4</td>\n",
       "      <td>250.7</td>\n",
       "    </tr>\n",
       "    <tr>\n",
       "      <th>28</th>\n",
       "      <td>135.5</td>\n",
       "      <td>114.7</td>\n",
       "      <td>65.5</td>\n",
       "      <td>49.1</td>\n",
       "      <td>37.2</td>\n",
       "      <td>29.9</td>\n",
       "    </tr>\n",
       "  </tbody>\n",
       "</table>\n",
       "</div>"
      ],
      "text/plain": [
       "     3600   7200  10800  14400  18000  21600\n",
       "21  271.6  279.4  209.2  185.0  173.3  162.1\n",
       "22   75.1  112.7   98.9   97.1   90.3   81.5\n",
       "27  305.7  386.2  314.5  270.1  258.4  250.7\n",
       "28  135.5  114.7   65.5   49.1   37.2   29.9"
      ]
     },
     "execution_count": 6,
     "metadata": {},
     "output_type": "execute_result"
    }
   ],
   "source": [
    "census"
   ]
  },
  {
   "cell_type": "code",
   "execution_count": 7,
   "metadata": {
    "scrolled": true
   },
   "outputs": [
    {
     "data": {
      "text/html": [
       "<div>\n",
       "<style scoped>\n",
       "    .dataframe tbody tr th:only-of-type {\n",
       "        vertical-align: middle;\n",
       "    }\n",
       "\n",
       "    .dataframe tbody tr th {\n",
       "        vertical-align: top;\n",
       "    }\n",
       "\n",
       "    .dataframe thead th {\n",
       "        text-align: right;\n",
       "    }\n",
       "</style>\n",
       "<table border=\"1\" class=\"dataframe\">\n",
       "  <thead>\n",
       "    <tr style=\"text-align: right;\">\n",
       "      <th></th>\n",
       "      <th>3600</th>\n",
       "      <th>7200</th>\n",
       "      <th>10800</th>\n",
       "      <th>14400</th>\n",
       "      <th>18000</th>\n",
       "      <th>21600</th>\n",
       "    </tr>\n",
       "  </thead>\n",
       "  <tbody>\n",
       "    <tr>\n",
       "      <th>21</th>\n",
       "      <td>995.8</td>\n",
       "      <td>1126.9</td>\n",
       "      <td>869.1</td>\n",
       "      <td>737.7</td>\n",
       "      <td>690.2</td>\n",
       "      <td>647.5</td>\n",
       "    </tr>\n",
       "    <tr>\n",
       "      <th>22</th>\n",
       "      <td>427.9</td>\n",
       "      <td>602.5</td>\n",
       "      <td>459.0</td>\n",
       "      <td>392.2</td>\n",
       "      <td>364.7</td>\n",
       "      <td>331.1</td>\n",
       "    </tr>\n",
       "    <tr>\n",
       "      <th>27</th>\n",
       "      <td>907.6</td>\n",
       "      <td>1477.2</td>\n",
       "      <td>1334.6</td>\n",
       "      <td>1185.6</td>\n",
       "      <td>1131.3</td>\n",
       "      <td>1103.8</td>\n",
       "    </tr>\n",
       "    <tr>\n",
       "      <th>28</th>\n",
       "      <td>436.4</td>\n",
       "      <td>394.1</td>\n",
       "      <td>242.1</td>\n",
       "      <td>165.6</td>\n",
       "      <td>146.0</td>\n",
       "      <td>125.3</td>\n",
       "    </tr>\n",
       "  </tbody>\n",
       "</table>\n",
       "</div>"
      ],
      "text/plain": [
       "     3600    7200   10800   14400   18000   21600\n",
       "21  995.8  1126.9   869.1   737.7   690.2   647.5\n",
       "22  427.9   602.5   459.0   392.2   364.7   331.1\n",
       "27  907.6  1477.2  1334.6  1185.6  1131.3  1103.8\n",
       "28  436.4   394.1   242.1   165.6   146.0   125.3"
      ]
     },
     "execution_count": 7,
     "metadata": {},
     "output_type": "execute_result"
    }
   ],
   "source": [
    "vehicles"
   ]
  },
  {
   "cell_type": "code",
   "execution_count": 8,
   "metadata": {
    "scrolled": true
   },
   "outputs": [
    {
     "data": {
      "text/html": [
       "<div>\n",
       "<style scoped>\n",
       "    .dataframe tbody tr th:only-of-type {\n",
       "        vertical-align: middle;\n",
       "    }\n",
       "\n",
       "    .dataframe tbody tr th {\n",
       "        vertical-align: top;\n",
       "    }\n",
       "\n",
       "    .dataframe thead th {\n",
       "        text-align: right;\n",
       "    }\n",
       "</style>\n",
       "<table border=\"1\" class=\"dataframe\">\n",
       "  <thead>\n",
       "    <tr style=\"text-align: right;\">\n",
       "      <th></th>\n",
       "      <th>3600</th>\n",
       "      <th>7200</th>\n",
       "      <th>10800</th>\n",
       "      <th>14400</th>\n",
       "      <th>18000</th>\n",
       "      <th>21600</th>\n",
       "    </tr>\n",
       "  </thead>\n",
       "  <tbody>\n",
       "    <tr>\n",
       "      <th>21</th>\n",
       "      <td>141.6</td>\n",
       "      <td>44.1</td>\n",
       "      <td>9.3</td>\n",
       "      <td>1.2</td>\n",
       "      <td>0.3</td>\n",
       "      <td>0.0</td>\n",
       "    </tr>\n",
       "    <tr>\n",
       "      <th>22</th>\n",
       "      <td>105.3</td>\n",
       "      <td>27.6</td>\n",
       "      <td>7.0</td>\n",
       "      <td>1.8</td>\n",
       "      <td>0.3</td>\n",
       "      <td>0.0</td>\n",
       "    </tr>\n",
       "    <tr>\n",
       "      <th>27</th>\n",
       "      <td>175.3</td>\n",
       "      <td>45.2</td>\n",
       "      <td>10.5</td>\n",
       "      <td>2.7</td>\n",
       "      <td>1.1</td>\n",
       "      <td>0.0</td>\n",
       "    </tr>\n",
       "    <tr>\n",
       "      <th>28</th>\n",
       "      <td>109.7</td>\n",
       "      <td>31.5</td>\n",
       "      <td>6.7</td>\n",
       "      <td>1.4</td>\n",
       "      <td>0.6</td>\n",
       "      <td>0.0</td>\n",
       "    </tr>\n",
       "  </tbody>\n",
       "</table>\n",
       "</div>"
      ],
      "text/plain": [
       "     3600  7200  10800  14400  18000  21600\n",
       "21  141.6  44.1    9.3    1.2    0.3    0.0\n",
       "22  105.3  27.6    7.0    1.8    0.3    0.0\n",
       "27  175.3  45.2   10.5    2.7    1.1    0.0\n",
       "28  109.7  31.5    6.7    1.4    0.6    0.0"
      ]
     },
     "execution_count": 8,
     "metadata": {},
     "output_type": "execute_result"
    }
   ],
   "source": [
    "pedestrians"
   ]
  },
  {
   "cell_type": "markdown",
   "metadata": {},
   "source": [
    "# 道路交通センサスを補間するαを求める"
   ]
  },
  {
   "cell_type": "code",
   "execution_count": 9,
   "metadata": {},
   "outputs": [
    {
     "data": {
      "text/plain": [
       "4.070535902925807"
      ]
     },
     "execution_count": 9,
     "metadata": {},
     "output_type": "execute_result"
    }
   ],
   "source": [
    "# a = (vehicles[['3600', '7200', '10800']] / census[['3600', '7200', '10800']]).mean().mean()\n",
    "a = (vehicles / census).mean().mean()\n",
    "a"
   ]
  },
  {
   "cell_type": "code",
   "execution_count": 10,
   "metadata": {
    "scrolled": true
   },
   "outputs": [
    {
     "data": {
      "text/html": [
       "<div>\n",
       "<style scoped>\n",
       "    .dataframe tbody tr th:only-of-type {\n",
       "        vertical-align: middle;\n",
       "    }\n",
       "\n",
       "    .dataframe tbody tr th {\n",
       "        vertical-align: top;\n",
       "    }\n",
       "\n",
       "    .dataframe thead th {\n",
       "        text-align: right;\n",
       "    }\n",
       "</style>\n",
       "<table border=\"1\" class=\"dataframe\">\n",
       "  <thead>\n",
       "    <tr style=\"text-align: right;\">\n",
       "      <th></th>\n",
       "      <th>3600</th>\n",
       "      <th>7200</th>\n",
       "      <th>10800</th>\n",
       "      <th>14400</th>\n",
       "      <th>18000</th>\n",
       "      <th>21600</th>\n",
       "    </tr>\n",
       "  </thead>\n",
       "  <tbody>\n",
       "    <tr>\n",
       "      <th>21</th>\n",
       "      <td>1105.557551</td>\n",
       "      <td>1137.307731</td>\n",
       "      <td>851.556111</td>\n",
       "      <td>753.049142</td>\n",
       "      <td>705.423872</td>\n",
       "      <td>659.833870</td>\n",
       "    </tr>\n",
       "    <tr>\n",
       "      <th>22</th>\n",
       "      <td>305.697246</td>\n",
       "      <td>458.749396</td>\n",
       "      <td>402.576001</td>\n",
       "      <td>395.249036</td>\n",
       "      <td>367.569392</td>\n",
       "      <td>331.748676</td>\n",
       "    </tr>\n",
       "    <tr>\n",
       "      <th>27</th>\n",
       "      <td>1244.362826</td>\n",
       "      <td>1572.040966</td>\n",
       "      <td>1280.183541</td>\n",
       "      <td>1099.451747</td>\n",
       "      <td>1051.826477</td>\n",
       "      <td>1020.483351</td>\n",
       "    </tr>\n",
       "    <tr>\n",
       "      <th>28</th>\n",
       "      <td>551.557615</td>\n",
       "      <td>466.890468</td>\n",
       "      <td>266.620102</td>\n",
       "      <td>199.863313</td>\n",
       "      <td>151.423936</td>\n",
       "      <td>121.709023</td>\n",
       "    </tr>\n",
       "  </tbody>\n",
       "</table>\n",
       "</div>"
      ],
      "text/plain": [
       "           3600         7200        10800        14400        18000  \\\n",
       "21  1105.557551  1137.307731   851.556111   753.049142   705.423872   \n",
       "22   305.697246   458.749396   402.576001   395.249036   367.569392   \n",
       "27  1244.362826  1572.040966  1280.183541  1099.451747  1051.826477   \n",
       "28   551.557615   466.890468   266.620102   199.863313   151.423936   \n",
       "\n",
       "          21600  \n",
       "21   659.833870  \n",
       "22   331.748676  \n",
       "27  1020.483351  \n",
       "28   121.709023  "
      ]
     },
     "execution_count": 10,
     "metadata": {},
     "output_type": "execute_result"
    }
   ],
   "source": [
    "a * census"
   ]
  },
  {
   "cell_type": "code",
   "execution_count": 11,
   "metadata": {},
   "outputs": [
    {
     "data": {
      "text/html": [
       "<div>\n",
       "<style scoped>\n",
       "    .dataframe tbody tr th:only-of-type {\n",
       "        vertical-align: middle;\n",
       "    }\n",
       "\n",
       "    .dataframe tbody tr th {\n",
       "        vertical-align: top;\n",
       "    }\n",
       "\n",
       "    .dataframe thead th {\n",
       "        text-align: right;\n",
       "    }\n",
       "</style>\n",
       "<table border=\"1\" class=\"dataframe\">\n",
       "  <thead>\n",
       "    <tr style=\"text-align: right;\">\n",
       "      <th></th>\n",
       "      <th>3600</th>\n",
       "      <th>7200</th>\n",
       "      <th>10800</th>\n",
       "      <th>14400</th>\n",
       "      <th>18000</th>\n",
       "      <th>21600</th>\n",
       "    </tr>\n",
       "  </thead>\n",
       "  <tbody>\n",
       "    <tr>\n",
       "      <th>21</th>\n",
       "      <td>995.8</td>\n",
       "      <td>1126.9</td>\n",
       "      <td>869.1</td>\n",
       "      <td>737.7</td>\n",
       "      <td>690.2</td>\n",
       "      <td>647.5</td>\n",
       "    </tr>\n",
       "    <tr>\n",
       "      <th>22</th>\n",
       "      <td>427.9</td>\n",
       "      <td>602.5</td>\n",
       "      <td>459.0</td>\n",
       "      <td>392.2</td>\n",
       "      <td>364.7</td>\n",
       "      <td>331.1</td>\n",
       "    </tr>\n",
       "    <tr>\n",
       "      <th>27</th>\n",
       "      <td>907.6</td>\n",
       "      <td>1477.2</td>\n",
       "      <td>1334.6</td>\n",
       "      <td>1185.6</td>\n",
       "      <td>1131.3</td>\n",
       "      <td>1103.8</td>\n",
       "    </tr>\n",
       "    <tr>\n",
       "      <th>28</th>\n",
       "      <td>436.4</td>\n",
       "      <td>394.1</td>\n",
       "      <td>242.1</td>\n",
       "      <td>165.6</td>\n",
       "      <td>146.0</td>\n",
       "      <td>125.3</td>\n",
       "    </tr>\n",
       "  </tbody>\n",
       "</table>\n",
       "</div>"
      ],
      "text/plain": [
       "     3600    7200   10800   14400   18000   21600\n",
       "21  995.8  1126.9   869.1   737.7   690.2   647.5\n",
       "22  427.9   602.5   459.0   392.2   364.7   331.1\n",
       "27  907.6  1477.2  1334.6  1185.6  1131.3  1103.8\n",
       "28  436.4   394.1   242.1   165.6   146.0   125.3"
      ]
     },
     "execution_count": 11,
     "metadata": {},
     "output_type": "execute_result"
    }
   ],
   "source": [
    "vehicles"
   ]
  },
  {
   "cell_type": "markdown",
   "metadata": {},
   "source": [
    "# 歩行者 = モバイル空間統計 - α*道路交通センサス"
   ]
  },
  {
   "cell_type": "code",
   "execution_count": 12,
   "metadata": {
    "scrolled": false
   },
   "outputs": [
    {
     "data": {
      "text/plain": [
       "516.6686103096582"
      ]
     },
     "execution_count": 12,
     "metadata": {},
     "output_type": "execute_result"
    }
   ],
   "source": [
    "P = mobile - a * census\n",
    "P.sum().sum()"
   ]
  },
  {
   "cell_type": "code",
   "execution_count": 13,
   "metadata": {
    "scrolled": true
   },
   "outputs": [
    {
     "data": {
      "text/plain": [
       "723.1999999999999"
      ]
     },
     "execution_count": 13,
     "metadata": {},
     "output_type": "execute_result"
    }
   ],
   "source": [
    "pedestrians.sum().sum()"
   ]
  },
  {
   "cell_type": "markdown",
   "metadata": {},
   "source": [
    "# 自動車 = モバイル空間統計 - 歩行者"
   ]
  },
  {
   "cell_type": "code",
   "execution_count": 14,
   "metadata": {
    "scrolled": false
   },
   "outputs": [
    {
     "data": {
      "text/plain": [
       "16500.73138969034"
      ]
     },
     "execution_count": 14,
     "metadata": {},
     "output_type": "execute_result"
    }
   ],
   "source": [
    "V = mobile - P\n",
    "V.sum().sum()"
   ]
  },
  {
   "cell_type": "code",
   "execution_count": 15,
   "metadata": {
    "scrolled": true
   },
   "outputs": [
    {
     "data": {
      "text/plain": [
       "16294.2"
      ]
     },
     "execution_count": 15,
     "metadata": {},
     "output_type": "execute_result"
    }
   ],
   "source": [
    "vehicles.sum().sum()"
   ]
  },
  {
   "cell_type": "markdown",
   "metadata": {},
   "source": [
    "# エリア / 合計 で割合を求める"
   ]
  },
  {
   "cell_type": "code",
   "execution_count": 16,
   "metadata": {
    "scrolled": true
   },
   "outputs": [
    {
     "data": {
      "text/html": [
       "<div>\n",
       "<style scoped>\n",
       "    .dataframe tbody tr th:only-of-type {\n",
       "        vertical-align: middle;\n",
       "    }\n",
       "\n",
       "    .dataframe tbody tr th {\n",
       "        vertical-align: top;\n",
       "    }\n",
       "\n",
       "    .dataframe thead th {\n",
       "        text-align: right;\n",
       "    }\n",
       "</style>\n",
       "<table border=\"1\" class=\"dataframe\">\n",
       "  <thead>\n",
       "    <tr style=\"text-align: right;\">\n",
       "      <th></th>\n",
       "      <th>3600</th>\n",
       "      <th>7200</th>\n",
       "      <th>10800</th>\n",
       "      <th>14400</th>\n",
       "      <th>18000</th>\n",
       "      <th>21600</th>\n",
       "    </tr>\n",
       "  </thead>\n",
       "  <tbody>\n",
       "    <tr>\n",
       "      <th>21</th>\n",
       "      <td>0.067001</td>\n",
       "      <td>0.068925</td>\n",
       "      <td>0.051607</td>\n",
       "      <td>0.045637</td>\n",
       "      <td>0.042751</td>\n",
       "      <td>0.039988</td>\n",
       "    </tr>\n",
       "    <tr>\n",
       "      <th>22</th>\n",
       "      <td>0.018526</td>\n",
       "      <td>0.027802</td>\n",
       "      <td>0.024397</td>\n",
       "      <td>0.023953</td>\n",
       "      <td>0.022276</td>\n",
       "      <td>0.020105</td>\n",
       "    </tr>\n",
       "    <tr>\n",
       "      <th>27</th>\n",
       "      <td>0.075413</td>\n",
       "      <td>0.095271</td>\n",
       "      <td>0.077583</td>\n",
       "      <td>0.066630</td>\n",
       "      <td>0.063744</td>\n",
       "      <td>0.061845</td>\n",
       "    </tr>\n",
       "    <tr>\n",
       "      <th>28</th>\n",
       "      <td>0.033426</td>\n",
       "      <td>0.028295</td>\n",
       "      <td>0.016158</td>\n",
       "      <td>0.012112</td>\n",
       "      <td>0.009177</td>\n",
       "      <td>0.007376</td>\n",
       "    </tr>\n",
       "  </tbody>\n",
       "</table>\n",
       "</div>"
      ],
      "text/plain": [
       "        3600      7200     10800     14400     18000     21600\n",
       "21  0.067001  0.068925  0.051607  0.045637  0.042751  0.039988\n",
       "22  0.018526  0.027802  0.024397  0.023953  0.022276  0.020105\n",
       "27  0.075413  0.095271  0.077583  0.066630  0.063744  0.061845\n",
       "28  0.033426  0.028295  0.016158  0.012112  0.009177  0.007376"
      ]
     },
     "execution_count": 16,
     "metadata": {},
     "output_type": "execute_result"
    }
   ],
   "source": [
    "censusPercentage = census / census.sum().sum()\n",
    "censusPercentage"
   ]
  },
  {
   "cell_type": "markdown",
   "metadata": {},
   "source": [
    "# 道路交通センサスのエリア毎の占有率 * 推定エリア全体の人数"
   ]
  },
  {
   "cell_type": "code",
   "execution_count": 17,
   "metadata": {},
   "outputs": [
    {
     "data": {
      "text/html": [
       "<div>\n",
       "<style scoped>\n",
       "    .dataframe tbody tr th:only-of-type {\n",
       "        vertical-align: middle;\n",
       "    }\n",
       "\n",
       "    .dataframe tbody tr th {\n",
       "        vertical-align: top;\n",
       "    }\n",
       "\n",
       "    .dataframe thead th {\n",
       "        text-align: right;\n",
       "    }\n",
       "</style>\n",
       "<table border=\"1\" class=\"dataframe\">\n",
       "  <thead>\n",
       "    <tr style=\"text-align: right;\">\n",
       "      <th></th>\n",
       "      <th>3600</th>\n",
       "      <th>7200</th>\n",
       "      <th>10800</th>\n",
       "      <th>14400</th>\n",
       "      <th>18000</th>\n",
       "      <th>21600</th>\n",
       "    </tr>\n",
       "  </thead>\n",
       "  <tbody>\n",
       "    <tr>\n",
       "      <th>21</th>\n",
       "      <td>1105.557551</td>\n",
       "      <td>1137.307731</td>\n",
       "      <td>851.556111</td>\n",
       "      <td>753.049142</td>\n",
       "      <td>705.423872</td>\n",
       "      <td>659.833870</td>\n",
       "    </tr>\n",
       "    <tr>\n",
       "      <th>22</th>\n",
       "      <td>305.697246</td>\n",
       "      <td>458.749396</td>\n",
       "      <td>402.576001</td>\n",
       "      <td>395.249036</td>\n",
       "      <td>367.569392</td>\n",
       "      <td>331.748676</td>\n",
       "    </tr>\n",
       "    <tr>\n",
       "      <th>27</th>\n",
       "      <td>1244.362826</td>\n",
       "      <td>1572.040966</td>\n",
       "      <td>1280.183541</td>\n",
       "      <td>1099.451747</td>\n",
       "      <td>1051.826477</td>\n",
       "      <td>1020.483351</td>\n",
       "    </tr>\n",
       "    <tr>\n",
       "      <th>28</th>\n",
       "      <td>551.557615</td>\n",
       "      <td>466.890468</td>\n",
       "      <td>266.620102</td>\n",
       "      <td>199.863313</td>\n",
       "      <td>151.423936</td>\n",
       "      <td>121.709023</td>\n",
       "    </tr>\n",
       "  </tbody>\n",
       "</table>\n",
       "</div>"
      ],
      "text/plain": [
       "           3600         7200        10800        14400        18000  \\\n",
       "21  1105.557551  1137.307731   851.556111   753.049142   705.423872   \n",
       "22   305.697246   458.749396   402.576001   395.249036   367.569392   \n",
       "27  1244.362826  1572.040966  1280.183541  1099.451747  1051.826477   \n",
       "28   551.557615   466.890468   266.620102   199.863313   151.423936   \n",
       "\n",
       "          21600  \n",
       "21   659.833870  \n",
       "22   331.748676  \n",
       "27  1020.483351  \n",
       "28   121.709023  "
      ]
     },
     "execution_count": 17,
     "metadata": {},
     "output_type": "execute_result"
    }
   ],
   "source": [
    "Vsum =  censusPercentage * V.sum().sum()\n",
    "Vsum"
   ]
  },
  {
   "cell_type": "code",
   "execution_count": 18,
   "metadata": {},
   "outputs": [
    {
     "data": {
      "text/html": [
       "<div>\n",
       "<style scoped>\n",
       "    .dataframe tbody tr th:only-of-type {\n",
       "        vertical-align: middle;\n",
       "    }\n",
       "\n",
       "    .dataframe tbody tr th {\n",
       "        vertical-align: top;\n",
       "    }\n",
       "\n",
       "    .dataframe thead th {\n",
       "        text-align: right;\n",
       "    }\n",
       "</style>\n",
       "<table border=\"1\" class=\"dataframe\">\n",
       "  <thead>\n",
       "    <tr style=\"text-align: right;\">\n",
       "      <th></th>\n",
       "      <th>3600</th>\n",
       "      <th>7200</th>\n",
       "      <th>10800</th>\n",
       "      <th>14400</th>\n",
       "      <th>18000</th>\n",
       "      <th>21600</th>\n",
       "    </tr>\n",
       "  </thead>\n",
       "  <tbody>\n",
       "    <tr>\n",
       "      <th>21</th>\n",
       "      <td>995.8</td>\n",
       "      <td>1126.9</td>\n",
       "      <td>869.1</td>\n",
       "      <td>737.7</td>\n",
       "      <td>690.2</td>\n",
       "      <td>647.5</td>\n",
       "    </tr>\n",
       "    <tr>\n",
       "      <th>22</th>\n",
       "      <td>427.9</td>\n",
       "      <td>602.5</td>\n",
       "      <td>459.0</td>\n",
       "      <td>392.2</td>\n",
       "      <td>364.7</td>\n",
       "      <td>331.1</td>\n",
       "    </tr>\n",
       "    <tr>\n",
       "      <th>27</th>\n",
       "      <td>907.6</td>\n",
       "      <td>1477.2</td>\n",
       "      <td>1334.6</td>\n",
       "      <td>1185.6</td>\n",
       "      <td>1131.3</td>\n",
       "      <td>1103.8</td>\n",
       "    </tr>\n",
       "    <tr>\n",
       "      <th>28</th>\n",
       "      <td>436.4</td>\n",
       "      <td>394.1</td>\n",
       "      <td>242.1</td>\n",
       "      <td>165.6</td>\n",
       "      <td>146.0</td>\n",
       "      <td>125.3</td>\n",
       "    </tr>\n",
       "  </tbody>\n",
       "</table>\n",
       "</div>"
      ],
      "text/plain": [
       "     3600    7200   10800   14400   18000   21600\n",
       "21  995.8  1126.9   869.1   737.7   690.2   647.5\n",
       "22  427.9   602.5   459.0   392.2   364.7   331.1\n",
       "27  907.6  1477.2  1334.6  1185.6  1131.3  1103.8\n",
       "28  436.4   394.1   242.1   165.6   146.0   125.3"
      ]
     },
     "execution_count": 18,
     "metadata": {},
     "output_type": "execute_result"
    }
   ],
   "source": [
    "vehicles"
   ]
  },
  {
   "cell_type": "code",
   "execution_count": 19,
   "metadata": {
    "scrolled": true
   },
   "outputs": [
    {
     "data": {
      "text/html": [
       "<div>\n",
       "<style scoped>\n",
       "    .dataframe tbody tr th:only-of-type {\n",
       "        vertical-align: middle;\n",
       "    }\n",
       "\n",
       "    .dataframe tbody tr th {\n",
       "        vertical-align: top;\n",
       "    }\n",
       "\n",
       "    .dataframe thead th {\n",
       "        text-align: right;\n",
       "    }\n",
       "</style>\n",
       "<table border=\"1\" class=\"dataframe\">\n",
       "  <thead>\n",
       "    <tr style=\"text-align: right;\">\n",
       "      <th></th>\n",
       "      <th>3600</th>\n",
       "      <th>7200</th>\n",
       "      <th>10800</th>\n",
       "      <th>14400</th>\n",
       "      <th>18000</th>\n",
       "      <th>21600</th>\n",
       "    </tr>\n",
       "  </thead>\n",
       "  <tbody>\n",
       "    <tr>\n",
       "      <th>21</th>\n",
       "      <td>0.900722</td>\n",
       "      <td>0.990849</td>\n",
       "      <td>1.020602</td>\n",
       "      <td>0.979617</td>\n",
       "      <td>0.978419</td>\n",
       "      <td>0.981308</td>\n",
       "    </tr>\n",
       "    <tr>\n",
       "      <th>22</th>\n",
       "      <td>1.399751</td>\n",
       "      <td>1.313353</td>\n",
       "      <td>1.140157</td>\n",
       "      <td>0.992286</td>\n",
       "      <td>0.992194</td>\n",
       "      <td>0.998045</td>\n",
       "    </tr>\n",
       "    <tr>\n",
       "      <th>27</th>\n",
       "      <td>0.729369</td>\n",
       "      <td>0.939670</td>\n",
       "      <td>1.042507</td>\n",
       "      <td>1.078356</td>\n",
       "      <td>1.075558</td>\n",
       "      <td>1.081644</td>\n",
       "    </tr>\n",
       "    <tr>\n",
       "      <th>28</th>\n",
       "      <td>0.791214</td>\n",
       "      <td>0.844095</td>\n",
       "      <td>0.908034</td>\n",
       "      <td>0.828566</td>\n",
       "      <td>0.964180</td>\n",
       "      <td>1.029505</td>\n",
       "    </tr>\n",
       "  </tbody>\n",
       "</table>\n",
       "</div>"
      ],
      "text/plain": [
       "        3600      7200     10800     14400     18000     21600\n",
       "21  0.900722  0.990849  1.020602  0.979617  0.978419  0.981308\n",
       "22  1.399751  1.313353  1.140157  0.992286  0.992194  0.998045\n",
       "27  0.729369  0.939670  1.042507  1.078356  1.075558  1.081644\n",
       "28  0.791214  0.844095  0.908034  0.828566  0.964180  1.029505"
      ]
     },
     "execution_count": 19,
     "metadata": {},
     "output_type": "execute_result"
    }
   ],
   "source": [
    "vehicles / Vsum"
   ]
  },
  {
   "cell_type": "code",
   "execution_count": null,
   "metadata": {},
   "outputs": [],
   "source": []
  }
 ],
 "metadata": {
  "kernelspec": {
   "display_name": "Python 3",
   "language": "python",
   "name": "python3"
  },
  "language_info": {
   "codemirror_mode": {
    "name": "ipython",
    "version": 3
   },
   "file_extension": ".py",
   "mimetype": "text/x-python",
   "name": "python",
   "nbconvert_exporter": "python",
   "pygments_lexer": "ipython3",
   "version": "3.7.0"
  }
 },
 "nbformat": 4,
 "nbformat_minor": 2
}
