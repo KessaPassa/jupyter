{
 "cells": [
  {
   "cell_type": "code",
   "execution_count": 1,
   "metadata": {},
   "outputs": [],
   "source": [
    "import pandas as pd\n",
    "import numpy as np\n",
    "from matplotlib import pyplot as plt"
   ]
  },
  {
   "cell_type": "code",
   "execution_count": 2,
   "metadata": {},
   "outputs": [],
   "source": [
    "root_dir = '/Users/kessapassa/OneDrive/research_log/20190104/Origin/'"
   ]
  },
  {
   "cell_type": "code",
   "execution_count": 20,
   "metadata": {},
   "outputs": [],
   "source": [
    "dir_list = ['people10000', 'people20000', 'people30000']\n",
    "seed_list = [str(123 + i) for i in range(3)]\n",
    "csv_list = ['census']"
   ]
  },
  {
   "cell_type": "code",
   "execution_count": 29,
   "metadata": {},
   "outputs": [],
   "source": [
    "csv_array = {}\n",
    "for _dir in dir_list:\n",
    "    csv_array[_dir] = {}\n",
    "    for _seed in seed_list:\n",
    "        csv_array[_dir][_seed] = {}\n",
    "        for _csv in csv_list:\n",
    "            df = pd.read_csv(root_dir + _dir + 'seed' + _seed + '_' + _csv + '.csv',\n",
    "                                                encoding='Shift_JISx0213')\n",
    "            df = df.loc[:, ['road', 'area']]\n",
    "            csv_array[_dir][_seed][_csv] = df"
   ]
  },
  {
   "cell_type": "code",
   "execution_count": 30,
   "metadata": {},
   "outputs": [],
   "source": [
    "people = 'people10000'\n",
    "csv = 'census'\n",
    "seed = '123'"
   ]
  },
  {
   "cell_type": "code",
   "execution_count": 31,
   "metadata": {},
   "outputs": [
    {
     "data": {
      "text/plain": [
       "161"
      ]
     },
     "execution_count": 31,
     "metadata": {},
     "output_type": "execute_result"
    }
   ],
   "source": [
    "df = csv_array[people][seed][csv].copy()\n",
    "df['road'].nunique()"
   ]
  },
  {
   "cell_type": "code",
   "execution_count": 41,
   "metadata": {},
   "outputs": [],
   "source": [
    "road_to_area = {}\n",
    "def create_road_to_area(road, area):\n",
    "    road_to_area[road] = area\n",
    "    \n",
    "for _dir in dir_list:\n",
    "    for _seed in seed_list:\n",
    "        for _csv in csv_list:\n",
    "            df = csv_array[people][seed][csv].copy()\n",
    "            for row in np.asanyarray(df):\n",
    "                create_road_to_area(row[0], row[1])"
   ]
  },
  {
   "cell_type": "code",
   "execution_count": 40,
   "metadata": {},
   "outputs": [
    {
     "data": {
      "text/plain": [
       "{' 国道157号k': 21,\n",
       " ' 国道157号l': 21,\n",
       " ' 国道157号m': 21,\n",
       " ' 石川県道200号a': 33,\n",
       " ' 石川県道179号b': 2,\n",
       " ' 石川県道159号a': 27,\n",
       " ' 石川県道146号e': 27,\n",
       " ' 石川県道10号c': 28,\n",
       " ' 石川県道146号d': 27,\n",
       " ' 国道157号j': 21,\n",
       " ' 石川県道17号f': 27,\n",
       " ' 石川県道200号b': 34,\n",
       " ' 石川県道17号g': 27,\n",
       " ' 石川県道146号c': 21,\n",
       " ' 石川県道189号d': 8,\n",
       " ' 石川県道17号h': 27,\n",
       " ' 石川県道17号k': 28,\n",
       " ' 石川県道17号i': 27,\n",
       " ' 石川県道17号j': 27,\n",
       " ' 石川県道146号b': 21,\n",
       " ' 国道359号d': 35,\n",
       " ' 石川県道22号k': 15,\n",
       " ' 国道359号c': 34,\n",
       " ' 国道359号b': 34,\n",
       " ' 石川県道146号a': 14,\n",
       " ' 石川県道195号g': 20,\n",
       " ' 国道157号i': 14,\n",
       " ' 石川県道10号b': 22,\n",
       " ' 国道359号a': 28,\n",
       " ' 石川県道25号h': 21,\n",
       " ' 国道159号b': 28,\n",
       " ' 石川県道195号f': 20,\n",
       " ' 石川県道195号e': 20,\n",
       " ' 石川県道195号d': 19,\n",
       " ' 石川県道144号b': 22,\n",
       " ' 石川県道10号a': 22,\n",
       " ' 石川県道45号d': 21,\n",
       " ' 石川県道194号f': 20,\n",
       " ' 石川県道194号e': 20,\n",
       " ' 国道157号h': 14,\n",
       " ' 石川県道13号a': 27,\n",
       " ' 国道157号g': 14,\n",
       " ' 石川県道10号d': 22,\n",
       " ' 国道157号f': 13,\n",
       " ' 石川県道25号e': 25,\n",
       " ' 石川県道25号d': 25,\n",
       " ' 石川県道193号a': 14,\n",
       " ' 国道8号a': 6,\n",
       " ' 国道159号a': 28,\n",
       " ' 石川県道144号a': 21,\n",
       " ' 国道8号b': 6,\n",
       " ' 石川県道196号l': 27,\n",
       " ' 石川県道45号c': 15,\n",
       " ' 国道8号c': 6,\n",
       " ' 石川県道45号b': 15,\n",
       " ' 石川県道22号l': 9,\n",
       " ' 石川県道22号h': 9,\n",
       " ' 石川県道13号b': 27,\n",
       " ' 石川県道189号e': 8,\n",
       " ' 石川県道196号k': 27,\n",
       " ' 石川県道299号b': 33,\n",
       " ' 石川県道194号a': 13,\n",
       " ' 石川県道25号g': 21,\n",
       " ' 石川県道299号a': 33,\n",
       " ' 国道359号e': 35,\n",
       " ' 国道8号d': 13,\n",
       " ' 国道359号f': 35,\n",
       " ' 国道8号j': 32,\n",
       " ' 石川県道179号d': 8,\n",
       " ' 国道8号k': 32,\n",
       " ' 石川県道25号f': 26,\n",
       " ' 石川県道10号e': 22,\n",
       " ' 石川県道179号c': 8,\n",
       " ' 石川県道159号b': 34,\n",
       " ' 国道159号c': 28,\n",
       " ' 石川県道22号q': 23,\n",
       " ' 石川県道22号p': 23,\n",
       " ' 石川県道106号c': 14,\n",
       " ' 石川県道22号o': 17,\n",
       " ' 石川県道196号i': 26,\n",
       " ' 石川県道60号d': 32,\n",
       " ' 石川県道22号j': 15,\n",
       " ' 石川県道17号d': 32,\n",
       " ' 石川県道17号e': 32,\n",
       " ' 石川県道22号m': 16,\n",
       " ' 石川県道144号c': 22,\n",
       " ' 石川県道190号c': 8,\n",
       " ' 石川県道27号a': 22,\n",
       " ' 石川県道106号b': 20,\n",
       " ' 石川県道195号c': 19,\n",
       " ' 石川県道106号a': 20,\n",
       " ' 石川県道27号b': 23,\n",
       " ' 石川県道291号b': 12,\n",
       " ' 石川県道187号a': 6,\n",
       " ' 石川県道291号c': 13,\n",
       " ' 石川県道60号f': 27,\n",
       " ' 石川県道197号b': 20,\n",
       " ' 石川県道22号e': 2,\n",
       " ' 石川県道22号f': 2,\n",
       " ' 石川県道22号g': 8,\n",
       " ' 石川県道193号b': 15,\n",
       " ' 石川県道179号a': 2,\n",
       " ' 石川県道22号d': 1,\n",
       " ' 石川県道193号c': 15,\n",
       " ' 石川県道184号a': 0,\n",
       " ' 国道8号f': 25,\n",
       " ' 石川県道209号a': 22,\n",
       " ' 石川県道8号j': 18,\n",
       " ' 石川県道8号k': 25,\n",
       " ' 石川県道22号r': 23,\n",
       " ' 石川県道8号l': 31,\n",
       " ' 石川県道197号e': 31,\n",
       " ' 石川県道196号f': 25,\n",
       " ' 石川県道17号b': 31,\n",
       " ' 石川県道17号c': 31,\n",
       " ' 石川県道197号c': 25,\n",
       " ' 石川県道8号n': 31,\n",
       " ' 石川県道190号b': 7,\n",
       " ' 石川県道8号m': 25,\n",
       " ' 石川県道8号i': 18,\n",
       " ' 石川県道210号a': 35,\n",
       " ' 石川県道198号a': 32,\n",
       " ' 石川県道189号c': 8,\n",
       " ' 石川県道196号d': 25,\n",
       " ' 石川県道17号a': 31,\n",
       " ' 国道8号h': 26,\n",
       " ' 石川県道60号c': 32,\n",
       " ' 国道8号i': 26,\n",
       " ' 石川県道291号a': 6,\n",
       " ' 石川県道299号c': 33,\n",
       " ' 石川県道195号a': 18,\n",
       " ' 石川県道195号b': 18,\n",
       " ' 石川県道123号a': 35,\n",
       " ' 石川県道114号c': 17,\n",
       " ' 石川県道60号e': 33,\n",
       " ' 石川県道194号d': 20,\n",
       " ' 石川県道25号c': 25,\n",
       " ' 石川県道197号f': 31,\n",
       " ' 石川県道190号a': 6,\n",
       " ' 国道8号e': 19,\n",
       " ' 石川県道10号f': 17,\n",
       " ' 国道8号g': 25,\n",
       " ' 石川県道22号i': 9,\n",
       " ' 石川県道194号b': 13,\n",
       " ' 石川県道196号e': 25,\n",
       " ' 石川県道209号b': 17,\n",
       " ' 国道8号m': 33,\n",
       " ' 国道8号l': 33,\n",
       " ' 石川県道196号h': 25,\n",
       " ' 石川県道197号d': 25,\n",
       " ' 石川県道196号c': 25,\n",
       " ' 石川県道196号a': 25,\n",
       " ' 石川県道196号g': 25,\n",
       " ' 国道159号d': 29,\n",
       " ' 石川県道210号b': 29,\n",
       " ' 国道157号b': 1,\n",
       " ' 石川県道189号b': 1,\n",
       " ' 石川県道22号c': 1,\n",
       " ' 国道159号e': 35,\n",
       " ' 石川県道25号b': 24,\n",
       " ' 石川県道8号b': 0}"
      ]
     },
     "execution_count": 40,
     "metadata": {},
     "output_type": "execute_result"
    }
   ],
   "source": [
    "road_to_area"
   ]
  },
  {
   "cell_type": "code",
   "execution_count": null,
   "metadata": {},
   "outputs": [],
   "source": []
  }
 ],
 "metadata": {
  "kernelspec": {
   "display_name": "Python 3",
   "language": "python",
   "name": "python3"
  },
  "language_info": {
   "codemirror_mode": {
    "name": "ipython",
    "version": 3
   },
   "file_extension": ".py",
   "mimetype": "text/x-python",
   "name": "python",
   "nbconvert_exporter": "python",
   "pygments_lexer": "ipython3",
   "version": "3.6.6"
  }
 },
 "nbformat": 4,
 "nbformat_minor": 2
}
