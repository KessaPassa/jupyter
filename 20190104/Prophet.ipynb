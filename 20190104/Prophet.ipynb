{
 "cells": [
  {
   "cell_type": "code",
   "execution_count": 1,
   "metadata": {},
   "outputs": [],
   "source": [
    "import pandas as pd\n",
    "import numpy as np\n",
    "from matplotlib import pyplot as plt\n",
    "from fbprophet import Prophet"
   ]
  },
  {
   "cell_type": "code",
   "execution_count": 2,
   "metadata": {},
   "outputs": [],
   "source": [
    "root_dir = '/Users/kessapassa/OneDrive/research_log/20190104/2D/'"
   ]
  },
  {
   "cell_type": "code",
   "execution_count": 3,
   "metadata": {},
   "outputs": [],
   "source": [
    "dir_list = ['people10000', 'people20000', 'people30000']\n",
    "seed_list = [str(123 + i) for i in range(3)]\n",
    "csv_list = ['census', 'mobile']"
   ]
  },
  {
   "cell_type": "code",
   "execution_count": 4,
   "metadata": {},
   "outputs": [],
   "source": [
    "# 2Dをdatetime型にする\n",
    "import datetime\n",
    "def create_datetime(row):\n",
    "#     base_date = '2018-01-01 00:00:00'\n",
    "    base_date = '00:00:00'\n",
    "    hours = int(row['time'] / 3600)\n",
    "    seconds = int(row['area'])\n",
    "    \n",
    "    tdatatime = datetime.datetime.strptime(base_date, '%H:%M:%S')\n",
    "    tdatatime += datetime.timedelta(hours=hours)\n",
    "    tdatatime += datetime.timedelta(hours=hours, seconds=seconds)\n",
    "    \n",
    "    return tdatatime"
   ]
  },
  {
   "cell_type": "code",
   "execution_count": 5,
   "metadata": {},
   "outputs": [],
   "source": [
    "# csv_array = {}\n",
    "# for _dir in dir_list:\n",
    "#     csv_array[_dir] = {}\n",
    "#     for _seed in seed_list:\n",
    "#         csv_array[_dir][_seed] = {}\n",
    "#         for _csv in csv_list:\n",
    "#             csv_array[_dir][_seed][_csv] = {}\n",
    "            \n",
    "#             df = pd.read_csv(root_dir + _dir + 'seed' + _seed + '_' + _csv + '.csv',\n",
    "#                                                 encoding='Shift_JISx0213')\n",
    "#             df = df.T\n",
    "#             df.loc['ds',:] = df.apply(create_datetime)\n",
    "#             df = df.T\n",
    "#             df = df[['ds', 'people']].rename(columns={'ds': 'ds', 'people': 'y'})\n",
    "#             df.to_csv('/Users/kessapassa/OneDrive/research_log/20190104/datetime/'+_dir + 'seed' + _seed + '_' + _csv + '.csv')"
   ]
  },
  {
   "cell_type": "code",
   "execution_count": 6,
   "metadata": {},
   "outputs": [],
   "source": [
    "csv_array = {}\n",
    "for _dir in dir_list:\n",
    "    csv_array[_dir] = {}\n",
    "    for _seed in seed_list:\n",
    "        csv_array[_dir][_seed] = {}\n",
    "        for _csv in csv_list:\n",
    "            csv_array[_dir][_seed][_csv] = {}\n",
    "            \n",
    "            df = pd.read_csv(root_dir + _dir + 'seed' + _seed + '_' + _csv + '.csv',\n",
    "                                                encoding='Shift_JISx0213')\n",
    "            df = df.groupby(['area'])\n",
    "            for _area, _group in df:\n",
    "                _area = int(_area)\n",
    "                _group = _group.T\n",
    "                _group.loc['ds', :] = _group.apply(create_datetime)\n",
    "                _group = _group.T.drop(['time', 'area'], axis=1)\n",
    "                # dsとyを指定してくるので\n",
    "                _group = _group[['ds', 'people']].rename(columns={'ds': 'ds', 'people': 'y'})\n",
    "                _group['y'] = _group['y'].apply(lambda x: int(x))\n",
    "                csv_array[_dir][_seed][_csv][_area] = _group"
   ]
  },
  {
   "cell_type": "code",
   "execution_count": 7,
   "metadata": {},
   "outputs": [],
   "source": [
    "# csv_array = {}\n",
    "# for _dir in dir_list:\n",
    "#     csv_array[_dir] = {}\n",
    "#     for _seed in seed_list:\n",
    "#         csv_array[_dir][_seed] = {}\n",
    "#         for _csv in csv_list:\n",
    "#             df = pd.read_csv(root_dir + _dir + 'seed' + _seed + '_' + _csv + '.csv',\n",
    "#                                                 index_col=0,\n",
    "#                                                 encoding='Shift_JISx0213')\n",
    "#             csv_array[_dir][_seed][_csv] = df"
   ]
  },
  {
   "cell_type": "code",
   "execution_count": 8,
   "metadata": {},
   "outputs": [],
   "source": [
    "people = 'people30000'\n",
    "csv = 'census'\n",
    "seed = '123'\n",
    "area = '21'"
   ]
  },
  {
   "cell_type": "code",
   "execution_count": 9,
   "metadata": {
    "scrolled": true
   },
   "outputs": [
    {
     "name": "stderr",
     "output_type": "stream",
     "text": [
      "INFO:fbprophet.forecaster:n_changepoints greater than number of observations.Using 3.0.\n",
      "/Users/kessapassa/anaconda3/lib/python3.6/site-packages/fbprophet/forecaster.py:353: DeprecationWarning: object of type <class 'numpy.float64'> cannot be safely interpreted as an integer.\n",
      "  np.linspace(0, hist_size - 1, self.n_changepoints + 1)\n",
      "/Users/kessapassa/anaconda3/lib/python3.6/site-packages/pystan/misc.py:399: FutureWarning: Conversion of the second argument of issubdtype from `float` to `np.floating` is deprecated. In future, it will be treated as `np.float64 == np.dtype(float).type`.\n",
      "  elif np.issubdtype(np.asarray(v).dtype, float):\n"
     ]
    },
    {
     "data": {
      "image/png": "[encoded data removed]",
      "text/plain": [
       "<Figure size 720x432 with 1 Axes>"
      ]
     },
     "metadata": {},
     "output_type": "display_data"
    }
   ],
   "source": [
    "df = csv_array[people][seed][csv][_area].copy()\n",
    "model = Prophet(changepoint_prior_scale=0.01, yearly_seasonality=False, weekly_seasonality=False, daily_seasonality=False)\n",
    "model.fit(df)\n",
    "future = model.make_future_dataframe(periods=3, freq='H')\n",
    "pred = model.predict(future)\n",
    "fig = model.plot(pred)"
   ]
  },
  {
   "cell_type": "code",
   "execution_count": 10,
   "metadata": {},
   "outputs": [
    {
     "data": {
      "text/html": [
       "<div>\n",
       "<style scoped>\n",
       "    .dataframe tbody tr th:only-of-type {\n",
       "        vertical-align: middle;\n",
       "    }\n",
       "\n",
       "    .dataframe tbody tr th {\n",
       "        vertical-align: top;\n",
       "    }\n",
       "\n",
       "    .dataframe thead th {\n",
       "        text-align: right;\n",
       "    }\n",
       "</style>\n",
       "<table border=\"1\" class=\"dataframe\">\n",
       "  <thead>\n",
       "    <tr style=\"text-align: right;\">\n",
       "      <th></th>\n",
       "      <th>ds</th>\n",
       "      <th>trend</th>\n",
       "      <th>yhat_lower</th>\n",
       "      <th>yhat_upper</th>\n",
       "      <th>trend_lower</th>\n",
       "      <th>trend_upper</th>\n",
       "      <th>additive_terms</th>\n",
       "      <th>additive_terms_lower</th>\n",
       "      <th>additive_terms_upper</th>\n",
       "      <th>multiplicative_terms</th>\n",
       "      <th>multiplicative_terms_lower</th>\n",
       "      <th>multiplicative_terms_upper</th>\n",
       "      <th>yhat</th>\n",
       "    </tr>\n",
       "  </thead>\n",
       "  <tbody>\n",
       "    <tr>\n",
       "      <th>0</th>\n",
       "      <td>1900-01-01 02:00:35</td>\n",
       "      <td>123.300167</td>\n",
       "      <td>73.422690</td>\n",
       "      <td>177.391484</td>\n",
       "      <td>123.300167</td>\n",
       "      <td>123.300167</td>\n",
       "      <td>0.0</td>\n",
       "      <td>0.0</td>\n",
       "      <td>0.0</td>\n",
       "      <td>0.0</td>\n",
       "      <td>0.0</td>\n",
       "      <td>0.0</td>\n",
       "      <td>123.300167</td>\n",
       "    </tr>\n",
       "    <tr>\n",
       "      <th>1</th>\n",
       "      <td>1900-01-01 04:00:35</td>\n",
       "      <td>127.697528</td>\n",
       "      <td>77.719565</td>\n",
       "      <td>177.567449</td>\n",
       "      <td>127.697528</td>\n",
       "      <td>127.697528</td>\n",
       "      <td>0.0</td>\n",
       "      <td>0.0</td>\n",
       "      <td>0.0</td>\n",
       "      <td>0.0</td>\n",
       "      <td>0.0</td>\n",
       "      <td>0.0</td>\n",
       "      <td>127.697528</td>\n",
       "    </tr>\n",
       "    <tr>\n",
       "      <th>2</th>\n",
       "      <td>1900-01-01 06:00:35</td>\n",
       "      <td>132.094890</td>\n",
       "      <td>87.065746</td>\n",
       "      <td>186.697229</td>\n",
       "      <td>132.094890</td>\n",
       "      <td>132.094890</td>\n",
       "      <td>0.0</td>\n",
       "      <td>0.0</td>\n",
       "      <td>0.0</td>\n",
       "      <td>0.0</td>\n",
       "      <td>0.0</td>\n",
       "      <td>0.0</td>\n",
       "      <td>132.094890</td>\n",
       "    </tr>\n",
       "    <tr>\n",
       "      <th>3</th>\n",
       "      <td>1900-01-01 08:00:35</td>\n",
       "      <td>136.492251</td>\n",
       "      <td>86.085968</td>\n",
       "      <td>191.591513</td>\n",
       "      <td>136.492251</td>\n",
       "      <td>136.492251</td>\n",
       "      <td>0.0</td>\n",
       "      <td>0.0</td>\n",
       "      <td>0.0</td>\n",
       "      <td>0.0</td>\n",
       "      <td>0.0</td>\n",
       "      <td>0.0</td>\n",
       "      <td>136.492251</td>\n",
       "    </tr>\n",
       "    <tr>\n",
       "      <th>4</th>\n",
       "      <td>1900-01-01 10:00:35</td>\n",
       "      <td>140.889613</td>\n",
       "      <td>88.919790</td>\n",
       "      <td>192.460956</td>\n",
       "      <td>140.889613</td>\n",
       "      <td>140.889613</td>\n",
       "      <td>0.0</td>\n",
       "      <td>0.0</td>\n",
       "      <td>0.0</td>\n",
       "      <td>0.0</td>\n",
       "      <td>0.0</td>\n",
       "      <td>0.0</td>\n",
       "      <td>140.889613</td>\n",
       "    </tr>\n",
       "    <tr>\n",
       "      <th>5</th>\n",
       "      <td>1900-01-01 12:00:35</td>\n",
       "      <td>145.286975</td>\n",
       "      <td>94.008676</td>\n",
       "      <td>198.885548</td>\n",
       "      <td>145.286975</td>\n",
       "      <td>145.286975</td>\n",
       "      <td>0.0</td>\n",
       "      <td>0.0</td>\n",
       "      <td>0.0</td>\n",
       "      <td>0.0</td>\n",
       "      <td>0.0</td>\n",
       "      <td>0.0</td>\n",
       "      <td>145.286975</td>\n",
       "    </tr>\n",
       "    <tr>\n",
       "      <th>6</th>\n",
       "      <td>1900-01-01 13:00:35</td>\n",
       "      <td>147.485656</td>\n",
       "      <td>92.412602</td>\n",
       "      <td>198.110890</td>\n",
       "      <td>147.485656</td>\n",
       "      <td>147.485656</td>\n",
       "      <td>0.0</td>\n",
       "      <td>0.0</td>\n",
       "      <td>0.0</td>\n",
       "      <td>0.0</td>\n",
       "      <td>0.0</td>\n",
       "      <td>0.0</td>\n",
       "      <td>147.485656</td>\n",
       "    </tr>\n",
       "    <tr>\n",
       "      <th>7</th>\n",
       "      <td>1900-01-01 14:00:35</td>\n",
       "      <td>149.684337</td>\n",
       "      <td>100.249310</td>\n",
       "      <td>201.741230</td>\n",
       "      <td>149.684337</td>\n",
       "      <td>149.684337</td>\n",
       "      <td>0.0</td>\n",
       "      <td>0.0</td>\n",
       "      <td>0.0</td>\n",
       "      <td>0.0</td>\n",
       "      <td>0.0</td>\n",
       "      <td>0.0</td>\n",
       "      <td>149.684337</td>\n",
       "    </tr>\n",
       "    <tr>\n",
       "      <th>8</th>\n",
       "      <td>1900-01-01 15:00:35</td>\n",
       "      <td>151.883018</td>\n",
       "      <td>103.736313</td>\n",
       "      <td>204.247000</td>\n",
       "      <td>151.883017</td>\n",
       "      <td>151.883018</td>\n",
       "      <td>0.0</td>\n",
       "      <td>0.0</td>\n",
       "      <td>0.0</td>\n",
       "      <td>0.0</td>\n",
       "      <td>0.0</td>\n",
       "      <td>0.0</td>\n",
       "      <td>151.883018</td>\n",
       "    </tr>\n",
       "  </tbody>\n",
       "</table>\n",
       "</div>"
      ],
      "text/plain": [
       "                   ds       trend  yhat_lower  yhat_upper  trend_lower  \\\n",
       "0 1900-01-01 02:00:35  123.300167   73.422690  177.391484   123.300167   \n",
       "1 1900-01-01 04:00:35  127.697528   77.719565  177.567449   127.697528   \n",
       "2 1900-01-01 06:00:35  132.094890   87.065746  186.697229   132.094890   \n",
       "3 1900-01-01 08:00:35  136.492251   86.085968  191.591513   136.492251   \n",
       "4 1900-01-01 10:00:35  140.889613   88.919790  192.460956   140.889613   \n",
       "5 1900-01-01 12:00:35  145.286975   94.008676  198.885548   145.286975   \n",
       "6 1900-01-01 13:00:35  147.485656   92.412602  198.110890   147.485656   \n",
       "7 1900-01-01 14:00:35  149.684337  100.249310  201.741230   149.684337   \n",
       "8 1900-01-01 15:00:35  151.883018  103.736313  204.247000   151.883017   \n",
       "\n",
       "   trend_upper  additive_terms  additive_terms_lower  additive_terms_upper  \\\n",
       "0   123.300167             0.0                   0.0                   0.0   \n",
       "1   127.697528             0.0                   0.0                   0.0   \n",
       "2   132.094890             0.0                   0.0                   0.0   \n",
       "3   136.492251             0.0                   0.0                   0.0   \n",
       "4   140.889613             0.0                   0.0                   0.0   \n",
       "5   145.286975             0.0                   0.0                   0.0   \n",
       "6   147.485656             0.0                   0.0                   0.0   \n",
       "7   149.684337             0.0                   0.0                   0.0   \n",
       "8   151.883018             0.0                   0.0                   0.0   \n",
       "\n",
       "   multiplicative_terms  multiplicative_terms_lower  \\\n",
       "0                   0.0                         0.0   \n",
       "1                   0.0                         0.0   \n",
       "2                   0.0                         0.0   \n",
       "3                   0.0                         0.0   \n",
       "4                   0.0                         0.0   \n",
       "5                   0.0                         0.0   \n",
       "6                   0.0                         0.0   \n",
       "7                   0.0                         0.0   \n",
       "8                   0.0                         0.0   \n",
       "\n",
       "   multiplicative_terms_upper        yhat  \n",
       "0                         0.0  123.300167  \n",
       "1                         0.0  127.697528  \n",
       "2                         0.0  132.094890  \n",
       "3                         0.0  136.492251  \n",
       "4                         0.0  140.889613  \n",
       "5                         0.0  145.286975  \n",
       "6                         0.0  147.485656  \n",
       "7                         0.0  149.684337  \n",
       "8                         0.0  151.883018  "
      ]
     },
     "execution_count": 10,
     "metadata": {},
     "output_type": "execute_result"
    }
   ],
   "source": [
    "pred"
   ]
  },
  {
   "cell_type": "code",
   "execution_count": 11,
   "metadata": {
    "scrolled": false
   },
   "outputs": [
    {
     "name": "stdout",
     "output_type": "stream",
     "text": [
      "0\n",
      "0.014285714285298567\n",
      "y = -7.937e-15x + -1.753e+04\n",
      "\n",
      "\n",
      "1\n",
      "0.05082706766757994\n",
      "y = -5.159e-14x + -1.139e+05\n",
      "\n",
      "\n",
      "2\n",
      "0.16987701041105863\n",
      "y = -2.659e-13x + -5.873e+05\n",
      "\n",
      "\n",
      "3\n",
      "1.0\n",
      "y =  0.0x +  0.0\n",
      "\n",
      "\n",
      "4\n",
      "1.0\n",
      "y =  0.0x +  0.0\n",
      "\n",
      "\n",
      "5\n",
      "1.0\n",
      "y =  0.0x +  0.0\n",
      "\n",
      "\n",
      "6\n",
      "0.016420875377252453\n",
      "y = -6.27e-13x + -1.385e+06\n",
      "\n",
      "\n",
      "7\n",
      "0.003296703297225312\n",
      "y = -1.587e-14x + -3.506e+04\n",
      "\n",
      "\n",
      "8\n",
      "0.0029141370338165995\n",
      "y = -1.111e-13x + -2.454e+05\n",
      "\n",
      "\n",
      "9\n",
      "0.008067226889537205\n",
      "y = -6.349e-14x + -1.402e+05\n",
      "\n",
      "\n",
      "10\n",
      "1.0\n",
      "y =  0.0x +  0.0\n",
      "\n",
      "\n",
      "11\n",
      "1.0\n",
      "y =  0.0x +  0.0\n",
      "\n",
      "\n",
      "12\n",
      "0.006968641115560615\n",
      "y =  7.937e-14x +  1.753e+05\n",
      "\n",
      "\n",
      "13\n",
      "0.006000411862589372\n",
      "y = -2.579e-13x + -5.696e+05\n",
      "\n",
      "\n",
      "14\n",
      "0.04170468686651796\n",
      "y = -3.028e-12x + -6.688e+06\n",
      "\n",
      "\n",
      "15\n",
      "0.10755396456129585\n",
      "y = -3.905e-12x + -8.625e+06\n",
      "\n",
      "\n",
      "16\n",
      "0.10062111801328999\n",
      "y = -7.143e-14x + -1.578e+05\n",
      "\n",
      "\n",
      "17\n",
      "0.11653290529742366\n",
      "y = -1.31e-13x + -2.893e+05\n",
      "\n",
      "\n",
      "18\n",
      "0.02774382909108397\n",
      "y =  1.23e-13x +  2.718e+05\n",
      "\n",
      "\n",
      "19\n",
      "0.0019679300290739166\n",
      "y =  2.381e-14x +  5.262e+04\n",
      "\n",
      "\n",
      "20\n",
      "0.022415865785932465\n",
      "y =  2.976e-13x +  6.575e+05\n",
      "\n",
      "\n",
      "21\n",
      "0.016099781344139696\n",
      "y = -7.25e-12x + -1.601e+07\n",
      "\n",
      "\n",
      "22\n",
      "0.03503178886165692\n",
      "y = -3.425e-12x + -7.564e+06\n",
      "\n",
      "\n",
      "23\n",
      "0.20139372822594415\n",
      "y = -4.048e-13x + -8.941e+05\n",
      "\n",
      "\n",
      "24\n",
      "0.017142857141090206\n",
      "y = -7.937e-15x + -1.753e+04\n",
      "\n",
      "\n",
      "25\n",
      "0.036030436179710246\n",
      "y =  3.254e-13x +  7.188e+05\n",
      "\n",
      "\n",
      "26\n",
      "0.002776032444040566\n",
      "y = -1.071e-13x + -2.366e+05\n",
      "\n",
      "\n",
      "27\n",
      "0.14755972939010742\n",
      "y = -2.44e-11x + -5.391e+07\n",
      "\n",
      "\n",
      "28\n",
      "0.04601511275274728\n",
      "y = -7.698e-12x + -1.7e+07\n",
      "\n",
      "\n",
      "29\n",
      "0.11428571428363554\n",
      "y =  1.587e-14x +  3.506e+04\n",
      "\n",
      "\n",
      "30\n",
      "1.0\n",
      "y =  0.0x +  0.0\n",
      "\n",
      "\n",
      "31\n",
      "0.008397535790746202\n",
      "y =  1.23e-13x +  2.718e+05\n",
      "\n",
      "\n",
      "32\n",
      "0.02658552794400426\n",
      "y =  4.008e-13x +  8.854e+05\n",
      "\n",
      "\n",
      "33\n",
      "0.034343902569232254\n",
      "y = -2.135e-12x + -4.715e+06\n",
      "\n",
      "\n",
      "34\n",
      "0.1267523231501836\n",
      "y = -2.135e-12x + -4.716e+06\n",
      "\n",
      "\n",
      "35\n",
      "0.0286788755996652\n",
      "y = -4.365e-13x + -9.641e+05\n",
      "\n",
      "\n"
     ]
    },
    {
     "data": {
      "image/png": "[encoded data removed]",
      "text/plain": [
       "<Figure size 432x288 with 1 Axes>"
      ]
     },
     "metadata": {
      "needs_background": "light"
     },
     "output_type": "display_data"
    }
   ],
   "source": [
    "from sklearn.linear_model import LinearRegression as LR\n",
    "import seaborn as sns\n",
    "\n",
    "for _area in range(36):\n",
    "    df = csv_array[people][seed][csv][_area].copy()\n",
    "    trainX = df['ds'].values.reshape(-1, 1)\n",
    "    trainY = df['y'].values.reshape(-1, 1)\n",
    "    model = LR()\n",
    "    model.fit(trainX, trainY)\n",
    "    print(_area)\n",
    "    print(model.score(trainX, trainY))\n",
    "    print('y = {0: .4}x + {1: .4}'.format(model.coef_[0, 0], model.intercept_[0]))\n",
    "    print('\\n')\n",
    "    \n",
    "    Px = np.arange(0, len(trainX), 1)\n",
    "    plt.plot(Px, trainY, 'o')\n",
    "    plt.plot(Px, model.predict(trainX))\n",
    "    "
   ]
  },
  {
   "cell_type": "code",
   "execution_count": 12,
   "metadata": {
    "scrolled": true
   },
   "outputs": [
    {
     "data": {
      "text/plain": [
       "array([[  24.69444444],\n",
       "       [-267.44047619],\n",
       "       [ 724.81746032],\n",
       "       [ 440.95238095]])"
      ]
     },
     "execution_count": 12,
     "metadata": {},
     "output_type": "execute_result"
    }
   ],
   "source": [
    "import sympy\n",
    "from scipy import optimize\n",
    "def func3(param,x,y):\n",
    "    residual = y - (param[0]*x**3 + param[1]*x**2 + param[2]*x + param[3])\n",
    "    return residual\n",
    "\n",
    "\n",
    "area = 22\n",
    "df = csv_array[people][seed][csv][area].copy()\n",
    "trainX = df['ds'].values.reshape(-1, 1)\n",
    "# df['y'] = df['y'].apply(lambda x: np.float64(x))\n",
    "trainY = df['y'].values.reshape(-1, 1)\n",
    "# trainY = np.array([sympy.N(i) for i in trainY])\n",
    "Px = np.arange(0, len(trainX), 1)\n",
    "param=np.polyfit(Px, trainY, 3)\n",
    "residual = trainY - (param[0]*Px**3 + param[1]*Px**2 + param[2]*Px + param[3])\n",
    "residual\n",
    "param\n",
    "# res_leas3 = optimize.leastsq(func3, res3, args=(Px, trainY))"
   ]
  },
  {
   "cell_type": "code",
   "execution_count": 13,
   "metadata": {
    "scrolled": false
   },
   "outputs": [],
   "source": [
    "import warnings\n",
    "warnings.filterwarnings('ignore')\n",
    "from sklearn.metrics import r2_score\n",
    "\n",
    "import seaborn as sns\n",
    "def create_regplot(area, order=3):\n",
    "    df = csv_array[people][seed][csv][area].copy()\n",
    "    trainX = df['ds'].values.reshape(-1, 1)\n",
    "    trainY = df['y'].values.reshape(-1, 1)\n",
    "    Px = np.arange(0, len(trainX), 1)\n",
    "    \n",
    "    ax = sns.regplot(x=Px, y=trainY, order=order, ci=75)\n",
    "    z = np.polyfit(Px, trainY, 3)\n",
    "    z = np.squeeze(z)\n",
    "    p = np.poly1d(z)\n",
    "    print(p)\n",
    "    return  p\n",
    "#     print('y = {0}x**3 + {1}x**2 + {2}x + {3}'.format(p[0], p[1], p[2], p[3]))\n",
    "#     sns.regplot(x=Px, y=trainY, order=3, line_kws={'label': f'$y=${p}, $R^2$: {r2_score(p(Px), trainY):.3}'})"
   ]
  },
  {
   "cell_type": "code",
   "execution_count": 14,
   "metadata": {
    "scrolled": true
   },
   "outputs": [],
   "source": [
    "def culculate_3d_regression(area, x):\n",
    "    p = create_regplot(area)\n",
    "    p = np.asanyarray(p)\n",
    "    y = p[0]*x**3 + p[1]*x**2 + p[2]*x + p[3]\n",
    "    return y"
   ]
  },
  {
   "cell_type": "code",
   "execution_count": 15,
   "metadata": {},
   "outputs": [
    {
     "name": "stdout",
     "output_type": "stream",
     "text": [
      "       3         2\n",
      "24.69 x - 267.4 x + 724.8 x + 441\n"
     ]
    },
    {
     "data": {
      "text/plain": [
       "1009.7812499999993"
      ]
     },
     "execution_count": 15,
     "metadata": {},
     "output_type": "execute_result"
    },
    {
     "data": {
      "image/png": "[encoded data removed]",
      "text/plain": [
       "<Figure size 432x288 with 1 Axes>"
      ]
     },
     "metadata": {
      "needs_background": "light"
     },
     "output_type": "display_data"
    }
   ],
   "source": [
    "area = 22\n",
    "x=1.5\n",
    "culculate_3d_regression(area, x)"
   ]
  },
  {
   "cell_type": "code",
   "execution_count": 16,
   "metadata": {},
   "outputs": [],
   "source": [
    "dir_list = ['people10000', 'people20000', 'people30000']\n",
    "seed_list = [str(123 + i) for i in range(3)]\n",
    "csv_list = ['census', 'mobile']\n",
    "area_list = [str(i) for i in range(36)]"
   ]
  },
  {
   "cell_type": "code",
   "execution_count": 17,
   "metadata": {},
   "outputs": [],
   "source": [
    "seed_array = {}\n",
    "for _dir in dir_list:\n",
    "    seed_array[_dir] = {}\n",
    "    for _csv in csv_list:\n",
    "        seed_array[_dir][_csv] = {}\n",
    "        for _area in area_list:\n",
    "            df = pd.read_csv('/Users/kessapassa/OneDrive/research_log/20190104/datetime_per_seed/' + _dir +  '_' + _csv + _area + '.csv',\n",
    "                                            encoding='Shift_JISx0213')\n",
    "            seed_array[_dir][_csv][_area] = df"
   ]
  },
  {
   "cell_type": "code",
   "execution_count": 18,
   "metadata": {},
   "outputs": [
    {
     "name": "stderr",
     "output_type": "stream",
     "text": [
      "INFO:fbprophet.forecaster:n_changepoints greater than number of observations.Using 13.0.\n"
     ]
    },
    {
     "data": {
      "image/png": "[encoded data removed]",
      "text/plain": [
       "<Figure size 720x432 with 1 Axes>"
      ]
     },
     "metadata": {},
     "output_type": "display_data"
    }
   ],
   "source": [
    "area = '28'\n",
    "df = seed_array[people][csv][area] \n",
    "model = Prophet(changepoint_prior_scale=0.01, yearly_seasonality=False, weekly_seasonality=False, daily_seasonality=False)\n",
    "model.fit(df)\n",
    "future = model.make_future_dataframe(periods=3, freq='H')\n",
    "pred = model.predict(future)\n",
    "fig = model.plot(pred)"
   ]
  },
  {
   "cell_type": "code",
   "execution_count": null,
   "metadata": {},
   "outputs": [],
   "source": []
  }
 ],
 "metadata": {
  "kernelspec": {
   "display_name": "Python 3",
   "language": "python",
   "name": "python3"
  },
  "language_info": {
   "codemirror_mode": {
    "name": "ipython",
    "version": 3
   },
   "file_extension": ".py",
   "mimetype": "text/x-python",
   "name": "python",
   "nbconvert_exporter": "python",
   "pygments_lexer": "ipython3",
   "version": "3.6.6"
  }
 },
 "nbformat": 4,
 "nbformat_minor": 2
}
