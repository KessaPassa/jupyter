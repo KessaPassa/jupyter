{
 "cells": [
  {
   "cell_type": "code",
   "execution_count": 1,
   "metadata": {},
   "outputs": [],
   "source": [
    "import sys\n",
    "sys.path.append('../')\n",
    "import env"
   ]
  },
  {
   "cell_type": "code",
   "execution_count": 2,
   "metadata": {},
   "outputs": [],
   "source": [
    "import pandas as pd\n",
    "import numpy as np\n",
    "from matplotlib import pyplot as plt"
   ]
  },
  {
   "cell_type": "code",
   "execution_count": 3,
   "metadata": {},
   "outputs": [],
   "source": [
    "READ_FILE = 'next_move_area'"
   ]
  },
  {
   "cell_type": "code",
   "execution_count": 4,
   "metadata": {},
   "outputs": [],
   "source": [
    "csv_array = {}\n",
    "def main(args, array):\n",
    "    for _area in env.AREA_LIST():\n",
    "        contour_area = env.area_to_contour(_area)\n",
    "        df = pd.read_csv(env.get_full_path(READ_FILE, args, any=_area))\n",
    "        array[args.dir][args.ratio][args.seed][args.csv][contour_area] = df.copy()\n",
    "    \n",
    "env.for_default_init(main, csv_array)"
   ]
  },
  {
   "cell_type": "code",
   "execution_count": 5,
   "metadata": {},
   "outputs": [],
   "source": [
    "target1 = 'mobile'\n",
    "target2 = 'od'\n",
    "\n",
    "_dir = 'p30000'\n",
    "_ratio = 'r6'\n",
    "_seed = 's123'\n",
    "_area = '440'"
   ]
  },
  {
   "cell_type": "code",
   "execution_count": 6,
   "metadata": {
    "scrolled": false
   },
   "outputs": [
    {
     "data": {
      "image/png": "[encoded data removed]",
      "text/plain": [
       "<Figure size 432x288 with 1 Axes>"
      ]
     },
     "metadata": {
      "needs_background": "light"
     },
     "output_type": "display_data"
    }
   ],
   "source": [
    "from sklearn.preprocessing import PolynomialFeatures\n",
    "from sklearn.linear_model import LinearRegression as LR\n",
    "\n",
    "df = csv_array[_dir][_ratio][_seed].copy()\n",
    "for _area in env.AREA_LIST_CONTOUR():\n",
    "    try:\n",
    "        trainX = df[target1][_area]['people'].values.reshape(-1, 1)\n",
    "        trainY = df[target2][_area]['people'].values.reshape(-1, 1)\n",
    "\n",
    "        quadratic = PolynomialFeatures(degree = 2)\n",
    "        X_quad = quadratic.fit_transform(trainX)\n",
    "        X_fit = np.arange(trainX.min(), trainX.max(), 1)[:, np.newaxis]\n",
    "        model = LR()\n",
    "\n",
    "        # 2次の項を追加、予測値、R^2を評価\n",
    "        mod_quad = model.fit(X_quad, trainY)\n",
    "        y_quad_fit = mod_quad.predict(quadratic.fit_transform(X_fit))\n",
    "        r2_quad = model.score(X_quad, trainY)\n",
    "\n",
    "        # plt.figure(dpi=600)\n",
    "        plt.scatter(trainX, trainY)\n",
    "        plt.plot(X_fit, y_quad_fit, 'orange')\n",
    "#         print(_area+': ', r2_quad)\n",
    "\n",
    "        # plt.savefig('correlation_{0}.png'.format(_dir+_ratio+_seed))\n",
    "    except:\n",
    "#         print(_area+': ', 'エラー')\n",
    "        hoge=0"
   ]
  },
  {
   "cell_type": "code",
   "execution_count": 7,
   "metadata": {
    "scrolled": true
   },
   "outputs": [
    {
     "name": "stdout",
     "output_type": "stream",
     "text": [
      "\n",
      " p10000 r4 s123\n",
      "\n",
      " p10000 r5 s123\n",
      "\n",
      " p10000 r6 s123\n",
      "\n",
      " p20000 r4 s123\n",
      "\n",
      " p20000 r5 s123\n",
      "\n",
      " p20000 r6 s123\n",
      "\n",
      " p30000 r4 s123\n",
      "\n",
      " p30000 r5 s123\n",
      "\n",
      " p30000 r6 s123\n"
     ]
    },
    {
     "data": {
      "image/png": "[encoded data removed]",
      "text/plain": [
       "<Figure size 432x288 with 1 Axes>"
      ]
     },
     "metadata": {
      "needs_background": "light"
     },
     "output_type": "display_data"
    }
   ],
   "source": [
    "from sklearn.preprocessing import PolynomialFeatures\n",
    "from sklearn.linear_model import LinearRegression as LR\n",
    "\n",
    "for _dir in env.DIR_LIST():\n",
    "    for _ratio in env.RATIO_LIST():\n",
    "        for _seed in env.SEED_LIST():\n",
    "            df = csv_array[_dir][_ratio][_seed].copy()\n",
    "            print('\\n', _dir, _ratio, _seed)\n",
    "            \n",
    "            for _area in env.AREA_LIST_CONTOUR():\n",
    "                try:\n",
    "                    trainX = df[target1][_area]['people'].values.reshape(-1, 1)\n",
    "                    trainY = df[target2][_area]['people'].values.reshape(-1, 1)\n",
    "\n",
    "                    quadratic = PolynomialFeatures(degree = 2)\n",
    "                    X_quad = quadratic.fit_transform(trainX)\n",
    "                    X_fit = np.arange(trainX.min(), trainX.max(), 1)[:, np.newaxis]\n",
    "                    model = LR()\n",
    "\n",
    "                    # 2次の項を追加、予測値、R^2を評価\n",
    "                    mod_quad = model.fit(X_quad, trainY)\n",
    "                    y_quad_fit = mod_quad.predict(quadratic.fit_transform(X_fit))\n",
    "                    r2_quad = model.score(X_quad, trainY)\n",
    "\n",
    "                    # plt.figure(dpi=600)\n",
    "#                     plt.xlim([0, 400])\n",
    "#                     plt.ylim([0, 2000])\n",
    "                    plt.scatter(trainX, trainY)\n",
    "                    plt.plot(X_fit, y_quad_fit)\n",
    "#                     print(_area+': ', r2_quad)\n",
    "\n",
    "                    # plt.savefig('correlation_{0}.png'.format(_dir+_ratio+_seed))\n",
    "                except:\n",
    "#                     print(_area+': ', 'エラー')\n",
    "                        hoge=0"
   ]
  },
  {
   "cell_type": "code",
   "execution_count": null,
   "metadata": {},
   "outputs": [],
   "source": []
  }
 ],
 "metadata": {
  "kernelspec": {
   "display_name": "Python 3",
   "language": "python",
   "name": "python3"
  },
  "language_info": {
   "codemirror_mode": {
    "name": "ipython",
    "version": 3
   },
   "file_extension": ".py",
   "mimetype": "text/x-python",
   "name": "python",
   "nbconvert_exporter": "python",
   "pygments_lexer": "ipython3",
   "version": "3.6.8"
  }
 },
 "nbformat": 4,
 "nbformat_minor": 2
}
