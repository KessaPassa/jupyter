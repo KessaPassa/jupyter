{
 "cells": [
  {
   "cell_type": "code",
   "execution_count": 9,
   "metadata": {},
   "outputs": [],
   "source": [
    "import sys\n",
    "sys.path.append('../')\n",
    "import env"
   ]
  },
  {
   "cell_type": "code",
   "execution_count": 10,
   "metadata": {},
   "outputs": [],
   "source": [
    "import pandas as pd\n",
    "import numpy as np"
   ]
  },
  {
   "cell_type": "code",
   "execution_count": 11,
   "metadata": {},
   "outputs": [],
   "source": [
    "READ_FILE = '2D'\n",
    "WRITE_FILE = 'Timeflow'"
   ]
  },
  {
   "cell_type": "code",
   "execution_count": 13,
   "metadata": {},
   "outputs": [],
   "source": [
    "times_list = [str(3600 * (i + 1)) for i in range(6)]"
   ]
  },
  {
   "cell_type": "code",
   "execution_count": 5,
   "metadata": {},
   "outputs": [],
   "source": [
    "csv_array = {}\n",
    "def main(args, array):\n",
    "    df = pd.read_csv(env.get_full_path(READ_FILE, args),\n",
    "                     encoding='Shift_JISx0213')\n",
    "    array[args.dir][args.ratio][args.seed][args.csv] = df.copy()\n",
    "    \n",
    "env.for_default_init(main, csv_array)"
   ]
  },
  {
   "cell_type": "code",
   "execution_count": 6,
   "metadata": {},
   "outputs": [],
   "source": [
    "timeflow_array = {}\n",
    "def create_timeflow(args, array):\n",
    "    df_base = pd.DataFrame(columns=times_list)\n",
    "    df = csv_array[args.dir][args.ratio][args.seed][args.csv].copy()\n",
    "\n",
    "    \n",
    "    group = df.groupby('area')\n",
    "    for _group in group:\n",
    "        # エリア番号とグルーピングした中身に分ける\n",
    "        area = int(_group[0])\n",
    "        df_group = _group[1].sort_values('time')\n",
    "        \n",
    "        # 人数だけ抽出し時系列順にDataFrameに格納\n",
    "        df_group = df_group.loc[:, 'people'].reset_index(drop=True)\n",
    "        \n",
    "        # 要素が1つだけだとseriesになってしまうので\n",
    "        df_group = pd.DataFrame(df_group).T\n",
    "        \n",
    "        # coumnsを設定して結合\n",
    "        df_group.columns = times_list\n",
    "        df_base = pd.concat([df_base, df_group])\n",
    "        \n",
    "    # indexがpeopleになるのでリセット\n",
    "    df_base.reset_index(drop=True, inplace=True)\n",
    "    array[args.dir][args.ratio][args.seed][args.csv] = df_base.copy()\n",
    "    \n",
    "env.for_default_init(create_timeflow, timeflow_array)"
   ]
  },
  {
   "cell_type": "code",
   "execution_count": 7,
   "metadata": {},
   "outputs": [],
   "source": [
    "# def output_file(args):\n",
    "#     df = timeflow_array[args.dir][args.ratio][args.seed][args.csv].copy()\n",
    "#     df.to_csv(env.get_full_path(WRITE_FILE, args))\n",
    "    \n",
    "# env.for_default(output_file)"
   ]
  },
  {
   "cell_type": "code",
   "execution_count": null,
   "metadata": {},
   "outputs": [],
   "source": []
  }
 ],
 "metadata": {
  "kernelspec": {
   "display_name": "Python 3",
   "language": "python",
   "name": "python3"
  },
  "language_info": {
   "codemirror_mode": {
    "name": "ipython",
    "version": 3
   },
   "file_extension": ".py",
   "mimetype": "text/x-python",
   "name": "python",
   "nbconvert_exporter": "python",
   "pygments_lexer": "ipython3",
   "version": "3.6.8"
  }
 },
 "nbformat": 4,
 "nbformat_minor": 2
}
