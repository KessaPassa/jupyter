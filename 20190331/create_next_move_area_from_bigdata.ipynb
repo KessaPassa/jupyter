{
 "cells": [
  {
   "cell_type": "code",
   "execution_count": 1,
   "metadata": {},
   "outputs": [],
   "source": [
    "import pandas as pd\n",
    "import numpy as np\n",
    "from matplotlib import pyplot as plt"
   ]
  },
  {
   "cell_type": "code",
   "execution_count": 2,
   "metadata": {},
   "outputs": [],
   "source": [
    "area_list = [str(i) for i in range(81)]\n",
    "col_names = [ 'c{0:02d}'.format(i) for i in range(30)]"
   ]
  },
  {
   "cell_type": "code",
   "execution_count": 3,
   "metadata": {},
   "outputs": [],
   "source": [
    "from collections import namedtuple\n",
    "ARGS_FOR_LIST = namedtuple('FOR_LIST', ('dir', 'ratio', 'seed', 'csv'))\n",
    "\n",
    "def get_for_list():\n",
    "    dir_list = ['p10000', 'p20000', 'p30000']\n",
    "    ratio_list = ['r4', 'r5', 'r6']\n",
    "    seed_list = ['s'+str(123 + i) for i in range(1)]\n",
    "    csv_list = ['census', 'mobile']\n",
    "\n",
    "    return ARGS_FOR_LIST(dir_list, ratio_list, seed_list, csv_list)"
   ]
  },
  {
   "cell_type": "code",
   "execution_count": 4,
   "metadata": {},
   "outputs": [],
   "source": [
    "def get_read_path(name):\n",
    "    path = '/Users/kessapassa/OneDrive/research_log/20190331/' + name + '/'\n",
    "    return path\n",
    "\n",
    "def get_file_name(args):\n",
    "    return args.dir + args.ratio + args.seed + '_' + args.csv + '.csv'\n",
    "\n",
    "def get_full_path(name, args):\n",
    "    return get_read_path(name) + get_file_name(args)"
   ]
  },
  {
   "cell_type": "code",
   "execution_count": 5,
   "metadata": {},
   "outputs": [],
   "source": [
    "def for_default_init(func, array):\n",
    "    for_list = get_for_list()\n",
    "    \n",
    "    for _dir in for_list.dir:\n",
    "        array[_dir] = {}\n",
    "        \n",
    "        for _ratio in for_list.ratio:\n",
    "            array[_dir][_ratio] = {}\n",
    "            \n",
    "            for _seed in for_list.seed:\n",
    "                array[_dir][_ratio][_seed] = {}\n",
    "                \n",
    "                for _csv in for_list.csv:\n",
    "                    array[_dir][_ratio][_seed][_csv] = {}\n",
    "                    args = ARGS_FOR_LIST(_dir, _ratio, _seed, _csv)\n",
    "                    func(args, array)"
   ]
  },
  {
   "cell_type": "code",
   "execution_count": 6,
   "metadata": {},
   "outputs": [],
   "source": [
    "def create_next_move_area(df, area):\n",
    "    area = float(area)\n",
    "    df_area = pd.DataFrame(np.zeros((81, 2)), columns=['area', 'people'])\n",
    "    df_area['area'] = [float(i) for i in range(81)]\n",
    "    \n",
    "    for row in df.values.tolist():\n",
    "        if area in row:\n",
    "            index = row.index(area)\n",
    "            if (len(row) > index+1) and (not np.isnan(row[index+1])):\n",
    "                df_area.loc[df_area['area'] == row[index+1], 'people'] += 1\n",
    "                    \n",
    "    return df_area"
   ]
  },
  {
   "cell_type": "code",
   "execution_count": 7,
   "metadata": {},
   "outputs": [
    {
     "name": "stdout",
     "output_type": "stream",
     "text": [
      "p10000r4s123_census.csv\n",
      "p10000r4s123_mobile.csv\n",
      "p10000r5s123_census.csv\n",
      "p10000r5s123_mobile.csv\n",
      "p10000r6s123_census.csv\n",
      "p10000r6s123_mobile.csv\n",
      "p20000r4s123_census.csv\n",
      "p20000r4s123_mobile.csv\n",
      "p20000r5s123_census.csv\n",
      "p20000r5s123_mobile.csv\n",
      "p20000r6s123_census.csv\n",
      "p20000r6s123_mobile.csv\n",
      "p30000r4s123_census.csv\n",
      "p30000r4s123_mobile.csv\n",
      "p30000r5s123_census.csv\n",
      "p30000r5s123_mobile.csv\n",
      "p30000r6s123_census.csv\n",
      "p30000r6s123_mobile.csv\n"
     ]
    }
   ],
   "source": [
    "csv_array = {}\n",
    "def main(args, array):\n",
    "    df = pd.read_csv(get_full_path('od_from_bigdata', args),\n",
    "                     names=col_names,\n",
    "                     encoding='Shift_JISx0213')\n",
    "\n",
    "    for _area in area_list:\n",
    "        df_area = create_next_move_area(df, _area)\n",
    "        df_area.to_csv(get_read_path('next_move_area') + args.dir + args.ratio + args.seed + '_' + args.csv + _area + '.csv', index=False)\n",
    "        array[args.dir][args.ratio][args.seed][args.csv][_area] = df_area\n",
    "    print(get_file_name(args))\n",
    "    \n",
    "for_default_init(main, csv_array)"
   ]
  },
  {
   "cell_type": "code",
   "execution_count": null,
   "metadata": {},
   "outputs": [],
   "source": []
  }
 ],
 "metadata": {
  "kernelspec": {
   "display_name": "Python 3",
   "language": "python",
   "name": "python3"
  },
  "language_info": {
   "codemirror_mode": {
    "name": "ipython",
    "version": 3
   },
   "file_extension": ".py",
   "mimetype": "text/x-python",
   "name": "python",
   "nbconvert_exporter": "python",
   "pygments_lexer": "ipython3",
   "version": "3.6.8"
  }
 },
 "nbformat": 4,
 "nbformat_minor": 2
}
