{
 "cells": [
  {
   "cell_type": "code",
   "execution_count": 10,
   "metadata": {},
   "outputs": [],
   "source": [
    "import pandas as pd\n",
    "import numpy as np\n",
    "from matplotlib import pyplot as plt"
   ]
  },
  {
   "cell_type": "code",
   "execution_count": 11,
   "metadata": {},
   "outputs": [],
   "source": [
    "from collections import namedtuple\n",
    "ARGS_FOR_LIST = namedtuple('FOR_LIST', ('dir', 'ratio', 'seed', 'csv'))\n",
    "\n",
    "def get_for_list():\n",
    "    dir_list = ['p10000', 'p20000', 'p30000']\n",
    "    ratio_list = ['r4', 'r5', 'r6']\n",
    "    seed_list = ['s'+str(123 + i) for i in range(1)]\n",
    "    csv_list = ['census', 'mobile']\n",
    "\n",
    "    return ARGS_FOR_LIST(dir_list, ratio_list, seed_list, csv_list)"
   ]
  },
  {
   "cell_type": "code",
   "execution_count": 12,
   "metadata": {},
   "outputs": [],
   "source": [
    "def get_read_path(name):\n",
    "    path = '/Users/kessapassa/OneDrive/research_log/20190331/' + name + '/'\n",
    "    return path\n",
    "\n",
    "def get_file_name(args):\n",
    "    return args.dir + args.ratio + args.seed + '_' + args.csv + '.csv'\n",
    "\n",
    "def get_full_path(name, args):\n",
    "    return get_read_path(name) + get_file_name(args)"
   ]
  },
  {
   "cell_type": "code",
   "execution_count": 13,
   "metadata": {},
   "outputs": [],
   "source": [
    "def for_default_init(func, array):\n",
    "    for_list = get_for_list()\n",
    "    \n",
    "    for _dir in for_list.dir:\n",
    "        array[_dir] = {}\n",
    "        \n",
    "        for _ratio in for_list.ratio:\n",
    "            array[_dir][_ratio] = {}\n",
    "            \n",
    "            for _seed in for_list.seed:\n",
    "                array[_dir][_ratio][_seed] = {}\n",
    "                \n",
    "                for _csv in for_list.csv:\n",
    "                    array[_dir][_ratio][_seed][_csv] = {}\n",
    "                    args = ARGS_FOR_LIST(_dir, _ratio, _seed, _csv)\n",
    "                    func(args, array)"
   ]
  },
  {
   "cell_type": "code",
   "execution_count": 15,
   "metadata": {},
   "outputs": [],
   "source": [
    "csv_array = {}\n",
    "def main(args, array):\n",
    "    df = pd.read_csv(get_full_path('Origin', args), \n",
    "                     encoding='Shift_JISx0213')\n",
    "    df = df.loc[:, ['id', 'time', 'area']]\n",
    "\n",
    "    group_list = df.groupby(['id'], sort=True)\n",
    "    for _id, _group in group_list:\n",
    "        _group = _group.sort_values(['time'])\n",
    "        array[args.dir][args.ratio][args.seed][args.csv][_id] = []\n",
    "        for area in np.asanyarray(_group.loc[:, 'area']):\n",
    "            array[args.dir][args.ratio][args.seed][args.csv][_id].append(area)\n",
    "            \n",
    "for_default_init(main, csv_array)"
   ]
  },
  {
   "cell_type": "code",
   "execution_count": 17,
   "metadata": {},
   "outputs": [],
   "source": [
    "od_array = {}\n",
    "def create_od(args, array):\n",
    "    df = pd.DataFrame()\n",
    "    df_main = csv_array[args.dir][args.ratio][args.seed][args.csv].copy()\n",
    "    for _id in df_main:\n",
    "        df_main[_id].insert(0, _id)\n",
    "        tmp = pd.DataFrame(df_main[_id]).T\n",
    "        df = pd.concat([df, tmp])\n",
    "        \n",
    "#     df.to_csv(get_full_path('od_from_bigdata', args), index=False)\n",
    "    array[args.dir][args.ratio][args.seed][args.csv] = df\n",
    "    \n",
    "    \n",
    "for_default_init(create_od, od_array)"
   ]
  }
 ],
 "metadata": {
  "kernelspec": {
   "display_name": "Python 3",
   "language": "python",
   "name": "python3"
  },
  "language_info": {
   "codemirror_mode": {
    "name": "ipython",
    "version": 3
   },
   "file_extension": ".py",
   "mimetype": "text/x-python",
   "name": "python",
   "nbconvert_exporter": "python",
   "pygments_lexer": "ipython3",
   "version": "3.6.6"
  }
 },
 "nbformat": 4,
 "nbformat_minor": 2
}
