{
 "cells": [
  {
   "cell_type": "code",
   "execution_count": 1,
   "metadata": {},
   "outputs": [],
   "source": [
    "import pandas as pd\n",
    "import numpy as np\n",
    "import math\n",
    "from matplotlib import pyplot as plt\n",
    "from sklearn.linear_model import LinearRegression as LR\n",
    "import sklearn"
   ]
  },
  {
   "cell_type": "code",
   "execution_count": 2,
   "metadata": {},
   "outputs": [],
   "source": [
    "times_list = [str(3600 * (i + 1)) for i in range(6)]\n",
    "area_one_length = 9"
   ]
  },
  {
   "cell_type": "code",
   "execution_count": 3,
   "metadata": {},
   "outputs": [],
   "source": [
    "from collections import namedtuple\n",
    "ARGS_FOR_LIST = namedtuple('FOR_LIST', ('dir', 'ratio', 'seed', 'csv'))\n",
    "\n",
    "def get_for_list():\n",
    "    dir_list = ['p10000', 'p20000', 'p30000']\n",
    "    ratio_list = ['r4', 'r5', 'r6']\n",
    "    seed_list = ['s'+str(123 + i) for i in range(1)]\n",
    "    csv_list = ['census', 'mobile']\n",
    "\n",
    "    return ARGS_FOR_LIST(dir_list, ratio_list, seed_list, csv_list)"
   ]
  },
  {
   "cell_type": "code",
   "execution_count": 4,
   "metadata": {},
   "outputs": [],
   "source": [
    "def get_read_path(name):\n",
    "    path = '/Users/kessapassa/OneDrive/research_log/20190331/' + name + '/'\n",
    "    return path\n",
    "\n",
    "def get_file_name(args):\n",
    "    return args.dir + args.ratio + args.seed + '_' + args.csv + '.csv'\n",
    "\n",
    "def get_full_path(name, args):\n",
    "    return get_read_path(name) + get_file_name(args)"
   ]
  },
  {
   "cell_type": "code",
   "execution_count": 5,
   "metadata": {},
   "outputs": [],
   "source": [
    "def for_default_init(func, array):\n",
    "    for_list = get_for_list()\n",
    "    \n",
    "    for _dir in for_list.dir:\n",
    "        array[_dir] = {}\n",
    "        \n",
    "        for _ratio in for_list.ratio:\n",
    "            array[_dir][_ratio] = {}\n",
    "            \n",
    "            for _seed in for_list.seed:\n",
    "                array[_dir][_ratio][_seed] = {}\n",
    "                \n",
    "                for _csv in for_list.csv:\n",
    "                    array[_dir][_ratio][_seed][_csv] = {}\n",
    "                    args = ARGS_FOR_LIST(_dir, _ratio, _seed, _csv)\n",
    "                    func(args, array)"
   ]
  },
  {
   "cell_type": "code",
   "execution_count": 6,
   "metadata": {},
   "outputs": [],
   "source": [
    "csv_array = {}\n",
    "def main(args, array):\n",
    "    df = pd.read_csv(get_full_path('2D', args), \n",
    "                     encoding='Shift_JISx0213')\n",
    "    array[args.dir][args.ratio][args.seed][args.csv] = df\n",
    "\n",
    "for_default_init(main, csv_array)"
   ]
  },
  {
   "cell_type": "code",
   "execution_count": 57,
   "metadata": {},
   "outputs": [],
   "source": [
    "people = 'p20000'\n",
    "ratio = 'r6'\n",
    "seed = 's123'"
   ]
  },
  {
   "cell_type": "markdown",
   "metadata": {},
   "source": [
    "# 全体の回帰直線"
   ]
  },
  {
   "cell_type": "code",
   "execution_count": 58,
   "metadata": {
    "scrolled": true
   },
   "outputs": [
    {
     "name": "stdout",
     "output_type": "stream",
     "text": [
      "y =             2\n",
      "-0.003067 x + 3.221 x + 2.251\n",
      "相関 =  0.8817842746942568\n",
      "R^2 =  -1.0627883501243196\n"
     ]
    },
    {
     "data": {
      "image/png": "[encoded data removed]",
      "text/plain": [
       "<Figure size 432x288 with 1 Axes>"
      ]
     },
     "metadata": {
      "needs_background": "light"
     },
     "output_type": "display_data"
    }
   ],
   "source": [
    "import warnings\n",
    "warnings.filterwarnings('ignore')\n",
    "from sklearn.metrics import r2_score\n",
    "import seaborn as sns\n",
    "\n",
    "df = csv_array[people][ratio][seed].copy()\n",
    "trainX = df['mobile']['people'] \n",
    "trainY = df['census']['people']\n",
    "\n",
    "# plt.figure(dpi=600)\n",
    "plt.xlabel('モバイル空間統計')\n",
    "plt.ylabel('道路交通センサス')\n",
    "plt.plot(trainX, trainY, 'o')\n",
    "\n",
    "order=2\n",
    "sns.regplot(x=trainX, y=trainY, order=order, ci=75)\n",
    "z = np.polyfit(trainX, trainY, order)\n",
    "z = np.squeeze(z)\n",
    "p = np.poly1d(z)\n",
    "print('y = ', p)\n",
    "print('相関 = ', np.corrcoef(trainX, trainY)[0,1])\n",
    "print('R^2 = ', r2_score(trainX, trainY))\n",
    "p = np.asanyarray(p)\n",
    "\n",
    "x = trainX\n",
    "y = p[0]*x**2 + p[1]*x + p[2]\n",
    "\n",
    "\n",
    "# plt.savefig('correlation_{0}.png'.format(people))"
   ]
  },
  {
   "cell_type": "code",
   "execution_count": 40,
   "metadata": {},
   "outputs": [],
   "source": [
    "csv_array_3d = {}\n",
    "def create3d(args, array):\n",
    "    df = pd.read_csv(get_full_path('2D', args), \n",
    "                     encoding='Shift_JISx0213')\n",
    "    df['time'] = df['time'].apply(lambda x: str(int(x)))\n",
    "    group_list = df.groupby(['time'], sort=False)\n",
    "    for _times, _group in group_list:\n",
    "#         df = convert_area_to_contour(base.copy(), _group.copy())\n",
    "        df = df.sort_index(ascending=False)\n",
    "        array[args.dir][args.ratio][args.seed][args.csv][_times] = _group\n",
    "\n",
    "for_default_init(create3d, csv_array_3d)"
   ]
  },
  {
   "cell_type": "code",
   "execution_count": 44,
   "metadata": {},
   "outputs": [],
   "source": [
    "time = '21600'"
   ]
  },
  {
   "cell_type": "code",
   "execution_count": 45,
   "metadata": {
    "scrolled": true
   },
   "outputs": [
    {
     "name": "stdout",
     "output_type": "stream",
     "text": [
      "y =             2\n",
      "-0.007826 x + 4.797 x - 1.558\n",
      "相関 =  0.8939519920636823\n",
      "R^2 =  -4.522044860644545\n"
     ]
    },
    {
     "data": {
      "image/png": "[encoded data removed]",
      "text/plain": [
       "<Figure size 432x288 with 1 Axes>"
      ]
     },
     "metadata": {
      "needs_background": "light"
     },
     "output_type": "display_data"
    }
   ],
   "source": [
    "import warnings\n",
    "warnings.filterwarnings('ignore')\n",
    "from sklearn.metrics import r2_score\n",
    "import seaborn as sns\n",
    "\n",
    "df = csv_array_3d[people][ratio][seed].copy()\n",
    "trainX = df['mobile'][time]['people'].copy()\n",
    "trainY = df['census'][time]['people'].copy()\n",
    "\n",
    "# plt.figure(dpi=600)\n",
    "plt.xlabel('モバイル空間統計')\n",
    "plt.ylabel('道路交通センサス')\n",
    "plt.plot(trainX, trainY, 'o')\n",
    "\n",
    "order=2\n",
    "sns.regplot(x=trainX, y=trainY, order=order, ci=0)\n",
    "z = np.polyfit(trainX, trainY, order)\n",
    "z = np.squeeze(z)\n",
    "p = np.poly1d(z)\n",
    "print('y = ', p)\n",
    "print('相関 = ', np.corrcoef(trainX, trainY)[0,1])\n",
    "print('R^2 = ', r2_score(trainX, trainY))\n",
    "p = np.asanyarray(p)\n",
    "\n",
    "x = trainX\n",
    "y = p[0]*x**2 + p[1]*x + p[2]\n",
    "\n",
    "\n",
    "# plt.savefig('correlation_{0}.png'.format(people))"
   ]
  },
  {
   "cell_type": "code",
   "execution_count": null,
   "metadata": {},
   "outputs": [],
   "source": []
  }
 ],
 "metadata": {
  "kernelspec": {
   "display_name": "Python 3",
   "language": "python",
   "name": "python3"
  },
  "language_info": {
   "codemirror_mode": {
    "name": "ipython",
    "version": 3
   },
   "file_extension": ".py",
   "mimetype": "text/x-python",
   "name": "python",
   "nbconvert_exporter": "python",
   "pygments_lexer": "ipython3",
   "version": "3.6.6"
  }
 },
 "nbformat": 4,
 "nbformat_minor": 2
}
