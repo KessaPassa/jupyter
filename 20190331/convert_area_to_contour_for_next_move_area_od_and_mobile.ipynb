{
 "cells": [
  {
   "cell_type": "code",
   "execution_count": 1,
   "metadata": {},
   "outputs": [],
   "source": [
    "import pandas as pd\n",
    "import numpy as np\n",
    "from matplotlib import pyplot as plt\n",
    "import seaborn as sns"
   ]
  },
  {
   "cell_type": "code",
   "execution_count": 2,
   "metadata": {},
   "outputs": [],
   "source": [
    "root_dir = '/Users/kessapassa/OneDrive/research_log/20190226/'"
   ]
  },
  {
   "cell_type": "code",
   "execution_count": 3,
   "metadata": {},
   "outputs": [],
   "source": [
    "dir_list = ['people30000']\n",
    "seed_list = [str(123 + i) for i in range(1)]\n",
    "csv_list = ['mobile', 'od']\n",
    "area_list = [str(i) for i in range(81)]\n",
    "area_one_length = 9"
   ]
  },
  {
   "cell_type": "code",
   "execution_count": 4,
   "metadata": {},
   "outputs": [],
   "source": [
    "def create_base_dataframe():\n",
    "    df = pd.DataFrame(columns=(['{0:02d}'.format(i*10) for i in range(area_one_length)]))\n",
    "    return df"
   ]
  },
  {
   "cell_type": "code",
   "execution_count": 5,
   "metadata": {},
   "outputs": [
    {
     "data": {
      "text/html": [
       "<div>\n",
       "<style scoped>\n",
       "    .dataframe tbody tr th:only-of-type {\n",
       "        vertical-align: middle;\n",
       "    }\n",
       "\n",
       "    .dataframe tbody tr th {\n",
       "        vertical-align: top;\n",
       "    }\n",
       "\n",
       "    .dataframe thead th {\n",
       "        text-align: right;\n",
       "    }\n",
       "</style>\n",
       "<table border=\"1\" class=\"dataframe\">\n",
       "  <thead>\n",
       "    <tr style=\"text-align: right;\">\n",
       "      <th></th>\n",
       "      <th>00</th>\n",
       "      <th>10</th>\n",
       "      <th>20</th>\n",
       "      <th>30</th>\n",
       "      <th>40</th>\n",
       "      <th>50</th>\n",
       "      <th>60</th>\n",
       "      <th>70</th>\n",
       "      <th>80</th>\n",
       "    </tr>\n",
       "  </thead>\n",
       "  <tbody>\n",
       "  </tbody>\n",
       "</table>\n",
       "</div>"
      ],
      "text/plain": [
       "Empty DataFrame\n",
       "Columns: [00, 10, 20, 30, 40, 50, 60, 70, 80]\n",
       "Index: []"
      ]
     },
     "execution_count": 5,
     "metadata": {},
     "output_type": "execute_result"
    }
   ],
   "source": [
    "create_base_dataframe()"
   ]
  },
  {
   "cell_type": "code",
   "execution_count": 6,
   "metadata": {},
   "outputs": [],
   "source": [
    "# エリア番号を線形的な数から、iとjで回した数のようにする\n",
    "def convert_area_to_contour(base, read):\n",
    "    for r in np.asanyarray(read):\n",
    "        area_id = int(r[0])\n",
    "        row = str(area_id // area_one_length)\n",
    "        col = str(area_id % area_one_length) + '0'\n",
    "        base.loc[row, col] = r[1]\n",
    "        \n",
    "    return base"
   ]
  },
  {
   "cell_type": "code",
   "execution_count": 7,
   "metadata": {},
   "outputs": [],
   "source": [
    "def area_to_contour(area_id):\n",
    "    area_id = int(area_id)\n",
    "    left = str(area_id // area_one_length)\n",
    "    right = str(area_id % area_one_length) + '0'\n",
    "    return left+right"
   ]
  },
  {
   "cell_type": "code",
   "execution_count": 9,
   "metadata": {},
   "outputs": [
    {
     "ename": "SyntaxError",
     "evalue": "EOL while scanning string literal (<ipython-input-9-4fcd5a22d9cb>, line 17)",
     "output_type": "error",
     "traceback": [
      "\u001b[0;36m  File \u001b[0;32m\"<ipython-input-9-4fcd5a22d9cb>\"\u001b[0;36m, line \u001b[0;32m17\u001b[0m\n\u001b[0;31m    df = pd.read_csv(root_dir + dir_path + _dir + 'seed' + _seed + '_' + _csv + _area + '.csv)\u001b[0m\n\u001b[0m                                                                                              ^\u001b[0m\n\u001b[0;31mSyntaxError\u001b[0m\u001b[0;31m:\u001b[0m EOL while scanning string literal\n"
     ]
    }
   ],
   "source": [
    "base = create_base_dataframe()\n",
    "\n",
    "csv_array = {}\n",
    "for _dir in ['people30000']:\n",
    "    csv_array[_dir] = {}\n",
    "    for _seed in ['123']:\n",
    "        csv_array[_dir][_seed] = {}\n",
    "        for _csv in csv_list:\n",
    "            csv_array[_dir][_seed][_csv] = {}\n",
    "            for _area in area_list:\n",
    "                dir_path = ''\n",
    "                if _csv == 'mobile':\n",
    "                    dir_path = 'next_move_area_od_from_mobile/'\n",
    "                elif _csv == 'od':\n",
    "                    dir_path = 'next_move_area_od/'\n",
    "                    \n",
    "                df = pd.read_csv(root_dir + dir_path + _dir + 'seed' + _seed + '_' + _csv + _area + '.csv',\n",
    "                                                        encoding='Shift_JISx0213')\n",
    "                df = convert_area_to_contour(base.copy(), df.copy())\n",
    "#                 df = df / df.sum().sum()\n",
    "                df = df.sort_index(ascending=False)\n",
    "                df.fillna(0, inplace=True)\n",
    "                \n",
    "                _area = area_to_contour(_area)\n",
    "                csv_array[_dir][_seed][_csv][_area] = df"
   ]
  },
  {
   "cell_type": "code",
   "execution_count": null,
   "metadata": {},
   "outputs": [],
   "source": [
    "def create_contour(df):\n",
    "    plt.figure(figsize=(9,6))\n",
    "    sns.heatmap(df, annot=True, fmt='.０f', cmap='RdYlGn_r',\n",
    "               vmax=df.sum().mean())"
   ]
  },
  {
   "cell_type": "code",
   "execution_count": null,
   "metadata": {},
   "outputs": [],
   "source": [
    "people = 'people30000'\n",
    "seed = '123'\n",
    "csv = 'mobile'"
   ]
  },
  {
   "cell_type": "code",
   "execution_count": null,
   "metadata": {
    "scrolled": true
   },
   "outputs": [],
   "source": [
    "df_area_sum = pd.DataFrame(columns=['area', 'sum'])\n",
    "for area in [area_to_contour(i) for i in area_list]:\n",
    "    df = pd.DataFrame([area, csv_array[people][seed][csv][area].sum().sum()], index=['area', 'sum']).T\n",
    "    df_area_sum = pd.concat([df_area_sum, df])\n",
    "df_area_sum.reset_index(drop=True, inplace=True)\n",
    "df_area_sum = df_area_sum[df_area_sum['sum'] > 0]\n",
    "df_area_sum.sort_values(by=['sum'], ascending=False)"
   ]
  },
  {
   "cell_type": "code",
   "execution_count": null,
   "metadata": {},
   "outputs": [],
   "source": [
    "df_area_sum['sum'].sum()"
   ]
  },
  {
   "cell_type": "code",
   "execution_count": null,
   "metadata": {
    "scrolled": false
   },
   "outputs": [],
   "source": [
    "diff1_array = []\n",
    "diff2_array = []\n",
    "mobile_array = []\n",
    "od_array = []\n",
    "\n",
    "for _area in area_list:\n",
    "    _area = area_to_contour(_area)\n",
    "    \n",
    "    mobile = csv_array[people][seed]['mobile'][_area].copy()\n",
    "    od = csv_array[people][seed]['od'][_area].copy()\n",
    "    \n",
    "    if (mobile.sum().sum() > 0) and (od.sum().sum() > 0):\n",
    "        diff1 = mobile / od\n",
    "        diff2 = od / mobile\n",
    "        diff1 = diff1.replace(np.inf,np.nan).fillna(0)\n",
    "        diff2 = diff2.replace(np.inf,np.nan).fillna(0)\n",
    "        \n",
    "        diff1_array.append(diff1.mean().mean())\n",
    "        diff2_array.append(diff2.mean().mean())\n",
    "        mobile_array.append(mobile.mean().mean())\n",
    "        od_array.append(od.mean().mean())\n",
    "\n",
    "#         print(_area)\n",
    "#         print(diff1.mean().mean())\n",
    "#         print(diff2.mean().mean())\n",
    "#         print('\\n')"
   ]
  },
  {
   "cell_type": "code",
   "execution_count": null,
   "metadata": {
    "scrolled": false
   },
   "outputs": [],
   "source": [
    "# mobile_array = []\n",
    "# od_array = []\n",
    "\n",
    "# for _area in area_list:\n",
    "#     _area = area_to_contour(_area)\n",
    "    \n",
    "#     mobile = csv_array[people][seed]['mobile'][_area].copy()\n",
    "#     od = csv_array[people][seed]['od'][_area].copy()\n",
    "    \n",
    "#     if (mobile.mean().mean() > 0) and (od.sum().sum() > 0) and (mobile.mean().mean() < 2):\n",
    "# #     if (mobile.sum().sum() > 0) and (od.sum().sum() > 0):\n",
    "#         mobile_array.append(mobile)\n",
    "#         od_array.append(od)\n",
    "\n",
    "\n",
    "# for index in range(len(mobile_array)):\n",
    "#     plt.plot(mobile_array[index], od_array[index], 'o')\n",
    "\n",
    "# mobile_array = pd.DataFrame(mobile_array)\n",
    "# od_array = pd.DataFrame(od_array)\n",
    "trainX = mobile_array\n",
    "trainY = od_array\n",
    "\n",
    "# plt.figure(figsize=(9,6), dpi=600)\n",
    "plt.plot(trainX, trainY, 'o')\n",
    "order=2\n",
    "sns.regplot(x=trainX, y=trainY, order=order, ci=0)\n",
    "z = np.polyfit(trainX, trainY, order)\n",
    "z = np.squeeze(z)\n",
    "p = np.poly1d(z)\n",
    "print('y = ', p)\n",
    "print('相関 = ', np.corrcoef(trainX, trainY)[0,1])\n",
    "# print('R^2 = ', r2_score(trainX, trainY))"
   ]
  },
  {
   "cell_type": "code",
   "execution_count": null,
   "metadata": {},
   "outputs": [],
   "source": [
    "csv_array_2d = {}\n",
    "for _dir in ['people30000']:\n",
    "    csv_array_2d[_dir] = {}\n",
    "    for _seed in ['123']:\n",
    "        csv_array_2d[_dir][_seed] = {}\n",
    "        for _csv in csv_list:\n",
    "            csv_array_2d[_dir][_seed][_csv] = {}\n",
    "            for _area in area_list:\n",
    "                dir_path = ''\n",
    "                if _csv == 'mobile':\n",
    "                    dir_path = 'next_move_area_od_from_mobile/'\n",
    "                elif _csv == 'od':\n",
    "                    dir_path = 'next_move_area_od/'\n",
    "                    \n",
    "                df = pd.read_csv(root_dir + dir_path + _dir + 'seed' + _seed + '_' + _csv + _area + '.csv',\n",
    "                                                        encoding='Shift_JISx0213')\n",
    "                _area = area_to_contour(_area)\n",
    "                csv_array_2d[_dir][_seed][_csv][_area] = df"
   ]
  },
  {
   "cell_type": "code",
   "execution_count": null,
   "metadata": {
    "scrolled": true
   },
   "outputs": [],
   "source": [
    "_area = '440'\n",
    "mobile = csv_array_2d[people][seed]['mobile'][_area].copy()\n",
    "od = csv_array_2d[people][seed]['od'][_area].copy()\n",
    "\n",
    "trainX = mobile['people']\n",
    "trainY = od['people']\n",
    "\n",
    "# plt.figure(figsize=(9,6), dpi=600)\n",
    "plt.plot(trainX, trainY, 'o')\n",
    "order=2\n",
    "sns.regplot(x=trainX, y=trainY, order=order, ci=0)\n",
    "z = np.polyfit(trainX, trainY, order)\n",
    "z = np.squeeze(z)\n",
    "p = np.poly1d(z)\n",
    "print('y = ', p)\n",
    "print('相関 = ', np.corrcoef(trainX, trainY)[0,1])"
   ]
  },
  {
   "cell_type": "code",
   "execution_count": null,
   "metadata": {},
   "outputs": [],
   "source": [
    "# plt.figure(figsize=(9,6), dpi=600)\n",
    "# ax = plt.subplot()\n",
    "# ax.set_xlim([-100, 100])\n",
    "# ax.set_ylim([-1000, 2000])\n",
    "\n",
    "for _area in area_list:\n",
    "    _area = area_to_contour(_area)\n",
    "    mobile = csv_array_2d[people][seed]['mobile'][_area].copy()\n",
    "    od = csv_array_2d[people][seed]['od'][_area].copy()\n",
    "\n",
    "    trainX = mobile['people']\n",
    "    trainY = od['people']\n",
    "#     plt.figure(figsize=(9,6), dpi=600)\n",
    "\n",
    "    corr = np.corrcoef(trainX, trainY)[0,1]\n",
    "    if (np.isnan(corr) == False) and (trainX.mean().mean() > 0.5):\n",
    "\n",
    "        plt.plot(trainX, trainY, 'o')\n",
    "        order=2\n",
    "        sns.regplot(x=trainX, y=trainY, order=order, ci=0)\n",
    "        z = np.polyfit(trainX, trainY, order)\n",
    "        z = np.squeeze(z)\n",
    "        p = np.poly1d(z)\n",
    "#         print('y = ', p)\n",
    "        print(_area, '相関 = ', corr)\n",
    "#         plt.savefig('{0}_mobile_include_id.png'.format(_area))"
   ]
  },
  {
   "cell_type": "code",
   "execution_count": null,
   "metadata": {},
   "outputs": [],
   "source": [
    "def create_mobile_od_counter(area):\n",
    "    print(csv_array[people][seed]['mobile'][area].sum().sum())\n",
    "    print(csv_array[people][seed]['od'][area].sum().sum())\n",
    "    create_contour(csv_array[people][seed]['mobile'][area])\n",
    "    create_contour(csv_array[people][seed]['od'][area])"
   ]
  },
  {
   "cell_type": "markdown",
   "metadata": {},
   "source": [
    "# コンター図"
   ]
  },
  {
   "cell_type": "code",
   "execution_count": null,
   "metadata": {},
   "outputs": [],
   "source": [
    "area = '440'\n",
    "create_mobile_od_counter(area)"
   ]
  },
  {
   "cell_type": "code",
   "execution_count": null,
   "metadata": {},
   "outputs": [],
   "source": [
    "area = '550'\n",
    "create_mobile_od_counter(area)"
   ]
  },
  {
   "cell_type": "code",
   "execution_count": null,
   "metadata": {},
   "outputs": [],
   "source": [
    "area = '540'\n",
    "create_mobile_od_counter(area)"
   ]
  },
  {
   "cell_type": "code",
   "execution_count": null,
   "metadata": {},
   "outputs": [],
   "source": [
    "area = '450'\n",
    "create_mobile_od_counter(area)"
   ]
  },
  {
   "cell_type": "code",
   "execution_count": null,
   "metadata": {},
   "outputs": [],
   "source": [
    "area = '640'\n",
    "create_mobile_od_counter(area)"
   ]
  },
  {
   "cell_type": "code",
   "execution_count": null,
   "metadata": {},
   "outputs": [],
   "source": [
    "area = '330'\n",
    "create_mobile_od_counter(area)"
   ]
  },
  {
   "cell_type": "code",
   "execution_count": null,
   "metadata": {},
   "outputs": [],
   "source": [
    "def create_diff_mobile_and_od_counter(area):\n",
    "    mobile = csv_array[people][seed]['mobile'][area].copy()\n",
    "    od = csv_array[people][seed]['od'][area].copy()\n",
    "    diff_mobile = mobile / od\n",
    "    diff_od = od / mobile\n",
    "    \n",
    "    create_contour(diff_mobile)\n",
    "    create_contour(diff_od)"
   ]
  },
  {
   "cell_type": "code",
   "execution_count": null,
   "metadata": {},
   "outputs": [],
   "source": [
    "area = '440'\n",
    "create_diff_mobile_and_od_counter(area)"
   ]
  },
  {
   "cell_type": "code",
   "execution_count": null,
   "metadata": {},
   "outputs": [],
   "source": [
    "area = '550'\n",
    "create_diff_mobile_and_od_counter(area)"
   ]
  },
  {
   "cell_type": "code",
   "execution_count": null,
   "metadata": {},
   "outputs": [],
   "source": [
    "area = '540'\n",
    "create_diff_mobile_and_od_counter(area)"
   ]
  },
  {
   "cell_type": "code",
   "execution_count": null,
   "metadata": {},
   "outputs": [],
   "source": []
  }
 ],
 "metadata": {
  "kernelspec": {
   "display_name": "Python 3",
   "language": "python",
   "name": "python3"
  },
  "language_info": {
   "codemirror_mode": {
    "name": "ipython",
    "version": 3
   },
   "file_extension": ".py",
   "mimetype": "text/x-python",
   "name": "python",
   "nbconvert_exporter": "python",
   "pygments_lexer": "ipython3",
   "version": "3.6.6"
  }
 },
 "nbformat": 4,
 "nbformat_minor": 2
}
