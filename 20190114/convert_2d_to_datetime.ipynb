{
 "cells": [
  {
   "cell_type": "code",
   "execution_count": 1,
   "metadata": {},
   "outputs": [],
   "source": [
    "import pandas as pd\n",
    "import numpy as np\n",
    "from matplotlib import pyplot as plt"
   ]
  },
  {
   "cell_type": "code",
   "execution_count": 2,
   "metadata": {},
   "outputs": [],
   "source": [
    "root_dir = '/Users/kessapassa/OneDrive/research_log/20190114/'"
   ]
  },
  {
   "cell_type": "code",
   "execution_count": 3,
   "metadata": {},
   "outputs": [],
   "source": [
    "dir_list = ['people10000', 'people20000', 'people30000']\n",
    "seed_list = [str(123 + i) for i in range(3)]\n",
    "csv_list = ['census', 'mobile']"
   ]
  },
  {
   "cell_type": "code",
   "execution_count": 4,
   "metadata": {},
   "outputs": [],
   "source": [
    "# 2Dをdatetime型にする\n",
    "import datetime\n",
    "def create_datetime(row):\n",
    "    base_date = '00:00:00'\n",
    "    hours = int(row['time'] / 3600)\n",
    "    seconds = int(row['area'])\n",
    "    \n",
    "    tdatatime = datetime.datetime.strptime(base_date, '%H:%M:%S')\n",
    "    tdatatime += datetime.timedelta(hours=hours)\n",
    "    tdatatime += datetime.timedelta(hours=hours, seconds=seconds)\n",
    "    \n",
    "    return tdatatime"
   ]
  },
  {
   "cell_type": "code",
   "execution_count": 9,
   "metadata": {},
   "outputs": [],
   "source": [
    "csv_array = {}\n",
    "for _dir in dir_list:\n",
    "    csv_array[_dir] = {}\n",
    "    for _seed in seed_list:\n",
    "        csv_array[_dir][_seed] = {}\n",
    "        for _csv in csv_list:\n",
    "            csv_array[_dir][_seed][_csv] = {}\n",
    "            \n",
    "            df = pd.read_csv(root_dir + '2D/' + _dir + 'seed' + _seed + '_' + _csv + '.csv',\n",
    "                                                encoding='Shift_JISx0213')\n",
    "            df = df.groupby(['area'])\n",
    "            for _area, _group in df:\n",
    "                _area = int(_area)\n",
    "                _group = _group.T\n",
    "                _group.loc['ds', :] = _group.apply(create_datetime)\n",
    "                _group = _group.T.drop(['time', 'area'], axis=1)\n",
    "                # dsとyを指定してくるので\n",
    "                _group = _group[['ds', 'people']].rename(columns={'ds': 'ds', 'people': 'y'})\n",
    "                _group['y'] = _group['y'].apply(lambda x: int(x))\n",
    "                csv_array[_dir][_seed][_csv][_area] = _group\n",
    "#                 _group.to_csv(root_dir + 'datetime_per_area/' + _dir + 'seed' + _seed + '_' + _csv + str(_area) + '.csv')"
   ]
  },
  {
   "cell_type": "code",
   "execution_count": 6,
   "metadata": {},
   "outputs": [
    {
     "data": {
      "text/html": [
       "<div>\n",
       "<style scoped>\n",
       "    .dataframe tbody tr th:only-of-type {\n",
       "        vertical-align: middle;\n",
       "    }\n",
       "\n",
       "    .dataframe tbody tr th {\n",
       "        vertical-align: top;\n",
       "    }\n",
       "\n",
       "    .dataframe thead th {\n",
       "        text-align: right;\n",
       "    }\n",
       "</style>\n",
       "<table border=\"1\" class=\"dataframe\">\n",
       "  <thead>\n",
       "    <tr style=\"text-align: right;\">\n",
       "      <th></th>\n",
       "      <th>ds</th>\n",
       "      <th>y</th>\n",
       "    </tr>\n",
       "  </thead>\n",
       "  <tbody>\n",
       "    <tr>\n",
       "      <th>80</th>\n",
       "      <td>1900-01-01T02:01:20.000000000</td>\n",
       "      <td>0</td>\n",
       "    </tr>\n",
       "    <tr>\n",
       "      <th>161</th>\n",
       "      <td>1900-01-01T04:01:20.000000000</td>\n",
       "      <td>0</td>\n",
       "    </tr>\n",
       "    <tr>\n",
       "      <th>242</th>\n",
       "      <td>1900-01-01T06:01:20.000000000</td>\n",
       "      <td>0</td>\n",
       "    </tr>\n",
       "    <tr>\n",
       "      <th>323</th>\n",
       "      <td>1900-01-01T08:01:20.000000000</td>\n",
       "      <td>0</td>\n",
       "    </tr>\n",
       "    <tr>\n",
       "      <th>404</th>\n",
       "      <td>1900-01-01T10:01:20.000000000</td>\n",
       "      <td>0</td>\n",
       "    </tr>\n",
       "    <tr>\n",
       "      <th>485</th>\n",
       "      <td>1900-01-01T12:01:20.000000000</td>\n",
       "      <td>0</td>\n",
       "    </tr>\n",
       "  </tbody>\n",
       "</table>\n",
       "</div>"
      ],
      "text/plain": [
       "                                ds  y\n",
       "80   1900-01-01T02:01:20.000000000  0\n",
       "161  1900-01-01T04:01:20.000000000  0\n",
       "242  1900-01-01T06:01:20.000000000  0\n",
       "323  1900-01-01T08:01:20.000000000  0\n",
       "404  1900-01-01T10:01:20.000000000  0\n",
       "485  1900-01-01T12:01:20.000000000  0"
      ]
     },
     "execution_count": 6,
     "metadata": {},
     "output_type": "execute_result"
    }
   ],
   "source": [
    "people = 'people30000'\n",
    "csv = 'census'\n",
    "seed = '123'\n",
    "area = '21'\n",
    "df = csv_array[people][seed][csv][_area].copy()\n",
    "df"
   ]
  },
  {
   "cell_type": "code",
   "execution_count": null,
   "metadata": {},
   "outputs": [],
   "source": []
  }
 ],
 "metadata": {
  "kernelspec": {
   "display_name": "Python 3",
   "language": "python",
   "name": "python3"
  },
  "language_info": {
   "codemirror_mode": {
    "name": "ipython",
    "version": 3
   },
   "file_extension": ".py",
   "mimetype": "text/x-python",
   "name": "python",
   "nbconvert_exporter": "python",
   "pygments_lexer": "ipython3",
   "version": "3.6.6"
  }
 },
 "nbformat": 4,
 "nbformat_minor": 2
}
