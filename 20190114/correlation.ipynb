{
 "cells": [
  {
   "cell_type": "code",
   "execution_count": 1,
   "metadata": {},
   "outputs": [],
   "source": [
    "import pandas as pd\n",
    "import numpy as np\n",
    "import math\n",
    "from matplotlib import pyplot as plt\n",
    "from sklearn.linear_model import LinearRegression as LR\n",
    "import sklearn"
   ]
  },
  {
   "cell_type": "code",
   "execution_count": 2,
   "metadata": {},
   "outputs": [],
   "source": [
    "root_dir = '/Users/kessapassa/OneDrive/research_log/20190114/'"
   ]
  },
  {
   "cell_type": "code",
   "execution_count": 3,
   "metadata": {},
   "outputs": [],
   "source": [
    "dir_list = ['people10000', 'people20000', 'people30000']\n",
    "seed_list = [str(123 + i) for i in range(3)]\n",
    "csv_list = ['census', 'mobile']"
   ]
  },
  {
   "cell_type": "code",
   "execution_count": 12,
   "metadata": {},
   "outputs": [],
   "source": [
    "csv_array = {}\n",
    "for _dir in dir_list:\n",
    "    csv_array[_dir] = {}\n",
    "    for _seed in seed_list:\n",
    "        csv_array[_dir][_seed] = {}\n",
    "        for _csv in csv_list:\n",
    "            df = pd.read_csv(root_dir + '2D/' + _dir + 'seed' + _seed + '_' + _csv + '.csv',\n",
    "                                                encoding='Shift_JISx0213')\n",
    "            csv_array[_dir][_seed][_csv] = df"
   ]
  },
  {
   "cell_type": "code",
   "execution_count": 13,
   "metadata": {},
   "outputs": [],
   "source": [
    "people = 'people30000'\n",
    "seed = '123'\n",
    "csv = 'census'"
   ]
  },
  {
   "cell_type": "markdown",
   "metadata": {},
   "source": [
    "# 全体の回帰直線"
   ]
  },
  {
   "cell_type": "code",
   "execution_count": 14,
   "metadata": {
    "scrolled": false
   },
   "outputs": [
    {
     "name": "stdout",
     "output_type": "stream",
     "text": [
      "y =             2\n",
      "-0.001236 x + 3.44 x + 2.774\n",
      "相関 =  0.8753863560380352\n",
      "R^2 =  -1.3055938288580018\n"
     ]
    },
    {
     "data": {
      "image/png": "[encoded data removed]",
      "text/plain": [
       "<Figure size 432x288 with 1 Axes>"
      ]
     },
     "metadata": {
      "needs_background": "light"
     },
     "output_type": "display_data"
    }
   ],
   "source": [
    "import warnings\n",
    "warnings.filterwarnings('ignore')\n",
    "from sklearn.metrics import r2_score\n",
    "import seaborn as sns\n",
    "\n",
    "df = csv_array[people][seed].copy()\n",
    "trainX = df['mobile']['people'] \n",
    "trainY = df['census']['people']\n",
    "# trainX = df['mobile']['people'] / df['mobile']['people'].sum()\n",
    "# trainY = df['census']['people'] / df['census']['people'].sum()\n",
    "\n",
    "# plt.figure(dpi=600)\n",
    "plt.xlabel('モバイル空間統計')\n",
    "plt.ylabel('道路交通センサス')\n",
    "plt.plot(trainX, trainY, 'o')\n",
    "\n",
    "order=2\n",
    "sns.regplot(x=trainX, y=trainY, order=order, ci=75)\n",
    "z = np.polyfit(trainX, trainY, order)\n",
    "z = np.squeeze(z)\n",
    "p = np.poly1d(z)\n",
    "print('y = ', p)\n",
    "print('相関 = ', np.corrcoef(trainX, trainY)[0,1])\n",
    "print('R^2 = ', r2_score(trainX, trainY))\n",
    "p = np.asanyarray(p)\n",
    "\n",
    "x = trainX\n",
    "y = p[0]*x**2 + p[1]*x + p[2]\n",
    "\n",
    "\n",
    "# plt.savefig('correlation_{0}.png'.format(people))"
   ]
  },
  {
   "cell_type": "code",
   "execution_count": null,
   "metadata": {},
   "outputs": [],
   "source": []
  }
 ],
 "metadata": {
  "kernelspec": {
   "display_name": "Python 3",
   "language": "python",
   "name": "python3"
  },
  "language_info": {
   "codemirror_mode": {
    "name": "ipython",
    "version": 3
   },
   "file_extension": ".py",
   "mimetype": "text/x-python",
   "name": "python",
   "nbconvert_exporter": "python",
   "pygments_lexer": "ipython3",
   "version": "3.6.6"
  }
 },
 "nbformat": 4,
 "nbformat_minor": 2
}
