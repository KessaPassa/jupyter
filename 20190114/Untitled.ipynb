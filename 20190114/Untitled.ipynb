{
 "cells": [
  {
   "cell_type": "code",
   "execution_count": 1,
   "metadata": {},
   "outputs": [],
   "source": [
    "import pandas as pd\n",
    "import numpy as np\n",
    "from matplotlib import pyplot as plt\n",
    "import seaborn as sns"
   ]
  },
  {
   "cell_type": "code",
   "execution_count": 2,
   "metadata": {},
   "outputs": [],
   "source": [
    "root_dir = '/Users/kessapassa/OneDrive/research_log/20190114/'"
   ]
  },
  {
   "cell_type": "code",
   "execution_count": 3,
   "metadata": {},
   "outputs": [],
   "source": [
    "dir_list = ['people10000', 'people20000', 'people30000']\n",
    "seed_list = [str(123 + i) for i in range(3)]\n",
    "csv_list = ['od']\n",
    "area_list = [str(i) for i in range(81)]\n",
    "col_names = [ 'c{0:02d}'.format(i) for i in range(30)]"
   ]
  },
  {
   "cell_type": "code",
   "execution_count": null,
   "metadata": {},
   "outputs": [],
   "source": [
    "csv_array = {}\n",
    "for _dir in dir_list:\n",
    "    csv_array[_dir] = {}\n",
    "    for _seed in seed_list:\n",
    "        csv_array[_dir][_seed] = {}\n",
    "        for _csv in csv_list:\n",
    "            df = pd.read_csv(root_dir + 'converted_road_to_area_od/' + _dir + 'seed' + _seed + '_' + _csv + '.csv')"
   ]
  }
 ],
 "metadata": {
  "kernelspec": {
   "display_name": "Python 3",
   "language": "python",
   "name": "python3"
  },
  "language_info": {
   "codemirror_mode": {
    "name": "ipython",
    "version": 3
   },
   "file_extension": ".py",
   "mimetype": "text/x-python",
   "name": "python",
   "nbconvert_exporter": "python",
   "pygments_lexer": "ipython3",
   "version": "3.6.6"
  }
 },
 "nbformat": 4,
 "nbformat_minor": 2
}
