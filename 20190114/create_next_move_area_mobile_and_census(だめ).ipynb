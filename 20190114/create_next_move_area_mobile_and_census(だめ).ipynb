{
 "cells": [
  {
   "cell_type": "code",
   "execution_count": 1,
   "metadata": {},
   "outputs": [],
   "source": [
    "import pandas as pd\n",
    "import numpy as np\n",
    "from matplotlib import pyplot as plt"
   ]
  },
  {
   "cell_type": "code",
   "execution_count": 2,
   "metadata": {},
   "outputs": [],
   "source": [
    "root_dir = '/Users/kessapassa/OneDrive/research_log/20190114/'"
   ]
  },
  {
   "cell_type": "code",
   "execution_count": 3,
   "metadata": {},
   "outputs": [],
   "source": [
    "dir_list = ['people10000', 'people20000', 'people30000']\n",
    "seed_list = [str(123 + i) for i in range(1)]\n",
    "csv_list = ['census']\n",
    "area_list = [str(i) for i in range(81)]\n",
    "col_names = [ 'c{0:02d}'.format(i) for i in range(30)]"
   ]
  },
  {
   "cell_type": "code",
   "execution_count": 10,
   "metadata": {},
   "outputs": [],
   "source": [
    "def create_next_move_area(df, area):\n",
    "    area = float(area)\n",
    "    df_area = pd.DataFrame(np.zeros((81, 2)), columns=['area', 'people'])\n",
    "    df_area['area'] = [float(i) for i in range(81)]\n",
    "    \n",
    "    for row in df.values.tolist():\n",
    "        if area in row:\n",
    "            index = row.index(area)\n",
    "            if (len(row) > index+1) and (not np.isnan(row[index+1])):\n",
    "                df_area.loc[df_area['area'] == row[index+1], 'people'] += 1\n",
    "                    \n",
    "    return df_area"
   ]
  },
  {
   "cell_type": "code",
   "execution_count": 11,
   "metadata": {
    "scrolled": false
   },
   "outputs": [
    {
     "name": "stdout",
     "output_type": "stream",
     "text": [
      "people10000seed123_census\n",
      "people20000seed123_census\n",
      "people30000seed123_census\n"
     ]
    }
   ],
   "source": [
    "csv_array = {}\n",
    "for _dir in dir_list:\n",
    "    csv_array[_dir] = {}\n",
    "    for _seed in seed_list:\n",
    "        csv_array[_dir][_seed] = {}\n",
    "        for _csv in csv_list:\n",
    "            csv_array[_dir][_seed][_csv] = {}\n",
    "            df = pd.read_csv(root_dir + 'od_from_' + _csv + '/' + _dir + 'seed' + _seed + '_' + _csv + '.csv',\n",
    "                                                names=col_names,\n",
    "                                                encoding='Shift_JISx0213')\n",
    "            \n",
    "            for _area in area_list:\n",
    "                df_area = create_next_move_area(df, _area)\n",
    "                df_area.to_csv(root_dir + 'next_move_area_od_from_' + _csv + '/' + _dir + 'seed' + _seed + '_' + _csv + _area + '.csv', index=False)\n",
    "                csv_array[_dir][_seed][_csv][_area] = df_area\n",
    "            print(_dir + 'seed' + _seed + '_' + _csv)"
   ]
  },
  {
   "cell_type": "code",
   "execution_count": null,
   "metadata": {},
   "outputs": [],
   "source": []
  }
 ],
 "metadata": {
  "kernelspec": {
   "display_name": "Python 3",
   "language": "python",
   "name": "python3"
  },
  "language_info": {
   "codemirror_mode": {
    "name": "ipython",
    "version": 3
   },
   "file_extension": ".py",
   "mimetype": "text/x-python",
   "name": "python",
   "nbconvert_exporter": "python",
   "pygments_lexer": "ipython3",
   "version": "3.6.6"
  }
 },
 "nbformat": 4,
 "nbformat_minor": 2
}
