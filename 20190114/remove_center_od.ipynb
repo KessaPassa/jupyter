{
 "cells": [
  {
   "cell_type": "code",
   "execution_count": 52,
   "metadata": {},
   "outputs": [],
   "source": [
    "import pandas as pd\n",
    "import numpy as np\n",
    "from matplotlib import pyplot as plt"
   ]
  },
  {
   "cell_type": "code",
   "execution_count": 53,
   "metadata": {},
   "outputs": [],
   "source": [
    "root_dir = '/Users/kessapassa/OneDrive/research_log/20190114/'"
   ]
  },
  {
   "cell_type": "code",
   "execution_count": 54,
   "metadata": {},
   "outputs": [],
   "source": [
    "dir_list = ['people10000', 'people20000', 'people30000']\n",
    "seed_list = [str(123 + i) for i in range(3)]\n",
    "csv_list = ['od']"
   ]
  },
  {
   "cell_type": "code",
   "execution_count": 55,
   "metadata": {},
   "outputs": [],
   "source": [
    "csv_array = {}\n",
    "for _dir in dir_list:\n",
    "    csv_array[_dir] = {}\n",
    "    for _seed in seed_list:\n",
    "        csv_array[_dir][_seed] = {}\n",
    "        for _csv in csv_list:\n",
    "            df = pd.read_csv(root_dir + 'converted_road_to_area_od/' + _dir + 'seed' + _seed + _csv + '.csv')\n",
    "            csv_array[_dir][_seed][_csv] = df"
   ]
  },
  {
   "cell_type": "code",
   "execution_count": 58,
   "metadata": {},
   "outputs": [
    {
     "data": {
      "text/plain": [
       "(17711, 19)"
      ]
     },
     "execution_count": 58,
     "metadata": {},
     "output_type": "execute_result"
    }
   ],
   "source": [
    "people = 'people30000'\n",
    "seed = '123'\n",
    "csv = 'od'\n",
    "df = csv_array[people][seed][csv].copy()\n",
    "df.shape"
   ]
  },
  {
   "cell_type": "code",
   "execution_count": 6,
   "metadata": {},
   "outputs": [],
   "source": [
    "def create_origin_destination(df):\n",
    "    df_base = pd.DataFrame(columns=['origin', 'destination'])\n",
    "    \n",
    "    for row in df.values.tolist():\n",
    "        row = [x for x in row if not np.isnan(x)]\n",
    "        df_row = pd.DataFrame([[row[0], row[-1]]], columns=df_base.columns)\n",
    "        df_base = pd.concat([df_base, df_row])\n",
    "\n",
    "    df_base.reset_index(drop=True, inplace=True)\n",
    "    return df_base"
   ]
  },
  {
   "cell_type": "code",
   "execution_count": 7,
   "metadata": {},
   "outputs": [],
   "source": [
    "# df = df.dropna(how='all')\n",
    "# create_origin_destination(df)"
   ]
  },
  {
   "cell_type": "code",
   "execution_count": 8,
   "metadata": {},
   "outputs": [],
   "source": [
    "# for _dir in dir_list:\n",
    "#     for _seed in seed_list:\n",
    "#         for _csv in csv_list:\n",
    "#             df = csv_array[_dir][_seed][_csv].copy()\n",
    "#             df = df.dropna(how='all')\n",
    "#             df = create_origin_destination(df)\n",
    "# #             csv_array[_dir][_seed][_csv] = df\n",
    "# #             df.to_csv(root_dir + 'origin_destination_od/' + _dir + 'seed' + _seed + _csv + '.csv', index=False)"
   ]
  },
  {
   "cell_type": "code",
   "execution_count": 9,
   "metadata": {},
   "outputs": [],
   "source": [
    "def create_2d(df, col_name):\n",
    "    df_area = pd.DataFrame(np.zeros((81, 2)), columns=['area', 'people'])\n",
    "    df_area['area'] = [float(i) for i in range(81)]\n",
    "    \n",
    "    for r in df.loc[:, col_name]:\n",
    "        df_area.loc[r, 'people'] += 1\n",
    "    \n",
    "    return df_area"
   ]
  },
  {
   "cell_type": "code",
   "execution_count": 10,
   "metadata": {},
   "outputs": [],
   "source": [
    "# csv_array = {}\n",
    "# for _dir in dir_list:\n",
    "#     csv_array[_dir] = {}\n",
    "#     for _seed in seed_list:\n",
    "#         csv_array[_dir][_seed] = {}\n",
    "#         for _csv in csv_list:\n",
    "#             csv_array[_dir][_seed][_csv] = {}\n",
    "            \n",
    "#             df = pd.read_csv(root_dir + 'origin_destination_od/' + _dir + 'seed' + _seed + _csv + '.csv')\n",
    "#             for _col in ['origin', 'destination']:\n",
    "#                 df_2d = create_2d(df, _col)\n",
    "#                 csv_array[_dir][_seed][_csv][_col] = df_2d\n",
    "# #                 df_2d.to_csv(root_dir + 'origin_destination_od_2D/' + _dir + 'seed' + _seed + _csv + '_' + _col + '.csv')"
   ]
  },
  {
   "cell_type": "code",
   "execution_count": 11,
   "metadata": {},
   "outputs": [],
   "source": [
    "# for _dir in dir_list:\n",
    "#     for _seed in seed_list:\n",
    "#         for _csv in csv_list:\n",
    "#             for _col in ['origin', 'destination']:\n",
    "#                 df = pd.read_csv(root_dir + 'origin_destination_od_2D/' + _dir + 'seed' + _seed + _csv + '_' + _col + '.csv')\n",
    "\n",
    "#                 df_new = pd.DataFrame()\n",
    "#                 for i in range(9):\n",
    "#                     tmp = df.loc[i*9:i*9+8, 'people']\n",
    "#                     tmp.reset_index(drop=True, inplace=True)\n",
    "#                     df_new = pd.concat([df_new, tmp], axis=1)\n",
    "\n",
    "#                 df_new = df_new.T\n",
    "#                 df_new.columns=(['{0:02d}'.format(i*10) for i in range(9)])\n",
    "#                 df_new.index=([str(i) for i in range(9)])\n",
    "#                 df = df_new\n",
    "#                 print(_dir, _seed, _col)\n",
    "#                 print(df.sum().sum())\n",
    "# #                 df.to_csv(root_dir + 'origin_destination_od_3D/' + _dir + 'seed' + _seed + _csv + '_' + _col + '.csv')"
   ]
  },
  {
   "cell_type": "code",
   "execution_count": 12,
   "metadata": {},
   "outputs": [],
   "source": [
    "csv_array_2d = {}\n",
    "for _dir in dir_list:\n",
    "    csv_array_2d[_dir] = {}\n",
    "    for _seed in seed_list:\n",
    "        csv_array_2d[_dir][_seed] = {}\n",
    "        for _csv in csv_list:\n",
    "            csv_array_2d[_dir][_seed][_csv] = {}\n",
    "            for _col in ['origin', 'destination']:\n",
    "                df = pd.read_csv(root_dir + 'origin_destination_od_2D/' + _dir + 'seed' + _seed + _csv + '_' + _col + '.csv', index_col=0)\n",
    "                csv_array_2d[_dir][_seed][_csv][_col] = df"
   ]
  },
  {
   "cell_type": "code",
   "execution_count": 13,
   "metadata": {},
   "outputs": [],
   "source": [
    "def area_to_contour(area_id):\n",
    "    area_one_length = 9\n",
    "    area_id = int(area_id)\n",
    "    left = str(area_id // area_one_length)\n",
    "    right = str(area_id % area_one_length) + '0'\n",
    "    return left+right"
   ]
  },
  {
   "cell_type": "code",
   "execution_count": 21,
   "metadata": {},
   "outputs": [
    {
     "data": {
      "text/plain": [
       "12265.0"
      ]
     },
     "execution_count": 21,
     "metadata": {},
     "output_type": "execute_result"
    }
   ],
   "source": [
    "df = csv_array_2d[people][seed][csv]['origin'].copy()\n",
    "df['area'] = df['area'].apply(area_to_contour)\n",
    "df.sort_values(['people'], ascending=False)\n",
    "df['people'].sum()"
   ]
  },
  {
   "cell_type": "code",
   "execution_count": 15,
   "metadata": {},
   "outputs": [],
   "source": [
    "csv_array_3d = {}\n",
    "for _dir in dir_list:\n",
    "    csv_array_3d[_dir] = {}\n",
    "    for _seed in seed_list:\n",
    "        csv_array_3d[_dir][_seed] = {}\n",
    "        for _csv in csv_list:\n",
    "            csv_array_3d[_dir][_seed][_csv] = {}\n",
    "            for _col in ['origin', 'destination']:\n",
    "                df = pd.read_csv(root_dir + 'origin_destination_od_3D/' + _dir + 'seed' + _seed + _csv + '_' + _col + '.csv', index_col=0)\n",
    "                csv_array_3d[_dir][_seed][_csv][_col] = df"
   ]
  },
  {
   "cell_type": "code",
   "execution_count": 31,
   "metadata": {},
   "outputs": [],
   "source": [
    "import seaborn as sns\n",
    "def create_contour(df, file_name=False):\n",
    "    plt.figure(figsize=(9,6))\n",
    "    if file_name:\n",
    "        plt.figure(figsize=(9,6), dpi=600)\n",
    "\n",
    "    sns.heatmap(df, annot=True, fmt='.0f', cmap='RdYlGn_r',\n",
    "               vmax=df.sum().mean(), vmin=0)\n",
    "    if file_name:\n",
    "        plt.savefig('{0}.png'.format(file_name))"
   ]
  },
  {
   "cell_type": "code",
   "execution_count": 49,
   "metadata": {},
   "outputs": [],
   "source": [
    "people = 'people30000'\n",
    "seed = '123'"
   ]
  },
  {
   "cell_type": "code",
   "execution_count": 50,
   "metadata": {},
   "outputs": [
    {
     "name": "stdout",
     "output_type": "stream",
     "text": [
      "17538.0\n"
     ]
    },
    {
     "data": {
      "image/png": "[encoded data removed]",
      "text/plain": [
       "<Figure size 648x432 with 2 Axes>"
      ]
     },
     "metadata": {
      "needs_background": "light"
     },
     "output_type": "display_data"
    }
   ],
   "source": [
    "df = csv_array_3d[people][seed][csv]['origin'].copy()\n",
    "df = df.sort_index(ascending=False)\n",
    "print(df.sum().sum())\n",
    "create_contour(df)\n",
    "# create_contour(df, '{0}seed{1}_{2}_for_mobile_origin'.format(people, seed, csv))"
   ]
  },
  {
   "cell_type": "code",
   "execution_count": 51,
   "metadata": {},
   "outputs": [
    {
     "name": "stdout",
     "output_type": "stream",
     "text": [
      "17538.0\n"
     ]
    },
    {
     "data": {
      "image/png": "[encoded data removed]",
      "text/plain": [
       "<Figure size 648x432 with 2 Axes>"
      ]
     },
     "metadata": {
      "needs_background": "light"
     },
     "output_type": "display_data"
    }
   ],
   "source": [
    "df = csv_array_3d[people][seed][csv]['destination'].copy()\n",
    "df = df.sort_index(ascending=False)\n",
    "print(df.sum().sum())\n",
    "create_contour(df)\n",
    "# create_contour(df, '{0}seed{1}_{2}_for_mobile_destination'.format(people, seed, csv))"
   ]
  },
  {
   "cell_type": "code",
   "execution_count": null,
   "metadata": {},
   "outputs": [],
   "source": []
  }
 ],
 "metadata": {
  "kernelspec": {
   "display_name": "Python 3",
   "language": "python",
   "name": "python3"
  },
  "language_info": {
   "codemirror_mode": {
    "name": "ipython",
    "version": 3
   },
   "file_extension": ".py",
   "mimetype": "text/x-python",
   "name": "python",
   "nbconvert_exporter": "python",
   "pygments_lexer": "ipython3",
   "version": "3.6.6"
  }
 },
 "nbformat": 4,
 "nbformat_minor": 2
}
