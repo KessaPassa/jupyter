{
 "cells": [
  {
   "cell_type": "code",
   "execution_count": 1,
   "metadata": {},
   "outputs": [],
   "source": [
    "import pandas as pd\n",
    "import numpy as np\n",
    "from matplotlib import pyplot as plt"
   ]
  },
  {
   "cell_type": "code",
   "execution_count": 2,
   "metadata": {},
   "outputs": [],
   "source": [
    "root_dir = '/Users/kessapassa/OneDrive/research_log/20190114/'"
   ]
  },
  {
   "cell_type": "code",
   "execution_count": 3,
   "metadata": {},
   "outputs": [],
   "source": [
    "dir_list = ['people10000', 'people20000', 'people30000']\n",
    "seed_list = [str(123 + i) for i in range(3)]\n",
    "csv_list = ['od']\n",
    "area_list = [str(i) for i in range(81)]\n",
    "col_names = [ 'c{0:02d}'.format(i) for i in range(30)]"
   ]
  },
  {
   "cell_type": "code",
   "execution_count": 4,
   "metadata": {},
   "outputs": [],
   "source": [
    "csv_array = {}\n",
    "for _dir in dir_list:\n",
    "    csv_array[_dir] = {}\n",
    "    for _seed in seed_list:\n",
    "        csv_array[_dir][_seed] = {}\n",
    "        for _csv in csv_list:\n",
    "            df = pd.read_csv(root_dir + 'Origin/' + _dir + 'seed' + _seed + '_' + _csv + '.csv',\n",
    "                                                names=col_names,\n",
    "                                                encoding='Shift_JISx0213')\n",
    "            df.replace(' ', np.NaN, inplace=True)\n",
    "            df.dropna(how='all', axis=1, inplace=True)\n",
    "            df = df.applymap(lambda x: (x.split('(census)')[0]) if (type(x) is str) and ('(census)' in x) else x)\n",
    "            csv_array[_dir][_seed][_csv] = df"
   ]
  },
  {
   "cell_type": "code",
   "execution_count": 5,
   "metadata": {},
   "outputs": [],
   "source": [
    "road_to_area = {}\n",
    "def create_road_to_area(road, area):\n",
    "    road_to_area[road] = float(area)\n",
    "    \n",
    "for _dir in dir_list:\n",
    "    for _seed in seed_list:\n",
    "        for _csv in ['census']:\n",
    "            df = pd.read_csv(root_dir + 'include_area_-1/' + _dir + 'seed' + _seed + '_' + _csv + '.csv',\n",
    "                                                encoding='Shift_JISx0213')\n",
    "            df = df.loc[:, ['road', 'area']]\n",
    "            for row in np.asanyarray(df):\n",
    "                create_road_to_area(row[0], row[1])\n",
    "road_to_area[np.nan] = np.nan"
   ]
  },
  {
   "cell_type": "code",
   "execution_count": 6,
   "metadata": {
    "scrolled": true
   },
   "outputs": [],
   "source": [
    "# df = df.dropna(how='all')\n",
    "# df = df.applymap(lambda x: road_to_area[x])\n",
    "# df.head()"
   ]
  },
  {
   "cell_type": "code",
   "execution_count": 7,
   "metadata": {},
   "outputs": [],
   "source": [
    "dellist = lambda items, indexes: [item for index, item in enumerate(items) if index not in indexes]\n",
    "\n",
    "def remove_and_fill_none_area(series):\n",
    "    row = series.values.tolist()\n",
    "    if -1 in row:\n",
    "        # -1のindexをリストで取得\n",
    "        index_list = [i for i, x in enumerate(row) if x == -1]\n",
    "        # popと同じような原理で削除し横詰め\n",
    "        row = dellist(row, index_list)\n",
    "        # 削除した分、ズレが生じるので最後尾に消した数のNaNを追加\n",
    "        row.extend([np.nan for i in range(len(index_list))])\n",
    "        \n",
    "        return pd.Series(row, index=series.index)\n",
    "    else:\n",
    "        return series"
   ]
  },
  {
   "cell_type": "code",
   "execution_count": 8,
   "metadata": {
    "scrolled": true
   },
   "outputs": [],
   "source": [
    "# df['count'] = df.T.apply(lambda x: x.count())\n",
    "# df = df.sort_values(['count'], ascending=False)\n",
    "# df.reset_index(drop=True, inplace=True)\n",
    "# df.head()"
   ]
  },
  {
   "cell_type": "code",
   "execution_count": 9,
   "metadata": {},
   "outputs": [],
   "source": [
    "for _dir in dir_list:\n",
    "    for _seed in seed_list:\n",
    "        for _csv in csv_list:\n",
    "            df = csv_array[_dir][_seed][_csv].copy()\n",
    "#             df = df.dropna(how='all')\n",
    "            df.iloc[:, 3:] = df.iloc[:, 3:].applymap(lambda x: road_to_area[x])\n",
    "            df = df[df.loc[:, 'c03'] >= 0]\n",
    "            dfT = df.T\n",
    "            dfT = dfT.apply(remove_and_fill_none_area)\n",
    "            df = dfT.T\n",
    "            df.reset_index(drop=True, inplace=True)\n",
    "#             df = pd.concat([df_id, df], axis=1)\n",
    "            df = df.rename(columns={'c00': 'id'})\n",
    "            df = df.sort_values(['id'])\n",
    "            df = df.drop(['c01', 'c02'], axis=1)\n",
    "            csv_array[_dir][_seed][_csv] = df\n",
    "            df.to_csv(root_dir + 'converted_road_to_area_od/' + _dir + 'seed' + _seed + '_' +  _csv + '.csv', index=False)"
   ]
  },
  {
   "cell_type": "code",
   "execution_count": 10,
   "metadata": {},
   "outputs": [
    {
     "ename": "NameError",
     "evalue": "name 'erf' is not defined",
     "output_type": "error",
     "traceback": [
      "\u001b[0;31m---------------------------------------------------------------------------\u001b[0m",
      "\u001b[0;31mNameError\u001b[0m                                 Traceback (most recent call last)",
      "\u001b[0;32m<ipython-input-10-0742120f682f>\u001b[0m in \u001b[0;36m<module>\u001b[0;34m\u001b[0m\n\u001b[0;32m----> 1\u001b[0;31m \u001b[0merf\u001b[0m\u001b[0;34m\u001b[0m\u001b[0m\n\u001b[0m",
      "\u001b[0;31mNameError\u001b[0m: name 'erf' is not defined"
     ]
    }
   ],
   "source": [
    "erf"
   ]
  },
  {
   "cell_type": "code",
   "execution_count": null,
   "metadata": {},
   "outputs": [],
   "source": [
    "def create_next_move_area(df, area):\n",
    "    area = float(area)\n",
    "    df_area = pd.DataFrame(np.zeros((81, 2)), columns=['area', 'people'])\n",
    "    df_area['area'] = [float(i) for i in range(81)]\n",
    "    \n",
    "    for row in df.values.tolist():\n",
    "        if area in row:\n",
    "            index = row.index(area)\n",
    "            if (len(row) > index+1) and (not np.isnan(row[index+1])):\n",
    "                df_area.loc[df_area['area'] == row[index+1], 'people'] += 1\n",
    "                    \n",
    "    return df_area"
   ]
  },
  {
   "cell_type": "code",
   "execution_count": null,
   "metadata": {
    "scrolled": false
   },
   "outputs": [],
   "source": [
    "move_array = {}\n",
    "for _dir in dir_list:\n",
    "    move_array[_dir] = {}\n",
    "    for _seed in seed_list:\n",
    "        move_array[_dir][_seed] = {}\n",
    "        for _csv in csv_list:\n",
    "            move_array[_dir][_seed][_csv] = {}\n",
    "            df = csv_array[_dir][_seed][_csv].copy()\n",
    "            \n",
    "            for _area in area_list:\n",
    "                df_area = create_next_move_area(df, _area)\n",
    "#                 df_area.to_csv(root_dir + 'next_move_area_od/' + _dir + 'seed' + _seed + '_' + _csv + _area + '.csv', index=False)\n",
    "                move_array[_dir][_seed][_csv][_area] = df_area\n",
    "            print(_dir + 'seed' + _seed + '_' + _csv)"
   ]
  },
  {
   "cell_type": "code",
   "execution_count": null,
   "metadata": {
    "scrolled": true
   },
   "outputs": [],
   "source": [
    "def create_2d(df):\n",
    "    df_base = pd.DataFrame(np.zeros((81, 2)), columns=['area', 'people'])\n",
    "    df_base['area'] = [i for i in range(81)]\n",
    "\n",
    "    for row in df.values.tolist():\n",
    "        row = [x for x in row if not np.isnan(x)]\n",
    "        for r in row:\n",
    "            df_base.loc[r, 'people'] += 1\n",
    "            \n",
    "    return df_base"
   ]
  },
  {
   "cell_type": "code",
   "execution_count": null,
   "metadata": {},
   "outputs": [],
   "source": [
    "csv_array_2d = {}\n",
    "for _dir in dir_list:\n",
    "    csv_array_2d[_dir] = {}\n",
    "    for _seed in seed_list:\n",
    "        csv_array_2d[_dir][_seed] = {}\n",
    "        for _csv in csv_list:\n",
    "            df = csv_array[_dir][_seed][_csv].copy()\n",
    "            df = create_2d(df)\n",
    "            csv_array_2d[_dir][_seed][_csv] = df\n",
    "#             df.to_csv(root_dir + 'OD_2D/' + _dir + 'seed' + _seed + _csv + '.csv')"
   ]
  },
  {
   "cell_type": "code",
   "execution_count": null,
   "metadata": {},
   "outputs": [],
   "source": [
    "df = pd.read_csv(root_dir + 'OD_2D/' + 'people30000' + 'seed' + '123' + 'od' + '.csv',\n",
    "                            index_col=0)\n",
    "df_new = pd.DataFrame()\n",
    "for i in range(9):\n",
    "    tmp = df.loc[i*9:i*9+8, 'people']\n",
    "    tmp.reset_index(drop=True, inplace=True)\n",
    "    df_new = pd.concat([df_new, tmp], axis=1)\n",
    "    \n",
    "df_new = df_new.T\n",
    "df_new.columns=(['{0:02d}'.format(i*10) for i in range(9)])\n",
    "df_new.index=([str(i) for i in range(9)])\n",
    "df_new = df_new.sort_index(ascending=False)\n",
    "df_new"
   ]
  },
  {
   "cell_type": "code",
   "execution_count": null,
   "metadata": {},
   "outputs": [],
   "source": [
    "for _dir in dir_list:\n",
    "    for _seed in seed_list:\n",
    "        for _csv in csv_list:\n",
    "            df = pd.read_csv(root_dir + 'OD_2D/' + _dir + 'seed' + _seed + _csv + '.csv',\n",
    "                            index_col=0)\n",
    "            \n",
    "            df_new = pd.DataFrame()\n",
    "            for i in range(9):\n",
    "                tmp = df.loc[i*9:i*9+8, 'people']\n",
    "                tmp.reset_index(drop=True, inplace=True)\n",
    "                df_new = pd.concat([df_new, tmp], axis=1)\n",
    "            \n",
    "            df_new = df_new.T\n",
    "            df_new.columns=(['{0:02d}'.format(i*10) for i in range(9)])\n",
    "            df_new.index=([str(i) for i in range(9)])\n",
    "#             df_new = df_new.sort_index(ascending=False)\n",
    "            df = df_new\n",
    "            print(_dir, _seed)\n",
    "            print(df.sum().sum())\n",
    "#             df.to_csv(root_dir + 'OD_3D/' + _dir + 'seed' + _seed + _csv + '.csv', index=False)"
   ]
  },
  {
   "cell_type": "code",
   "execution_count": null,
   "metadata": {},
   "outputs": [],
   "source": [
    "csv_array_3d = {}\n",
    "for _dir in dir_list:\n",
    "    csv_array_3d[_dir] = {}\n",
    "    for _seed in seed_list:\n",
    "        csv_array_3d[_dir][_seed] = {}\n",
    "        for _csv in csv_list:\n",
    "            df = pd.read_csv(root_dir + 'OD_3D/' + _dir + 'seed' + _seed + _csv + '.csv')\n",
    "            csv_array_3d[_dir][_seed][_csv] = df"
   ]
  },
  {
   "cell_type": "code",
   "execution_count": null,
   "metadata": {},
   "outputs": [],
   "source": [
    "import seaborn as sns\n",
    "def create_contour(df, file_name=False):\n",
    "    plt.figure(figsize=(9,6))\n",
    "    if file_name:\n",
    "        plt.figure(figsize=(9,6), dpi=600)\n",
    "\n",
    "    sns.heatmap(df, annot=True, fmt='.0f', cmap='RdYlGn_r',\n",
    "               vmax=df.sum().mean(), vmin=0)\n",
    "    if file_name:\n",
    "        plt.savefig('{0}.png'.format(file_name))"
   ]
  },
  {
   "cell_type": "code",
   "execution_count": null,
   "metadata": {},
   "outputs": [],
   "source": [
    "people = 'people30000'\n",
    "seed = '123'\n",
    "csv = 'od'\n",
    "df = csv_array_3d[people][seed][csv].copy()\n",
    "df = df.sort_index(ascending=False)\n",
    "print(df.sum().sum())\n",
    "# create_contour(df, '{0}seed{1}_{2}_for_census'.format(people, seed, csv))\n",
    "create_contour(df)"
   ]
  },
  {
   "cell_type": "code",
   "execution_count": null,
   "metadata": {},
   "outputs": [],
   "source": [
    "csv_array_2d = {}\n",
    "for _dir in dir_list:\n",
    "    csv_array_2d[_dir] = {}\n",
    "    for _seed in seed_list:\n",
    "        csv_array_2d[_dir][_seed] = {}\n",
    "        for _csv in csv_list:\n",
    "            df = pd.read_csv(root_dir + 'OD_2D/' + _dir + 'seed' + _seed + _csv + '.csv', index_col=0)\n",
    "            csv_array_2d[_dir][_seed][_csv] = df"
   ]
  },
  {
   "cell_type": "code",
   "execution_count": null,
   "metadata": {},
   "outputs": [],
   "source": [
    "def area_to_contour(area_id):\n",
    "    area_one_length = 9\n",
    "    area_id = int(area_id)\n",
    "    left = str(area_id // area_one_length)\n",
    "    right = str(area_id % area_one_length) + '0'\n",
    "    return left+right"
   ]
  },
  {
   "cell_type": "code",
   "execution_count": null,
   "metadata": {},
   "outputs": [],
   "source": [
    "df = csv_array_2d[people][seed][csv].copy()\n",
    "df['area'] = df['area'].apply(area_to_contour)\n",
    "df.sort_values(['people'], ascending=False)"
   ]
  },
  {
   "cell_type": "code",
   "execution_count": null,
   "metadata": {},
   "outputs": [],
   "source": []
  }
 ],
 "metadata": {
  "kernelspec": {
   "display_name": "Python 3",
   "language": "python",
   "name": "python3"
  },
  "language_info": {
   "codemirror_mode": {
    "name": "ipython",
    "version": 3
   },
   "file_extension": ".py",
   "mimetype": "text/x-python",
   "name": "python",
   "nbconvert_exporter": "python",
   "pygments_lexer": "ipython3",
   "version": "3.6.6"
  }
 },
 "nbformat": 4,
 "nbformat_minor": 2
}
