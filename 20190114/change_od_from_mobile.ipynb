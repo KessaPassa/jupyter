{
 "cells": [
  {
   "cell_type": "code",
   "execution_count": 1,
   "metadata": {},
   "outputs": [],
   "source": [
    "import pandas as pd\n",
    "import numpy as np\n",
    "from matplotlib import pyplot as plt"
   ]
  },
  {
   "cell_type": "code",
   "execution_count": 2,
   "metadata": {},
   "outputs": [],
   "source": [
    "root_dir = '/Users/kessapassa/OneDrive/research_log/20190114/'"
   ]
  },
  {
   "cell_type": "code",
   "execution_count": 3,
   "metadata": {},
   "outputs": [],
   "source": [
    "dir_list = ['people10000', 'people20000', 'people30000']\n",
    "seed_list = [str(123 + i) for i in range(3)]\n",
    "csv_list = ['mobile']\n",
    "area_list = [str(i) for i in range(81)]"
   ]
  },
  {
   "cell_type": "code",
   "execution_count": 20,
   "metadata": {},
   "outputs": [],
   "source": [
    "csv_array = {}\n",
    "for _dir in dir_list:\n",
    "    csv_array[_dir] = {}\n",
    "    for _seed in seed_list:\n",
    "        csv_array[_dir][_seed] = {}\n",
    "        for _csv in csv_list:\n",
    "            df = pd.read_csv(root_dir + 'od_from_mobile/' + _dir + 'seed' + _seed + '_' + _csv + '.csv',\n",
    "                                                    encoding='Shift_JISx0213')\n",
    "            df = df.iloc[:, 1:]\n",
    "            csv_array[_dir][_seed][_csv] = df "
   ]
  },
  {
   "cell_type": "code",
   "execution_count": 21,
   "metadata": {},
   "outputs": [],
   "source": [
    "def create_next_move_area(df, area):\n",
    "    area = float(area)\n",
    "    df_area = pd.DataFrame(np.zeros((81, 2)), columns=['area', 'people'])\n",
    "    df_area['area'] = [float(i) for i in range(81)]\n",
    "    \n",
    "    for row in df.values.tolist():\n",
    "        if area in row:\n",
    "            index = row.index(area)\n",
    "            if (len(row) > index+1) and (not np.isnan(row[index+1])):\n",
    "                df_area.loc[df_area['area'] == row[index+1], 'people'] += 1\n",
    "                    \n",
    "    return df_area"
   ]
  },
  {
   "cell_type": "code",
   "execution_count": 22,
   "metadata": {
    "scrolled": true
   },
   "outputs": [],
   "source": [
    "# move_array = {}\n",
    "# for _dir in dir_list:\n",
    "#     move_array[_dir] = {}\n",
    "#     for _seed in seed_list:\n",
    "#         move_array[_dir][_seed] = {}\n",
    "#         for _csv in csv_list:\n",
    "#             move_array[_dir][_seed][_csv] = {}\n",
    "#             df = csv_array[_dir][_seed][_csv].copy()\n",
    "            \n",
    "#             for _area in area_list:\n",
    "#                 df_area = create_next_move_area(df, _area)\n",
    "# #                 df_area.to_csv(root_dir + 'next_move_area_od_from_mobile/' + _dir + 'seed' + _seed + '_' + _csv + _area + '.csv', index=False)\n",
    "#                 move_array[_dir][_seed][_csv][_area] = df_area\n",
    "#             print(_dir + 'seed' + _seed + '_' + _csv)"
   ]
  },
  {
   "cell_type": "code",
   "execution_count": 25,
   "metadata": {},
   "outputs": [],
   "source": [
    "def create_2d(df):\n",
    "    df_base = pd.DataFrame(np.zeros((81, 2)), columns=['area', 'people'])\n",
    "    df_base['area'] = [i for i in range(81)]\n",
    "\n",
    "    for row in df.values.tolist():\n",
    "        row = [x for x in row if not np.isnan(x)]\n",
    "        for r in row:\n",
    "            df_base.loc[r, 'people'] += 1\n",
    "            \n",
    "    return df_base"
   ]
  },
  {
   "cell_type": "code",
   "execution_count": 27,
   "metadata": {},
   "outputs": [],
   "source": [
    "csv_array_2d = {}\n",
    "for _dir in dir_list:\n",
    "    csv_array_2d[_dir] = {}\n",
    "    for _seed in seed_list:\n",
    "        csv_array_2d[_dir][_seed] = {}\n",
    "        for _csv in csv_list:\n",
    "            df = csv_array[_dir][_seed][_csv].copy()\n",
    "            df = create_2d(df)\n",
    "            csv_array_2d[_dir][_seed][_csv] = df\n",
    "#             df.to_csv(root_dir + 'od_from_mobile_2D/' + _dir + 'seed' + _seed + '_' + _csv + '.csv', index=False)"
   ]
  },
  {
   "cell_type": "code",
   "execution_count": 31,
   "metadata": {},
   "outputs": [
    {
     "name": "stdout",
     "output_type": "stream",
     "text": [
      "people10000 123\n",
      "8173.0\n",
      "people10000 124\n",
      "7964.0\n",
      "people10000 125\n",
      "7958.0\n",
      "people20000 123\n",
      "17013.0\n",
      "people20000 124\n",
      "17260.0\n",
      "people20000 125\n",
      "16869.0\n",
      "people30000 123\n",
      "24856.0\n",
      "people30000 124\n",
      "26558.0\n",
      "people30000 125\n",
      "26006.0\n"
     ]
    }
   ],
   "source": [
    "for _dir in dir_list:\n",
    "    for _seed in seed_list:\n",
    "        for _csv in csv_list:\n",
    "            df = pd.read_csv(root_dir + 'od_from_mobile_2D/' + _dir + 'seed' + _seed + '_' + _csv + '.csv',\n",
    "                            index_col=0)\n",
    "            \n",
    "            df_new = pd.DataFrame()\n",
    "            for i in range(9):\n",
    "                tmp = df.loc[i*9:i*9+8, 'people']\n",
    "                tmp.reset_index(drop=True, inplace=True)\n",
    "                df_new = pd.concat([df_new, tmp], axis=1)\n",
    "            \n",
    "            df_new = df_new.T\n",
    "            df_new.columns=(['{0:02d}'.format(i*10) for i in range(9)])\n",
    "            df_new.index=([str(i) for i in range(9)])\n",
    "#             df_new = df_new.sort_index(ascending=False)\n",
    "            df = df_new\n",
    "            print(_dir, _seed)\n",
    "            print(df.sum().sum())\n",
    "#             df.to_csv(root_dir + 'od_from_mobile_3D/' + _dir + 'seed' + _seed + '_' + _csv + '.csv', index=False)"
   ]
  },
  {
   "cell_type": "code",
   "execution_count": 32,
   "metadata": {},
   "outputs": [],
   "source": [
    "csv_array = {}\n",
    "for _dir in dir_list:\n",
    "    csv_array[_dir] = {}\n",
    "    for _seed in seed_list:\n",
    "        csv_array[_dir][_seed] = {}\n",
    "        for _csv in csv_list:\n",
    "            df = pd.read_csv(root_dir + 'od_from_mobile_3D/' + _dir + 'seed' + _seed + '_' + _csv + '.csv',\n",
    "                                                    encoding='Shift_JISx0213')\n",
    "            csv_array[_dir][_seed][_csv] = df"
   ]
  },
  {
   "cell_type": "code",
   "execution_count": 34,
   "metadata": {},
   "outputs": [
    {
     "data": {
      "text/html": [
       "<div>\n",
       "<style scoped>\n",
       "    .dataframe tbody tr th:only-of-type {\n",
       "        vertical-align: middle;\n",
       "    }\n",
       "\n",
       "    .dataframe tbody tr th {\n",
       "        vertical-align: top;\n",
       "    }\n",
       "\n",
       "    .dataframe thead th {\n",
       "        text-align: right;\n",
       "    }\n",
       "</style>\n",
       "<table border=\"1\" class=\"dataframe\">\n",
       "  <thead>\n",
       "    <tr style=\"text-align: right;\">\n",
       "      <th></th>\n",
       "      <th>00</th>\n",
       "      <th>10</th>\n",
       "      <th>20</th>\n",
       "      <th>30</th>\n",
       "      <th>40</th>\n",
       "      <th>50</th>\n",
       "      <th>60</th>\n",
       "      <th>70</th>\n",
       "      <th>80</th>\n",
       "    </tr>\n",
       "  </thead>\n",
       "  <tbody>\n",
       "    <tr>\n",
       "      <th>8</th>\n",
       "      <td>0.0</td>\n",
       "      <td>0.0</td>\n",
       "      <td>0.0</td>\n",
       "      <td>4.0</td>\n",
       "      <td>111.0</td>\n",
       "      <td>11.0</td>\n",
       "      <td>4.0</td>\n",
       "      <td>10.0</td>\n",
       "      <td>0.0</td>\n",
       "    </tr>\n",
       "    <tr>\n",
       "      <th>7</th>\n",
       "      <td>0.0</td>\n",
       "      <td>0.0</td>\n",
       "      <td>39.0</td>\n",
       "      <td>48.0</td>\n",
       "      <td>203.0</td>\n",
       "      <td>77.0</td>\n",
       "      <td>132.0</td>\n",
       "      <td>5.0</td>\n",
       "      <td>0.0</td>\n",
       "    </tr>\n",
       "    <tr>\n",
       "      <th>6</th>\n",
       "      <td>0.0</td>\n",
       "      <td>5.0</td>\n",
       "      <td>18.0</td>\n",
       "      <td>122.0</td>\n",
       "      <td>1149.0</td>\n",
       "      <td>286.0</td>\n",
       "      <td>81.0</td>\n",
       "      <td>0.0</td>\n",
       "      <td>0.0</td>\n",
       "    </tr>\n",
       "    <tr>\n",
       "      <th>5</th>\n",
       "      <td>0.0</td>\n",
       "      <td>9.0</td>\n",
       "      <td>43.0</td>\n",
       "      <td>242.0</td>\n",
       "      <td>7063.0</td>\n",
       "      <td>3940.0</td>\n",
       "      <td>0.0</td>\n",
       "      <td>0.0</td>\n",
       "      <td>0.0</td>\n",
       "    </tr>\n",
       "    <tr>\n",
       "      <th>4</th>\n",
       "      <td>7.0</td>\n",
       "      <td>15.0</td>\n",
       "      <td>112.0</td>\n",
       "      <td>125.0</td>\n",
       "      <td>4069.0</td>\n",
       "      <td>4171.0</td>\n",
       "      <td>125.0</td>\n",
       "      <td>44.0</td>\n",
       "      <td>0.0</td>\n",
       "    </tr>\n",
       "    <tr>\n",
       "      <th>3</th>\n",
       "      <td>1.0</td>\n",
       "      <td>21.0</td>\n",
       "      <td>81.0</td>\n",
       "      <td>686.0</td>\n",
       "      <td>843.0</td>\n",
       "      <td>140.0</td>\n",
       "      <td>33.0</td>\n",
       "      <td>16.0</td>\n",
       "      <td>0.0</td>\n",
       "    </tr>\n",
       "    <tr>\n",
       "      <th>2</th>\n",
       "      <td>82.0</td>\n",
       "      <td>249.0</td>\n",
       "      <td>78.0</td>\n",
       "      <td>225.0</td>\n",
       "      <td>10.0</td>\n",
       "      <td>0.0</td>\n",
       "      <td>0.0</td>\n",
       "      <td>1.0</td>\n",
       "      <td>0.0</td>\n",
       "    </tr>\n",
       "    <tr>\n",
       "      <th>1</th>\n",
       "      <td>0.0</td>\n",
       "      <td>12.0</td>\n",
       "      <td>84.0</td>\n",
       "      <td>24.0</td>\n",
       "      <td>0.0</td>\n",
       "      <td>0.0</td>\n",
       "      <td>0.0</td>\n",
       "      <td>0.0</td>\n",
       "      <td>0.0</td>\n",
       "    </tr>\n",
       "    <tr>\n",
       "      <th>0</th>\n",
       "      <td>0.0</td>\n",
       "      <td>0.0</td>\n",
       "      <td>0.0</td>\n",
       "      <td>0.0</td>\n",
       "      <td>0.0</td>\n",
       "      <td>0.0</td>\n",
       "      <td>0.0</td>\n",
       "      <td>0.0</td>\n",
       "      <td>0.0</td>\n",
       "    </tr>\n",
       "  </tbody>\n",
       "</table>\n",
       "</div>"
      ],
      "text/plain": [
       "     00     10     20     30      40      50     60    70   80\n",
       "8   0.0    0.0    0.0    4.0   111.0    11.0    4.0  10.0  0.0\n",
       "7   0.0    0.0   39.0   48.0   203.0    77.0  132.0   5.0  0.0\n",
       "6   0.0    5.0   18.0  122.0  1149.0   286.0   81.0   0.0  0.0\n",
       "5   0.0    9.0   43.0  242.0  7063.0  3940.0    0.0   0.0  0.0\n",
       "4   7.0   15.0  112.0  125.0  4069.0  4171.0  125.0  44.0  0.0\n",
       "3   1.0   21.0   81.0  686.0   843.0   140.0   33.0  16.0  0.0\n",
       "2  82.0  249.0   78.0  225.0    10.0     0.0    0.0   1.0  0.0\n",
       "1   0.0   12.0   84.0   24.0     0.0     0.0    0.0   0.0  0.0\n",
       "0   0.0    0.0    0.0    0.0     0.0     0.0    0.0   0.0  0.0"
      ]
     },
     "execution_count": 34,
     "metadata": {},
     "output_type": "execute_result"
    }
   ],
   "source": [
    "people = 'people30000'\n",
    "seed = '123'\n",
    "csv = 'mobile'\n",
    "df = csv_array[people][seed][csv].copy()\n",
    "df = df.sort_index(ascending=False)\n",
    "df"
   ]
  },
  {
   "cell_type": "code",
   "execution_count": 41,
   "metadata": {},
   "outputs": [],
   "source": [
    "import seaborn as sns\n",
    "def create_contour(df, file_name=False):\n",
    "    plt.figure(figsize=(9,6))\n",
    "    if file_name:\n",
    "        plt.figure(figsize=(9,6), dpi=600)\n",
    "        \n",
    "    sns.heatmap(df, annot=True, fmt='.0f', cmap='RdYlGn_r',\n",
    "               vmax=df.sum().mean(), vmin=0)\n",
    "    if file_name:\n",
    "        plt.savefig('{0}.png'.format(file_name))"
   ]
  },
  {
   "cell_type": "code",
   "execution_count": 42,
   "metadata": {},
   "outputs": [
    {
     "data": {
      "image/png": "[encoded data removed]",
      "text/plain": [
       "<Figure size 648x432 with 2 Axes>"
      ]
     },
     "metadata": {
      "needs_background": "light"
     },
     "output_type": "display_data"
    }
   ],
   "source": [
    "create_contour(df)"
   ]
  },
  {
   "cell_type": "code",
   "execution_count": null,
   "metadata": {},
   "outputs": [],
   "source": []
  }
 ],
 "metadata": {
  "kernelspec": {
   "display_name": "Python 3",
   "language": "python",
   "name": "python3"
  },
  "language_info": {
   "codemirror_mode": {
    "name": "ipython",
    "version": 3
   },
   "file_extension": ".py",
   "mimetype": "text/x-python",
   "name": "python",
   "nbconvert_exporter": "python",
   "pygments_lexer": "ipython3",
   "version": "3.6.6"
  }
 },
 "nbformat": 4,
 "nbformat_minor": 2
}
