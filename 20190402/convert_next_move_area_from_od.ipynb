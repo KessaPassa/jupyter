{
 "cells": [
  {
   "cell_type": "code",
   "execution_count": 1,
   "metadata": {},
   "outputs": [],
   "source": [
    "import sys\n",
    "sys.path.append('../')\n",
    "import env"
   ]
  },
  {
   "cell_type": "code",
   "execution_count": 2,
   "metadata": {},
   "outputs": [],
   "source": [
    "import pandas as pd\n",
    "import numpy as np\n",
    "from matplotlib import pyplot as plt\n",
    "import seaborn as sns"
   ]
  },
  {
   "cell_type": "code",
   "execution_count": 3,
   "metadata": {},
   "outputs": [],
   "source": [
    "root_dir = '/Users/kessapassa/OneDrive/research_log/20190402/'"
   ]
  },
  {
   "cell_type": "code",
   "execution_count": 5,
   "metadata": {},
   "outputs": [],
   "source": [
    "def create_base_dataframe():\n",
    "    df = pd.DataFrame(columns=(['{0:02d}'.format(i*10) for i in range(area_one_length)]))\n",
    "    return df"
   ]
  },
  {
   "cell_type": "code",
   "execution_count": 6,
   "metadata": {},
   "outputs": [
    {
     "data": {
      "text/html": [
       "<div>\n",
       "<style scoped>\n",
       "    .dataframe tbody tr th:only-of-type {\n",
       "        vertical-align: middle;\n",
       "    }\n",
       "\n",
       "    .dataframe tbody tr th {\n",
       "        vertical-align: top;\n",
       "    }\n",
       "\n",
       "    .dataframe thead th {\n",
       "        text-align: right;\n",
       "    }\n",
       "</style>\n",
       "<table border=\"1\" class=\"dataframe\">\n",
       "  <thead>\n",
       "    <tr style=\"text-align: right;\">\n",
       "      <th></th>\n",
       "      <th>00</th>\n",
       "      <th>10</th>\n",
       "      <th>20</th>\n",
       "      <th>30</th>\n",
       "      <th>40</th>\n",
       "      <th>50</th>\n",
       "      <th>60</th>\n",
       "      <th>70</th>\n",
       "      <th>80</th>\n",
       "    </tr>\n",
       "  </thead>\n",
       "  <tbody>\n",
       "  </tbody>\n",
       "</table>\n",
       "</div>"
      ],
      "text/plain": [
       "Empty DataFrame\n",
       "Columns: [00, 10, 20, 30, 40, 50, 60, 70, 80]\n",
       "Index: []"
      ]
     },
     "execution_count": 6,
     "metadata": {},
     "output_type": "execute_result"
    }
   ],
   "source": [
    "create_base_dataframe()"
   ]
  },
  {
   "cell_type": "code",
   "execution_count": 7,
   "metadata": {},
   "outputs": [],
   "source": [
    "# エリア番号を線形的な数から、iとjで回した数のようにする\n",
    "def convert_area_to_contour(base, read):\n",
    "    for r in np.asanyarray(read):\n",
    "        area_id = int(r[0])\n",
    "        row = str(area_id // area_one_length)\n",
    "        col = str(area_id % area_one_length) + '0'\n",
    "        base.loc[row, col] = r[1]\n",
    "        \n",
    "    return base"
   ]
  },
  {
   "cell_type": "code",
   "execution_count": 8,
   "metadata": {},
   "outputs": [],
   "source": [
    "def area_to_contour(area_id):\n",
    "    area_id = int(area_id)\n",
    "    left = str(area_id // area_one_length)\n",
    "    right = str(area_id % area_one_length) + '0'\n",
    "    return left+right"
   ]
  },
  {
   "cell_type": "code",
   "execution_count": 13,
   "metadata": {},
   "outputs": [],
   "source": [
    "csv_array = {}\n",
    "def main(args, array):\n",
    "    for _area in env.AREA_LIST():\n",
    "        df = pd.read_csv(env.get_full_path('next_move_area', args, any=_area))\n",
    "        array[args.dir][args.ratio][args.seed][args.csv][_area] = df.copy()\n",
    "\n",
    "env.for_default_init(main, csv_array)"
   ]
  },
  {
   "cell_type": "code",
   "execution_count": 14,
   "metadata": {},
   "outputs": [],
   "source": [
    "def create_contour(df):\n",
    "#     plt.figure(figsize=(9,6))\n",
    "    sns.heatmap(df, annot=True, fmt='.0f', cmap='RdYlGn_r',\n",
    "               vmax=df.sum().mean())"
   ]
  },
  {
   "cell_type": "code",
   "execution_count": 37,
   "metadata": {},
   "outputs": [],
   "source": [
    "people = 'p30000'\n",
    "ratio = 'r6'\n",
    "seed = 's123'\n",
    "csv = 'od'\n",
    "area='40'"
   ]
  },
  {
   "cell_type": "code",
   "execution_count": 31,
   "metadata": {
    "scrolled": true
   },
   "outputs": [],
   "source": [
    "# df_area_sum = pd.DataFrame(columns=['area', 'sum'])\n",
    "# for area in [area_to_contour(i) for i in area_list]:\n",
    "#     df = pd.DataFrame([area, csv_array[people][seed][csv][area].sum().sum()], index=['area', 'sum']).T\n",
    "#     df_area_sum = pd.concat([df_area_sum, df])\n",
    "# df_area_sum.reset_index(drop=True, inplace=True)\n",
    "# df_area_sum = df_area_sum[df_area_sum['sum'] > 0]\n",
    "# df_area_sum.sort_values(by=['sum'], ascending=False)"
   ]
  },
  {
   "cell_type": "markdown",
   "metadata": {},
   "source": [
    "# コンター図"
   ]
  },
  {
   "cell_type": "code",
   "execution_count": 40,
   "metadata": {},
   "outputs": [
    {
     "data": {
      "image/png": "[encoded data removed]",
      "text/plain": [
       "<Figure size 432x288 with 2 Axes>"
      ]
     },
     "metadata": {
      "needs_background": "light"
     },
     "output_type": "display_data"
    }
   ],
   "source": [
    "area = '40'\n",
    "# print(csv_array[people][ratio][seed][csv][area].sum().sum())\n",
    "create_contour(csv_array[people][ratio][seed][csv][area])"
   ]
  },
  {
   "cell_type": "code",
   "execution_count": null,
   "metadata": {},
   "outputs": [],
   "source": [
    "area = '550'\n",
    "print(csv_array[people][seed][csv][area].sum().sum())\n",
    "create_contour(csv_array[people][seed][csv][area])"
   ]
  },
  {
   "cell_type": "code",
   "execution_count": null,
   "metadata": {},
   "outputs": [],
   "source": [
    "area = '540'\n",
    "print(csv_array[people][seed][csv][area].sum().sum())\n",
    "create_contour(csv_array[people][seed][csv][area])"
   ]
  },
  {
   "cell_type": "code",
   "execution_count": null,
   "metadata": {},
   "outputs": [],
   "source": [
    "area = '450'\n",
    "print(csv_array[people][seed][csv][area].sum().sum())\n",
    "create_contour(csv_array[people][seed][csv][area])"
   ]
  },
  {
   "cell_type": "code",
   "execution_count": null,
   "metadata": {},
   "outputs": [],
   "source": [
    "area = '640'\n",
    "print(csv_array[people][seed][csv][area].sum().sum())\n",
    "create_contour(csv_array[people][seed][csv][area])"
   ]
  },
  {
   "cell_type": "code",
   "execution_count": null,
   "metadata": {},
   "outputs": [],
   "source": [
    "area = '330'\n",
    "print(csv_array[people][seed][csv][area].sum().sum())\n",
    "create_contour(csv_array[people][seed][csv][area])"
   ]
  },
  {
   "cell_type": "code",
   "execution_count": null,
   "metadata": {},
   "outputs": [],
   "source": []
  }
 ],
 "metadata": {
  "kernelspec": {
   "display_name": "Python 3",
   "language": "python",
   "name": "python3"
  },
  "language_info": {
   "codemirror_mode": {
    "name": "ipython",
    "version": 3
   },
   "file_extension": ".py",
   "mimetype": "text/x-python",
   "name": "python",
   "nbconvert_exporter": "python",
   "pygments_lexer": "ipython3",
   "version": "3.6.8"
  }
 },
 "nbformat": 4,
 "nbformat_minor": 2
}
