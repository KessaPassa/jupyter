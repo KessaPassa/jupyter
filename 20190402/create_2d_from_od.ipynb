{
 "cells": [
  {
   "cell_type": "code",
   "execution_count": 1,
   "metadata": {},
   "outputs": [],
   "source": [
    "import pandas as pd\n",
    "import numpy as np\n",
    "from matplotlib import pyplot as plt"
   ]
  },
  {
   "cell_type": "code",
   "execution_count": 2,
   "metadata": {},
   "outputs": [],
   "source": [
    "area_list = [str(i) for i in range(81)]\n",
    "col_names = [ 'c{0:02d}'.format(i) for i in range(30)]"
   ]
  },
  {
   "cell_type": "code",
   "execution_count": 3,
   "metadata": {},
   "outputs": [],
   "source": [
    "from collections import namedtuple\n",
    "ARGS_FOR_LIST = namedtuple('FOR_LIST', ('dir', 'ratio', 'seed', 'csv'))\n",
    "\n",
    "def get_for_list():\n",
    "    dir_list = ['p10000', 'p20000', 'p30000']\n",
    "    ratio_list = ['r4', 'r5', 'r6']\n",
    "    seed_list = ['s'+str(123 + i) for i in range(1)]\n",
    "    csv_list = ['od']\n",
    "\n",
    "    return ARGS_FOR_LIST(dir_list, ratio_list, seed_list, csv_list)"
   ]
  },
  {
   "cell_type": "code",
   "execution_count": 4,
   "metadata": {},
   "outputs": [],
   "source": [
    "def get_read_path(name):\n",
    "    path = '/Users/kessapassa/OneDrive/research_log/20190402/' + name + '/'\n",
    "    return path\n",
    "\n",
    "def get_file_name(args):\n",
    "    return args.dir + args.ratio + args.seed + '_' + args.csv + '.csv'\n",
    "\n",
    "def get_full_path(name, args):\n",
    "    return get_read_path(name) + get_file_name(args)"
   ]
  },
  {
   "cell_type": "code",
   "execution_count": 5,
   "metadata": {},
   "outputs": [],
   "source": [
    "def get_full_area_path(name, args, area):\n",
    "    return get_read_path(name) + args.dir + args.ratio + args.seed + '_' + args.csv + area + '.csv'"
   ]
  },
  {
   "cell_type": "code",
   "execution_count": 6,
   "metadata": {},
   "outputs": [],
   "source": [
    "def for_default_init(func, array):\n",
    "    for_list = get_for_list()\n",
    "    \n",
    "    for _dir in for_list.dir:\n",
    "        array[_dir] = {}\n",
    "        \n",
    "        for _ratio in for_list.ratio:\n",
    "            array[_dir][_ratio] = {}\n",
    "            \n",
    "            for _seed in for_list.seed:\n",
    "                array[_dir][_ratio][_seed] = {}\n",
    "                \n",
    "                for _csv in for_list.csv:\n",
    "                    array[_dir][_ratio][_seed][_csv] = {}\n",
    "                    args = ARGS_FOR_LIST(_dir, _ratio, _seed, _csv)\n",
    "                    func(args, array)"
   ]
  },
  {
   "cell_type": "code",
   "execution_count": 7,
   "metadata": {},
   "outputs": [],
   "source": [
    "def for_default(func):\n",
    "    for_list = get_for_list()  \n",
    "    for _dir in for_list.dir:\n",
    "        for _ratio in for_list.ratio:\n",
    "            for _seed in for_list.seed:\n",
    "                for _csv in for_list.csv:\n",
    "                    args = ARGS_FOR_LIST(_dir, _ratio, _seed, _csv)\n",
    "                    func(args)"
   ]
  },
  {
   "cell_type": "code",
   "execution_count": 8,
   "metadata": {},
   "outputs": [],
   "source": [
    "df_base = {}\n",
    "def create2d(args, array):\n",
    "    df = np.zeros((6 * 81, 3))\n",
    "    df = pd.DataFrame(df, columns=['time', 'area', 'people'])\n",
    "\n",
    "    index = 0\n",
    "    for time in range(6):\n",
    "        for area in range(81):\n",
    "            df.loc[index, ['time', 'area']] = [[3600 * (time + 1), area]]\n",
    "            index += 1\n",
    "    array[args.dir][args.ratio][args.seed][args.csv] = df.copy()\n",
    "\n",
    "for_default_init(create2d, df_base)"
   ]
  },
  {
   "cell_type": "code",
   "execution_count": 9,
   "metadata": {},
   "outputs": [],
   "source": [
    "def interpolate_time(time):\n",
    "    time = int(time)\n",
    "    times_list = [3600 * (i + 1) for i in range(6)]\n",
    "    times = ''\n",
    "    \n",
    "    if 0 <= time <= times_list[0]:\n",
    "        times = times_list[0]\n",
    "    elif times_list[0] <= time <= times_list[1]:\n",
    "        times = times_list[1]\n",
    "    elif times_list[1] <= time <= times_list[2]:\n",
    "        times = times_list[2]\n",
    "    elif times_list[2] <= time <= times_list[3]:\n",
    "        times = times_list[3]\n",
    "    elif times_list[3] <= time <= times_list[4]:\n",
    "        times = times_list[4]\n",
    "    elif times_list[4] <= time <= times_list[5]:\n",
    "        times = times_list[5]\n",
    "\n",
    "    return times"
   ]
  },
  {
   "cell_type": "code",
   "execution_count": 10,
   "metadata": {},
   "outputs": [],
   "source": [
    "# times_list = [str(3600 * (i + 1)) for i in range(6)]\n",
    "# empty_array = {}\n",
    "# def create_empty_3d(args, array):\n",
    "#     for _times in times_list:\n",
    "#         array[args.dir][args.ratio][args.seed][args.csv][_times] = create_empty_base()\n",
    "\n",
    "# for_default_init(create_empty_3d, empty_array)"
   ]
  },
  {
   "cell_type": "code",
   "execution_count": 11,
   "metadata": {},
   "outputs": [],
   "source": [
    "# df = df_base['p10000']['r4']['s123']['od'].copy()\n",
    "# df.loc[(df['time']==3600) & (df['area']==44), 'people'] += 1\n",
    "# df.loc[(df['time']==3600) & (df['area']==44), 'people']"
   ]
  },
  {
   "cell_type": "code",
   "execution_count": 12,
   "metadata": {},
   "outputs": [],
   "source": [
    "def for_convert_road(func):\n",
    "    for_list = get_for_list()  \n",
    "    for _dir in for_list.dir:\n",
    "        for _ratio in for_list.ratio:\n",
    "            for _seed in for_list.seed:\n",
    "                for _csv in ['census']:\n",
    "                    args = ARGS_FOR_LIST(_dir, _ratio, _seed, _csv)\n",
    "                    func(args)"
   ]
  },
  {
   "cell_type": "code",
   "execution_count": 13,
   "metadata": {},
   "outputs": [],
   "source": [
    "road_to_area = {}\n",
    "def create_road_to_area(road, area):\n",
    "    road_to_area[road] = float(area)\n",
    "\n",
    "def func_road_to_area(args):\n",
    "    df = pd.read_csv(get_full_path('include_area_-1', args),\n",
    "                     encoding='Shift_JISx0213')\n",
    "    df = df.loc[:, ['road', 'area']]\n",
    "    for row in np.asanyarray(df):\n",
    "        create_road_to_area(row[0], row[1])\n",
    "\n",
    "    road_to_area[np.nan] = np.nan\n",
    "    \n",
    "for_convert_road(func_road_to_area)"
   ]
  },
  {
   "cell_type": "code",
   "execution_count": 14,
   "metadata": {},
   "outputs": [],
   "source": [
    "def distribute(df, args):\n",
    "    for row in df.values.tolist():\n",
    "        tmp = row[0:2]\n",
    "        stack = -1\n",
    "        for i in range(len(row)):\n",
    "            if (i >= 3) and (type(row[i]) is str) and ('(census)' in row[i]):\n",
    "                road_name = row[i].split('(census)')[0]\n",
    "                _area = road_to_area[road_name]\n",
    "                \n",
    "                if stack != _area:\n",
    "                    _time = interpolate_time(row[i].split('@')[1])\n",
    "                    df = df_base[args.dir][args.ratio][args.seed][args.csv]\n",
    "                stack = _area\n",
    "                \n",
    "                df.loc[(df['time']==_time) & (df['area']==_area), 'people'] += 1"
   ]
  },
  {
   "cell_type": "code",
   "execution_count": 15,
   "metadata": {},
   "outputs": [
    {
     "data": {
      "text/plain": [
       "44    0.0\n",
       "Name: people, dtype: float64"
      ]
     },
     "execution_count": 15,
     "metadata": {},
     "output_type": "execute_result"
    }
   ],
   "source": [
    "df = df_base['p10000']['r4']['s123']['od'].copy()\n",
    "df.loc[(df['time']==3600) & (df['area']==44), 'people']"
   ]
  },
  {
   "cell_type": "code",
   "execution_count": 16,
   "metadata": {},
   "outputs": [],
   "source": [
    "def main(args):\n",
    "    df = pd.read_csv(get_full_path('Origin', args),\n",
    "                  names=col_names, \n",
    "                  encoding='Shift_JISx0213')\n",
    "\n",
    "    df.replace(' ', np.NaN, inplace=True)\n",
    "    df.dropna(how='all', axis=1, inplace=True)\n",
    "    distribute(df.copy(), args)\n",
    "    \n",
    "    df_base[args.dir][args.ratio][args.seed][args.csv].to_csv(get_full_path('hoge', args), index=False)\n",
    "    \n",
    "for_default(main)"
   ]
  },
  {
   "cell_type": "code",
   "execution_count": 18,
   "metadata": {
    "scrolled": true
   },
   "outputs": [],
   "source": [
    "# df = df.dropna(how='all')\n",
    "# df = df.applymap(lambda x: road_to_area[x])\n",
    "# df.head()"
   ]
  },
  {
   "cell_type": "code",
   "execution_count": 19,
   "metadata": {},
   "outputs": [],
   "source": [
    "dellist = lambda items, indexes: [item for index, item in enumerate(items) if index not in indexes]\n",
    "\n",
    "def remove_and_fill_none_area(series):\n",
    "    row = series.values.tolist()\n",
    "    if -1 in row:\n",
    "        # -1のindexをリストで取得\n",
    "        index_list = [i for i, x in enumerate(row) if x == -1]\n",
    "        # popと同じような原理で削除し横詰め\n",
    "        row = dellist(row, index_list)\n",
    "        # 削除した分、ズレが生じるので最後尾に消した数のNaNを追加\n",
    "        row.extend([np.nan for i in range(len(index_list))])\n",
    "        \n",
    "        return pd.Series(row, index=series.index)\n",
    "    else:\n",
    "        return series"
   ]
  },
  {
   "cell_type": "code",
   "execution_count": 20,
   "metadata": {
    "scrolled": true
   },
   "outputs": [],
   "source": [
    "# df['count'] = df.T.apply(lambda x: x.count())\n",
    "# df = df.sort_values(['count'], ascending=False)\n",
    "# df.reset_index(drop=True, inplace=True)\n",
    "# df.head()"
   ]
  },
  {
   "cell_type": "code",
   "execution_count": 21,
   "metadata": {},
   "outputs": [
    {
     "ename": "NameError",
     "evalue": "name 'csv_array' is not defined",
     "output_type": "error",
     "traceback": [
      "\u001b[0;31m---------------------------------------------------------------------------\u001b[0m",
      "\u001b[0;31mNameError\u001b[0m                                 Traceback (most recent call last)",
      "\u001b[0;32m<ipython-input-21-fb3cf785e19a>\u001b[0m in \u001b[0;36m<module>\u001b[0;34m\u001b[0m\n\u001b[1;32m     15\u001b[0m     \u001b[0mdf\u001b[0m\u001b[0;34m.\u001b[0m\u001b[0mto_csv\u001b[0m\u001b[0;34m(\u001b[0m\u001b[0mget_full_path\u001b[0m\u001b[0;34m(\u001b[0m\u001b[0;34m'converted_road_to_area_od'\u001b[0m\u001b[0;34m,\u001b[0m \u001b[0margs\u001b[0m\u001b[0;34m)\u001b[0m\u001b[0;34m,\u001b[0m \u001b[0mindex\u001b[0m\u001b[0;34m=\u001b[0m\u001b[0;32mFalse\u001b[0m\u001b[0;34m)\u001b[0m\u001b[0;34m\u001b[0m\u001b[0m\n\u001b[1;32m     16\u001b[0m \u001b[0;34m\u001b[0m\u001b[0m\n\u001b[0;32m---> 17\u001b[0;31m \u001b[0mfor_default\u001b[0m\u001b[0;34m(\u001b[0m\u001b[0mconvert_road_to_area_od\u001b[0m\u001b[0;34m)\u001b[0m\u001b[0;34m\u001b[0m\u001b[0m\n\u001b[0m",
      "\u001b[0;32m<ipython-input-7-c2dee7448e58>\u001b[0m in \u001b[0;36mfor_default\u001b[0;34m(func)\u001b[0m\n\u001b[1;32m      6\u001b[0m                 \u001b[0;32mfor\u001b[0m \u001b[0m_csv\u001b[0m \u001b[0;32min\u001b[0m \u001b[0mfor_list\u001b[0m\u001b[0;34m.\u001b[0m\u001b[0mcsv\u001b[0m\u001b[0;34m:\u001b[0m\u001b[0;34m\u001b[0m\u001b[0m\n\u001b[1;32m      7\u001b[0m                     \u001b[0margs\u001b[0m \u001b[0;34m=\u001b[0m \u001b[0mARGS_FOR_LIST\u001b[0m\u001b[0;34m(\u001b[0m\u001b[0m_dir\u001b[0m\u001b[0;34m,\u001b[0m \u001b[0m_ratio\u001b[0m\u001b[0;34m,\u001b[0m \u001b[0m_seed\u001b[0m\u001b[0;34m,\u001b[0m \u001b[0m_csv\u001b[0m\u001b[0;34m)\u001b[0m\u001b[0;34m\u001b[0m\u001b[0m\n\u001b[0;32m----> 8\u001b[0;31m                     \u001b[0mfunc\u001b[0m\u001b[0;34m(\u001b[0m\u001b[0margs\u001b[0m\u001b[0;34m)\u001b[0m\u001b[0;34m\u001b[0m\u001b[0m\n\u001b[0m",
      "\u001b[0;32m<ipython-input-21-fb3cf785e19a>\u001b[0m in \u001b[0;36mconvert_road_to_area_od\u001b[0;34m(args)\u001b[0m\n\u001b[1;32m      1\u001b[0m \u001b[0;32mdef\u001b[0m \u001b[0mconvert_road_to_area_od\u001b[0m\u001b[0;34m(\u001b[0m\u001b[0margs\u001b[0m\u001b[0;34m)\u001b[0m\u001b[0;34m:\u001b[0m\u001b[0;34m\u001b[0m\u001b[0m\n\u001b[0;32m----> 2\u001b[0;31m     \u001b[0mdf\u001b[0m \u001b[0;34m=\u001b[0m \u001b[0mcsv_array\u001b[0m\u001b[0;34m[\u001b[0m\u001b[0margs\u001b[0m\u001b[0;34m.\u001b[0m\u001b[0mdir\u001b[0m\u001b[0;34m]\u001b[0m\u001b[0;34m[\u001b[0m\u001b[0margs\u001b[0m\u001b[0;34m.\u001b[0m\u001b[0mratio\u001b[0m\u001b[0;34m]\u001b[0m\u001b[0;34m[\u001b[0m\u001b[0margs\u001b[0m\u001b[0;34m.\u001b[0m\u001b[0mseed\u001b[0m\u001b[0;34m]\u001b[0m\u001b[0;34m[\u001b[0m\u001b[0margs\u001b[0m\u001b[0;34m.\u001b[0m\u001b[0mcsv\u001b[0m\u001b[0;34m]\u001b[0m\u001b[0;34m.\u001b[0m\u001b[0mcopy\u001b[0m\u001b[0;34m(\u001b[0m\u001b[0;34m)\u001b[0m\u001b[0;34m\u001b[0m\u001b[0m\n\u001b[0m\u001b[1;32m      3\u001b[0m \u001b[0;31m#     df = df.dropna(how='all')\u001b[0m\u001b[0;34m\u001b[0m\u001b[0;34m\u001b[0m\u001b[0m\n\u001b[1;32m      4\u001b[0m     \u001b[0mdf\u001b[0m\u001b[0;34m.\u001b[0m\u001b[0miloc\u001b[0m\u001b[0;34m[\u001b[0m\u001b[0;34m:\u001b[0m\u001b[0;34m,\u001b[0m \u001b[0;36m3\u001b[0m\u001b[0;34m:\u001b[0m\u001b[0;34m]\u001b[0m \u001b[0;34m=\u001b[0m \u001b[0mdf\u001b[0m\u001b[0;34m.\u001b[0m\u001b[0miloc\u001b[0m\u001b[0;34m[\u001b[0m\u001b[0;34m:\u001b[0m\u001b[0;34m,\u001b[0m \u001b[0;36m3\u001b[0m\u001b[0;34m:\u001b[0m\u001b[0;34m]\u001b[0m\u001b[0;34m.\u001b[0m\u001b[0mapplymap\u001b[0m\u001b[0;34m(\u001b[0m\u001b[0;32mlambda\u001b[0m \u001b[0mx\u001b[0m\u001b[0;34m:\u001b[0m \u001b[0mroad_to_area\u001b[0m\u001b[0;34m[\u001b[0m\u001b[0mx\u001b[0m\u001b[0;34m]\u001b[0m\u001b[0;34m)\u001b[0m\u001b[0;34m\u001b[0m\u001b[0m\n\u001b[1;32m      5\u001b[0m     \u001b[0mdf\u001b[0m \u001b[0;34m=\u001b[0m \u001b[0mdf\u001b[0m\u001b[0;34m[\u001b[0m\u001b[0mdf\u001b[0m\u001b[0;34m.\u001b[0m\u001b[0mloc\u001b[0m\u001b[0;34m[\u001b[0m\u001b[0;34m:\u001b[0m\u001b[0;34m,\u001b[0m \u001b[0;34m'c03'\u001b[0m\u001b[0;34m]\u001b[0m \u001b[0;34m>=\u001b[0m \u001b[0;36m0\u001b[0m\u001b[0;34m]\u001b[0m\u001b[0;34m\u001b[0m\u001b[0m\n",
      "\u001b[0;31mNameError\u001b[0m: name 'csv_array' is not defined"
     ]
    }
   ],
   "source": [
    "def convert_road_to_area_od(args):\n",
    "    df = csv_array[args.dir][args.ratio][args.seed][args.csv].copy()\n",
    "#     df = df.dropna(how='all')\n",
    "    df.iloc[:, 3:] = df.iloc[:, 3:].applymap(lambda x: road_to_area[x])\n",
    "    df = df[df.loc[:, 'c03'] >= 0]\n",
    "    dfT = df.T\n",
    "    dfT = dfT.apply(remove_and_fill_none_area)\n",
    "    df = dfT.T\n",
    "    df.reset_index(drop=True, inplace=True)\n",
    "#             df = pd.concat([df_id, df], axis=1)\n",
    "    df = df.rename(columns={'c00': 'id'})\n",
    "    df = df.sort_values(['id'])\n",
    "    df = df.drop(['c01', 'c02'], axis=1)\n",
    "    csv_array[args.dir][args.ratio][args.seed][args.csv] = df\n",
    "    df.to_csv(get_full_path('converted_road_to_area_od', args), index=False)\n",
    "    \n",
    "for_default(convert_road_to_area_od)"
   ]
  },
  {
   "cell_type": "code",
   "execution_count": null,
   "metadata": {},
   "outputs": [],
   "source": [
    "def create_next_move_area(df, area):\n",
    "    area = float(area)\n",
    "    df_area = pd.DataFrame(np.zeros((81, 2)), columns=['area', 'people'])\n",
    "    df_area['area'] = [float(i) for i in range(81)]\n",
    "    \n",
    "    for row in df.values.tolist():\n",
    "        if area in row:\n",
    "            index = row.index(area)\n",
    "            if (len(row) > index+1) and (not np.isnan(row[index+1])):\n",
    "                df_area.loc[df_area['area'] == row[index+1], 'people'] += 1\n",
    "                    \n",
    "    return df_area"
   ]
  },
  {
   "cell_type": "code",
   "execution_count": null,
   "metadata": {},
   "outputs": [],
   "source": [
    "move_array = {}\n",
    "def more(args, array):\n",
    "    df = csv_array[args.dir][args.ratio][args.seed][args.csv].copy()\n",
    "    for _area in area_list:\n",
    "        df_area = create_next_move_area(df, _area)\n",
    "        df_area.to_csv(get_full_area_path('next_move_area', args, _area), index=False)\n",
    "        array[args.dir][args.ratio][args.seed][args.csv][_area] = df_area\n",
    "    print(get_file_name(args))\n",
    "    \n",
    "for_default_init(more, move_array)"
   ]
  }
 ],
 "metadata": {
  "kernelspec": {
   "display_name": "Python 3",
   "language": "python",
   "name": "python3"
  },
  "language_info": {
   "codemirror_mode": {
    "name": "ipython",
    "version": 3
   },
   "file_extension": ".py",
   "mimetype": "text/x-python",
   "name": "python",
   "nbconvert_exporter": "python",
   "pygments_lexer": "ipython3",
   "version": "3.6.8"
  }
 },
 "nbformat": 4,
 "nbformat_minor": 2
}
