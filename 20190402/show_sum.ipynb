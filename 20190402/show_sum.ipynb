{
 "cells": [
  {
   "cell_type": "code",
   "execution_count": 6,
   "metadata": {},
   "outputs": [],
   "source": [
    "import sys\n",
    "sys.path.append('../')\n",
    "import env\n",
    "import pandas as pd\n",
    "import numpy as np\n",
    "from matplotlib import pyplot as plt"
   ]
  },
  {
   "cell_type": "code",
   "execution_count": 28,
   "metadata": {},
   "outputs": [],
   "source": [
    "csv_array = {}\n",
    "def main(args, array):\n",
    "    df = pd.read_csv(env.get_full_path('3D', args),\n",
    "                     encoding='Shift_JISx0213')\n",
    "    array[args.dir][args.ratio][args.seed][args.csv] = df.copy()\n",
    "    \n",
    "env.for_default_init(main, csv_array, csv=['mobile', 'census', 'od'])"
   ]
  },
  {
   "cell_type": "code",
   "execution_count": 31,
   "metadata": {},
   "outputs": [
    {
     "name": "stdout",
     "output_type": "stream",
     "text": [
      "p20000 r6 s123 census     [ Unnamed: 0    3240.0\n",
      "3600          2723.0\n",
      "7200          5137.0\n",
      "10800         5274.0\n",
      "14400         4783.0\n",
      "18000         3671.0\n",
      "21600         2618.0\n",
      "dtype: float64 ]\n"
     ]
    }
   ],
   "source": [
    "for _dir in ['p20000']:\n",
    "    for _ratio in ['r6']:\n",
    "        for _seed in ['s123']:\n",
    "            for _csv in ['census']:\n",
    "                df = csv_array[_dir][_ratio][_seed][_csv].copy()\n",
    "                people_sum = df.sum()\n",
    "                print(_dir, _ratio, _seed, _csv, '    [', people_sum, ']')"
   ]
  },
  {
   "cell_type": "code",
   "execution_count": null,
   "metadata": {},
   "outputs": [],
   "source": []
  }
 ],
 "metadata": {
  "kernelspec": {
   "display_name": "Python 3",
   "language": "python",
   "name": "python3"
  },
  "language_info": {
   "codemirror_mode": {
    "name": "ipython",
    "version": 3
   },
   "file_extension": ".py",
   "mimetype": "text/x-python",
   "name": "python",
   "nbconvert_exporter": "python",
   "pygments_lexer": "ipython3",
   "version": "3.6.6"
  }
 },
 "nbformat": 4,
 "nbformat_minor": 2
}
