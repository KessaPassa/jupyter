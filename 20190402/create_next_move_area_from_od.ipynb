{
 "cells": [
  {
   "cell_type": "code",
   "execution_count": 1,
   "metadata": {},
   "outputs": [],
   "source": [
    "import pandas as pd\n",
    "import numpy as np\n",
    "from matplotlib import pyplot as plt"
   ]
  },
  {
   "cell_type": "code",
   "execution_count": 2,
   "metadata": {},
   "outputs": [],
   "source": [
    "area_list = [str(i) for i in range(81)]\n",
    "col_names = [ 'c{0:02d}'.format(i) for i in range(30)]"
   ]
  },
  {
   "cell_type": "code",
   "execution_count": 3,
   "metadata": {},
   "outputs": [],
   "source": [
    "from collections import namedtuple\n",
    "ARGS_FOR_LIST = namedtuple('FOR_LIST', ('dir', 'ratio', 'seed', 'csv'))\n",
    "\n",
    "def get_for_list():\n",
    "    dir_list = ['p10000', 'p20000', 'p30000']\n",
    "    ratio_list = ['r4', 'r5', 'r6']\n",
    "    seed_list = ['s'+str(123 + i) for i in range(1)]\n",
    "    csv_list = ['od']\n",
    "\n",
    "    return ARGS_FOR_LIST(dir_list, ratio_list, seed_list, csv_list)"
   ]
  },
  {
   "cell_type": "code",
   "execution_count": 4,
   "metadata": {},
   "outputs": [],
   "source": [
    "def get_read_path(name):\n",
    "    path = '/Users/kessapassa/OneDrive/research_log/20190402/' + name + '/'\n",
    "    return path\n",
    "\n",
    "def get_file_name(args):\n",
    "    return args.dir + args.ratio + args.seed + '_' + args.csv + '.csv'\n",
    "\n",
    "def get_full_path(name, args):\n",
    "    return get_read_path(name) + get_file_name(args)"
   ]
  },
  {
   "cell_type": "code",
   "execution_count": null,
   "metadata": {},
   "outputs": [],
   "source": [
    "def get_full_area_path(name, args, area):\n",
    "    return get_read_path(name) + args.dir + args.ratio + args.seed + '_' + args.csv + area + '.csv'"
   ]
  },
  {
   "cell_type": "code",
   "execution_count": null,
   "metadata": {},
   "outputs": [],
   "source": [
    "def for_default_init(func, array):\n",
    "    for_list = get_for_list()\n",
    "    \n",
    "    for _dir in for_list.dir:\n",
    "        array[_dir] = {}\n",
    "        \n",
    "        for _ratio in for_list.ratio:\n",
    "            array[_dir][_ratio] = {}\n",
    "            \n",
    "            for _seed in for_list.seed:\n",
    "                array[_dir][_ratio][_seed] = {}\n",
    "                \n",
    "                for _csv in for_list.csv:\n",
    "                    array[_dir][_ratio][_seed][_csv] = {}\n",
    "                    args = ARGS_FOR_LIST(_dir, _ratio, _seed, _csv)\n",
    "                    func(args, array)"
   ]
  },
  {
   "cell_type": "code",
   "execution_count": null,
   "metadata": {},
   "outputs": [],
   "source": [
    "def for_default(func):\n",
    "    for_list = get_for_list()  \n",
    "    for _dir in for_list.dir:\n",
    "        for _ratio in for_list.ratio:\n",
    "            for _seed in for_list.seed:\n",
    "                for _csv in for_list.csv:\n",
    "                    args = ARGS_FOR_LIST(_dir, _ratio, _seed, _csv)\n",
    "                    func(args)"
   ]
  },
  {
   "cell_type": "code",
   "execution_count": null,
   "metadata": {},
   "outputs": [],
   "source": [
    "csv_array = {}\n",
    "def main(args, array):\n",
    "    df = pd.read_csv(get_full_path('Origin', args),\n",
    "                  names=col_names, \n",
    "                  encoding='Shift_JISx0213')\n",
    "\n",
    "    df.replace(' ', np.NaN, inplace=True)\n",
    "    df.dropna(how='all', axis=1, inplace=True)\n",
    "    df = df.applymap(lambda x: (x.split('(census)')[0]) if (type(x) is str) and ('(census)' in x) else x)\n",
    "    array[args.dir][args.ratio][args.seed][args.csv] = df\n",
    "    \n",
    "for_default_init(main, csv_array)"
   ]
  },
  {
   "cell_type": "code",
   "execution_count": null,
   "metadata": {},
   "outputs": [],
   "source": [
    "def for_convert_road(func):\n",
    "    for_list = get_for_list()  \n",
    "    for _dir in for_list.dir:\n",
    "        for _ratio in for_list.ratio:\n",
    "            for _seed in for_list.seed:\n",
    "                for _csv in ['census']:\n",
    "                    args = ARGS_FOR_LIST(_dir, _ratio, _seed, _csv)\n",
    "                    func(args)"
   ]
  },
  {
   "cell_type": "code",
   "execution_count": null,
   "metadata": {},
   "outputs": [],
   "source": [
    "road_to_area = {}\n",
    "def create_road_to_area(road, area):\n",
    "    road_to_area[road] = float(area)\n",
    "\n",
    "def func_road_to_area(args):\n",
    "    df = pd.read_csv(get_full_path('include_area_-1', args),\n",
    "                     encoding='Shift_JISx0213')\n",
    "    df = df.loc[:, ['road', 'area']]\n",
    "    for row in np.asanyarray(df):\n",
    "        create_road_to_area(row[0], row[1])\n",
    "\n",
    "    road_to_area[np.nan] = np.nan\n",
    "    \n",
    "for_convert_road(func_road_to_area)"
   ]
  },
  {
   "cell_type": "code",
   "execution_count": null,
   "metadata": {
    "scrolled": true
   },
   "outputs": [],
   "source": [
    "# df = df.dropna(how='all')\n",
    "# df = df.applymap(lambda x: road_to_area[x])\n",
    "# df.head()"
   ]
  },
  {
   "cell_type": "code",
   "execution_count": null,
   "metadata": {},
   "outputs": [],
   "source": [
    "dellist = lambda items, indexes: [item for index, item in enumerate(items) if index not in indexes]\n",
    "\n",
    "def remove_and_fill_none_area(series):\n",
    "    row = series.values.tolist()\n",
    "    if -1 in row:\n",
    "        # -1のindexをリストで取得\n",
    "        index_list = [i for i, x in enumerate(row) if x == -1]\n",
    "        # popと同じような原理で削除し横詰め\n",
    "        row = dellist(row, index_list)\n",
    "        # 削除した分、ズレが生じるので最後尾に消した数のNaNを追加\n",
    "        row.extend([np.nan for i in range(len(index_list))])\n",
    "        \n",
    "        return pd.Series(row, index=series.index)\n",
    "    else:\n",
    "        return series"
   ]
  },
  {
   "cell_type": "code",
   "execution_count": null,
   "metadata": {
    "scrolled": true
   },
   "outputs": [],
   "source": [
    "# df['count'] = df.T.apply(lambda x: x.count())\n",
    "# df = df.sort_values(['count'], ascending=False)\n",
    "# df.reset_index(drop=True, inplace=True)\n",
    "# df.head()"
   ]
  },
  {
   "cell_type": "code",
   "execution_count": null,
   "metadata": {},
   "outputs": [],
   "source": [
    "def convert_road_to_area_od(args):\n",
    "    df = csv_array[args.dir][args.ratio][args.seed][args.csv].copy()\n",
    "#     df = df.dropna(how='all')\n",
    "    df.iloc[:, 3:] = df.iloc[:, 3:].applymap(lambda x: road_to_area[x])\n",
    "    df = df[df.loc[:, 'c03'] >= 0]\n",
    "    dfT = df.T\n",
    "    dfT = dfT.apply(remove_and_fill_none_area)\n",
    "    df = dfT.T\n",
    "    df.reset_index(drop=True, inplace=True)\n",
    "#             df = pd.concat([df_id, df], axis=1)\n",
    "    df = df.rename(columns={'c00': 'id'})\n",
    "    df = df.sort_values(['id'])\n",
    "    df = df.drop(['c01', 'c02'], axis=1)\n",
    "    csv_array[args.dir][args.ratio][args.seed][args.csv] = df\n",
    "    df.to_csv(get_full_path('converted_road_to_area_od', args), index=False)\n",
    "    \n",
    "for_default(convert_road_to_area_od)"
   ]
  },
  {
   "cell_type": "code",
   "execution_count": null,
   "metadata": {},
   "outputs": [],
   "source": [
    "def create_next_move_area(df, area):\n",
    "    area = float(area)\n",
    "    df_area = pd.DataFrame(np.zeros((81, 2)), columns=['area', 'people'])\n",
    "    df_area['area'] = [float(i) for i in range(81)]\n",
    "    \n",
    "    for row in df.values.tolist():\n",
    "        if area in row:\n",
    "            index = row.index(area)\n",
    "            if (len(row) > index+1) and (not np.isnan(row[index+1])):\n",
    "                df_area.loc[df_area['area'] == row[index+1], 'people'] += 1\n",
    "                    \n",
    "    return df_area"
   ]
  },
  {
   "cell_type": "code",
   "execution_count": null,
   "metadata": {},
   "outputs": [
    {
     "name": "stdout",
     "output_type": "stream",
     "text": [
      "p10000r4s123_od.csv\n",
      "p10000r5s123_od.csv\n",
      "p10000r6s123_od.csv\n",
      "p20000r4s123_od.csv\n"
     ]
    }
   ],
   "source": [
    "move_array = {}\n",
    "def more(args, array):\n",
    "    df = csv_array[args.dir][args.ratio][args.seed][args.csv].copy()\n",
    "    for _area in area_list:\n",
    "        df_area = create_next_move_area(df, _area)\n",
    "        df_area.to_csv(get_full_area_path('next_move_area', args, _area), index=False)\n",
    "        array[args.dir][args.ratio][args.seed][args.csv][_area] = df_area\n",
    "    print(get_file_name(args))\n",
    "    \n",
    "for_default_init(more, move_array)"
   ]
  }
 ],
 "metadata": {
  "kernelspec": {
   "display_name": "Python 3",
   "language": "python",
   "name": "python3"
  },
  "language_info": {
   "codemirror_mode": {
    "name": "ipython",
    "version": 3
   },
   "file_extension": ".py",
   "mimetype": "text/x-python",
   "name": "python",
   "nbconvert_exporter": "python",
   "pygments_lexer": "ipython3",
   "version": "3.6.8"
  }
 },
 "nbformat": 4,
 "nbformat_minor": 2
}
