{
 "cells": [
  {
   "cell_type": "code",
   "execution_count": 1,
   "metadata": {},
   "outputs": [],
   "source": [
    "import pandas as pd\n",
    "import numpy as np"
   ]
  },
  {
   "cell_type": "code",
   "execution_count": 2,
   "metadata": {},
   "outputs": [],
   "source": [
    "root_dir = '/Users/kessapassa/OneDrive/research_log/2018_Graduate/Interpolated_Origin/'"
   ]
  },
  {
   "cell_type": "code",
   "execution_count": 10,
   "metadata": {},
   "outputs": [],
   "source": [
    "dir_list = ['people10000', 'people20000', 'people30000']\n",
    "seed_list = [str(123 + i) for i in range(3)]\n",
    "csv_list = ['census', 'mobile']"
   ]
  },
  {
   "cell_type": "code",
   "execution_count": 11,
   "metadata": {},
   "outputs": [],
   "source": [
    "csv_array = {}\n",
    "for _dir in dir_list:\n",
    "    csv_array[_dir] = {}\n",
    "    for _seed in seed_list:\n",
    "        csv_array[_dir][_seed] = {}\n",
    "        for _csv in csv_list:\n",
    "            csv_array[_dir][_seed][_csv] = pd.read_csv(root_dir + _dir + 'seed' + _seed + '_' + _csv + '.csv',\n",
    "                                                index_col=0,\n",
    "                                                encoding='Shift_JISx0213')"
   ]
  },
  {
   "cell_type": "code",
   "execution_count": 16,
   "metadata": {},
   "outputs": [
    {
     "name": "stdout",
     "output_type": "stream",
     "text": [
      "people10000 & 123\n",
      "(55536, 3)\n",
      "people10000 & 124\n",
      "(55764, 3)\n",
      "people10000 & 125\n",
      "(55596, 3)\n",
      "\n",
      "\n",
      "people20000 & 123\n",
      "(113610, 3)\n",
      "people20000 & 124\n",
      "(113958, 3)\n",
      "people20000 & 125\n",
      "(113916, 3)\n",
      "\n",
      "\n",
      "people30000 & 123\n",
      "(172338, 3)\n",
      "people30000 & 124\n",
      "(172590, 3)\n",
      "people30000 & 125\n",
      "(172542, 3)\n",
      "\n",
      "\n"
     ]
    }
   ],
   "source": [
    "for _dir in dir_list:\n",
    "    for _seed in seed_list:\n",
    "        print(_dir + ' & ' + _seed)\n",
    "        print(csv_array[_dir][_seed]['mobile'].shape)\n",
    "    print('\\n')"
   ]
  },
  {
   "cell_type": "code",
   "execution_count": 17,
   "metadata": {
    "scrolled": true
   },
   "outputs": [
    {
     "name": "stdout",
     "output_type": "stream",
     "text": [
      "people10000 & 123\n",
      "(25502, 3)\n",
      "people10000 & 124\n",
      "(25559, 3)\n",
      "people10000 & 125\n",
      "(25298, 3)\n",
      "\n",
      "\n",
      "people20000 & 123\n",
      "(39975, 3)\n",
      "people20000 & 124\n",
      "(39260, 3)\n",
      "people20000 & 125\n",
      "(39910, 3)\n",
      "\n",
      "\n",
      "people30000 & 123\n",
      "(44308, 3)\n",
      "people30000 & 124\n",
      "(44598, 3)\n",
      "people30000 & 125\n",
      "(45302, 3)\n",
      "\n",
      "\n"
     ]
    }
   ],
   "source": [
    "for _dir in dir_list:\n",
    "    for _seed in seed_list:\n",
    "        print(_dir + ' & ' + _seed)\n",
    "        print(csv_array[_dir][_seed]['census'].shape)\n",
    "    print('\\n')"
   ]
  },
  {
   "cell_type": "code",
   "execution_count": null,
   "metadata": {},
   "outputs": [],
   "source": [
    "df_sorted = csv_array['people10000']['123']['census']\n",
    "df_sorted['area'].value_counts()#.sort_index()"
   ]
  },
  {
   "cell_type": "code",
   "execution_count": null,
   "metadata": {},
   "outputs": [],
   "source": []
  }
 ],
 "metadata": {
  "kernelspec": {
   "display_name": "Python 3",
   "language": "python",
   "name": "python3"
  },
  "language_info": {
   "codemirror_mode": {
    "name": "ipython",
    "version": 3
   },
   "file_extension": ".py",
   "mimetype": "text/x-python",
   "name": "python",
   "nbconvert_exporter": "python",
   "pygments_lexer": "ipython3",
   "version": "3.7.0"
  }
 },
 "nbformat": 4,
 "nbformat_minor": 2
}
