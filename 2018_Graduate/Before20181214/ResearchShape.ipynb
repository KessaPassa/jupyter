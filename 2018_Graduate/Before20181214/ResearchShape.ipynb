{
 "cells": [
  {
   "cell_type": "code",
   "execution_count": 1,
   "metadata": {},
   "outputs": [],
   "source": [
    "import pandas as pd\n",
    "import numpy as np\n",
    "from sklearn.linear_model import LinearRegression as LR"
   ]
  },
  {
   "cell_type": "code",
   "execution_count": 2,
   "metadata": {},
   "outputs": [],
   "source": [
    "root_dir = '/Users/kessapassa/OneDrive/research_log/2018_Graduate/'"
   ]
  },
  {
   "cell_type": "code",
   "execution_count": 3,
   "metadata": {},
   "outputs": [],
   "source": [
    "dir_list = ['2_8', '4_6', '6_4', '8_2']\n",
    "\n",
    "csv_array = {}\n",
    "for _dir in dir_list:\n",
    "    csv_array[_dir]= pd.read_csv(root_dir+_dir+'seed123.csv', \n",
    "                                 index_col=0, \n",
    "                                 encoding='Shift_JISx0213')\n",
    "#     csv_array[_dir]['people'] = 1"
   ]
  },
  {
   "cell_type": "code",
   "execution_count": 6,
   "metadata": {},
   "outputs": [
    {
     "name": "stdout",
     "output_type": "stream",
     "text": [
      "2_8\n",
      "(33392, 5)\n",
      "\n",
      "\n",
      "4_6\n",
      "(35057, 5)\n",
      "\n",
      "\n",
      "6_4\n",
      "(47588, 5)\n",
      "\n",
      "\n",
      "8_2\n",
      "(66025, 5)\n",
      "\n",
      "\n"
     ]
    }
   ],
   "source": [
    "for _dir in dir_list:\n",
    "    print(_dir)\n",
    "    print(csv_array[_dir].shape)\n",
    "    print('\\n')"
   ]
  },
  {
   "cell_type": "code",
   "execution_count": null,
   "metadata": {},
   "outputs": [],
   "source": []
  }
 ],
 "metadata": {
  "kernelspec": {
   "display_name": "Python 3",
   "language": "python",
   "name": "python3"
  },
  "language_info": {
   "codemirror_mode": {
    "name": "ipython",
    "version": 3
   },
   "file_extension": ".py",
   "mimetype": "text/x-python",
   "name": "python",
   "nbconvert_exporter": "python",
   "pygments_lexer": "ipython3",
   "version": "3.7.0"
  }
 },
 "nbformat": 4,
 "nbformat_minor": 2
}
