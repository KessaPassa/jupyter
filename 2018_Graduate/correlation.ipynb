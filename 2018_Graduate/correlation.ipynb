{
 "cells": [
  {
   "cell_type": "code",
   "execution_count": 1,
   "metadata": {},
   "outputs": [],
   "source": [
    "import pandas as pd\n",
    "import numpy as np\n",
    "import math\n",
    "from matplotlib import pyplot as plt\n",
    "from sklearn.linear_model import LinearRegression as LR\n",
    "import sklearn"
   ]
  },
  {
   "cell_type": "code",
   "execution_count": 2,
   "metadata": {},
   "outputs": [],
   "source": [
    "root_dir = '/Users/kessapassa/OneDrive/research_log/2018_Graduate/3D/'"
   ]
  },
  {
   "cell_type": "code",
   "execution_count": 3,
   "metadata": {},
   "outputs": [],
   "source": [
    "dir_list = ['people10000', 'people20000', 'people30000']\n",
    "seed_list = [str(123 + i) for i in range(3)]\n",
    "csv_list = ['census', 'mobile']"
   ]
  },
  {
   "cell_type": "code",
   "execution_count": 4,
   "metadata": {},
   "outputs": [],
   "source": [
    "csv_array = {}\n",
    "for _dir in dir_list:\n",
    "    csv_array[_dir] = {}\n",
    "    for _seed in seed_list:\n",
    "        csv_array[_dir][_seed] = {}\n",
    "        for _csv in csv_list:\n",
    "            df = pd.read_csv(root_dir + _dir + 'seed' + _seed + '_' + _csv + '.csv',\n",
    "                                                index_col=0,\n",
    "                                                encoding='Shift_JISx0213')\n",
    "            csv_array[_dir][_seed][_csv] = df"
   ]
  },
  {
   "cell_type": "code",
   "execution_count": 5,
   "metadata": {},
   "outputs": [],
   "source": [
    "# なぜかこの時だけ21600がないので0で補間する\n",
    "csv_array['people10000']['123']['census']['21600'] = 0"
   ]
  },
  {
   "cell_type": "code",
   "execution_count": 6,
   "metadata": {},
   "outputs": [],
   "source": [
    "times_list = [str(3600 * (i + 1)) for i in range(6)]"
   ]
  },
  {
   "cell_type": "code",
   "execution_count": 7,
   "metadata": {},
   "outputs": [],
   "source": [
    "people = 'people20000'\n",
    "seed = '125'\n",
    "csv = 'census'\n",
    "time = '21600'"
   ]
  },
  {
   "cell_type": "code",
   "execution_count": 8,
   "metadata": {},
   "outputs": [],
   "source": [
    "X = csv_array[people][seed]['mobile']\n",
    "Y = csv_array[people][seed]['census']"
   ]
  },
  {
   "cell_type": "markdown",
   "metadata": {},
   "source": [
    "# 時間帯ごとの回帰直線"
   ]
  },
  {
   "cell_type": "code",
   "execution_count": 10,
   "metadata": {
    "scrolled": true
   },
   "outputs": [
    {
     "name": "stdout",
     "output_type": "stream",
     "text": [
      "3600\n",
      "0.8823330158770173\n",
      "\n",
      "\n",
      "7200\n",
      "0.7754004234188733\n",
      "\n",
      "\n",
      "10800\n",
      "0.9365777060366849\n",
      "\n",
      "\n",
      "14400\n",
      "0.80730374142001\n",
      "\n",
      "\n",
      "18000\n",
      "0.8465934011608863\n",
      "\n",
      "\n",
      "21600\n",
      "0.7182306034310431\n",
      "\n",
      "\n"
     ]
    }
   ],
   "source": [
    "pred_array = pd.DataFrame()\n",
    "\n",
    "for _times in times_list:\n",
    "    x = X[_times].values.reshape(-1, 1)\n",
    "    y = Y[_times].values.reshape(-1, 1)\n",
    "    \n",
    "    model = LR()\n",
    "    model.fit(x, y)\n",
    "    pred = pd.DataFrame(model.predict(x), columns=[_times])\n",
    "    pred_array = pd.concat([pred_array, pred], axis=1)\n",
    "    \n",
    "    print(_times)\n",
    "    print(model.score(x, y))\n",
    "    print('\\n')"
   ]
  },
  {
   "cell_type": "code",
   "execution_count": 12,
   "metadata": {
    "scrolled": true
   },
   "outputs": [
    {
     "data": {
      "image/png": "[encoded data removed]",
      "text/plain": [
       "<Figure size 432x288 with 1 Axes>"
      ]
     },
     "metadata": {
      "needs_background": "light"
     },
     "output_type": "display_data"
    }
   ],
   "source": [
    "plt.plot(X, Y, 'o')\n",
    "plt.plot(X, pred_array)\n",
    "plt.xlabel('分布統計')\n",
    "plt.ylabel('道路交通センサス')\n",
    "# plt.savefig('corr.png')"
   ]
  },
  {
   "cell_type": "markdown",
   "metadata": {},
   "source": [
    "# 全体の回帰直線"
   ]
  },
  {
   "cell_type": "code",
   "execution_count": 13,
   "metadata": {},
   "outputs": [],
   "source": [
    "X = pd.DataFrame()\n",
    "Y = pd.DataFrame()\n",
    "df = csv_array[people][seed].copy()\n",
    "\n",
    "for _times in times_list:\n",
    "    X = pd.concat([X, df['mobile'][_times]])\n",
    "    Y = pd.concat([Y, df['census'][_times]])"
   ]
  },
  {
   "cell_type": "code",
   "execution_count": 14,
   "metadata": {},
   "outputs": [
    {
     "name": "stdout",
     "output_type": "stream",
     "text": [
      "0.48196826992815034\n"
     ]
    },
    {
     "data": {
      "text/plain": [
       "[<matplotlib.lines.Line2D at 0x1a1e86fe10>]"
      ]
     },
     "execution_count": 14,
     "metadata": {},
     "output_type": "execute_result"
    },
    {
     "data": {
      "image/png": "[encoded data removed]",
      "text/plain": [
       "<Figure size 432x288 with 1 Axes>"
      ]
     },
     "metadata": {
      "needs_background": "light"
     },
     "output_type": "display_data"
    }
   ],
   "source": [
    "model = LR()\n",
    "model.fit(X, Y)\n",
    "print(model.score(X, Y))\n",
    "pred = model.predict(X)\n",
    "plt.plot(X, Y, 'o')\n",
    "plt.plot(X, pred)"
   ]
  },
  {
   "cell_type": "code",
   "execution_count": null,
   "metadata": {},
   "outputs": [],
   "source": []
  }
 ],
 "metadata": {
  "kernelspec": {
   "display_name": "Python 3",
   "language": "python",
   "name": "python3"
  },
  "language_info": {
   "codemirror_mode": {
    "name": "ipython",
    "version": 3
   },
   "file_extension": ".py",
   "mimetype": "text/x-python",
   "name": "python",
   "nbconvert_exporter": "python",
   "pygments_lexer": "ipython3",
   "version": "3.7.0"
  }
 },
 "nbformat": 4,
 "nbformat_minor": 2
}
