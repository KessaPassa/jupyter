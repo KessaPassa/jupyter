{
 "cells": [
  {
   "cell_type": "code",
   "execution_count": 1,
   "metadata": {},
   "outputs": [],
   "source": [
    "import pandas as pd\n",
    "import numpy as np\n",
    "import math\n",
    "from matplotlib import pyplot as plt\n",
    "from sklearn.linear_model import LinearRegression as LR"
   ]
  },
  {
   "cell_type": "code",
   "execution_count": 2,
   "metadata": {},
   "outputs": [],
   "source": [
    "root_dir = '/Users/kessapassa/OneDrive/research_log/2018_Graduate/3D/'"
   ]
  },
  {
   "cell_type": "code",
   "execution_count": 3,
   "metadata": {},
   "outputs": [],
   "source": [
    "dir_list = ['people10000', 'people20000', 'people30000']\n",
    "seed_list = [str(123 + i) for i in range(3)]\n",
    "csv_list = ['census', 'mobile']"
   ]
  },
  {
   "cell_type": "code",
   "execution_count": 4,
   "metadata": {},
   "outputs": [],
   "source": [
    "loc_list = [14, 15, 21, 22, 27, 28]"
   ]
  },
  {
   "cell_type": "code",
   "execution_count": 5,
   "metadata": {},
   "outputs": [],
   "source": [
    "csv_array = {}\n",
    "for _dir in dir_list:\n",
    "    csv_array[_dir] = {}\n",
    "    for _seed in seed_list:\n",
    "        csv_array[_dir][_seed] = {}\n",
    "        for _csv in csv_list:\n",
    "            df = pd.read_csv(root_dir + _dir + 'seed' + _seed + '_' + _csv + '.csv',\n",
    "                                                index_col=0,\n",
    "                                                encoding='Shift_JISx0213')\n",
    "            csv_array[_dir][_seed][_csv] = df.iloc[loc_list, :]"
   ]
  },
  {
   "cell_type": "code",
   "execution_count": 6,
   "metadata": {},
   "outputs": [],
   "source": [
    "# なぜかこの時だけ21600がないので0で補間する\n",
    "csv_array['people10000']['123']['census']['21600'] = 0"
   ]
  },
  {
   "cell_type": "code",
   "execution_count": 7,
   "metadata": {},
   "outputs": [],
   "source": [
    "def get_ratio_per_sum(base):\n",
    "    for index in range(len(base.columns)):\n",
    "        base.iloc[:, index] /= base.iloc[:, index].sum()\n",
    "#     base = base.round(4)\n",
    "    \n",
    "    return base"
   ]
  },
  {
   "cell_type": "code",
   "execution_count": 8,
   "metadata": {},
   "outputs": [],
   "source": [
    "# for _dir in dir_list:\n",
    "#     for _seed in seed_list:\n",
    "#         for _csv in csv_list:\n",
    "#             df = csv_array[_dir][_seed][_csv].copy()\n",
    "#             df = get_ratio_per_sum(df)\n",
    "#             df = df.fillna(0)\n",
    "#             csv_array[_dir][_seed][_csv] = df"
   ]
  },
  {
   "cell_type": "markdown",
   "metadata": {},
   "source": [
    "# 1時間後にどこに移動するか割合を推定する"
   ]
  },
  {
   "cell_type": "code",
   "execution_count": 9,
   "metadata": {},
   "outputs": [],
   "source": [
    "times_list = [str(3600 * (i + 1)) for i in range(6)]"
   ]
  },
  {
   "cell_type": "code",
   "execution_count": 10,
   "metadata": {},
   "outputs": [],
   "source": [
    "def get_model(trainX, y):\n",
    "    model = LR()\n",
    "    model.fit(trainX, y)\n",
    "    \n",
    "    return model"
   ]
  },
  {
   "cell_type": "code",
   "execution_count": 11,
   "metadata": {},
   "outputs": [],
   "source": [
    "def interpolate_times(index):\n",
    "    return times_list[:index+1]"
   ]
  },
  {
   "cell_type": "code",
   "execution_count": 12,
   "metadata": {},
   "outputs": [],
   "source": [
    "pred = None\n",
    "\n",
    "pred_array = {}\n",
    "for _dir in dir_list:\n",
    "    pred_array[_dir] = {}\n",
    "    for _seed in seed_list:\n",
    "        pred_array[_dir][_seed] = {}\n",
    "        for _csv in csv_list:\n",
    "            pred_array[_dir][_seed][_csv] = {}\n",
    "            \n",
    "            for index in range(len(times_list)-1):\n",
    "                # seed123だけを学習し、他はテストとする\n",
    "                df = csv_array[_dir][_seed][_csv].copy()\n",
    "                df = get_ratio_per_sum(df)\n",
    "                df = df.fillna(0)\n",
    "                \n",
    "                if _seed == '123':\n",
    "                    model = get_model(df[interpolate_times(index)], df[times_list[index+1]])\n",
    "                    pred = model.predict(df[interpolate_times(index)])\n",
    "                    \n",
    "                else:\n",
    "                    df = df[interpolate_times(index+1)]\n",
    "                    df['pred'] = pred\n",
    "                    \n",
    "                    columns = df.columns\n",
    "                    df['diff'] = df[columns[-2]] / df[columns[-1]]\n",
    "                    pred_array[_dir][_seed][_csv][times_list[index+1]] = df"
   ]
  },
  {
   "cell_type": "code",
   "execution_count": 13,
   "metadata": {},
   "outputs": [],
   "source": [
    "def get_times_list(time):\n",
    "    index = times_list.index(time)\n",
    "    return times_list[:index+1]"
   ]
  },
  {
   "cell_type": "code",
   "execution_count": 22,
   "metadata": {},
   "outputs": [],
   "source": [
    "people = 'people20000'\n",
    "seed = '125'\n",
    "csv = 'mobile'\n",
    "time = '21600'"
   ]
  },
  {
   "cell_type": "code",
   "execution_count": 23,
   "metadata": {
    "scrolled": true
   },
   "outputs": [
    {
     "data": {
      "text/html": [
       "<div>\n",
       "<style scoped>\n",
       "    .dataframe tbody tr th:only-of-type {\n",
       "        vertical-align: middle;\n",
       "    }\n",
       "\n",
       "    .dataframe tbody tr th {\n",
       "        vertical-align: top;\n",
       "    }\n",
       "\n",
       "    .dataframe thead th {\n",
       "        text-align: right;\n",
       "    }\n",
       "</style>\n",
       "<table border=\"1\" class=\"dataframe\">\n",
       "  <thead>\n",
       "    <tr style=\"text-align: right;\">\n",
       "      <th></th>\n",
       "      <th>3600</th>\n",
       "      <th>7200</th>\n",
       "      <th>10800</th>\n",
       "      <th>14400</th>\n",
       "      <th>18000</th>\n",
       "      <th>21600</th>\n",
       "      <th>pred</th>\n",
       "      <th>diff</th>\n",
       "    </tr>\n",
       "  </thead>\n",
       "  <tbody>\n",
       "    <tr>\n",
       "      <th>14</th>\n",
       "      <td>241.0</td>\n",
       "      <td>39.0</td>\n",
       "      <td>32.0</td>\n",
       "      <td>31.0</td>\n",
       "      <td>7.0</td>\n",
       "      <td>5.0</td>\n",
       "      <td>3.547315</td>\n",
       "      <td>1.409517</td>\n",
       "    </tr>\n",
       "    <tr>\n",
       "      <th>15</th>\n",
       "      <td>278.0</td>\n",
       "      <td>53.0</td>\n",
       "      <td>61.0</td>\n",
       "      <td>35.0</td>\n",
       "      <td>41.0</td>\n",
       "      <td>35.0</td>\n",
       "      <td>12.415601</td>\n",
       "      <td>2.819034</td>\n",
       "    </tr>\n",
       "    <tr>\n",
       "      <th>21</th>\n",
       "      <td>3974.0</td>\n",
       "      <td>3395.0</td>\n",
       "      <td>3137.0</td>\n",
       "      <td>3005.0</td>\n",
       "      <td>2794.0</td>\n",
       "      <td>369.0</td>\n",
       "      <td>412.375320</td>\n",
       "      <td>0.894816</td>\n",
       "    </tr>\n",
       "    <tr>\n",
       "      <th>22</th>\n",
       "      <td>3297.0</td>\n",
       "      <td>2608.0</td>\n",
       "      <td>2385.0</td>\n",
       "      <td>2111.0</td>\n",
       "      <td>1941.0</td>\n",
       "      <td>313.0</td>\n",
       "      <td>265.161765</td>\n",
       "      <td>1.180412</td>\n",
       "    </tr>\n",
       "    <tr>\n",
       "      <th>27</th>\n",
       "      <td>5185.0</td>\n",
       "      <td>4567.0</td>\n",
       "      <td>4435.0</td>\n",
       "      <td>4113.0</td>\n",
       "      <td>3786.0</td>\n",
       "      <td>412.0</td>\n",
       "      <td>484.208440</td>\n",
       "      <td>0.850873</td>\n",
       "    </tr>\n",
       "    <tr>\n",
       "      <th>28</th>\n",
       "      <td>3494.0</td>\n",
       "      <td>2670.0</td>\n",
       "      <td>2121.0</td>\n",
       "      <td>1816.0</td>\n",
       "      <td>1594.0</td>\n",
       "      <td>253.0</td>\n",
       "      <td>209.291560</td>\n",
       "      <td>1.208840</td>\n",
       "    </tr>\n",
       "  </tbody>\n",
       "</table>\n",
       "</div>"
      ],
      "text/plain": [
       "      3600    7200   10800   14400   18000  21600        pred      diff\n",
       "14   241.0    39.0    32.0    31.0     7.0    5.0    3.547315  1.409517\n",
       "15   278.0    53.0    61.0    35.0    41.0   35.0   12.415601  2.819034\n",
       "21  3974.0  3395.0  3137.0  3005.0  2794.0  369.0  412.375320  0.894816\n",
       "22  3297.0  2608.0  2385.0  2111.0  1941.0  313.0  265.161765  1.180412\n",
       "27  5185.0  4567.0  4435.0  4113.0  3786.0  412.0  484.208440  0.850873\n",
       "28  3494.0  2670.0  2121.0  1816.0  1594.0  253.0  209.291560  1.208840"
      ]
     },
     "execution_count": 23,
     "metadata": {},
     "output_type": "execute_result"
    }
   ],
   "source": [
    "locked_times_list = get_times_list(time)\n",
    "df = csv_array[people][seed][csv][locked_times_list].copy()\n",
    "df['pred'] = pred_array[people][seed][csv][time]['pred'] * csv_array[people][seed][csv][time].sum()\n",
    "df['diff'] = df[time] / df['pred']\n",
    "df"
   ]
  },
  {
   "cell_type": "code",
   "execution_count": 16,
   "metadata": {
    "scrolled": true
   },
   "outputs": [
    {
     "data": {
      "text/plain": [
       "count    6.000000\n",
       "mean     0.946418\n",
       "std      0.210471\n",
       "min      0.559902\n",
       "25%      0.906432\n",
       "50%      1.026513\n",
       "75%      1.039844\n",
       "max      1.154886\n",
       "Name: diff, dtype: float64"
      ]
     },
     "execution_count": 16,
     "metadata": {},
     "output_type": "execute_result"
    }
   ],
   "source": [
    "df['diff'].describe()"
   ]
  },
  {
   "cell_type": "code",
   "execution_count": 17,
   "metadata": {},
   "outputs": [
    {
     "data": {
      "text/html": [
       "<div>\n",
       "<style scoped>\n",
       "    .dataframe tbody tr th:only-of-type {\n",
       "        vertical-align: middle;\n",
       "    }\n",
       "\n",
       "    .dataframe tbody tr th {\n",
       "        vertical-align: top;\n",
       "    }\n",
       "\n",
       "    .dataframe thead th {\n",
       "        text-align: right;\n",
       "    }\n",
       "</style>\n",
       "<table border=\"1\" class=\"dataframe\">\n",
       "  <thead>\n",
       "    <tr style=\"text-align: right;\">\n",
       "      <th></th>\n",
       "      <th>3600</th>\n",
       "      <th>7200</th>\n",
       "      <th>10800</th>\n",
       "      <th>14400</th>\n",
       "      <th>18000</th>\n",
       "      <th>21600</th>\n",
       "    </tr>\n",
       "  </thead>\n",
       "  <tbody>\n",
       "    <tr>\n",
       "      <th>14</th>\n",
       "      <td>0.014634</td>\n",
       "      <td>0.002925</td>\n",
       "      <td>0.002629</td>\n",
       "      <td>0.002790</td>\n",
       "      <td>0.000689</td>\n",
       "      <td>0.003605</td>\n",
       "    </tr>\n",
       "    <tr>\n",
       "      <th>15</th>\n",
       "      <td>0.016880</td>\n",
       "      <td>0.003975</td>\n",
       "      <td>0.005012</td>\n",
       "      <td>0.003150</td>\n",
       "      <td>0.004034</td>\n",
       "      <td>0.025234</td>\n",
       "    </tr>\n",
       "    <tr>\n",
       "      <th>21</th>\n",
       "      <td>0.241302</td>\n",
       "      <td>0.254650</td>\n",
       "      <td>0.257744</td>\n",
       "      <td>0.270453</td>\n",
       "      <td>0.274919</td>\n",
       "      <td>0.266042</td>\n",
       "    </tr>\n",
       "    <tr>\n",
       "      <th>22</th>\n",
       "      <td>0.200194</td>\n",
       "      <td>0.195620</td>\n",
       "      <td>0.195958</td>\n",
       "      <td>0.189992</td>\n",
       "      <td>0.190987</td>\n",
       "      <td>0.225667</td>\n",
       "    </tr>\n",
       "    <tr>\n",
       "      <th>27</th>\n",
       "      <td>0.314834</td>\n",
       "      <td>0.342559</td>\n",
       "      <td>0.364391</td>\n",
       "      <td>0.370174</td>\n",
       "      <td>0.372528</td>\n",
       "      <td>0.297044</td>\n",
       "    </tr>\n",
       "    <tr>\n",
       "      <th>28</th>\n",
       "      <td>0.212156</td>\n",
       "      <td>0.200270</td>\n",
       "      <td>0.174267</td>\n",
       "      <td>0.163442</td>\n",
       "      <td>0.156843</td>\n",
       "      <td>0.182408</td>\n",
       "    </tr>\n",
       "  </tbody>\n",
       "</table>\n",
       "</div>"
      ],
      "text/plain": [
       "        3600      7200     10800     14400     18000     21600\n",
       "14  0.014634  0.002925  0.002629  0.002790  0.000689  0.003605\n",
       "15  0.016880  0.003975  0.005012  0.003150  0.004034  0.025234\n",
       "21  0.241302  0.254650  0.257744  0.270453  0.274919  0.266042\n",
       "22  0.200194  0.195620  0.195958  0.189992  0.190987  0.225667\n",
       "27  0.314834  0.342559  0.364391  0.370174  0.372528  0.297044\n",
       "28  0.212156  0.200270  0.174267  0.163442  0.156843  0.182408"
      ]
     },
     "execution_count": 17,
     "metadata": {},
     "output_type": "execute_result"
    }
   ],
   "source": [
    "csv_array[people][seed][csv] / csv_array[people][seed][csv].sum()"
   ]
  },
  {
   "cell_type": "code",
   "execution_count": null,
   "metadata": {},
   "outputs": [],
   "source": []
  }
 ],
 "metadata": {
  "kernelspec": {
   "display_name": "Python 3",
   "language": "python",
   "name": "python3"
  },
  "language_info": {
   "codemirror_mode": {
    "name": "ipython",
    "version": 3
   },
   "file_extension": ".py",
   "mimetype": "text/x-python",
   "name": "python",
   "nbconvert_exporter": "python",
   "pygments_lexer": "ipython3",
   "version": "3.7.0"
  }
 },
 "nbformat": 4,
 "nbformat_minor": 2
}
