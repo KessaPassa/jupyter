{
 "cells": [
  {
   "cell_type": "code",
   "execution_count": 1,
   "metadata": {},
   "outputs": [],
   "source": [
    "import pandas as pd\n",
    "import numpy as np\n",
    "from matplotlib import pyplot as plt\n",
    "import seaborn as sns\n",
    "from sklearn.linear_model import LinearRegression as LR"
   ]
  },
  {
   "cell_type": "code",
   "execution_count": 2,
   "metadata": {},
   "outputs": [],
   "source": [
    "area_list = [str(i) for i in range(81)]\n",
    "area_one_length = 9"
   ]
  },
  {
   "cell_type": "code",
   "execution_count": 3,
   "metadata": {},
   "outputs": [],
   "source": [
    "READ_FILE = 'next_move_area'"
   ]
  },
  {
   "cell_type": "code",
   "execution_count": 4,
   "metadata": {},
   "outputs": [],
   "source": [
    "from collections import namedtuple\n",
    "ARGS_FOR_LIST = namedtuple('FOR_LIST', ('dir', 'ratio', 'seed', 'csv'))\n",
    "\n",
    "def get_for_list():\n",
    "    dir_list = ['p10000', 'p20000', 'p30000']\n",
    "    ratio_list = ['r4', 'r5', 'r6']\n",
    "    seed_list = ['s'+str(123 + i) for i in range(1)]\n",
    "    csv_list = ['census', 'mobile', 'od']\n",
    "\n",
    "    return ARGS_FOR_LIST(dir_list, ratio_list, seed_list, csv_list)"
   ]
  },
  {
   "cell_type": "code",
   "execution_count": 5,
   "metadata": {},
   "outputs": [],
   "source": [
    "def get_read_path(name):\n",
    "    path = '/Users/kessapassa/OneDrive/research_log/20190726/' + name + '/'\n",
    "    return path\n",
    "\n",
    "def get_file_name(args):\n",
    "    return args.dir + args.ratio + args.seed + '_' + args.csv + '.csv'\n",
    "\n",
    "def get_full_path(name, args):\n",
    "    return get_read_path(name) + get_file_name(args)"
   ]
  },
  {
   "cell_type": "code",
   "execution_count": 6,
   "metadata": {},
   "outputs": [],
   "source": [
    "def get_full_area_path(name, args, area):\n",
    "    return get_read_path(name) + args.dir + args.ratio + args.seed + '_' + args.csv + area + '.csv'"
   ]
  },
  {
   "cell_type": "code",
   "execution_count": 7,
   "metadata": {},
   "outputs": [],
   "source": [
    "def for_default_init(func, array):\n",
    "    for_list = get_for_list()\n",
    "    \n",
    "    for _dir in for_list.dir:\n",
    "        array[_dir] = {}\n",
    "        \n",
    "        for _ratio in for_list.ratio:\n",
    "            array[_dir][_ratio] = {}\n",
    "            \n",
    "            for _seed in for_list.seed:\n",
    "                array[_dir][_ratio][_seed] = {}\n",
    "                \n",
    "                for _csv in for_list.csv:\n",
    "                    array[_dir][_ratio][_seed][_csv] = {}\n",
    "                    args = ARGS_FOR_LIST(_dir, _ratio, _seed, _csv)\n",
    "                    func(args, array)"
   ]
  },
  {
   "cell_type": "code",
   "execution_count": 8,
   "metadata": {},
   "outputs": [],
   "source": [
    "def for_default(func):\n",
    "    for_list = get_for_list()  \n",
    "    for _dir in for_list.dir:\n",
    "        for _ratio in for_list.ratio:\n",
    "            for _seed in for_list.seed:\n",
    "                for _csv in for_list.csv:\n",
    "                    args = ARGS_FOR_LIST(_dir, _ratio, _seed, _csv)\n",
    "                    func(args)"
   ]
  },
  {
   "cell_type": "code",
   "execution_count": 9,
   "metadata": {},
   "outputs": [],
   "source": [
    "def create_base_dataframe():\n",
    "    df = pd.DataFrame(columns=(['{0:02d}'.format(i*10) for i in range(area_one_length)]))\n",
    "    return df"
   ]
  },
  {
   "cell_type": "code",
   "execution_count": 10,
   "metadata": {},
   "outputs": [
    {
     "data": {
      "text/html": [
       "<div>\n",
       "<style scoped>\n",
       "    .dataframe tbody tr th:only-of-type {\n",
       "        vertical-align: middle;\n",
       "    }\n",
       "\n",
       "    .dataframe tbody tr th {\n",
       "        vertical-align: top;\n",
       "    }\n",
       "\n",
       "    .dataframe thead th {\n",
       "        text-align: right;\n",
       "    }\n",
       "</style>\n",
       "<table border=\"1\" class=\"dataframe\">\n",
       "  <thead>\n",
       "    <tr style=\"text-align: right;\">\n",
       "      <th></th>\n",
       "      <th>00</th>\n",
       "      <th>10</th>\n",
       "      <th>20</th>\n",
       "      <th>30</th>\n",
       "      <th>40</th>\n",
       "      <th>50</th>\n",
       "      <th>60</th>\n",
       "      <th>70</th>\n",
       "      <th>80</th>\n",
       "    </tr>\n",
       "  </thead>\n",
       "  <tbody>\n",
       "  </tbody>\n",
       "</table>\n",
       "</div>"
      ],
      "text/plain": [
       "Empty DataFrame\n",
       "Columns: [00, 10, 20, 30, 40, 50, 60, 70, 80]\n",
       "Index: []"
      ]
     },
     "execution_count": 10,
     "metadata": {},
     "output_type": "execute_result"
    }
   ],
   "source": [
    "create_base_dataframe()"
   ]
  },
  {
   "cell_type": "code",
   "execution_count": 11,
   "metadata": {},
   "outputs": [],
   "source": [
    "# エリア番号を線形的な数から、iとjで回した数のようにする\n",
    "def convert_area_to_contour(base, read):\n",
    "    for r in np.asanyarray(read):\n",
    "        area_id = int(r[0])\n",
    "        row = str(area_id // area_one_length)\n",
    "        col = str(area_id % area_one_length) + '0'\n",
    "        base.loc[row, col] = r[1]\n",
    "        \n",
    "    return base"
   ]
  },
  {
   "cell_type": "code",
   "execution_count": 12,
   "metadata": {},
   "outputs": [],
   "source": [
    "def area_to_contour(area_id):\n",
    "    area_id = int(area_id)\n",
    "    left = str(area_id // area_one_length)\n",
    "    right = str(area_id % area_one_length) + '0'\n",
    "    return left+right"
   ]
  },
  {
   "cell_type": "code",
   "execution_count": 13,
   "metadata": {},
   "outputs": [],
   "source": [
    "base = create_base_dataframe()\n",
    "\n",
    "csv_array = {}\n",
    "def main(args, array):\n",
    "    for _area in area_list:\n",
    "        df = pd.read_csv(get_full_area_path(READ_FILE, args, _area),\n",
    "                         encoding='Shift_JISx0213')\n",
    "        df = convert_area_to_contour(base.copy(), df.copy())\n",
    "    #                 df = df / df.sum().sum()\n",
    "        df = df.sort_index(ascending=False)\n",
    "        df.fillna(0, inplace=True)\n",
    "\n",
    "        _area = area_to_contour(_area)\n",
    "        array[args.dir][args.ratio][args.seed][args.csv][_area]= df\n",
    "        \n",
    "for_default_init(main, csv_array)"
   ]
  },
  {
   "cell_type": "code",
   "execution_count": 14,
   "metadata": {},
   "outputs": [],
   "source": [
    "def create_contour(df):\n",
    "    plt.figure(figsize=(9,6))\n",
    "    sns.heatmap(df, annot=True, fmt='.０f', cmap='RdYlGn_r',\n",
    "               vmax=df.sum().mean())"
   ]
  },
  {
   "cell_type": "code",
   "execution_count": 15,
   "metadata": {},
   "outputs": [],
   "source": [
    "people = 'p30000'\n",
    "ratio = 'r6'\n",
    "seed = 's123'\n",
    "csv = 'census'"
   ]
  },
  {
   "cell_type": "code",
   "execution_count": 16,
   "metadata": {
    "scrolled": false
   },
   "outputs": [
    {
     "data": {
      "text/html": [
       "<div>\n",
       "<style scoped>\n",
       "    .dataframe tbody tr th:only-of-type {\n",
       "        vertical-align: middle;\n",
       "    }\n",
       "\n",
       "    .dataframe tbody tr th {\n",
       "        vertical-align: top;\n",
       "    }\n",
       "\n",
       "    .dataframe thead th {\n",
       "        text-align: right;\n",
       "    }\n",
       "</style>\n",
       "<table border=\"1\" class=\"dataframe\">\n",
       "  <thead>\n",
       "    <tr style=\"text-align: right;\">\n",
       "      <th></th>\n",
       "      <th>area</th>\n",
       "      <th>sum</th>\n",
       "    </tr>\n",
       "  </thead>\n",
       "  <tbody>\n",
       "    <tr>\n",
       "      <th>69</th>\n",
       "      <td>760</td>\n",
       "      <td>1943</td>\n",
       "    </tr>\n",
       "    <tr>\n",
       "      <th>40</th>\n",
       "      <td>440</td>\n",
       "      <td>1693</td>\n",
       "    </tr>\n",
       "    <tr>\n",
       "      <th>19</th>\n",
       "      <td>210</td>\n",
       "      <td>1507</td>\n",
       "    </tr>\n",
       "    <tr>\n",
       "      <th>49</th>\n",
       "      <td>540</td>\n",
       "      <td>1474</td>\n",
       "    </tr>\n",
       "    <tr>\n",
       "      <th>47</th>\n",
       "      <td>520</td>\n",
       "      <td>1347</td>\n",
       "    </tr>\n",
       "  </tbody>\n",
       "</table>\n",
       "</div>"
      ],
      "text/plain": [
       "   area   sum\n",
       "69  760  1943\n",
       "40  440  1693\n",
       "19  210  1507\n",
       "49  540  1474\n",
       "47  520  1347"
      ]
     },
     "execution_count": 16,
     "metadata": {},
     "output_type": "execute_result"
    }
   ],
   "source": [
    "df_area_sum = pd.DataFrame(columns=['area', 'sum'])\n",
    "for _area in [area_to_contour(i) for i in area_list]:\n",
    "    df = pd.DataFrame([_area, csv_array[people][ratio][seed][csv][_area].sum().sum()], index=['area', 'sum']).T\n",
    "    df_area_sum = pd.concat([df_area_sum, df])\n",
    "df_area_sum.reset_index(drop=True, inplace=True)\n",
    "df_area_sum = df_area_sum[df_area_sum['sum'] > 0]\n",
    "df_area_sum = df_area_sum.sort_values(by=['sum'], ascending=False)\n",
    "df_area_sum.head()"
   ]
  },
  {
   "cell_type": "code",
   "execution_count": 17,
   "metadata": {
    "scrolled": true
   },
   "outputs": [
    {
     "data": {
      "text/plain": [
       "34877.0"
      ]
     },
     "execution_count": 17,
     "metadata": {},
     "output_type": "execute_result"
    }
   ],
   "source": [
    "df_area_sum['sum'].sum()"
   ]
  },
  {
   "cell_type": "code",
   "execution_count": 18,
   "metadata": {
    "scrolled": false
   },
   "outputs": [],
   "source": [
    "# diff1_array = []\n",
    "# diff2_array = []\n",
    "# target_array = []\n",
    "# od_array = []\n",
    "\n",
    "# for _area in area_list:\n",
    "#     _area = area_to_contour(_area)\n",
    "    \n",
    "#     target = csv_array[people][ratio][seed][csv][_area].copy()\n",
    "#     od = csv_array[people][ratio][seed]['od'][_area].copy()\n",
    "    \n",
    "#     if (target.sum().sum() > 0) and (od.sum().sum() > 0):\n",
    "#         diff1 = target / od\n",
    "#         diff2 = od / target\n",
    "#         diff1 = diff1.replace(np.inf,np.nan).fillna(0)\n",
    "#         diff2 = diff2.replace(np.inf,np.nan).fillna(0)\n",
    "        \n",
    "#         diff1_array.append(diff1.mean().mean())\n",
    "#         diff2_array.append(diff2.mean().mean())\n",
    "#         target_array.append(target.mean().mean())\n",
    "#         od_array.append(od.mean().mean())\n",
    "# #         print(_area)\n",
    "# #         print(diff1.mean().mean())\n",
    "# #         print(diff2.mean().mean())"
   ]
  },
  {
   "cell_type": "code",
   "execution_count": 19,
   "metadata": {
    "scrolled": false
   },
   "outputs": [],
   "source": [
    "# from sklearn.metrics import r2_score\n",
    "\n",
    "# trainX = target_array\n",
    "# trainY = od_array\n",
    "\n",
    "# # plt.figure(figsize=(9,6), dpi=600)\n",
    "# plt.plot(trainX, trainY, 'o')\n",
    "# order=2\n",
    "# sns.regplot(x=trainX, y=trainY, order=order, ci=0)\n",
    "# z = np.polyfit(trainX, trainY, order)\n",
    "# z = np.squeeze(z)\n",
    "# p = np.poly1d(z)\n",
    "# print('y = ', p)\n",
    "# print('相関 = ', np.corrcoef(trainX, trainY)[0,1])\n",
    "# print('R^2 = ', r2_score(trainX, trainY))"
   ]
  },
  {
   "cell_type": "code",
   "execution_count": 20,
   "metadata": {},
   "outputs": [],
   "source": [
    "csv_array_2d = {}\n",
    "def create2d(args, array):\n",
    "    for _area in area_list:\n",
    "        df = pd.read_csv(get_full_area_path(READ_FILE, args, _area),\n",
    "                         encoding='Shift_JISx0213')\n",
    "        _area = area_to_contour(_area)\n",
    "        array[args.dir][args.ratio][args.seed][args.csv][_area] = df\n",
    "        \n",
    "for_default_init(create2d, csv_array_2d)"
   ]
  },
  {
   "cell_type": "code",
   "execution_count": 21,
   "metadata": {},
   "outputs": [],
   "source": [
    "from sklearn.linear_model import LinearRegression as LR\n",
    "def show_score(x, y):\n",
    "    x = x.values.reshape(-1, 1)\n",
    "    y = y.values.reshape(-1, 1)\n",
    "    model = LR()\n",
    "    model.fit(x, y)\n",
    "    score = model.score(x, y)\n",
    "    print(score)\n",
    "    \n",
    "    return x, y"
   ]
  },
  {
   "cell_type": "code",
   "execution_count": 22,
   "metadata": {},
   "outputs": [],
   "source": [
    "from sklearn.linear_model import LinearRegression as LR\n",
    "from sklearn.preprocessing import PolynomialFeatures\n",
    "\n",
    "score_array = []\n",
    "def create_score2d(x, y):\n",
    "    x = x.values.reshape(-1, 1)\n",
    "    y = y.values.reshape(-1, 1)\n",
    "    \n",
    "    quadratic = PolynomialFeatures(degree = 2)\n",
    "    X_quad = quadratic.fit_transform(x)\n",
    "    X_fit = np.arange(trainX.min(), trainX.max(), 1)[:, np.newaxis]\n",
    "    model = LR()\n",
    "\n",
    "    # 2次の項を追加、予測値、R^2を評価\n",
    "    mod_quad = model.fit(X_quad, y)\n",
    "    y_quad_fit = mod_quad.predict(quadratic.fit_transform(X_fit))\n",
    "    r2_quad = model.score(X_quad, y)\n",
    "\n",
    "#     plt.figure(figsize=(9,6), dpi=600)\n",
    "    plt.scatter(x, y)\n",
    "    plt.plot(X_fit, y_quad_fit, 'orange')\n",
    "    print(r2_quad)\n",
    "    score_array.append(r2_quad)\n",
    "#     plt.savefig('hoge.png')"
   ]
  },
  {
   "cell_type": "code",
   "execution_count": 23,
   "metadata": {
    "scrolled": true
   },
   "outputs": [
    {
     "name": "stdout",
     "output_type": "stream",
     "text": [
      "440 相関:  0.987 | R^2  0.974 | 平均:  20.901\n"
     ]
    },
    {
     "data": {
      "image/png": "[encoded data removed]",
      "text/plain": [
       "<Figure size 432x288 with 1 Axes>"
      ]
     },
     "metadata": {
      "needs_background": "light"
     },
     "output_type": "display_data"
    }
   ],
   "source": [
    "_area = '440'\n",
    "target = csv_array_2d[people][ratio][seed][csv][_area].copy()\n",
    "od = csv_array_2d[people][ratio][seed]['od'][_area].copy()\n",
    "\n",
    "trainX = target['people']\n",
    "trainY = od['people']\n",
    "#     plt.figure(figsize=(9,6), dpi=600)\n",
    "mean_array = []\n",
    "\n",
    "corr = np.corrcoef(trainX, trainY)[0,1]\n",
    "if (np.isnan(corr) == False):\n",
    "\n",
    "    plt.plot(trainX, trainY, 'o')\n",
    "    order=2\n",
    "    sns.regplot(x=trainX, y=trainY, order=order, ci=0)\n",
    "    z = np.polyfit(trainX, trainY, order)\n",
    "    z = np.squeeze(z)\n",
    "    p = np.poly1d(z)\n",
    "#         print('y = ', p)\n",
    "\n",
    "    trainX = trainX.values.reshape(-1, 1)\n",
    "    trainY = trainY.values.reshape(-1, 1)\n",
    "    model = LR()\n",
    "    model.fit(trainX, trainY)\n",
    "    score = model.score(trainX, trainY)\n",
    "\n",
    "    if score >= 0 :\n",
    "        mean = trainX.mean().mean()\n",
    "        mean_array.append(mean)\n",
    "        print(_area, '相関: ', round(corr, 3),  '| R^2 ', round(score, 3), '| 平均: ', round(mean, 3))"
   ]
  },
  {
   "cell_type": "code",
   "execution_count": 24,
   "metadata": {
    "scrolled": true
   },
   "outputs": [
    {
     "name": "stdout",
     "output_type": "stream",
     "text": [
      "エリア 520 : 平均人数 16.62962962962963\n",
      "0.9573194737828751\n"
     ]
    },
    {
     "data": {
      "image/png": "[encoded data removed]",
      "text/plain": [
       "<Figure size 432x288 with 1 Axes>"
      ]
     },
     "metadata": {
      "needs_background": "light"
     },
     "output_type": "display_data"
    }
   ],
   "source": [
    "_area = '520'\n",
    "target = csv_array_2d[people][ratio][seed][csv][_area].copy()\n",
    "od = csv_array_2d[people][ratio][seed]['od'][_area].copy()\n",
    "trainX = target['people']\n",
    "trainY = od['people']\n",
    "\n",
    "\n",
    "corr = np.corrcoef(trainX, trainY)[0,1]\n",
    "if (np.isnan(corr) == False) and trainX.mean() >= 5:\n",
    "    print('エリア', _area, ': 平均人数', trainX.mean())\n",
    "    create_score2d(trainX, trainY)"
   ]
  },
  {
   "cell_type": "code",
   "execution_count": 25,
   "metadata": {
    "scrolled": true
   },
   "outputs": [
    {
     "name": "stdout",
     "output_type": "stream",
     "text": [
      "エリア 010 : 平均人数 2.950617283950617\n",
      "0.987698824221928\n",
      "エリア 080 : 平均人数 7.037037037037037\n",
      "0.9340082050690928\n",
      "エリア 110 : 平均人数 3.765432098765432\n",
      "0.7937309928169801\n",
      "エリア 120 : 平均人数 10.777777777777779\n",
      "0.8691381516432445\n",
      "エリア 130 : 平均人数 7.506172839506172\n",
      "0.9770123846367097\n",
      "エリア 200 : 平均人数 0.9382716049382716\n",
      "0.028214598361972487\n",
      "エリア 210 : 平均人数 18.604938271604937\n",
      "0.9826364565197138\n",
      "エリア 220 : 平均人数 2.234567901234568\n",
      "0.4787040344340925\n",
      "エリア 230 : 平均人数 11.82716049382716\n",
      "0.9609532134772143\n",
      "エリア 240 : 平均人数 7.049382716049383\n",
      "0.9210606277674145\n",
      "エリア 250 : 平均人数 0.6666666666666666\n",
      "0.37086582540012747\n",
      "エリア 260 : 平均人数 10.975308641975309\n",
      "0.031491277918773375\n",
      "エリア 310 : 平均人数 4.246913580246914\n",
      "0.4363065313759148"
     ]
    },
    {
     "name": "stderr",
     "output_type": "stream",
     "text": [
      "/Users/kessapassa/anaconda3/lib/python3.6/site-packages/numpy/lib/function_base.py:3183: RuntimeWarning: invalid value encountered in true_divide\n",
      "  c /= stddev[:, None]\n",
      "/Users/kessapassa/anaconda3/lib/python3.6/site-packages/numpy/lib/function_base.py:3183: RuntimeWarning: invalid value encountered in true_divide\n",
      "  c /= stddev[:, None]\n",
      "/Users/kessapassa/anaconda3/lib/python3.6/site-packages/numpy/lib/function_base.py:3183: RuntimeWarning: invalid value encountered in true_divide\n",
      "  c /= stddev[:, None]\n",
      "/Users/kessapassa/anaconda3/lib/python3.6/site-packages/numpy/lib/function_base.py:3183: RuntimeWarning: invalid value encountered in true_divide\n",
      "  c /= stddev[:, None]\n",
      "/Users/kessapassa/anaconda3/lib/python3.6/site-packages/numpy/lib/function_base.py:3184: RuntimeWarning: invalid value encountered in true_divide\n",
      "  c /= stddev[None, :]\n",
      "/Users/kessapassa/anaconda3/lib/python3.6/site-packages/numpy/lib/function_base.py:3183: RuntimeWarning: invalid value encountered in true_divide\n",
      "  c /= stddev[:, None]\n",
      "/Users/kessapassa/anaconda3/lib/python3.6/site-packages/numpy/lib/function_base.py:3184: RuntimeWarning: invalid value encountered in true_divide\n",
      "  c /= stddev[None, :]\n",
      "/Users/kessapassa/anaconda3/lib/python3.6/site-packages/numpy/lib/function_base.py:3183: RuntimeWarning: invalid value encountered in true_divide\n",
      "  c /= stddev[:, None]\n",
      "/Users/kessapassa/anaconda3/lib/python3.6/site-packages/numpy/lib/function_base.py:3184: RuntimeWarning: invalid value encountered in true_divide\n",
      "  c /= stddev[None, :]\n",
      "/Users/kessapassa/anaconda3/lib/python3.6/site-packages/numpy/lib/function_base.py:3183: RuntimeWarning: invalid value encountered in true_divide\n",
      "  c /= stddev[:, None]\n",
      "/Users/kessapassa/anaconda3/lib/python3.6/site-packages/numpy/lib/function_base.py:3184: RuntimeWarning: invalid value encountered in true_divide\n",
      "  c /= stddev[None, :]\n",
      "/Users/kessapassa/anaconda3/lib/python3.6/site-packages/numpy/lib/function_base.py:3183: RuntimeWarning: invalid value encountered in true_divide\n",
      "  c /= stddev[:, None]\n",
      "/Users/kessapassa/anaconda3/lib/python3.6/site-packages/numpy/lib/function_base.py:3184: RuntimeWarning: invalid value encountered in true_divide\n",
      "  c /= stddev[None, :]\n",
      "/Users/kessapassa/anaconda3/lib/python3.6/site-packages/numpy/lib/function_base.py:3183: RuntimeWarning: invalid value encountered in true_divide\n",
      "  c /= stddev[:, None]\n",
      "/Users/kessapassa/anaconda3/lib/python3.6/site-packages/numpy/lib/function_base.py:3184: RuntimeWarning: invalid value encountered in true_divide\n",
      "  c /= stddev[None, :]\n"
     ]
    },
    {
     "name": "stdout",
     "output_type": "stream",
     "text": [
      "\n",
      "エリア 320 : 平均人数 15.91358024691358\n",
      "0.437302933746903\n",
      "エリア 330 : 平均人数 10.271604938271604\n",
      "0.9433200116379608\n",
      "エリア 340 : 平均人数 9.444444444444445\n",
      "0.9072636361682647\n",
      "エリア 360 : 平均人数 6.098765432098766\n",
      "0.001340176250980818\n",
      "エリア 400 : 平均人数 6.580246913580247\n",
      "0.9502313588876709\n",
      "エリア 410 : 平均人数 10.604938271604938\n",
      "0.9922460167775707\n",
      "エリア 420 : 平均人数 9.160493827160494\n",
      "0.8957470480002654\n",
      "エリア 430 : 平均人数 7.469135802469136\n",
      "0.9921871470847234\n",
      "エリア 440 : 平均人数 20.901234567901234\n",
      "0.9757765792735473\n",
      "エリア 450 : 平均人数 11.864197530864198\n",
      "0.8330676661537812\n",
      "エリア 460 : 平均人数 6.3580246913580245\n",
      "0.6116073769220741\n",
      "エリア 470 : 平均人数 3.7777777777777777\n",
      "0.6443437090645868\n",
      "エリア 510 : 平均人数 0.9382716049382716\n",
      "0.6715571281054487\n",
      "エリア 520 : 平均人数 16.62962962962963\n",
      "0.9573194737828751\n",
      "エリア 530 : 平均人数 9.271604938271604\n",
      "0.9426473133560123\n",
      "エリア 540 : 平均人数 18.19753086419753\n",
      "0.9692485595517444\n",
      "エリア 550 : 平均人数 14.580246913580247\n",
      "0.7512047127757224\n",
      "エリア 560 : 平均人数 3.3333333333333335\n",
      "0.2709127501556654\n",
      "エリア 610 : 平均人数 0.8024691358024691\n",
      "0.6967537726128319\n",
      "エリア 620 : 平均人数 12.395061728395062\n",
      "0.9926243566020311\n",
      "エリア 630 : 平均人数 9.074074074074074\n",
      "0.9279623783401985\n",
      "エリア 640 : 平均人数 10.62962962962963\n",
      "0.967396114954958\n",
      "エリア 650 : 平均人数 13.876543209876543\n",
      "0.9894430872419638\n",
      "エリア 720 : 平均人数 3.6049382716049383\n",
      "0.8458974172873529\n",
      "エリア 730 : 平均人数 10.012345679012345\n",
      "0.5168062765207286\n",
      "エリア 750 : 平均人数 10.987654320987655\n",
      "0.15350898180071304\n",
      "エリア 760 : 平均人数 23.987654320987655\n",
      "0.9987648644006337\n",
      "エリア 770 : 平均人数 4.703703703703703\n",
      "0.9681111736226315\n",
      "エリア 780 : 平均人数 1.382716049382716\n",
      "0.9825500632227941\n",
      "エリア 830 : 平均人数 6.0\n",
      "0.9246815146601108\n",
      "エリア 840 : 平均人数 3.074074074074074\n",
      "0.4689832656406746\n",
      "エリア 850 : 平均人数 0.12345679012345678\n",
      "0.9613586956521739\n",
      "エリア 860 : 平均人数 10.790123456790123\n",
      "0.8162657343233364\n",
      "エリア 870 : 平均人数 13.864197530864198\n",
      "0.979381202258902\n",
      "エリア 880 : 平均人数 0.13580246913580246\n",
      "1.0\n"
     ]
    },
    {
     "name": "stderr",
     "output_type": "stream",
     "text": [
      "/Users/kessapassa/anaconda3/lib/python3.6/site-packages/numpy/lib/function_base.py:3183: RuntimeWarning: invalid value encountered in true_divide\n",
      "  c /= stddev[:, None]\n",
      "/Users/kessapassa/anaconda3/lib/python3.6/site-packages/numpy/lib/function_base.py:3184: RuntimeWarning: invalid value encountered in true_divide\n",
      "  c /= stddev[None, :]\n",
      "/Users/kessapassa/anaconda3/lib/python3.6/site-packages/numpy/lib/function_base.py:3183: RuntimeWarning: invalid value encountered in true_divide\n",
      "  c /= stddev[:, None]\n",
      "/Users/kessapassa/anaconda3/lib/python3.6/site-packages/numpy/lib/function_base.py:3184: RuntimeWarning: invalid value encountered in true_divide\n",
      "  c /= stddev[None, :]\n",
      "/Users/kessapassa/anaconda3/lib/python3.6/site-packages/numpy/lib/function_base.py:3183: RuntimeWarning: invalid value encountered in true_divide\n",
      "  c /= stddev[:, None]\n"
     ]
    },
    {
     "data": {
      "image/png": "[encoded data removed]",
      "text/plain": [
       "<Figure size 432x288 with 1 Axes>"
      ]
     },
     "metadata": {
      "needs_background": "light"
     },
     "output_type": "display_data"
    }
   ],
   "source": [
    "# _area = '440'\n",
    "for _area in area_list:\n",
    "    _area = area_to_contour(_area)\n",
    "    target = csv_array_2d[people][ratio][seed][csv][_area].copy()\n",
    "    od = csv_array_2d[people][ratio][seed]['od'][_area].copy()\n",
    "    trainX = target['people']\n",
    "    trainY = od['people']\n",
    "    \n",
    "    \n",
    "    corr = np.corrcoef(trainX, trainY)[0,1]\n",
    "    if (np.isnan(corr) == False) and trainX.mean() >= 0:\n",
    "        print('エリア', _area, ': 平均人数', trainX.mean())\n",
    "        create_score2d(trainX, trainY)"
   ]
  },
  {
   "cell_type": "code",
   "execution_count": 26,
   "metadata": {
    "scrolled": false
   },
   "outputs": [
    {
     "name": "stdout",
     "output_type": "stream",
     "text": [
      "080 相関:  0.947 | R^2  0.898 | 平均:  7.037\n",
      "120 相関:  0.919 | R^2  0.844 | 平均:  10.778\n",
      "130 相関:  0.985 | R^2  0.97 | 平均:  7.506\n",
      "210 相関:  0.991 | R^2  0.983 | 平均:  18.605\n",
      "230 相関:  0.946 | R^2  0.895 | 平均:  11.827\n",
      "240 相関:  0.958 | R^2  0.918 | 平均:  7.049\n",
      "260 相関:  0.061 | R^2  0.004 | 平均:  10.975\n",
      "310 相関:  0.621 | R^2  0.385 | 平均:  4.247\n",
      "320 相関:  0.644 | R^2  0.414 | 平均:  15.914\n",
      "330 相関:  0.968 | R^2  0.937 | 平均:  10.272\n",
      "340 相関:  0.95 | R^2  0.902 | 平均:  9.444\n",
      "360 相関:  0.027 | R^2  0.001 | 平均:  6.099\n",
      "400 相関:  0.971 | R^2  0.942 | 平均:  6.58\n",
      "410 相関:  0.96 | R^2  0.921 | 平均:  10.605\n",
      "420 相関:  0.492 | R^2  0.242 | 平均:  9.16\n",
      "430 相関:  0.98 | R^2  0.96 | 平均:  7.469\n",
      "440 相関:  0.987 | R^2  0.974 | 平均:  20.901\n",
      "450 相関:  0.84 | R^2  0.705 | 平均:  11.864\n",
      "460 相関:  0.767 | R^2  0.589 | 平均:  6.358\n",
      "520 相関:  0.978 | R^2  0.957 | 平均:  16.63\n",
      "530 相関:  0.959 | R^2  0.92 | 平均:  9.272\n",
      "540 相関:  0.982 | R^2  0.965 | 平均:  18.198\n",
      "550 相関:  0.853 | R^2  0.728 | 平均:  14.58\n",
      "620 相関:  0.988 | R^2  0.975 | 平均:  12.395\n",
      "630 相関:  0.495 | R^2  0.245 | 平均:  9.074\n",
      "640 相関:  0.955 | R^2  0.913 | 平均:  10.63\n",
      "650 相関:  0.993 | R^2  0.987 | 平均:  13.877\n",
      "730 相関:  0.719 | R^2  0.517 | 平均:  10.012\n",
      "750 相関:  0.07 | R^2  0.005 | 平均:  10.988\n",
      "760 相関:  0.948 | R^2  0.899 | 平均:  23.988\n",
      "770 相関:  0.973 | R^2  0.946 | 平均:  4.704\n",
      "830 相関:  0.95 | R^2  0.903 | 平均:  6.0\n",
      "860 相関:  0.895 | R^2  0.801 | 平均:  10.79\n",
      "870 相関:  0.989 | R^2  0.978 | 平均:  13.864\n",
      "mean平均:  11.108569353667392\n",
      "score平均:  0.7418390937913305\n"
     ]
    },
    {
     "data": {
      "image/png": "[encoded data removed]",
      "text/plain": [
       "<Figure size 432x288 with 1 Axes>"
      ]
     },
     "metadata": {
      "needs_background": "light"
     },
     "output_type": "display_data"
    }
   ],
   "source": [
    "# plt.figure(figsize=(9,6), dpi=600)\n",
    "mean_array = []\n",
    "score_array = []\n",
    "\n",
    "from sklearn.metrics import r2_score\n",
    "import warnings\n",
    "warnings.filterwarnings('ignore')\n",
    "\n",
    "for _area in area_list:\n",
    "    _area = area_to_contour(_area)\n",
    "    target = csv_array_2d[people][ratio][seed][csv][_area].copy()\n",
    "    od = csv_array_2d[people][ratio][seed]['od'][_area].copy()\n",
    "\n",
    "    trainX = target['people']\n",
    "    trainY = od['people']\n",
    "#     plt.figure(figsize=(9,6), dpi=600)\n",
    "\n",
    "    corr = np.corrcoef(trainX, trainY)[0,1]\n",
    "#     r2 = r2_score(trainX, trainY)\n",
    "    if ((np.isnan(corr) == False) and trainX.mean().mean() > 4):\n",
    "\n",
    "        plt.plot(trainX, trainY, 'o')\n",
    "        order=2\n",
    "        sns.regplot(x=trainX, y=trainY, order=order, ci=0)\n",
    "        z = np.polyfit(trainX, trainY, order)\n",
    "        z = np.squeeze(z)\n",
    "        p = np.poly1d(z)\n",
    "    #         print('y = ', p)\n",
    "    \n",
    "        trainX = trainX.values.reshape(-1, 1)\n",
    "        trainY = trainY.values.reshape(-1, 1)\n",
    "        model = LR()\n",
    "        model.fit(trainX, trainY)\n",
    "        score = model.score(trainX, trainY)\n",
    "        score_array.append(score)\n",
    "\n",
    "        if score >= 0 :\n",
    "            mean = trainX.mean().mean()\n",
    "            mean_array.append(mean)\n",
    "            print(_area, '相関: ', round(corr, 3),  '| R^2 ', round(score, 3), '| 平均: ', round(mean, 3))\n",
    "            \n",
    "    #         plt.savefig('{0}_mobile_include_id.png'.format(_area))\n",
    "\n",
    "mean = 0\n",
    "for i in mean_array:\n",
    "    mean += i\n",
    "print('mean平均: ', mean / len(mean_array))\n",
    "\n",
    "score = 0\n",
    "for i in score_array:\n",
    "     score += i\n",
    "print('score平均: ', score / len(score_array))"
   ]
  },
  {
   "cell_type": "code",
   "execution_count": 27,
   "metadata": {},
   "outputs": [],
   "source": [
    "from sklearn.linear_model import LinearRegression as LR\n",
    "from sklearn.preprocessing import PolynomialFeatures\n",
    "\n",
    "def show_score2d(array, x, y):\n",
    "    x = x.values.reshape(-1, 1)\n",
    "    y = y.values.reshape(-1, 1)\n",
    "    \n",
    "    quadratic = PolynomialFeatures(degree = 2)\n",
    "    X_quad = quadratic.fit_transform(x)\n",
    "    X_fit = np.arange(trainX.min(), trainX.max(), 1)[:, np.newaxis]\n",
    "    model = LR()\n",
    "\n",
    "    # 2次の項を追加、予測値、R^2を評価\n",
    "    mod_quad = model.fit(X_quad, y)\n",
    "    y_quad_fit = mod_quad.predict(quadratic.fit_transform(X_fit))\n",
    "    r2_quad = model.score(X_quad, y)\n",
    "\n",
    "    array.append(r2_quad)"
   ]
  },
  {
   "cell_type": "code",
   "execution_count": 28,
   "metadata": {},
   "outputs": [],
   "source": [
    "import warnings\n",
    "warnings.filterwarnings('ignore')\n",
    "score_array = {}\n",
    "\n",
    "for_list = get_for_list()  \n",
    "for _dir in for_list.dir:\n",
    "    score_array[_dir] = {}\n",
    "    for _ratio in for_list.ratio:\n",
    "        score_array[_dir][_ratio] = {}\n",
    "        for _seed in for_list.seed:\n",
    "            score_array[_dir][_ratio][_seed] = []\n",
    "            for _area in area_list:\n",
    "                _area = area_to_contour(_area)\n",
    "                target = csv_array_2d[_dir][_ratio][_seed]['census'][_area].copy()\n",
    "                od = csv_array_2d[_dir][_ratio][_seed]['od'][_area].copy()\n",
    "\n",
    "                trainX = target['people']\n",
    "                trainY = od['people']\n",
    "\n",
    "                corr = np.corrcoef(trainX, trainY)[0,1]\n",
    "                if (np.isnan(corr) == False) and trainX.mean() >= 0:\n",
    "#                     print('エリア', _area, ': 平均人数', trainX.mean())\n",
    "                    show_score2d(score_array[_dir][_ratio][_seed], trainX, trainY)"
   ]
  },
  {
   "cell_type": "code",
   "execution_count": 29,
   "metadata": {},
   "outputs": [],
   "source": [
    "people = 'p30000'\n",
    "ratio = 'r6'\n",
    "seed = 's123'"
   ]
  },
  {
   "cell_type": "code",
   "execution_count": 30,
   "metadata": {
    "scrolled": true
   },
   "outputs": [
    {
     "data": {
      "text/plain": [
       "0.7647840337600211"
      ]
     },
     "execution_count": 30,
     "metadata": {},
     "output_type": "execute_result"
    }
   ],
   "source": [
    "pd.Series(score_array[people][ratio][seed]).mean()"
   ]
  },
  {
   "cell_type": "code",
   "execution_count": 31,
   "metadata": {},
   "outputs": [
    {
     "data": {
      "text/plain": [
       "0.9228710712137627"
      ]
     },
     "execution_count": 31,
     "metadata": {},
     "output_type": "execute_result"
    }
   ],
   "source": [
    "pd.Series(score_array[people][ratio][seed]).median()"
   ]
  },
  {
   "cell_type": "code",
   "execution_count": 32,
   "metadata": {},
   "outputs": [],
   "source": [
    "def create_all_counter(area):\n",
    "    df = csv_array[people][ratio][seed].copy()\n",
    "    mobile = df['mobile'][area].copy()\n",
    "    census = df['census'][area].copy()\n",
    "    od = df['od'][area].copy()\n",
    "    \n",
    "    print(mobile.sum().sum())\n",
    "    print(census.sum().sum())\n",
    "    print(od.sum().sum())\n",
    "    \n",
    "    create_contour(mobile)\n",
    "    create_contour(census)\n",
    "    create_contour(od)"
   ]
  },
  {
   "cell_type": "markdown",
   "metadata": {},
   "source": [
    "# コンター図"
   ]
  },
  {
   "cell_type": "code",
   "execution_count": 33,
   "metadata": {},
   "outputs": [],
   "source": [
    "def create_contour(target, area, file_name=False):\n",
    "    df = csv_array[people][ratio][seed][target][area].copy()\n",
    "    \n",
    "    plt.figure(figsize=(9,6))\n",
    "    if file_name:\n",
    "        plt.figure(figsize=(9,6), dpi=600)\n",
    "        \n",
    "    sns.heatmap(df, annot=True, fmt='.0f', cmap='RdYlGn_r',\n",
    "               vmax=df.sum().mean(), vmin=0)\n",
    "    if file_name:\n",
    "        plt.savefig('{0}.png'.format(file_name))\n",
    "        \n",
    "    print(df.sum().sum())"
   ]
  },
  {
   "cell_type": "code",
   "execution_count": 34,
   "metadata": {},
   "outputs": [
    {
     "name": "stdout",
     "output_type": "stream",
     "text": [
      "1693.0\n"
     ]
    },
    {
     "data": {
      "image/png": "[encoded data removed]",
      "text/plain": [
       "<Figure size 648x432 with 2 Axes>"
      ]
     },
     "metadata": {
      "needs_background": "light"
     },
     "output_type": "display_data"
    }
   ],
   "source": [
    "target = 'census'\n",
    "area='440'\n",
    "create_contour(target, area)"
   ]
  },
  {
   "cell_type": "code",
   "execution_count": 35,
   "metadata": {},
   "outputs": [
    {
     "name": "stdout",
     "output_type": "stream",
     "text": [
      "エリア: 760\n",
      "\n",
      "1943.0\n"
     ]
    },
    {
     "data": {
      "image/png": "[encoded data removed]",
      "text/plain": [
       "<Figure size 648x432 with 2 Axes>"
      ]
     },
     "metadata": {
      "needs_background": "light"
     },
     "output_type": "display_data"
    }
   ],
   "source": [
    "area = df_area_sum.iloc[0, 0]\n",
    "print('エリア: ' + area + '\\n')\n",
    "create_contour(target, area)"
   ]
  },
  {
   "cell_type": "code",
   "execution_count": 36,
   "metadata": {},
   "outputs": [
    {
     "name": "stdout",
     "output_type": "stream",
     "text": [
      "エリア: 440\n",
      "\n",
      "1693.0\n"
     ]
    },
    {
     "data": {
      "image/png": "[encoded data removed]",
      "text/plain": [
       "<Figure size 648x432 with 2 Axes>"
      ]
     },
     "metadata": {
      "needs_background": "light"
     },
     "output_type": "display_data"
    }
   ],
   "source": [
    "area = df_area_sum.iloc[1, 0]\n",
    "print('エリア: ' + area + '\\n')\n",
    "create_contour(target, area)"
   ]
  },
  {
   "cell_type": "code",
   "execution_count": 37,
   "metadata": {
    "scrolled": true
   },
   "outputs": [
    {
     "name": "stdout",
     "output_type": "stream",
     "text": [
      "エリア: 210\n",
      "\n",
      "1507.0\n"
     ]
    },
    {
     "data": {
      "image/png": "[encoded data removed]",
      "text/plain": [
       "<Figure size 648x432 with 2 Axes>"
      ]
     },
     "metadata": {
      "needs_background": "light"
     },
     "output_type": "display_data"
    }
   ],
   "source": [
    "area = df_area_sum.iloc[2, 0]\n",
    "print('エリア: ' + area + '\\n')\n",
    "create_contour(target, area)"
   ]
  },
  {
   "cell_type": "code",
   "execution_count": 38,
   "metadata": {},
   "outputs": [
    {
     "name": "stdout",
     "output_type": "stream",
     "text": [
      "エリア: 540\n",
      "\n",
      "1474.0\n"
     ]
    },
    {
     "data": {
      "image/png": "[encoded data removed]",
      "text/plain": [
       "<Figure size 648x432 with 2 Axes>"
      ]
     },
     "metadata": {
      "needs_background": "light"
     },
     "output_type": "display_data"
    }
   ],
   "source": [
    "area = df_area_sum.iloc[3, 0]\n",
    "print('エリア: ' + area + '\\n')\n",
    "create_contour(target, area)"
   ]
  },
  {
   "cell_type": "code",
   "execution_count": 39,
   "metadata": {},
   "outputs": [
    {
     "name": "stdout",
     "output_type": "stream",
     "text": [
      "エリア: 520\n",
      "\n",
      "1347.0\n"
     ]
    },
    {
     "data": {
      "image/png": "[encoded data removed]",
      "text/plain": [
       "<Figure size 648x432 with 2 Axes>"
      ]
     },
     "metadata": {
      "needs_background": "light"
     },
     "output_type": "display_data"
    }
   ],
   "source": [
    "area = df_area_sum.iloc[4, 0]\n",
    "print('エリア: ' + area + '\\n')\n",
    "create_contour(target, area)"
   ]
  },
  {
   "cell_type": "code",
   "execution_count": 40,
   "metadata": {},
   "outputs": [],
   "source": [
    "# def create_contour_diff(df):\n",
    "#     plt.figure(figsize=(9,6))\n",
    "#     sns.heatmap(df, annot=True, fmt='.3f', cmap='RdYlGn_r',\n",
    "#                vmax=df.sum().mean())"
   ]
  },
  {
   "cell_type": "code",
   "execution_count": 41,
   "metadata": {},
   "outputs": [],
   "source": [
    "# def create_diff_counter(area):\n",
    "#     taget = csv_array[people][ratio][seed][csv][area].copy()\n",
    "#     od = csv_array[people][ratio][seed]['od'][area].copy()\n",
    "    \n",
    "#     diff_target = target / od\n",
    "#     diff_od = od / target\n",
    "    \n",
    "#     diff_target = diff_target.replace(np.inf,np.nan).fillna(0)\n",
    "#     diff_od = diff_od.replace(np.inf,np.nan).fillna(0)\n",
    "    \n",
    "#     create_contour_diff(diff_target)\n",
    "#     create_contour_diff(diff_od)"
   ]
  },
  {
   "cell_type": "code",
   "execution_count": 42,
   "metadata": {},
   "outputs": [],
   "source": [
    "# area = df_area_sum.iloc[0, 0]\n",
    "# print('エリア: ' + area + '\\n')\n",
    "# create_diff_counter(area)"
   ]
  },
  {
   "cell_type": "code",
   "execution_count": 43,
   "metadata": {},
   "outputs": [],
   "source": [
    "# area = df_area_sum.iloc[1, 0]\n",
    "# print('エリア: ' + area + '\\n')\n",
    "# create_diff_counter(area)"
   ]
  },
  {
   "cell_type": "code",
   "execution_count": 44,
   "metadata": {},
   "outputs": [],
   "source": [
    "# area = df_area_sum.iloc[2, 0]\n",
    "# print('エリア: ' + area + '\\n')\n",
    "# create_diff_counter(area)"
   ]
  },
  {
   "cell_type": "code",
   "execution_count": null,
   "metadata": {},
   "outputs": [],
   "source": []
  }
 ],
 "metadata": {
  "kernelspec": {
   "display_name": "Python 3",
   "language": "python",
   "name": "python3"
  },
  "language_info": {
   "codemirror_mode": {
    "name": "ipython",
    "version": 3
   },
   "file_extension": ".py",
   "mimetype": "text/x-python",
   "name": "python",
   "nbconvert_exporter": "python",
   "pygments_lexer": "ipython3",
   "version": "3.6.8"
  }
 },
 "nbformat": 4,
 "nbformat_minor": 2
}
