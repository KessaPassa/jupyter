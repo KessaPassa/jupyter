{
 "cells": [
  {
   "cell_type": "code",
   "execution_count": 1,
   "metadata": {},
   "outputs": [],
   "source": [
    "import pandas as pd\n",
    "import numpy as np\n",
    "from matplotlib import pyplot as plt\n",
    "import seaborn as sns\n",
    "from sklearn.linear_model import LinearRegression as LR"
   ]
  },
  {
   "cell_type": "code",
   "execution_count": 2,
   "metadata": {},
   "outputs": [],
   "source": [
    "area_list = [str(i) for i in range(81)]\n",
    "area_one_length = 9"
   ]
  },
  {
   "cell_type": "code",
   "execution_count": 3,
   "metadata": {},
   "outputs": [],
   "source": [
    "READ_FILE = 'next_move_area'"
   ]
  },
  {
   "cell_type": "code",
   "execution_count": 4,
   "metadata": {},
   "outputs": [],
   "source": [
    "from collections import namedtuple\n",
    "ARGS_FOR_LIST = namedtuple('FOR_LIST', ('dir', 'ratio', 'seed', 'csv'))\n",
    "\n",
    "def get_for_list():\n",
    "    dir_list = ['p10000', 'p20000', 'p30000']\n",
    "    ratio_list = ['r4', 'r5', 'r6']\n",
    "    seed_list = ['s'+str(123 + i) for i in range(1)]\n",
    "    csv_list = ['census', 'mobile', 'od']\n",
    "\n",
    "    return ARGS_FOR_LIST(dir_list, ratio_list, seed_list, csv_list)"
   ]
  },
  {
   "cell_type": "code",
   "execution_count": 5,
   "metadata": {},
   "outputs": [],
   "source": [
    "def get_read_path(name):\n",
    "    path = '/Users/kessapassa/OneDrive/research_log/20190726/' + name + '/'\n",
    "    return path\n",
    "\n",
    "def get_file_name(args):\n",
    "    return args.dir + args.ratio + args.seed + '_' + args.csv + '.csv'\n",
    "\n",
    "def get_full_path(name, args):\n",
    "    return get_read_path(name) + get_file_name(args)"
   ]
  },
  {
   "cell_type": "code",
   "execution_count": 6,
   "metadata": {},
   "outputs": [],
   "source": [
    "def get_full_area_path(name, args, area):\n",
    "    return get_read_path(name) + args.dir + args.ratio + args.seed + '_' + args.csv + area + '.csv'"
   ]
  },
  {
   "cell_type": "code",
   "execution_count": 7,
   "metadata": {},
   "outputs": [],
   "source": [
    "def for_default_init(func, array):\n",
    "    for_list = get_for_list()\n",
    "    \n",
    "    for _dir in for_list.dir:\n",
    "        array[_dir] = {}\n",
    "        \n",
    "        for _ratio in for_list.ratio:\n",
    "            array[_dir][_ratio] = {}\n",
    "            \n",
    "            for _seed in for_list.seed:\n",
    "                array[_dir][_ratio][_seed] = {}\n",
    "                \n",
    "                for _csv in for_list.csv:\n",
    "                    array[_dir][_ratio][_seed][_csv] = {}\n",
    "                    args = ARGS_FOR_LIST(_dir, _ratio, _seed, _csv)\n",
    "                    func(args, array)"
   ]
  },
  {
   "cell_type": "code",
   "execution_count": 8,
   "metadata": {},
   "outputs": [],
   "source": [
    "def for_default(func):\n",
    "    for_list = get_for_list()  \n",
    "    for _dir in for_list.dir:\n",
    "        for _ratio in for_list.ratio:\n",
    "            for _seed in for_list.seed:\n",
    "                for _csv in for_list.csv:\n",
    "                    args = ARGS_FOR_LIST(_dir, _ratio, _seed, _csv)\n",
    "                    func(args)"
   ]
  },
  {
   "cell_type": "code",
   "execution_count": 9,
   "metadata": {},
   "outputs": [],
   "source": [
    "def create_base_dataframe():\n",
    "    df = pd.DataFrame(columns=(['{0:02d}'.format(i*10) for i in range(area_one_length)]))\n",
    "    return df"
   ]
  },
  {
   "cell_type": "code",
   "execution_count": 10,
   "metadata": {},
   "outputs": [
    {
     "data": {
      "text/html": [
       "<div>\n",
       "<style scoped>\n",
       "    .dataframe tbody tr th:only-of-type {\n",
       "        vertical-align: middle;\n",
       "    }\n",
       "\n",
       "    .dataframe tbody tr th {\n",
       "        vertical-align: top;\n",
       "    }\n",
       "\n",
       "    .dataframe thead th {\n",
       "        text-align: right;\n",
       "    }\n",
       "</style>\n",
       "<table border=\"1\" class=\"dataframe\">\n",
       "  <thead>\n",
       "    <tr style=\"text-align: right;\">\n",
       "      <th></th>\n",
       "      <th>00</th>\n",
       "      <th>10</th>\n",
       "      <th>20</th>\n",
       "      <th>30</th>\n",
       "      <th>40</th>\n",
       "      <th>50</th>\n",
       "      <th>60</th>\n",
       "      <th>70</th>\n",
       "      <th>80</th>\n",
       "    </tr>\n",
       "  </thead>\n",
       "  <tbody>\n",
       "  </tbody>\n",
       "</table>\n",
       "</div>"
      ],
      "text/plain": [
       "Empty DataFrame\n",
       "Columns: [00, 10, 20, 30, 40, 50, 60, 70, 80]\n",
       "Index: []"
      ]
     },
     "execution_count": 10,
     "metadata": {},
     "output_type": "execute_result"
    }
   ],
   "source": [
    "create_base_dataframe()"
   ]
  },
  {
   "cell_type": "code",
   "execution_count": 11,
   "metadata": {},
   "outputs": [],
   "source": [
    "# エリア番号を線形的な数から、iとjで回した数のようにする\n",
    "def convert_area_to_contour(base, read):\n",
    "    for r in np.asanyarray(read):\n",
    "        area_id = int(r[0])\n",
    "        row = str(area_id // area_one_length)\n",
    "        col = str(area_id % area_one_length) + '0'\n",
    "        base.loc[row, col] = r[1]\n",
    "        \n",
    "    return base"
   ]
  },
  {
   "cell_type": "code",
   "execution_count": 12,
   "metadata": {},
   "outputs": [],
   "source": [
    "def area_to_contour(area_id):\n",
    "    area_id = int(area_id)\n",
    "    left = str(area_id // area_one_length)\n",
    "    right = str(area_id % area_one_length) + '0'\n",
    "    return left+right"
   ]
  },
  {
   "cell_type": "code",
   "execution_count": 13,
   "metadata": {},
   "outputs": [],
   "source": [
    "base = create_base_dataframe()\n",
    "\n",
    "csv_array = {}\n",
    "def main(args, array):\n",
    "    for _area in area_list:\n",
    "        df = pd.read_csv(get_full_area_path(READ_FILE, args, _area),\n",
    "                         encoding='Shift_JISx0213')\n",
    "        df = convert_area_to_contour(base.copy(), df.copy())\n",
    "    #                 df = df / df.sum().sum()\n",
    "        df = df.sort_index(ascending=False)\n",
    "        df.fillna(0, inplace=True)\n",
    "\n",
    "        _area = area_to_contour(_area)\n",
    "        array[args.dir][args.ratio][args.seed][args.csv][_area]= df\n",
    "        \n",
    "for_default_init(main, csv_array)"
   ]
  },
  {
   "cell_type": "code",
   "execution_count": 14,
   "metadata": {},
   "outputs": [],
   "source": [
    "def create_contour(df):\n",
    "    plt.figure(figsize=(9,6))\n",
    "    sns.heatmap(df, annot=True, fmt='.０f', cmap='RdYlGn_r',\n",
    "               vmax=df.sum().mean())"
   ]
  },
  {
   "cell_type": "code",
   "execution_count": 15,
   "metadata": {},
   "outputs": [],
   "source": [
    "people = 'p30000'\n",
    "ratio = 'r6'\n",
    "seed = 's123'\n",
    "csv = 'census'"
   ]
  },
  {
   "cell_type": "code",
   "execution_count": 16,
   "metadata": {
    "scrolled": false
   },
   "outputs": [
    {
     "data": {
      "text/html": [
       "<div>\n",
       "<style scoped>\n",
       "    .dataframe tbody tr th:only-of-type {\n",
       "        vertical-align: middle;\n",
       "    }\n",
       "\n",
       "    .dataframe tbody tr th {\n",
       "        vertical-align: top;\n",
       "    }\n",
       "\n",
       "    .dataframe thead th {\n",
       "        text-align: right;\n",
       "    }\n",
       "</style>\n",
       "<table border=\"1\" class=\"dataframe\">\n",
       "  <thead>\n",
       "    <tr style=\"text-align: right;\">\n",
       "      <th></th>\n",
       "      <th>area</th>\n",
       "      <th>sum</th>\n",
       "    </tr>\n",
       "  </thead>\n",
       "  <tbody>\n",
       "    <tr>\n",
       "      <th>69</th>\n",
       "      <td>760</td>\n",
       "      <td>1943</td>\n",
       "    </tr>\n",
       "    <tr>\n",
       "      <th>40</th>\n",
       "      <td>440</td>\n",
       "      <td>1693</td>\n",
       "    </tr>\n",
       "    <tr>\n",
       "      <th>19</th>\n",
       "      <td>210</td>\n",
       "      <td>1507</td>\n",
       "    </tr>\n",
       "    <tr>\n",
       "      <th>49</th>\n",
       "      <td>540</td>\n",
       "      <td>1474</td>\n",
       "    </tr>\n",
       "    <tr>\n",
       "      <th>47</th>\n",
       "      <td>520</td>\n",
       "      <td>1347</td>\n",
       "    </tr>\n",
       "  </tbody>\n",
       "</table>\n",
       "</div>"
      ],
      "text/plain": [
       "   area   sum\n",
       "69  760  1943\n",
       "40  440  1693\n",
       "19  210  1507\n",
       "49  540  1474\n",
       "47  520  1347"
      ]
     },
     "execution_count": 16,
     "metadata": {},
     "output_type": "execute_result"
    }
   ],
   "source": [
    "df_area_sum = pd.DataFrame(columns=['area', 'sum'])\n",
    "for _area in [area_to_contour(i) for i in area_list]:\n",
    "    df = pd.DataFrame([_area, csv_array[people][ratio][seed][csv][_area].sum().sum()], index=['area', 'sum']).T\n",
    "    df_area_sum = pd.concat([df_area_sum, df])\n",
    "df_area_sum.reset_index(drop=True, inplace=True)\n",
    "df_area_sum = df_area_sum[df_area_sum['sum'] > 0]\n",
    "df_area_sum = df_area_sum.sort_values(by=['sum'], ascending=False)\n",
    "df_area_sum.head()"
   ]
  },
  {
   "cell_type": "code",
   "execution_count": 17,
   "metadata": {
    "scrolled": true
   },
   "outputs": [
    {
     "data": {
      "text/plain": [
       "34877.0"
      ]
     },
     "execution_count": 17,
     "metadata": {},
     "output_type": "execute_result"
    }
   ],
   "source": [
    "df_area_sum['sum'].sum()"
   ]
  },
  {
   "cell_type": "code",
   "execution_count": 18,
   "metadata": {
    "scrolled": false
   },
   "outputs": [],
   "source": [
    "# diff1_array = []\n",
    "# diff2_array = []\n",
    "# target_array = []\n",
    "# od_array = []\n",
    "\n",
    "# for _area in area_list:\n",
    "#     _area = area_to_contour(_area)\n",
    "    \n",
    "#     target = csv_array[people][ratio][seed][csv][_area].copy()\n",
    "#     od = csv_array[people][ratio][seed]['od'][_area].copy()\n",
    "    \n",
    "#     if (target.sum().sum() > 0) and (od.sum().sum() > 0):\n",
    "#         diff1 = target / od\n",
    "#         diff2 = od / target\n",
    "#         diff1 = diff1.replace(np.inf,np.nan).fillna(0)\n",
    "#         diff2 = diff2.replace(np.inf,np.nan).fillna(0)\n",
    "        \n",
    "#         diff1_array.append(diff1.mean().mean())\n",
    "#         diff2_array.append(diff2.mean().mean())\n",
    "#         target_array.append(target.mean().mean())\n",
    "#         od_array.append(od.mean().mean())\n",
    "# #         print(_area)\n",
    "# #         print(diff1.mean().mean())\n",
    "# #         print(diff2.mean().mean())"
   ]
  },
  {
   "cell_type": "code",
   "execution_count": 19,
   "metadata": {
    "scrolled": false
   },
   "outputs": [],
   "source": [
    "# from sklearn.metrics import r2_score\n",
    "\n",
    "# trainX = target_array\n",
    "# trainY = od_array\n",
    "\n",
    "# # plt.figure(figsize=(9,6), dpi=600)\n",
    "# plt.plot(trainX, trainY, 'o')\n",
    "# order=2\n",
    "# sns.regplot(x=trainX, y=trainY, order=order, ci=0)\n",
    "# z = np.polyfit(trainX, trainY, order)\n",
    "# z = np.squeeze(z)\n",
    "# p = np.poly1d(z)\n",
    "# print('y = ', p)\n",
    "# print('相関 = ', np.corrcoef(trainX, trainY)[0,1])\n",
    "# print('R^2 = ', r2_score(trainX, trainY))"
   ]
  },
  {
   "cell_type": "code",
   "execution_count": 20,
   "metadata": {},
   "outputs": [],
   "source": [
    "csv_array_2d = {}\n",
    "def create2d(args, array):\n",
    "    for _area in area_list:\n",
    "        df = pd.read_csv(get_full_area_path(READ_FILE, args, _area),\n",
    "                         encoding='Shift_JISx0213')\n",
    "        _area = area_to_contour(_area)\n",
    "        array[args.dir][args.ratio][args.seed][args.csv][_area] = df\n",
    "        \n",
    "for_default_init(create2d, csv_array_2d)"
   ]
  },
  {
   "cell_type": "code",
   "execution_count": 21,
   "metadata": {},
   "outputs": [],
   "source": [
    "from sklearn.linear_model import LinearRegression as LR\n",
    "def show_score(x, y):\n",
    "    x = x.values.reshape(-1, 1)\n",
    "    y = y.values.reshape(-1, 1)\n",
    "    model = LR()\n",
    "    model.fit(x, y)\n",
    "    score = model.score(x, y)\n",
    "    print(score)\n",
    "    \n",
    "    return x, y"
   ]
  },
  {
   "cell_type": "code",
   "execution_count": 28,
   "metadata": {},
   "outputs": [],
   "source": [
    "from sklearn.linear_model import LinearRegression as LR\n",
    "from sklearn.preprocessing import PolynomialFeatures\n",
    "\n",
    "score_array = []\n",
    "def create_score2d(x, y):\n",
    "    x = x.values.reshape(-1, 1)\n",
    "    y = y.values.reshape(-1, 1)\n",
    "    \n",
    "    quadratic = PolynomialFeatures(degree = 2)\n",
    "    X_quad = quadratic.fit_transform(x)\n",
    "    X_fit = np.arange(trainX.min(), trainX.max(), 1)[:, np.newaxis]\n",
    "    model = LR()\n",
    "\n",
    "    # 2次の項を追加、予測値、R^2を評価\n",
    "    mod_quad = model.fit(X_quad, y)\n",
    "    y_quad_fit = mod_quad.predict(quadratic.fit_transform(X_fit))\n",
    "    r2_quad = model.score(X_quad, y)\n",
    "\n",
    "#     plt.figure(figsize=(9,6), dpi=600)\n",
    "    plt.scatter(x, y)\n",
    "    plt.plot(X_fit, y_quad_fit, 'orange')\n",
    "    print(r2_quad)\n",
    "    score_array.append(r2_quad)\n",
    "#     plt.savefig('hoge.png')"
   ]
  },
  {
   "cell_type": "code",
   "execution_count": 23,
   "metadata": {
    "scrolled": true
   },
   "outputs": [
    {
     "name": "stdout",
     "output_type": "stream",
     "text": [
      "440 相関:  0.987 | R^2  0.974 | 平均:  20.901\n"
     ]
    },
    {
     "data": {
      "image/png": "[encoded data removed]",
      "text/plain": [
       "<Figure size 432x288 with 1 Axes>"
      ]
     },
     "metadata": {
      "needs_background": "light"
     },
     "output_type": "display_data"
    }
   ],
   "source": [
    "_area = '440'\n",
    "target = csv_array_2d[people][ratio][seed][csv][_area].copy()\n",
    "od = csv_array_2d[people][ratio][seed]['od'][_area].copy()\n",
    "\n",
    "trainX = target['people']\n",
    "trainY = od['people']\n",
    "#     plt.figure(figsize=(9,6), dpi=600)\n",
    "mean_array = []\n",
    "\n",
    "corr = np.corrcoef(trainX, trainY)[0,1]\n",
    "if (np.isnan(corr) == False):\n",
    "\n",
    "    plt.plot(trainX, trainY, 'o')\n",
    "    order=2\n",
    "    sns.regplot(x=trainX, y=trainY, order=order, ci=0)\n",
    "    z = np.polyfit(trainX, trainY, order)\n",
    "    z = np.squeeze(z)\n",
    "    p = np.poly1d(z)\n",
    "#         print('y = ', p)\n",
    "\n",
    "    trainX = trainX.values.reshape(-1, 1)\n",
    "    trainY = trainY.values.reshape(-1, 1)\n",
    "    model = LR()\n",
    "    model.fit(trainX, trainY)\n",
    "    score = model.score(trainX, trainY)\n",
    "\n",
    "    if score >= 0 :\n",
    "        mean = trainX.mean().mean()\n",
    "        mean_array.append(mean)\n",
    "        print(_area, '相関: ', round(corr, 3),  '| R^2 ', round(score, 3), '| 平均: ', round(mean, 3))"
   ]
  },
  {
   "cell_type": "code",
   "execution_count": 29,
   "metadata": {
    "scrolled": true
   },
   "outputs": [
    {
     "name": "stdout",
     "output_type": "stream",
     "text": [
      "エリア 520 : 平均人数 16.62962962962963\n",
      "0.9573194737828751\n"
     ]
    },
    {
     "data": {
      "image/png": "[encoded data removed]",
      "text/plain": [
       "<Figure size 432x288 with 1 Axes>"
      ]
     },
     "metadata": {
      "needs_background": "light"
     },
     "output_type": "display_data"
    }
   ],
   "source": [
    "_area = '520'\n",
    "target = csv_array_2d[people][ratio][seed][csv][_area].copy()\n",
    "od = csv_array_2d[people][ratio][seed]['od'][_area].copy()\n",
    "trainX = target['people']\n",
    "trainY = od['people']\n",
    "\n",
    "\n",
    "corr = np.corrcoef(trainX, trainY)[0,1]\n",
    "if (np.isnan(corr) == False) and trainX.mean() >= 5:\n",
    "    print('エリア', _area, ': 平均人数', trainX.mean())\n",
    "    create_score2d(trainX, trainY)"
   ]
  },
  {
   "cell_type": "code",
   "execution_count": 25,
   "metadata": {},
   "outputs": [
    {
     "ename": "NameError",
     "evalue": "name 'fe' is not defined",
     "output_type": "error",
     "traceback": [
      "\u001b[0;31m---------------------------------------------------------------------------\u001b[0m",
      "\u001b[0;31mNameError\u001b[0m                                 Traceback (most recent call last)",
      "\u001b[0;32m<ipython-input-25-edfb36c5c3aa>\u001b[0m in \u001b[0;36m<module>\u001b[0;34m\u001b[0m\n\u001b[0;32m----> 1\u001b[0;31m \u001b[0mfe\u001b[0m\u001b[0;34m\u001b[0m\u001b[0;34m\u001b[0m\u001b[0m\n\u001b[0m",
      "\u001b[0;31mNameError\u001b[0m: name 'fe' is not defined"
     ]
    }
   ],
   "source": [
    "fe"
   ]
  },
  {
   "cell_type": "code",
   "execution_count": null,
   "metadata": {
    "scrolled": true
   },
   "outputs": [],
   "source": [
    "# _area = '440'\n",
    "for _area in area_list:\n",
    "    _area = area_to_contour(_area)\n",
    "    target = csv_array_2d[people][ratio][seed][csv][_area].copy()\n",
    "    od = csv_array_2d[people][ratio][seed]['od'][_area].copy()\n",
    "    trainX = target['people']\n",
    "    trainY = od['people']\n",
    "    \n",
    "    \n",
    "    corr = np.corrcoef(trainX, trainY)[0,1]\n",
    "    if (np.isnan(corr) == False) and trainX.mean() >= 0:\n",
    "        print('エリア', _area, ': 平均人数', trainX.mean())\n",
    "        create_score2d(trainX, trainY)"
   ]
  },
  {
   "cell_type": "code",
   "execution_count": null,
   "metadata": {
    "scrolled": false
   },
   "outputs": [],
   "source": [
    "# plt.figure(figsize=(9,6), dpi=600)\n",
    "mean_array = []\n",
    "score_array = []\n",
    "\n",
    "from sklearn.metrics import r2_score\n",
    "import warnings\n",
    "warnings.filterwarnings('ignore')\n",
    "\n",
    "for _area in area_list:\n",
    "    _area = area_to_contour(_area)\n",
    "    target = csv_array_2d[people][ratio][seed][csv][_area].copy()\n",
    "    od = csv_array_2d[people][ratio][seed]['od'][_area].copy()\n",
    "\n",
    "    trainX = target['people']\n",
    "    trainY = od['people']\n",
    "#     plt.figure(figsize=(9,6), dpi=600)\n",
    "\n",
    "    corr = np.corrcoef(trainX, trainY)[0,1]\n",
    "#     r2 = r2_score(trainX, trainY)\n",
    "    if ((np.isnan(corr) == False) and trainX.mean().mean() > 4):\n",
    "\n",
    "        plt.plot(trainX, trainY, 'o')\n",
    "        order=2\n",
    "        sns.regplot(x=trainX, y=trainY, order=order, ci=0)\n",
    "        z = np.polyfit(trainX, trainY, order)\n",
    "        z = np.squeeze(z)\n",
    "        p = np.poly1d(z)\n",
    "    #         print('y = ', p)\n",
    "    \n",
    "        trainX = trainX.values.reshape(-1, 1)\n",
    "        trainY = trainY.values.reshape(-1, 1)\n",
    "        model = LR()\n",
    "        model.fit(trainX, trainY)\n",
    "        score = model.score(trainX, trainY)\n",
    "        score_array.append(score)\n",
    "\n",
    "        if score >= 0 :\n",
    "            mean = trainX.mean().mean()\n",
    "            mean_array.append(mean)\n",
    "            print(_area, '相関: ', round(corr, 3),  '| R^2 ', round(score, 3), '| 平均: ', round(mean, 3))\n",
    "            \n",
    "    #         plt.savefig('{0}_mobile_include_id.png'.format(_area))\n",
    "\n",
    "mean = 0\n",
    "for i in mean_array:\n",
    "    mean += i\n",
    "print('mean平均: ', mean / len(mean_array))\n",
    "\n",
    "score = 0\n",
    "for i in score_array:\n",
    "     score += i\n",
    "print('score平均: ', score / len(score_array))"
   ]
  },
  {
   "cell_type": "code",
   "execution_count": null,
   "metadata": {},
   "outputs": [],
   "source": [
    "from sklearn.linear_model import LinearRegression as LR\n",
    "from sklearn.preprocessing import PolynomialFeatures\n",
    "\n",
    "def show_score2d(array, x, y):\n",
    "    x = x.values.reshape(-1, 1)\n",
    "    y = y.values.reshape(-1, 1)\n",
    "    \n",
    "    quadratic = PolynomialFeatures(degree = 2)\n",
    "    X_quad = quadratic.fit_transform(x)\n",
    "    X_fit = np.arange(trainX.min(), trainX.max(), 1)[:, np.newaxis]\n",
    "    model = LR()\n",
    "\n",
    "    # 2次の項を追加、予測値、R^2を評価\n",
    "    mod_quad = model.fit(X_quad, y)\n",
    "    y_quad_fit = mod_quad.predict(quadratic.fit_transform(X_fit))\n",
    "    r2_quad = model.score(X_quad, y)\n",
    "\n",
    "    array.append(r2_quad)"
   ]
  },
  {
   "cell_type": "code",
   "execution_count": null,
   "metadata": {},
   "outputs": [],
   "source": [
    "import warnings\n",
    "warnings.filterwarnings('ignore')\n",
    "score_array = {}\n",
    "\n",
    "for_list = get_for_list()  \n",
    "for _dir in for_list.dir:\n",
    "    score_array[_dir] = {}\n",
    "    for _ratio in for_list.ratio:\n",
    "        score_array[_dir][_ratio] = {}\n",
    "        for _seed in for_list.seed:\n",
    "            score_array[_dir][_ratio][_seed] = []\n",
    "            for _area in area_list:\n",
    "                _area = area_to_contour(_area)\n",
    "                target = csv_array_2d[_dir][_ratio][_seed]['census'][_area].copy()\n",
    "                od = csv_array_2d[_dir][_ratio][_seed]['od'][_area].copy()\n",
    "\n",
    "                trainX = target['people']\n",
    "                trainY = od['people']\n",
    "\n",
    "                corr = np.corrcoef(trainX, trainY)[0,1]\n",
    "                if (np.isnan(corr) == False) and trainX.mean() >= 0:\n",
    "#                     print('エリア', _area, ': 平均人数', trainX.mean())\n",
    "                    show_score2d(score_array[_dir][_ratio][_seed], trainX, trainY)"
   ]
  },
  {
   "cell_type": "code",
   "execution_count": null,
   "metadata": {},
   "outputs": [],
   "source": [
    "people = 'p30000'\n",
    "ratio = 'r6'\n",
    "seed = 's123'"
   ]
  },
  {
   "cell_type": "code",
   "execution_count": null,
   "metadata": {
    "scrolled": true
   },
   "outputs": [],
   "source": [
    "pd.Series(score_array[people][ratio][seed]).mean()"
   ]
  },
  {
   "cell_type": "code",
   "execution_count": null,
   "metadata": {},
   "outputs": [],
   "source": [
    "pd.Series(score_array[people][ratio][seed]).median()"
   ]
  },
  {
   "cell_type": "code",
   "execution_count": null,
   "metadata": {},
   "outputs": [],
   "source": [
    "def create_all_counter(area):\n",
    "    df = csv_array[people][ratio][seed].copy()\n",
    "    mobile = df['mobile'][area].copy()\n",
    "    census = df['census'][area].copy()\n",
    "    od = df['od'][area].copy()\n",
    "    \n",
    "    print(mobile.sum().sum())\n",
    "    print(census.sum().sum())\n",
    "    print(od.sum().sum())\n",
    "    \n",
    "    create_contour(mobile)\n",
    "    create_contour(census)\n",
    "    create_contour(od)"
   ]
  },
  {
   "cell_type": "markdown",
   "metadata": {},
   "source": [
    "# コンター図"
   ]
  },
  {
   "cell_type": "code",
   "execution_count": null,
   "metadata": {},
   "outputs": [],
   "source": [
    "def create_contour(target, area, file_name=False):\n",
    "    df = csv_array[people][ratio][seed][target][area].copy()\n",
    "    \n",
    "    plt.figure(figsize=(9,6))\n",
    "    if file_name:\n",
    "        plt.figure(figsize=(9,6), dpi=600)\n",
    "        \n",
    "    sns.heatmap(df, annot=True, fmt='.0f', cmap='RdYlGn_r',\n",
    "               vmax=df.sum().mean(), vmin=0)\n",
    "    if file_name:\n",
    "        plt.savefig('{0}.png'.format(file_name))\n",
    "        \n",
    "    print(df.sum().sum())"
   ]
  },
  {
   "cell_type": "code",
   "execution_count": null,
   "metadata": {},
   "outputs": [],
   "source": [
    "target = 'census'\n",
    "area='440'\n",
    "create_contour(target, area)"
   ]
  },
  {
   "cell_type": "code",
   "execution_count": null,
   "metadata": {},
   "outputs": [],
   "source": [
    "area = df_area_sum.iloc[0, 0]\n",
    "print('エリア: ' + area + '\\n')\n",
    "create_contour(target, area)"
   ]
  },
  {
   "cell_type": "code",
   "execution_count": null,
   "metadata": {},
   "outputs": [],
   "source": [
    "area = df_area_sum.iloc[1, 0]\n",
    "print('エリア: ' + area + '\\n')\n",
    "create_contour(target, area)"
   ]
  },
  {
   "cell_type": "code",
   "execution_count": null,
   "metadata": {
    "scrolled": true
   },
   "outputs": [],
   "source": [
    "area = df_area_sum.iloc[2, 0]\n",
    "print('エリア: ' + area + '\\n')\n",
    "create_contour(target, area)"
   ]
  },
  {
   "cell_type": "code",
   "execution_count": null,
   "metadata": {},
   "outputs": [],
   "source": [
    "area = df_area_sum.iloc[3, 0]\n",
    "print('エリア: ' + area + '\\n')\n",
    "create_contour(target, area)"
   ]
  },
  {
   "cell_type": "code",
   "execution_count": null,
   "metadata": {},
   "outputs": [],
   "source": [
    "area = df_area_sum.iloc[4, 0]\n",
    "print('エリア: ' + area + '\\n')\n",
    "create_contour(target, area)"
   ]
  },
  {
   "cell_type": "code",
   "execution_count": null,
   "metadata": {},
   "outputs": [],
   "source": [
    "# def create_contour_diff(df):\n",
    "#     plt.figure(figsize=(9,6))\n",
    "#     sns.heatmap(df, annot=True, fmt='.3f', cmap='RdYlGn_r',\n",
    "#                vmax=df.sum().mean())"
   ]
  },
  {
   "cell_type": "code",
   "execution_count": null,
   "metadata": {},
   "outputs": [],
   "source": [
    "# def create_diff_counter(area):\n",
    "#     taget = csv_array[people][ratio][seed][csv][area].copy()\n",
    "#     od = csv_array[people][ratio][seed]['od'][area].copy()\n",
    "    \n",
    "#     diff_target = target / od\n",
    "#     diff_od = od / target\n",
    "    \n",
    "#     diff_target = diff_target.replace(np.inf,np.nan).fillna(0)\n",
    "#     diff_od = diff_od.replace(np.inf,np.nan).fillna(0)\n",
    "    \n",
    "#     create_contour_diff(diff_target)\n",
    "#     create_contour_diff(diff_od)"
   ]
  },
  {
   "cell_type": "code",
   "execution_count": null,
   "metadata": {},
   "outputs": [],
   "source": [
    "# area = df_area_sum.iloc[0, 0]\n",
    "# print('エリア: ' + area + '\\n')\n",
    "# create_diff_counter(area)"
   ]
  },
  {
   "cell_type": "code",
   "execution_count": null,
   "metadata": {},
   "outputs": [],
   "source": [
    "# area = df_area_sum.iloc[1, 0]\n",
    "# print('エリア: ' + area + '\\n')\n",
    "# create_diff_counter(area)"
   ]
  },
  {
   "cell_type": "code",
   "execution_count": null,
   "metadata": {},
   "outputs": [],
   "source": [
    "# area = df_area_sum.iloc[2, 0]\n",
    "# print('エリア: ' + area + '\\n')\n",
    "# create_diff_counter(area)"
   ]
  },
  {
   "cell_type": "code",
   "execution_count": null,
   "metadata": {},
   "outputs": [],
   "source": []
  }
 ],
 "metadata": {
  "kernelspec": {
   "display_name": "Python 3",
   "language": "python",
   "name": "python3"
  },
  "language_info": {
   "codemirror_mode": {
    "name": "ipython",
    "version": 3
   },
   "file_extension": ".py",
   "mimetype": "text/x-python",
   "name": "python",
   "nbconvert_exporter": "python",
   "pygments_lexer": "ipython3",
   "version": "3.6.8"
  }
 },
 "nbformat": 4,
 "nbformat_minor": 2
}
