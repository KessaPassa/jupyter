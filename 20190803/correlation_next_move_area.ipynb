{
 "cells": [
  {
   "cell_type": "code",
   "execution_count": 1,
   "metadata": {},
   "outputs": [],
   "source": [
    "import sys\n",
    "sys.path.append('../')\n",
    "import env"
   ]
  },
  {
   "cell_type": "code",
   "execution_count": 2,
   "metadata": {},
   "outputs": [],
   "source": [
    "import pandas as pd\n",
    "import numpy as np\n",
    "from matplotlib import pyplot as plt\n",
    "import seaborn as sns\n",
    "from sklearn.linear_model import LinearRegression as LR"
   ]
  },
  {
   "cell_type": "code",
   "execution_count": 3,
   "metadata": {},
   "outputs": [],
   "source": [
    "READ_FILE = 'next_move_area'"
   ]
  },
  {
   "cell_type": "code",
   "execution_count": 4,
   "metadata": {},
   "outputs": [],
   "source": [
    "target_csv_list = ['od', 'estimate']"
   ]
  },
  {
   "cell_type": "code",
   "execution_count": 5,
   "metadata": {},
   "outputs": [],
   "source": [
    "# エリア番号を線形的な数から、iとjで回した数のようにする\n",
    "def convert_area_to_contour(base, read):\n",
    "    for r in np.asanyarray(read):\n",
    "        area_id = int(r[0])\n",
    "        row = str(area_id // env.AREA_ONE_LENGTH())\n",
    "        col = str(area_id % env.AREA_ONE_LENGTH()) + '0'\n",
    "        base.loc[row, col] = r[1]\n",
    "        \n",
    "    return base"
   ]
  },
  {
   "cell_type": "code",
   "execution_count": 6,
   "metadata": {},
   "outputs": [
    {
     "ename": "NameError",
     "evalue": "name 'create_base_dataframe' is not defined",
     "output_type": "error",
     "traceback": [
      "\u001b[0;31m---------------------------------------------------------------------------\u001b[0m",
      "\u001b[0;31mNameError\u001b[0m                                 Traceback (most recent call last)",
      "\u001b[0;32m<ipython-input-6-49b702296cc3>\u001b[0m in \u001b[0;36m<module>\u001b[0;34m\u001b[0m\n\u001b[0;32m----> 1\u001b[0;31m \u001b[0mbase\u001b[0m \u001b[0;34m=\u001b[0m \u001b[0mcreate_base_dataframe\u001b[0m\u001b[0;34m(\u001b[0m\u001b[0;34m)\u001b[0m\u001b[0;34m\u001b[0m\u001b[0;34m\u001b[0m\u001b[0m\n\u001b[0m\u001b[1;32m      2\u001b[0m \u001b[0;34m\u001b[0m\u001b[0m\n\u001b[1;32m      3\u001b[0m \u001b[0;32mdef\u001b[0m \u001b[0mmain\u001b[0m\u001b[0;34m(\u001b[0m\u001b[0margs\u001b[0m\u001b[0;34m,\u001b[0m \u001b[0marray\u001b[0m\u001b[0;34m)\u001b[0m\u001b[0;34m:\u001b[0m\u001b[0;34m\u001b[0m\u001b[0;34m\u001b[0m\u001b[0m\n\u001b[1;32m      4\u001b[0m     \u001b[0;32mfor\u001b[0m \u001b[0m_area\u001b[0m \u001b[0;32min\u001b[0m \u001b[0menv\u001b[0m\u001b[0;34m.\u001b[0m\u001b[0mget_area_list\u001b[0m\u001b[0;34m(\u001b[0m\u001b[0;34m)\u001b[0m\u001b[0;34m:\u001b[0m\u001b[0;34m\u001b[0m\u001b[0;34m\u001b[0m\u001b[0m\n\u001b[1;32m      5\u001b[0m         df = pd.read_csv(env.get_full_path(READ_FILE, args, any=_area),\n",
      "\u001b[0;31mNameError\u001b[0m: name 'create_base_dataframe' is not defined"
     ]
    }
   ],
   "source": [
    "base = create_base_dataframe()\n",
    "\n",
    "def main(args, array):\n",
    "    for _area in env.get_area_list():\n",
    "        df = pd.read_csv(env.get_full_path(READ_FILE, args, any=_area),\n",
    "                         encoding='Shift_JISx0213')\n",
    "        df = convert_area_to_contour(base.copy(), df.copy())\n",
    "    #                 df = df / df.sum().sum()\n",
    "        df = df.sort_index(ascending=False)\n",
    "        df.fillna(0, inplace=True)\n",
    "\n",
    "        _area = env.area_to_contour(_area)\n",
    "        array[args.dir][args.ratio][args.seed][args.csv][_area]= df\n",
    "        \n",
    "csv_array = {}\n",
    "env.for_default_init(main, csv_array, target_csv_list)"
   ]
  },
  {
   "cell_type": "code",
   "execution_count": null,
   "metadata": {},
   "outputs": [],
   "source": [
    "people = 'p10000'\n",
    "ratio = 'r4'\n",
    "seed = 's123'"
   ]
  },
  {
   "cell_type": "code",
   "execution_count": null,
   "metadata": {},
   "outputs": [],
   "source": [
    "def create2d(args, array):\n",
    "    for _area in env.get_area_list():\n",
    "        df = pd.read_csv(env.get_full_path(READ_FILE, args, any=_area),\n",
    "                         encoding='Shift_JISx0213')\n",
    "        _area = env.area_to_contour(_area)\n",
    "        array[args.dir][args.ratio][args.seed][args.csv][_area] = df\n",
    "        \n",
    "csv_array_2d = {}\n",
    "env.for_default_init(create2d, csv_array_2d, target_csv_list)"
   ]
  },
  {
   "cell_type": "code",
   "execution_count": null,
   "metadata": {},
   "outputs": [],
   "source": [
    "from sklearn.linear_model import LinearRegression as LR\n",
    "def show_score(x, y):\n",
    "    x = x.values.reshape(-1, 1)\n",
    "    y = y.values.reshape(-1, 1)\n",
    "    model = LR()\n",
    "    model.fit(x, y)\n",
    "    score = model.score(x, y)\n",
    "    print(score)\n",
    "    \n",
    "    return x, y"
   ]
  },
  {
   "cell_type": "code",
   "execution_count": null,
   "metadata": {},
   "outputs": [],
   "source": [
    "from sklearn.linear_model import LinearRegression as LR\n",
    "from sklearn.preprocessing import PolynomialFeatures\n",
    "\n",
    "score_array = []\n",
    "def create_score2d(x, y):\n",
    "    x = x.values.reshape(-1, 1)\n",
    "    y = y.values.reshape(-1, 1)\n",
    "    \n",
    "    quadratic = PolynomialFeatures(degree = 2)\n",
    "    X_quad = quadratic.fit_transform(x)\n",
    "    X_fit = np.arange(trainX.min(), trainX.max(), 1)[:, np.newaxis]\n",
    "    model = LR()\n",
    "\n",
    "    # 2次の項を追加、予測値、R^2を評価\n",
    "    mod_quad = model.fit(X_quad, y)\n",
    "    y_quad_fit = mod_quad.predict(quadratic.fit_transform(X_fit))\n",
    "    r2_quad = model.score(X_quad, y)\n",
    "\n",
    "#     plt.figure(figsize=(9,6), dpi=600)\n",
    "    plt.scatter(x, y)\n",
    "    plt.plot(X_fit, y_quad_fit, 'orange')\n",
    "    print(r2_quad)\n",
    "    score_array.append(r2_quad)\n",
    "#     plt.savefig('hoge.png')"
   ]
  },
  {
   "cell_type": "code",
   "execution_count": null,
   "metadata": {},
   "outputs": [],
   "source": [
    "# plt.figure(figsize=(9,6), dpi=600)\n",
    "mean_array = []\n",
    "score_array = []\n",
    "\n",
    "from sklearn.metrics import r2_score\n",
    "import warnings\n",
    "warnings.filterwarnings('ignore')\n",
    "\n",
    "for _area in env.get_area_list():\n",
    "    _area = env.area_to_contour(_area)\n",
    "    target = csv_array_2d[people][ratio][seed]['estimate'][_area].copy()\n",
    "    od = csv_array_2d[people][ratio][seed]['od'][_area].copy()\n",
    "\n",
    "    trainX = target['people']\n",
    "    trainY = od['people']\n",
    "#     plt.figure(figsize=(9,6), dpi=600)\n",
    "\n",
    "    corr = np.corrcoef(trainX, trainY)[0,1]\n",
    "#     r2 = r2_score(trainX, trainY)\n",
    "    if ((np.isnan(corr) == False) and trainX.mean().mean() > 4):\n",
    "\n",
    "        plt.plot(trainX, trainY, 'o')\n",
    "        order=2\n",
    "        sns.regplot(x=trainX, y=trainY, order=order, ci=0)\n",
    "        z = np.polyfit(trainX, trainY, order)\n",
    "        z = np.squeeze(z)\n",
    "        p = np.poly1d(z)\n",
    "    #         print('y = ', p)\n",
    "    \n",
    "        trainX = trainX.values.reshape(-1, 1)\n",
    "        trainY = trainY.values.reshape(-1, 1)\n",
    "        model = LR()\n",
    "        model.fit(trainX, trainY)\n",
    "        score = model.score(trainX, trainY)\n",
    "        score_array.append(score)\n",
    "\n",
    "        if score >= 0 :\n",
    "            mean = trainX.mean().mean()\n",
    "            mean_array.append(mean)\n",
    "            print(_area, '相関: ', round(corr, 3),  '| R^2 ', round(score, 3), '| 平均: ', round(mean, 3))\n",
    "            \n",
    "    #         plt.savefig('{0}_mobile_include_id.png'.format(_area))\n",
    "\n",
    "mean = 0\n",
    "for i in mean_array:\n",
    "    mean += i\n",
    "print('mean平均: ', mean / len(mean_array))\n",
    "\n",
    "score = 0\n",
    "for i in score_array:\n",
    "     score += i\n",
    "print('score平均: ', score / len(score_array))"
   ]
  },
  {
   "cell_type": "code",
   "execution_count": null,
   "metadata": {},
   "outputs": [],
   "source": [
    "_area = '440'\n",
    "target = csv_array_2d[people][ratio][seed]['estimate'][_area].copy()\n",
    "od = csv_array_2d[people][ratio][seed]['od'][_area].copy()\n",
    "\n",
    "trainX = target['people']\n",
    "trainY = od['people']\n",
    "#     plt.figure(figsize=(9,6), dpi=600)\n",
    "mean_array = []\n",
    "\n",
    "corr = np.corrcoef(trainX, trainY)[0,1]\n",
    "if (np.isnan(corr) == False):\n",
    "\n",
    "    plt.plot(trainX, trainY, 'o')\n",
    "    order=2\n",
    "    sns.regplot(x=trainX, y=trainY, order=order, ci=0)\n",
    "    z = np.polyfit(trainX, trainY, order)\n",
    "    z = np.squeeze(z)\n",
    "    p = np.poly1d(z)\n",
    "#         print('y = ', p)\n",
    "\n",
    "    trainX = trainX.values.reshape(-1, 1)\n",
    "    trainY = trainY.values.reshape(-1, 1)\n",
    "    model = LR()\n",
    "    model.fit(trainX, trainY)\n",
    "    score = model.score(trainX, trainY)\n",
    "\n",
    "    if score >= 0 :\n",
    "        mean = trainX.mean().mean()\n",
    "        mean_array.append(mean)\n",
    "        print(_area, '相関: ', round(corr, 3),  '| R^2 ', round(score, 3), '| 平均: ', round(mean, 3))"
   ]
  },
  {
   "cell_type": "code",
   "execution_count": null,
   "metadata": {},
   "outputs": [],
   "source": []
  }
 ],
 "metadata": {
  "kernelspec": {
   "display_name": "Python 3",
   "language": "python",
   "name": "python3"
  },
  "language_info": {
   "codemirror_mode": {
    "name": "ipython",
    "version": 3
   },
   "file_extension": ".py",
   "mimetype": "text/x-python",
   "name": "python",
   "nbconvert_exporter": "python",
   "pygments_lexer": "ipython3",
   "version": "3.6.8"
  }
 },
 "nbformat": 4,
 "nbformat_minor": 2
}
