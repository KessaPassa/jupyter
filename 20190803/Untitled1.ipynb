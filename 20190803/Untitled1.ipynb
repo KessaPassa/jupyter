{
 "cells": [
  {
   "cell_type": "code",
   "execution_count": 1,
   "metadata": {},
   "outputs": [],
   "source": [
    "import sys\n",
    "sys.path.append('../')\n",
    "import env"
   ]
  },
  {
   "cell_type": "code",
   "execution_count": 2,
   "metadata": {},
   "outputs": [],
   "source": [
    "import env\n",
    "import sys\n",
    "import pandas as pd\n",
    "import numpy as np"
   ]
  },
  {
   "cell_type": "code",
   "execution_count": 3,
   "metadata": {},
   "outputs": [],
   "source": [
    "read_dir_name = 'Origin'\n",
    "write_dir_name = 'next_move_area_per_time'\n",
    "\n",
    "is_remove_oririn = False\n",
    "\n",
    "road_to_area = {}\n",
    "df_base = {}\n",
    "target_time = '3600'\n",
    "\n",
    "\n",
    "def func_road_to_area(args):\n",
    "    df = pd.read_csv(env.get_full_path('include_area_-1', args),\n",
    "                     encoding='Shift_JISx0213')\n",
    "    df = df.loc[:, ['road', 'area']]\n",
    "    for row in np.asanyarray(df):\n",
    "        road_to_area[row[0]] = float(row[1])\n",
    "        # create_road_to_area(row[0], row[1])\n",
    "\n",
    "    road_to_area[np.nan] = np.nan\n",
    "\n",
    "\n",
    "def interpolate_time(time):\n",
    "    time = int(time)\n",
    "    times_list = [3600 * (i + 1) for i in range(6)]\n",
    "    new_time = ''\n",
    "\n",
    "    if 0 <= time <= times_list[0]:\n",
    "        new_time = times_list[0]\n",
    "    elif times_list[0] <= time <= times_list[1]:\n",
    "        new_time = times_list[1]\n",
    "    elif times_list[1] <= time <= times_list[2]:\n",
    "        new_time = times_list[2]\n",
    "    elif times_list[2] <= time <= times_list[3]:\n",
    "        new_time = times_list[3]\n",
    "    elif times_list[3] <= time <= times_list[4]:\n",
    "        new_time = times_list[4]\n",
    "    elif times_list[4] <= time <= times_list[5]:\n",
    "        new_time = times_list[5]\n",
    "\n",
    "    return str(new_time)\n",
    "\n",
    "\n",
    "def create2d(args, array):\n",
    "    df = np.zeros((env.MAX_AREA_COUNT(), 3))\n",
    "    df = pd.DataFrame(df, columns=['time', 'area', 'people'])\n",
    "\n",
    "    for _times in env.TIMES_LIST():\n",
    "        array[args.dir][args.ratio][args.seed][args.csv][_times] = {}\n",
    "        index = 0\n",
    "        for _area in range(env.MAX_AREA_COUNT()):\n",
    "            array[args.dir][args.ratio][args.seed][args.csv][_times][_area] = {}\n",
    "\n",
    "            for _area2 in range(env.MAX_AREA_COUNT()):\n",
    "                df.loc[index, ['time', 'area']] = [_times, _area2]\n",
    "                index += 1\n",
    "            array[args.dir][args.ratio][args.seed][args.csv][_times][_area] = df.copy()\n",
    "\n",
    "\n",
    "def count_per_time(args, df, _times, _area):\n",
    "    for _, row in df.iterrows():\n",
    "        row = list(row)\n",
    "        row = row[3:]\n",
    "\n",
    "        for i in range(len(row)):\n",
    "            if (len(row) <= i + 1) or (row[i+1] == ' '):\n",
    "                break\n",
    "\n",
    "            if (type(row[i]) is str) and ('(census)' in row[i]):\n",
    "                _time = row[i].split('@')[1]\n",
    "                _time = interpolate_time(_time)\n",
    "                road_name = row[i].split('(census)')[0]\n",
    "                _area = road_to_area[road_name]\n",
    "                next_area = road_to_area[row[i + 1].split('(census)')[0]]\n",
    "\n",
    "                df_tmp = df_base[args.dir][args.ratio][args.seed][args.csv][_times][_area]\n",
    "                df_tmp.loc[df_tmp['area'] == next_area, ['people']] += 1\n",
    "\n",
    "\n",
    "def main(args):\n",
    "    df = pd.read_csv(env.get_full_path(read_dir_name, args),\n",
    "                     names=env.get_col_names(),\n",
    "                     encoding='Shift_JISx0213')\n",
    "\n",
    "    for _area in env.get_area_list():\n",
    "        count_per_time(args, df, target_time, _area)\n",
    "#         df_base[args.dir][args.ratio][args.seed][args.csv][target_time][int(_area)].to_csv(\n",
    "#             env.get_full_path(write_dir_name, args, any=target_time + '_' + _area), index=False)"
   ]
  },
  {
   "cell_type": "code",
   "execution_count": 5,
   "metadata": {},
   "outputs": [],
   "source": [
    "env.for_default(func_road_to_area, csv=['census'])\n",
    "env.for_default_init(create2d, df_base, ['od'])"
   ]
  },
  {
   "cell_type": "code",
   "execution_count": null,
   "metadata": {},
   "outputs": [],
   "source": [
    "env.for_default(main, csv=['od'])"
   ]
  },
  {
   "cell_type": "code",
   "execution_count": null,
   "metadata": {},
   "outputs": [],
   "source": []
  }
 ],
 "metadata": {
  "kernelspec": {
   "display_name": "Python 3",
   "language": "python",
   "name": "python3"
  },
  "language_info": {
   "codemirror_mode": {
    "name": "ipython",
    "version": 3
   },
   "file_extension": ".py",
   "mimetype": "text/x-python",
   "name": "python",
   "nbconvert_exporter": "python",
   "pygments_lexer": "ipython3",
   "version": "3.6.8"
  }
 },
 "nbformat": 4,
 "nbformat_minor": 2
}
