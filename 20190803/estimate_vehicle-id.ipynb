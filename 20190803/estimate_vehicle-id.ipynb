{
 "cells": [
  {
   "cell_type": "code",
   "execution_count": 1,
   "metadata": {},
   "outputs": [],
   "source": [
    "import sys\n",
    "sys.path.append('../')\n",
    "import env"
   ]
  },
  {
   "cell_type": "code",
   "execution_count": 2,
   "metadata": {},
   "outputs": [],
   "source": [
    "import pandas as pd\n",
    "import numpy as np\n",
    "from matplotlib import pyplot as plt\n",
    "import networkx as nx\n",
    "from collections import namedtuple"
   ]
  },
  {
   "cell_type": "code",
   "execution_count": 3,
   "metadata": {},
   "outputs": [],
   "source": [
    "one_length = env.AREA_ONE_LENGTH()"
   ]
  },
  {
   "cell_type": "code",
   "execution_count": 4,
   "metadata": {},
   "outputs": [],
   "source": [
    "def area_to_contour(area_id):\n",
    "    area_id = int(area_id)\n",
    "    left = str(area_id // one_length)\n",
    "    right = str(area_id % one_length) + '0'\n",
    "    return left+right\n",
    "\n",
    "\n",
    "def contour_to_area(contour_id):\n",
    "    contour_id = str(contour_id)\n",
    "    left = int(contour_id[0]) * one_length\n",
    "    right = int(contour_id[1])\n",
    "    \n",
    "    return left+right"
   ]
  },
  {
   "cell_type": "code",
   "execution_count": 5,
   "metadata": {},
   "outputs": [],
   "source": [
    "csv_array = {}\n",
    "def main(args, array):\n",
    "    df = pd.read_csv(env.get_full_path('2D', args),\n",
    "                                                        encoding='Shift_JISx0213')\n",
    "    df['time'] = df['time'].apply(lambda x: str(int(x)))\n",
    "    df['area'] = df['area'].apply(lambda x: area_to_contour(x))\n",
    "    df['people'] = df['people'].apply(lambda x: int(x))\n",
    "\n",
    "    group_list = df.groupby(['time'], sort=False)\n",
    "    for _times, _group in group_list:\n",
    "        array[args.dir][args.ratio][args.seed][args.csv][_times] = _group\n",
    "        \n",
    "env.for_default_init(main, csv_array, ['mobile', 'census1', 'census2'])"
   ]
  },
  {
   "cell_type": "code",
   "execution_count": 6,
   "metadata": {},
   "outputs": [],
   "source": [
    "people = 'p10000'\n",
    "ratio = 'r4'\n",
    "seed = 's123'"
   ]
  },
  {
   "cell_type": "code",
   "execution_count": 7,
   "metadata": {
    "scrolled": true
   },
   "outputs": [
    {
     "data": {
      "text/html": [
       "<div>\n",
       "<style scoped>\n",
       "    .dataframe tbody tr th:only-of-type {\n",
       "        vertical-align: middle;\n",
       "    }\n",
       "\n",
       "    .dataframe tbody tr th {\n",
       "        vertical-align: top;\n",
       "    }\n",
       "\n",
       "    .dataframe thead th {\n",
       "        text-align: right;\n",
       "    }\n",
       "</style>\n",
       "<table border=\"1\" class=\"dataframe\">\n",
       "  <thead>\n",
       "    <tr style=\"text-align: right;\">\n",
       "      <th></th>\n",
       "      <th>time</th>\n",
       "      <th>area</th>\n",
       "      <th>people</th>\n",
       "    </tr>\n",
       "  </thead>\n",
       "  <tbody>\n",
       "    <tr>\n",
       "      <th>0</th>\n",
       "      <td>3600</td>\n",
       "      <td>000</td>\n",
       "      <td>0</td>\n",
       "    </tr>\n",
       "    <tr>\n",
       "      <th>1</th>\n",
       "      <td>3600</td>\n",
       "      <td>010</td>\n",
       "      <td>13</td>\n",
       "    </tr>\n",
       "    <tr>\n",
       "      <th>2</th>\n",
       "      <td>3600</td>\n",
       "      <td>020</td>\n",
       "      <td>0</td>\n",
       "    </tr>\n",
       "    <tr>\n",
       "      <th>3</th>\n",
       "      <td>3600</td>\n",
       "      <td>030</td>\n",
       "      <td>0</td>\n",
       "    </tr>\n",
       "    <tr>\n",
       "      <th>4</th>\n",
       "      <td>3600</td>\n",
       "      <td>040</td>\n",
       "      <td>0</td>\n",
       "    </tr>\n",
       "  </tbody>\n",
       "</table>\n",
       "</div>"
      ],
      "text/plain": [
       "   time area  people\n",
       "0  3600  000       0\n",
       "1  3600  010      13\n",
       "2  3600  020       0\n",
       "3  3600  030       0\n",
       "4  3600  040       0"
      ]
     },
     "execution_count": 7,
     "metadata": {},
     "output_type": "execute_result"
    }
   ],
   "source": [
    "csv_array['p10000']['r4']['s123']['census1']['3600'].head()"
   ]
  },
  {
   "cell_type": "code",
   "execution_count": 8,
   "metadata": {},
   "outputs": [],
   "source": [
    "contour_list = [area_to_contour(i) for i in range(one_length**2)]"
   ]
  },
  {
   "cell_type": "code",
   "execution_count": 9,
   "metadata": {},
   "outputs": [],
   "source": [
    "class Coordinate:\n",
    "    def __init__(self, x, y):\n",
    "        self.x = x\n",
    "        self.y = y\n",
    "        \n",
    "    def __add__(a,b):\n",
    "        return Coordinate(a.x+b.x, a.y+b.y)\n",
    "    \n",
    "    def distance(self):\n",
    "        return round(np.sqrt(self.x**2 + self.y**2), 3)"
   ]
  },
  {
   "cell_type": "code",
   "execution_count": 10,
   "metadata": {},
   "outputs": [],
   "source": [
    "def get_around_contour(contour_id):    \n",
    "    array = {}\n",
    "    \n",
    "    y = int(contour_id[0])\n",
    "    x = int(contour_id[1])\n",
    "    \n",
    "    array[1,0] = east = str(y) + str(x+1) + '0'\n",
    "    array[1,1] = north_east = str(y+1) + str(x+1) + '0'\n",
    "    array[0,1] = north = str(y+1) + str(x) + '0'\n",
    "    array[-1,1] = north_west = str(y+1) + str(x-1) + '0'\n",
    "    array[-1,0] = west = str(y) + str(x-1) + '0'\n",
    "    array[-1,-1] = south_west = str(y-1) + str(x-1) + '0'\n",
    "    array[0,-1] = south = str(y-1) + str(x) + '0'\n",
    "    array[1,-1] = south_east = str(y-1) + str(x+1) + '0'\n",
    "    \n",
    "    for _index, _item in array.items():\n",
    "        if (len(_item) > 3) or (_item.find(str(one_length)) != -1):\n",
    "            array[_index] = -1\n",
    "    \n",
    "    return array"
   ]
  },
  {
   "cell_type": "code",
   "execution_count": 11,
   "metadata": {},
   "outputs": [],
   "source": [
    "coordinate_array = {}\n",
    "for _area in env.AREA_LIST_CONTOUR():\n",
    "    coordinate_array[_area] = None\n",
    "coordinate_array[-1] = -1\n",
    "\n",
    "def set_coordinate_3d(contour_id, center=Coordinate(0,0)):    \n",
    "    coordinate_array[contour_id] = center \n",
    "\n",
    "    for _xy, _area in get_around_contour(contour_id).items():\n",
    "        if coordinate_array[_area] == None:\n",
    "            coordinate = Coordinate(_xy[0], _xy[1])\n",
    "            coordinate_array[_area] = center + coordinate\n",
    "            set_coordinate_3d(_area, center+coordinate)"
   ]
  },
  {
   "cell_type": "code",
   "execution_count": 12,
   "metadata": {
    "scrolled": true
   },
   "outputs": [
    {
     "data": {
      "text/plain": [
       "-1"
      ]
     },
     "execution_count": 12,
     "metadata": {},
     "output_type": "execute_result"
    }
   ],
   "source": [
    "set_coordinate_3d('540')\n",
    "coordinate_array.pop(-1)"
   ]
  },
  {
   "cell_type": "code",
   "execution_count": 14,
   "metadata": {
    "scrolled": true
   },
   "outputs": [],
   "source": [
    "def create_network(args, array):\n",
    "    for _times in env.TIMES_LIST():\n",
    "        df = csv_array[args.dir][args.ratio][args.seed][args.csv][_times].copy()\n",
    "\n",
    "        network = nx.DiGraph()\n",
    "        for _area in contour_list:\n",
    "            network.add_node(_area)\n",
    "\n",
    "            coordinate = get_around_contour(_area)\n",
    "            for _around_area in coordinate.values():\n",
    "                if _around_area != -1:\n",
    "                    network.add_edge(_area, _around_area, \n",
    "                                     people=df.loc[df['area'] == _around_area, 'people'].values[0], \n",
    "                                     distance=coordinate_array[_around_area].distance()\n",
    "                    )\n",
    "                \n",
    "        array[args.dir][args.ratio][args.seed][args.csv][_times] = network\n",
    "    return array\n",
    "\n",
    "network_array = {}\n",
    "env.for_default_init(create_network, network_array, ['census1', 'census2'])"
   ]
  },
  {
   "cell_type": "code",
   "execution_count": 23,
   "metadata": {},
   "outputs": [
    {
     "data": {
      "image/png": "[encoded data removed]",
      "text/plain": [
       "<Figure size 432x288 with 1 Axes>"
      ]
     },
     "metadata": {
      "needs_background": "light"
     },
     "output_type": "display_data"
    },
    {
     "data": {
      "text/plain": [
       "AtlasView({'550': {'people': 17, 'distance': 1.0}, '650': {'people': 19, 'distance': 1.414}, '640': {'people': 14, 'distance': 1.0}, '630': {'people': 6, 'distance': 1.414}, '530': {'people': 19, 'distance': 1.0}, '430': {'people': 0, 'distance': 1.414}, '440': {'people': 20, 'distance': 1.0}, '450': {'people': 16, 'distance': 1.414}})"
      ]
     },
     "execution_count": 23,
     "metadata": {},
     "output_type": "execute_result"
    }
   ],
   "source": [
    "n = network_array[people][ratio][seed]['census1']['3600'].copy()\n",
    "nx.draw_networkx(n)\n",
    "plt.show()\n",
    "n['540']"
   ]
  },
  {
   "cell_type": "code",
   "execution_count": 17,
   "metadata": {
    "scrolled": false
   },
   "outputs": [
    {
     "name": "stdout",
     "output_type": "stream",
     "text": [
      "3600 , stack:  52\n",
      "7200 , stack:  144\n",
      "10800 , stack:  149\n",
      "14400 , stack:  144\n",
      "18000 , stack:  107\n",
      "21600 , stack:  52\n"
     ]
    }
   ],
   "source": [
    "import random\n",
    "\n",
    "start_array = {}\n",
    "\n",
    "for _times in env.TIMES_LIST():\n",
    "    start_array[_times] = {}\n",
    "    df = csv_array[people][ratio][seed]['mobile'][_times].copy()\n",
    "    df['people'] = df['people'] // 4\n",
    "    df = df[df['people'] != 0]\n",
    "\n",
    "    stack_area = list(df['area'].values)\n",
    "    stack_poeple = df['people'].sum()\n",
    "    print(_times, ', stack: ', stack_poeple)\n",
    "\n",
    "    for vehicle_id in range(stack_poeple):    \n",
    "        random_area = random.choice(stack_area)\n",
    "        df_choiced = df.loc[df['area'] == random_area, :]\n",
    "        start_array[_times][vehicle_id] = df_choiced['area'].values[0]\n",
    "        df.loc[df_choiced.index[0], 'people'] -= 1\n",
    "\n",
    "        if df.loc[df_choiced.index[0], 'people'] == 0:\n",
    "            stack_area.remove(random_area)\n",
    "            df = df.drop(df_choiced.index[0])"
   ]
  },
  {
   "cell_type": "code",
   "execution_count": 51,
   "metadata": {
    "scrolled": true
   },
   "outputs": [],
   "source": [
    "import math\n",
    "\n",
    "# 7200から開始した時、3600mobileの人数+(7200mobileの人数-3600mobileの人数)をcensus1とcensus2の割合ごとに人数を分ける\n",
    "# 0~3600, 3600~7200の後者を指定する\n",
    "def calcurlate_stack(end_time):\n",
    "#     end_time = '3600'\n",
    "    times_list = env.TIMES_LIST()\n",
    "    time_index = times_list.index(end_time)\n",
    "\n",
    "    mobile_end = csv_array[people][ratio][seed]['mobile'][end_time]['people'].copy() // 4\n",
    "    mobile_start = pd.Series()\n",
    "    if time_index != 0:\n",
    "        mobile_start = csv_array[people][ratio][seed]['mobile'][times_list[time_index-1]]['people'].copy() // 4\n",
    "\n",
    "    census1 = csv_array[people][ratio][seed]['census1'][times_list[time_index]]['people'].copy()\n",
    "    census2 = csv_array[people][ratio][seed]['census2'][times_list[time_index]]['people'].copy()\n",
    "\n",
    "    census_sum = census1.sum() + census2.sum()\n",
    "    mobile_diff = mobile_end.sum() - mobile_start.sum()\n",
    "\n",
    "    # previousの人数計算\n",
    "    # 継続人数を計算\n",
    "    continue1 = math.modf(census1.sum() / census_sum * mobile_start.sum())\n",
    "    continue2 = math.modf(census2.sum() / census_sum * mobile_start.sum())\n",
    "    decimal = round(continue1[0]+continue2[0])\n",
    "    continue1 = int(continue1[1])\n",
    "    continue2 = int(continue2[1])\n",
    "    if continue1 > continue2:\n",
    "        continue1 += decimal\n",
    "    else:\n",
    "        continue2 += decimal\n",
    "\n",
    "    # 差分==新しく出現 の人数を計算\n",
    "    new1 = math.modf(census1.sum() / census_sum * mobile_diff)\n",
    "    new2 = math.modf(census2.sum() / census_sum * mobile_diff)\n",
    "    decimal = round(new1[0]+new2[0])\n",
    "    new1 = int(new1[1])\n",
    "    new2 = int(new2[1])\n",
    "    if new1 > new2:\n",
    "        new1 += decimal\n",
    "    else:\n",
    "        new2 += decimal\n",
    "\n",
    "    print(mobile_start.sum(), ' : ',mobile_diff)\n",
    "    print('census1: ', continue1, ', ', new1)\n",
    "    print('census2: ', continue2, ', ', new2)\n",
    "    \n",
    "    return continue1+new1, continue2+new2"
   ]
  },
  {
   "cell_type": "code",
   "execution_count": 52,
   "metadata": {},
   "outputs": [
    {
     "name": "stdout",
     "output_type": "stream",
     "text": [
      "0.0  :  52.0\n",
      "census1:  0 ,  18\n",
      "census2:  0 ,  34\n"
     ]
    }
   ],
   "source": [
    "people1, people2 = calcurlate_stack('3600')"
   ]
  },
  {
   "cell_type": "code",
   "execution_count": 110,
   "metadata": {},
   "outputs": [
    {
     "name": "stdout",
     "output_type": "stream",
     "text": [
      "id: 0, route: ['840', '730', '620', '510', '400', '300']\n",
      "id: 1, route: ['830', '720']\n",
      "id: 2, route: ['460']\n",
      "id: 3, route: ['870']\n",
      "id: 4, route: ['450']\n",
      "id: 5, route: ['620', '510', '400']\n",
      "id: 6, route: ['210', '100', '000', '010', '000', '010']\n",
      "id: 7, route: ['400', '300', '200']\n",
      "id: 8, route: ['410', '300', '200', '100']\n",
      "id: 9, route: ['210', '100', '000', '010', '000']\n",
      "id: 10, route: ['630']\n",
      "id: 11, route: ['730', '620', '510']\n",
      "id: 12, route: ['080']\n",
      "id: 13, route: ['540']\n",
      "id: 14, route: ['170', '060', '050']\n",
      "id: 15, route: ['640', '530', '420']\n",
      "id: 16, route: ['400', '300']\n",
      "id: 17, route: ['400', '300', '200', '100']\n",
      "id: 18, route: ['750', '640']\n",
      "id: 19, route: ['010', '000', '010', '000', '010']\n",
      "id: 20, route: ['620', '510', '400', '300']\n",
      "id: 21, route: ['450', '340', '230', '120', '010', '000']\n",
      "id: 22, route: ['620', '510', '400', '300']\n",
      "id: 23, route: ['120', '010']\n",
      "id: 24, route: ['640', '530', '420', '310', '200']\n",
      "id: 25, route: ['860', '750', '640', '530']\n",
      "id: 26, route: ['540', '430', '320', '210', '100']\n",
      "id: 27, route: ['380', '270', '160']\n",
      "id: 28, route: ['010', '000', '010']\n",
      "id: 29, route: ['330', '220', '110', '000', '010', '000']\n",
      "id: 30, route: ['520', '410', '300', '200']\n",
      "id: 31, route: ['860', '750', '640']\n",
      "id: 32, route: ['230', '120', '010']\n",
      "id: 33, route: ['230', '120', '010', '000', '010']\n",
      "id: 34, route: ['860', '750', '640', '530']\n",
      "id: 35, route: ['430', '320', '210', '100']\n",
      "id: 36, route: ['230', '120', '010', '000']\n",
      "id: 37, route: ['430', '320', '210', '100', '000', '010']\n",
      "id: 38, route: ['830', '720', '610']\n",
      "id: 39, route: ['430', '320', '210']\n",
      "id: 40, route: ['780', '670', '560', '450', '340', '230']\n",
      "id: 41, route: ['540', '430', '320', '210']\n",
      "id: 42, route: ['750', '640']\n",
      "id: 43, route: ['750', '640', '530']\n",
      "id: 44, route: ['210', '100', '000', '010', '000', '010']\n",
      "id: 45, route: ['750']\n",
      "id: 46, route: ['520', '410', '300', '200', '100', '000']\n",
      "id: 47, route: ['830', '720']\n",
      "id: 48, route: ['520']\n",
      "id: 49, route: ['520', '410', '300']\n",
      "id: 50, route: ['540', '430', '320', '210', '100']\n",
      "id: 51, route: ['210', '100']\n"
     ]
    }
   ],
   "source": [
    "_times = '3600'\n",
    "mobile = csv_array[people][ratio][seed]['mobile'][_times].copy()\n",
    "\n",
    "# [census1 or 2][vehicle_id][[area1, area2, ...]]\n",
    "vehicle_route_array = {}\n",
    "# 経由ルートをスタックするので初期化\n",
    "for _csv in ['census1', 'census2']:\n",
    "    vehicle_route_array[_csv] = {}\n",
    "    for _id, _start_area in start_array[_times].items():\n",
    "        vehicle_route_array[_csv][_id] = []\n",
    "        vehicle_route_array[_csv][_id].append(_start_area)\n",
    "        \n",
    "        #  初期位置を確保するために事前に-1\n",
    "        mobile.loc[mobile['area'] == _start_area, 'people'] -= 1\n",
    "    \n",
    "start_census_array = {}\n",
    "start_census_array['census1'] = dict(list(start_array[_times].items())[:people1])\n",
    "start_census_array['census2'] = dict(list(start_array[_times].items())[people1:])\n",
    "\n",
    "for _csv in ['census1', 'census2']:\n",
    "    network = network_array[people][ratio][seed][_csv][_times].copy()\n",
    "    \n",
    "    for _id, _start_area in start_census_array[_csv].items():\n",
    "        now_node = network[_start_area]\n",
    "#         mobile.loc[mobile['area'] == _start_area, 'people'] -= 1\n",
    "        node_list = sorted(list(now_node.keys()))\n",
    "        next_area = node_list[0]\n",
    "        next_node = network[next_area]\n",
    "        \n",
    "        route_length = random.randrange(0, 6)\n",
    "        for _ in range(route_length):\n",
    "            now_node = network[next_area]\n",
    "            vehicle_route_array[_csv][_id].append(next_area)\n",
    "            mobile.loc[mobile['area'] == next_area, 'people'] -= 1\n",
    "            node_list = sorted(list(now_node.keys()))\n",
    "            next_area = node_list[0]\n",
    "            next_node = network[next_area]\n",
    "        \n",
    "        \n",
    "        print('id: {}, route: {}'.format(_id, vehicle_route_array[_csv][_id]))"
   ]
  },
  {
   "cell_type": "code",
   "execution_count": 140,
   "metadata": {},
   "outputs": [
    {
     "name": "stdout",
     "output_type": "stream",
     "text": [
      "census1 :  84\n",
      "census2 :  147\n"
     ]
    }
   ],
   "source": [
    "for _csv in vehicle_route_array.keys():\n",
    "    counter = 0\n",
    "    for _route in vehicle_route_array[_csv].values():\n",
    "        counter += len(_route)\n",
    "    \n",
    "    print(_csv, ': ', counter)"
   ]
  },
  {
   "cell_type": "code",
   "execution_count": 136,
   "metadata": {},
   "outputs": [
    {
     "name": "stdout",
     "output_type": "stream",
     "text": [
      "521\n",
      "962\n"
     ]
    }
   ],
   "source": [
    "print(csv_array[people][ratio][seed]['census1']['3600']['people'].sum())\n",
    "print(csv_array[people][ratio][seed]['census2']['3600']['people'].sum())"
   ]
  },
  {
   "cell_type": "code",
   "execution_count": null,
   "metadata": {},
   "outputs": [],
   "source": []
  }
 ],
 "metadata": {
  "kernelspec": {
   "display_name": "Python 3",
   "language": "python",
   "name": "python3"
  },
  "language_info": {
   "codemirror_mode": {
    "name": "ipython",
    "version": 3
   },
   "file_extension": ".py",
   "mimetype": "text/x-python",
   "name": "python",
   "nbconvert_exporter": "python",
   "pygments_lexer": "ipython3",
   "version": "3.6.8"
  }
 },
 "nbformat": 4,
 "nbformat_minor": 2
}
