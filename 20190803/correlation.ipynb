{
 "cells": [
  {
   "cell_type": "code",
   "execution_count": 1,
   "metadata": {},
   "outputs": [],
   "source": [
    "import sys\n",
    "sys.path.append('../')\n",
    "import env"
   ]
  },
  {
   "cell_type": "code",
   "execution_count": 2,
   "metadata": {},
   "outputs": [],
   "source": [
    "import pandas as pd\n",
    "import numpy as np\n",
    "import math\n",
    "from matplotlib import pyplot as plt\n",
    "from sklearn.linear_model import LinearRegression as LR\n",
    "from sklearn.preprocessing import PolynomialFeatures"
   ]
  },
  {
   "cell_type": "code",
   "execution_count": 3,
   "metadata": {},
   "outputs": [],
   "source": [
    "READ_FILE = '2D'"
   ]
  },
  {
   "cell_type": "code",
   "execution_count": 4,
   "metadata": {},
   "outputs": [],
   "source": [
    "times_list = env.TIMES_LIST()"
   ]
  },
  {
   "cell_type": "code",
   "execution_count": 5,
   "metadata": {},
   "outputs": [],
   "source": [
    "csv_array = {}\n",
    "def main(args, array):\n",
    "    df = pd.read_csv(env.get_full_path(READ_FILE, args))\n",
    "    array[args.dir][args.ratio][args.seed][args.csv] = df.copy()\n",
    "    \n",
    "env.for_default_init(main, csv_array, ['census1', 'census2'])"
   ]
  },
  {
   "cell_type": "code",
   "execution_count": 6,
   "metadata": {},
   "outputs": [],
   "source": [
    "target1 = 'census1'\n",
    "target2 = 'census2'"
   ]
  },
  {
   "cell_type": "markdown",
   "metadata": {},
   "source": [
    "# 全体の回帰直線"
   ]
  },
  {
   "cell_type": "markdown",
   "metadata": {},
   "source": [
    "https://pythondatascience.plavox.info/scikit-learn/%E5%9B%9E%E5%B8%B0%E3%83%A2%E3%83%87%E3%83%AB%E3%81%AE%E8%A9%95%E4%BE%A1　　\n",
    "\n",
    "よりR2はxに実測値、yに真値\n",
    "\n",
    "なのでここでのR2算出方法は間違っている　　"
   ]
  },
  {
   "cell_type": "code",
   "execution_count": 7,
   "metadata": {},
   "outputs": [
    {
     "name": "stdout",
     "output_type": "stream",
     "text": [
      "0.5557615922649772\n"
     ]
    },
    {
     "data": {
      "image/png": "[encoded data removed]",
      "text/plain": [
       "<Figure size 432x288 with 1 Axes>"
      ]
     },
     "metadata": {
      "needs_background": "light"
     },
     "output_type": "display_data"
    }
   ],
   "source": [
    "_dir = 'p10000'\n",
    "_ratio = 'r6'\n",
    "_seed = 's123'\n",
    "\n",
    "df = csv_array[_dir][_ratio][_seed].copy()\n",
    "trainX = df[target1]['people'].values.reshape(-1, 1)\n",
    "trainY = df[target2]['people'].values.reshape(-1, 1)\n",
    "\n",
    "quadratic = PolynomialFeatures(degree = 2)\n",
    "X_quad = quadratic.fit_transform(trainX)\n",
    "X_fit = np.arange(trainX.min(), trainX.max(), 1)[:, np.newaxis]\n",
    "model = LR()\n",
    "\n",
    "# 2次の項を追加、予測値、R^2を評価\n",
    "mod_quad = model.fit(X_quad, trainY)\n",
    "y_quad_fit = mod_quad.predict(quadratic.fit_transform(X_fit))\n",
    "r2_quad = model.score(X_quad, trainY)\n",
    "\n",
    "# plt.figure(dpi=600)\n",
    "plt.scatter(trainX, trainY)\n",
    "plt.plot(X_fit, y_quad_fit, 'orange')\n",
    "print(r2_quad)\n",
    "\n",
    "# plt.savefig('correlation_{0}.png'.format(_dir+_ratio))"
   ]
  },
  {
   "cell_type": "code",
   "execution_count": 8,
   "metadata": {},
   "outputs": [],
   "source": [
    "# xとy両方とも0の値を削除\n",
    "def remove_dual_zeros(x_array, y_array):\n",
    "    new_x_array = []\n",
    "    new_y_array = []\n",
    "    \n",
    "    for x, y in zip(x_array, y_array):\n",
    "        if x == 0 and y == 0:\n",
    "            continue\n",
    "        else:\n",
    "            new_x_array.append(x)\n",
    "            new_y_array.append(y)\n",
    "\n",
    "    return pd.Series(new_x_array), pd.Series(new_y_array)"
   ]
  },
  {
   "cell_type": "code",
   "execution_count": 9,
   "metadata": {},
   "outputs": [],
   "source": [
    "csv_array_3d = {}\n",
    "def create3d(args, array):\n",
    "    df = pd.read_csv(env.get_full_path(READ_FILE, args))\n",
    "    df['time'] = df['time'].apply(lambda x: str(int(x)))\n",
    "    group_list = df.groupby(['time'], sort=False)\n",
    "    for _times, _group in group_list:\n",
    "#         df = convert_area_to_contour(base.copy(), _group.copy())\n",
    "        df = df.sort_index(ascending=False)\n",
    "        array[args.dir][args.ratio][args.seed][args.csv][_times] = _group\n",
    "\n",
    "env.for_default_init(create3d, csv_array_3d)"
   ]
  },
  {
   "cell_type": "code",
   "execution_count": 10,
   "metadata": {
    "scrolled": true
   },
   "outputs": [
    {
     "ename": "KeyError",
     "evalue": "'census1'",
     "output_type": "error",
     "traceback": [
      "\u001b[0;31m---------------------------------------------------------------------------\u001b[0m",
      "\u001b[0;31mKeyError\u001b[0m                                  Traceback (most recent call last)",
      "\u001b[0;32m<ipython-input-10-358e06889a24>\u001b[0m in \u001b[0;36m<module>\u001b[0;34m\u001b[0m\n\u001b[1;32m     10\u001b[0m             \u001b[0;32mfor\u001b[0m \u001b[0m_times\u001b[0m \u001b[0;32min\u001b[0m \u001b[0mtimes_list\u001b[0m\u001b[0;34m:\u001b[0m\u001b[0;34m\u001b[0m\u001b[0;34m\u001b[0m\u001b[0m\n\u001b[1;32m     11\u001b[0m                 \u001b[0mdf\u001b[0m \u001b[0;34m=\u001b[0m \u001b[0mcsv_array_3d\u001b[0m\u001b[0;34m[\u001b[0m\u001b[0m_dir\u001b[0m\u001b[0;34m]\u001b[0m\u001b[0;34m[\u001b[0m\u001b[0m_ratio\u001b[0m\u001b[0;34m]\u001b[0m\u001b[0;34m[\u001b[0m\u001b[0m_seed\u001b[0m\u001b[0;34m]\u001b[0m\u001b[0;34m.\u001b[0m\u001b[0mcopy\u001b[0m\u001b[0;34m(\u001b[0m\u001b[0;34m)\u001b[0m\u001b[0;34m\u001b[0m\u001b[0;34m\u001b[0m\u001b[0m\n\u001b[0;32m---> 12\u001b[0;31m                 \u001b[0mtrainX\u001b[0m \u001b[0;34m=\u001b[0m \u001b[0mdf\u001b[0m\u001b[0;34m[\u001b[0m\u001b[0mtarget1\u001b[0m\u001b[0;34m]\u001b[0m\u001b[0;34m[\u001b[0m\u001b[0m_times\u001b[0m\u001b[0;34m]\u001b[0m\u001b[0;34m[\u001b[0m\u001b[0;34m'people'\u001b[0m\u001b[0;34m]\u001b[0m\u001b[0;34m.\u001b[0m\u001b[0mcopy\u001b[0m\u001b[0;34m(\u001b[0m\u001b[0;34m)\u001b[0m\u001b[0;34m\u001b[0m\u001b[0;34m\u001b[0m\u001b[0m\n\u001b[0m\u001b[1;32m     13\u001b[0m                 \u001b[0mtrainY\u001b[0m \u001b[0;34m=\u001b[0m \u001b[0mdf\u001b[0m\u001b[0;34m[\u001b[0m\u001b[0mtarget2\u001b[0m\u001b[0;34m]\u001b[0m\u001b[0;34m[\u001b[0m\u001b[0m_times\u001b[0m\u001b[0;34m]\u001b[0m\u001b[0;34m[\u001b[0m\u001b[0;34m'people'\u001b[0m\u001b[0;34m]\u001b[0m\u001b[0;34m.\u001b[0m\u001b[0mcopy\u001b[0m\u001b[0;34m(\u001b[0m\u001b[0;34m)\u001b[0m\u001b[0;34m\u001b[0m\u001b[0;34m\u001b[0m\u001b[0m\n\u001b[1;32m     14\u001b[0m \u001b[0;34m\u001b[0m\u001b[0m\n",
      "\u001b[0;31mKeyError\u001b[0m: 'census1'"
     ]
    }
   ],
   "source": [
    "import warnings\n",
    "warnings.filterwarnings('ignore')\n",
    "from sklearn.metrics import r2_score\n",
    "import seaborn as sns\n",
    "\n",
    "for_list = env.get_for_list()\n",
    "for _dir in for_list.dir:\n",
    "    for _ratio in for_list.ratio:\n",
    "        for _seed in for_list.seed:\n",
    "            for _times in times_list:\n",
    "                df = csv_array_3d[_dir][_ratio][_seed].copy()\n",
    "                trainX = df[target1][_times]['people'].copy()\n",
    "                trainY = df[target2][_times]['people'].copy()\n",
    "\n",
    "                # plt.figure(dpi=600)\n",
    "                plt.plot(trainX, trainY, 'o')\n",
    "\n",
    "                order=2\n",
    "                sns.regplot(x=trainX, y=trainY, order=order, ci=0)\n",
    "                z = np.polyfit(trainX, trainY, order)\n",
    "                z = np.squeeze(z)\n",
    "                p = np.poly1d(z)\n",
    "            #     print('y = ', p)\n",
    "                corr = np.corrcoef(trainX, trainY)[0,1]\n",
    "#                 print('相関 = ', round(corr, 4))\n",
    "\n",
    "                trainX = trainX.values.reshape(-1, 1)\n",
    "                trainY = trainY.values.reshape(-1, 1)\n",
    "                model = LR()\n",
    "                model.fit(trainX, trainY)            \n",
    "                score = model.score(trainX, trainY)\n",
    "                \n",
    "                print(_dir, _ratio, _seed, _times, ' [R^2 = ', round(score, 3), ']')\n",
    "                p = np.asanyarray(p)\n",
    "\n",
    "                x = trainX\n",
    "                y = p[0]*x**2 + p[1]*x + p[2]\n",
    "\n",
    "\n",
    "                # plt.savefig('correlation_{0}.png'.format(people))"
   ]
  },
  {
   "cell_type": "code",
   "execution_count": null,
   "metadata": {},
   "outputs": [],
   "source": [
    "# for _dir in ['p30000']:\n",
    "#     for _ratio in ['r6']:\n",
    "#         for _seed in ['s123']:\n",
    "#             for _times in ['3600']:\n",
    "#                 df = csv_array_3d[_dir][_ratio][_seed].copy()\n",
    "#                 trainX = df['od'][_times]['people'].copy()\n",
    "#                 trainY = df['census'][_times]['people'].copy()\n",
    "\n",
    "#                 # plt.figure(dpi=600)\n",
    "#                 plt.plot(trainX, trainY, 'o')\n",
    "\n",
    "#                 order=2\n",
    "#                 sns.regplot(x=trainX, y=trainY, order=order, ci=0)\n",
    "#                 z = np.polyfit(trainX, trainY, order)\n",
    "#                 z = np.squeeze(z)\n",
    "#                 p = np.poly1d(z)\n",
    "#             #     print('y = ', p)\n",
    "#                 corr = np.corrcoef(trainX, trainY)[0,1]\n",
    "# #                 print('相関 = ', round(corr, 4))\n",
    "\n",
    "#                 trainX = trainX.values.reshape(-1, 1)\n",
    "#                 trainY = trainY.values.reshape(-1, 1)\n",
    "#                 model = LR()\n",
    "#                 model.fit(trainX, trainY)            \n",
    "#                 score = model.score(trainX, trainY)\n",
    "                \n",
    "#                 print(_dir, _ratio, _seed, _times, ' [R^2 = ', round(score, 3), ']')\n",
    "#                 p = np.asanyarray(p)\n",
    "\n",
    "#                 x = trainX\n",
    "#                 y = p[0]*x**2 + p[1]*x + p[2]\n",
    "\n",
    "\n",
    "#                 # plt.savefig('correlation_{0}.png'.format(people))"
   ]
  },
  {
   "cell_type": "markdown",
   "metadata": {},
   "source": [
    "参考: http://tekenuko.hatenablog.com/entry/2016/09/19/193520"
   ]
  },
  {
   "cell_type": "code",
   "execution_count": null,
   "metadata": {},
   "outputs": [],
   "source": [
    "from sklearn.preprocessing import PolynomialFeatures\n",
    "\n",
    "score_array = []\n",
    "for_list = env.get_for_list()\n",
    "for _dir in for_list.dir:\n",
    "    for _ratio in for_list.ratio:\n",
    "        for _seed in for_list.seed:\n",
    "\n",
    "            df = csv_array[_dir][_ratio][_seed].copy()\n",
    "            trainX = df[target1]['people'].values.reshape(-1, 1)\n",
    "            trainY = df[target2]['people'].values.reshape(-1, 1)\n",
    "\n",
    "            quadratic = PolynomialFeatures(degree = 2)\n",
    "            X_quad = quadratic.fit_transform(trainX)\n",
    "            X_fit = np.arange(trainX.min(), trainX.max(), 1)[:, np.newaxis]\n",
    "            model = LR()\n",
    "\n",
    "            # 2次の項を追加、予測値、R^2を評価\n",
    "            mod_quad = model.fit(X_quad, trainY)\n",
    "            y_quad_fit = mod_quad.predict(quadratic.fit_transform(X_fit))\n",
    "            r2_quad = model.score(X_quad, trainY)\n",
    "            score_array.append(r2_quad)\n",
    "\n",
    "            plt.scatter(trainX, trainY, color = 'lightgray')\n",
    "            plt.plot(X_fit, y_quad_fit, 'r')\n",
    "            print(r2_quad)"
   ]
  },
  {
   "cell_type": "code",
   "execution_count": null,
   "metadata": {},
   "outputs": [],
   "source": [
    "tmp = 0\n",
    "for score in score_array:\n",
    "    tmp += score\n",
    "tmp/len(score_array)"
   ]
  },
  {
   "cell_type": "code",
   "execution_count": null,
   "metadata": {},
   "outputs": [],
   "source": []
  }
 ],
 "metadata": {
  "kernelspec": {
   "display_name": "Python 3",
   "language": "python",
   "name": "python3"
  },
  "language_info": {
   "codemirror_mode": {
    "name": "ipython",
    "version": 3
   },
   "file_extension": ".py",
   "mimetype": "text/x-python",
   "name": "python",
   "nbconvert_exporter": "python",
   "pygments_lexer": "ipython3",
   "version": "3.6.8"
  }
 },
 "nbformat": 4,
 "nbformat_minor": 2
}
