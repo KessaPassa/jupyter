{
 "cells": [
  {
   "cell_type": "code",
   "execution_count": 40,
   "metadata": {},
   "outputs": [],
   "source": [
    "num = 102"
   ]
  },
  {
   "cell_type": "code",
   "execution_count": 54,
   "metadata": {},
   "outputs": [
    {
     "name": "stdout",
     "output_type": "stream",
     "text": [
      "2\n",
      "102\n"
     ]
    }
   ],
   "source": [
    "num_list = []\n",
    "for n in str(num):\n",
    "    num_list.append(n)\n",
    "    \n",
    "num_list.sort()\n",
    "\n",
    "\n",
    "index = 1\n",
    "while True:\n",
    "    if num_list[0] == '0':\n",
    "        tmp = num_list[0]\n",
    "        num_list[0] = num_list[index]\n",
    "        num_list[index] = tmp\n",
    "        index = index+1\n",
    "        \n",
    "    else:\n",
    "        break\n",
    "        \n",
    "\n",
    "result = int(\"\".join(num_list))\n",
    "print(result)\n",
    "        \n",
    "    "
   ]
  },
  {
   "cell_type": "code",
   "execution_count": 48,
   "metadata": {},
   "outputs": [
    {
     "data": {
      "text/plain": [
       "'0'"
      ]
     },
     "execution_count": 48,
     "metadata": {},
     "output_type": "execute_result"
    }
   ],
   "source": [
    "num_list[0]"
   ]
  },
  {
   "cell_type": "code",
   "execution_count": 49,
   "metadata": {},
   "outputs": [
    {
     "name": "stdout",
     "output_type": "stream",
     "text": [
      "2\n"
     ]
    }
   ],
   "source": [
    "index = 1\n",
    "while True:\n",
    "    if num_list[0] == '0':\n",
    "        tmp = num_list[0]\n",
    "        num_list[0] = num_list[index]\n",
    "        num_list[index] = tmp\n",
    "        index = index+1\n",
    "        print(index)\n",
    "        \n",
    "    else:\n",
    "        break"
   ]
  },
  {
   "cell_type": "code",
   "execution_count": 58,
   "metadata": {},
   "outputs": [],
   "source": [
    "num_list = []\n",
    "for n in str(num):\n",
    "    num_list.append(n)\n",
    "    \n",
    "num_list.sort()"
   ]
  },
  {
   "cell_type": "code",
   "execution_count": 60,
   "metadata": {},
   "outputs": [
    {
     "data": {
      "text/plain": [
       "0"
      ]
     },
     "execution_count": 60,
     "metadata": {},
     "output_type": "execute_result"
    }
   ],
   "source": [
    "num_list.index('0')"
   ]
  },
  {
   "cell_type": "code",
   "execution_count": null,
   "metadata": {},
   "outputs": [],
   "source": []
  }
 ],
 "metadata": {
  "kernelspec": {
   "display_name": "Python 3",
   "language": "python",
   "name": "python3"
  },
  "language_info": {
   "codemirror_mode": {
    "name": "ipython",
    "version": 3
   },
   "file_extension": ".py",
   "mimetype": "text/x-python",
   "name": "python",
   "nbconvert_exporter": "python",
   "pygments_lexer": "ipython3",
   "version": "3.6.8"
  }
 },
 "nbformat": 4,
 "nbformat_minor": 2
}
