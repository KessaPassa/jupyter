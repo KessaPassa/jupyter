{
 "cells": [
  {
   "cell_type": "code",
   "execution_count": 1,
   "metadata": {},
   "outputs": [],
   "source": [
    "import sys\n",
    "sys.path.append('../')\n",
    "import env"
   ]
  },
  {
   "cell_type": "code",
   "execution_count": 2,
   "metadata": {},
   "outputs": [],
   "source": [
    "import pandas as pd\n",
    "import numpy as np\n",
    "import math\n",
    "from matplotlib import pyplot as plt\n",
    "from sklearn.linear_model import LinearRegression as LR\n",
    "from sklearn.preprocessing import PolynomialFeatures"
   ]
  },
  {
   "cell_type": "code",
   "execution_count": 3,
   "metadata": {},
   "outputs": [],
   "source": [
    "READ_FILE = '2D'"
   ]
  },
  {
   "cell_type": "code",
   "execution_count": 4,
   "metadata": {},
   "outputs": [],
   "source": [
    "times_list = env.TIMES_LIST()"
   ]
  },
  {
   "cell_type": "code",
   "execution_count": 5,
   "metadata": {},
   "outputs": [],
   "source": [
    "csv_array = {}\n",
    "def main(args, array):\n",
    "    df = pd.read_csv(env.get_full_path(READ_FILE, args))\n",
    "    array[args.dir][args.ratio][args.seed][args.csv] = df.copy()\n",
    "    \n",
    "env.for_default_init(main, csv_array)"
   ]
  },
  {
   "cell_type": "code",
   "execution_count": 6,
   "metadata": {},
   "outputs": [],
   "source": [
    "target1 = 'census'\n",
    "target2 = 'od'"
   ]
  },
  {
   "cell_type": "markdown",
   "metadata": {},
   "source": [
    "# 全体の回帰直線"
   ]
  },
  {
   "cell_type": "markdown",
   "metadata": {},
   "source": [
    "https://pythondatascience.plavox.info/scikit-learn/%E5%9B%9E%E5%B8%B0%E3%83%A2%E3%83%87%E3%83%AB%E3%81%AE%E8%A9%95%E4%BE%A1　　\n",
    "\n",
    "よりR2はxに実測値、yに真値\n",
    "\n",
    "なのでここでのR2算出方法は間違っている　　"
   ]
  },
  {
   "cell_type": "code",
   "execution_count": 7,
   "metadata": {},
   "outputs": [
    {
     "name": "stdout",
     "output_type": "stream",
     "text": [
      "0.8597942292042271\n"
     ]
    },
    {
     "data": {
      "image/png": "[encoded data removed]",
      "text/plain": [
       "<Figure size 432x288 with 1 Axes>"
      ]
     },
     "metadata": {
      "needs_background": "light"
     },
     "output_type": "display_data"
    }
   ],
   "source": [
    "_dir = 'p30000'\n",
    "_ratio = 'r6'\n",
    "_seed = 's123'\n",
    "\n",
    "df = csv_array[_dir][_ratio][_seed].copy()\n",
    "trainX = df[target1]['people'].values.reshape(-1, 1)\n",
    "trainY = df[target2]['people'].values.reshape(-1, 1)\n",
    "\n",
    "quadratic = PolynomialFeatures(degree = 2)\n",
    "X_quad = quadratic.fit_transform(trainX)\n",
    "X_fit = np.arange(trainX.min(), trainX.max(), 1)[:, np.newaxis]\n",
    "model = LR()\n",
    "\n",
    "# 2次の項を追加、予測値、R^2を評価\n",
    "mod_quad = model.fit(X_quad, trainY)\n",
    "y_quad_fit = mod_quad.predict(quadratic.fit_transform(X_fit))\n",
    "r2_quad = model.score(X_quad, trainY)\n",
    "\n",
    "# plt.figure(dpi=600)\n",
    "plt.scatter(trainX, trainY)\n",
    "plt.plot(X_fit, y_quad_fit, 'orange')\n",
    "print(r2_quad)\n",
    "\n",
    "# plt.savefig('correlation_{0}.png'.format(_dir+_ratio))"
   ]
  },
  {
   "cell_type": "code",
   "execution_count": 8,
   "metadata": {},
   "outputs": [],
   "source": [
    "# xとy両方とも0の値を削除\n",
    "def remove_dual_zeros(x_array, y_array):\n",
    "    new_x_array = []\n",
    "    new_y_array = []\n",
    "    \n",
    "    for x, y in zip(x_array, y_array):\n",
    "        if x == 0 and y == 0:\n",
    "            continue\n",
    "        else:\n",
    "            new_x_array.append(x)\n",
    "            new_y_array.append(y)\n",
    "\n",
    "    return pd.Series(new_x_array), pd.Series(new_y_array)"
   ]
  },
  {
   "cell_type": "code",
   "execution_count": 9,
   "metadata": {},
   "outputs": [],
   "source": [
    "csv_array_3d = {}\n",
    "def create3d(args, array):\n",
    "    df = pd.read_csv(env.get_full_path(READ_FILE, args))\n",
    "    df['time'] = df['time'].apply(lambda x: str(int(x)))\n",
    "    group_list = df.groupby(['time'], sort=False)\n",
    "    for _times, _group in group_list:\n",
    "#         df = convert_area_to_contour(base.copy(), _group.copy())\n",
    "        df = df.sort_index(ascending=False)\n",
    "        array[args.dir][args.ratio][args.seed][args.csv][_times] = _group\n",
    "\n",
    "env.for_default_init(create3d, csv_array_3d)"
   ]
  },
  {
   "cell_type": "code",
   "execution_count": 10,
   "metadata": {
    "scrolled": true
   },
   "outputs": [
    {
     "name": "stdout",
     "output_type": "stream",
     "text": [
      "p10000 r4 s123 3600  [R^2 =  0.823 ]\n",
      "p10000 r4 s123 7200  [R^2 =  0.823 ]\n",
      "p10000 r4 s123 10800  [R^2 =  0.815 ]\n",
      "p10000 r4 s123 14400  [R^2 =  0.839 ]\n",
      "p10000 r4 s123 18000  [R^2 =  0.803 ]\n",
      "p10000 r4 s123 21600  [R^2 =  0.821 ]\n",
      "p10000 r5 s123 3600  [R^2 =  0.819 ]\n",
      "p10000 r5 s123 7200  [R^2 =  0.829 ]\n",
      "p10000 r5 s123 10800  [R^2 =  0.814 ]\n",
      "p10000 r5 s123 14400  [R^2 =  0.838 ]\n",
      "p10000 r5 s123 18000  [R^2 =  0.82 ]\n",
      "p10000 r5 s123 21600  [R^2 =  0.804 ]\n",
      "p10000 r6 s123 3600  [R^2 =  0.828 ]\n",
      "p10000 r6 s123 7200  [R^2 =  0.831 ]\n",
      "p10000 r6 s123 10800  [R^2 =  0.818 ]\n",
      "p10000 r6 s123 14400  [R^2 =  0.846 ]\n",
      "p10000 r6 s123 18000  [R^2 =  0.809 ]\n",
      "p10000 r6 s123 21600  [R^2 =  0.813 ]\n",
      "p20000 r4 s123 3600  [R^2 =  0.807 ]\n",
      "p20000 r4 s123 7200  [R^2 =  0.829 ]\n",
      "p20000 r4 s123 10800  [R^2 =  0.83 ]\n",
      "p20000 r4 s123 14400  [R^2 =  0.84 ]\n",
      "p20000 r4 s123 18000  [R^2 =  0.829 ]\n",
      "p20000 r4 s123 21600  [R^2 =  0.83 ]\n",
      "p20000 r5 s123 3600  [R^2 =  0.815 ]\n",
      "p20000 r5 s123 7200  [R^2 =  0.827 ]\n",
      "p20000 r5 s123 10800  [R^2 =  0.837 ]\n",
      "p20000 r5 s123 14400  [R^2 =  0.838 ]\n",
      "p20000 r5 s123 18000  [R^2 =  0.841 ]\n",
      "p20000 r5 s123 21600  [R^2 =  0.824 ]\n",
      "p20000 r6 s123 3600  [R^2 =  0.82 ]\n"
     ]
    },
    {
     "ename": "KeyboardInterrupt",
     "evalue": "",
     "output_type": "error",
     "traceback": [
      "\u001b[0;31m---------------------------------------------------------------------------\u001b[0m",
      "\u001b[0;31mKeyboardInterrupt\u001b[0m                         Traceback (most recent call last)",
      "\u001b[0;32m<ipython-input-10-358e06889a24>\u001b[0m in \u001b[0;36m<module>\u001b[0;34m\u001b[0m\n\u001b[1;32m     17\u001b[0m \u001b[0;34m\u001b[0m\u001b[0m\n\u001b[1;32m     18\u001b[0m                 \u001b[0morder\u001b[0m\u001b[0;34m=\u001b[0m\u001b[0;36m2\u001b[0m\u001b[0;34m\u001b[0m\u001b[0;34m\u001b[0m\u001b[0m\n\u001b[0;32m---> 19\u001b[0;31m                 \u001b[0msns\u001b[0m\u001b[0;34m.\u001b[0m\u001b[0mregplot\u001b[0m\u001b[0;34m(\u001b[0m\u001b[0mx\u001b[0m\u001b[0;34m=\u001b[0m\u001b[0mtrainX\u001b[0m\u001b[0;34m,\u001b[0m \u001b[0my\u001b[0m\u001b[0;34m=\u001b[0m\u001b[0mtrainY\u001b[0m\u001b[0;34m,\u001b[0m \u001b[0morder\u001b[0m\u001b[0;34m=\u001b[0m\u001b[0morder\u001b[0m\u001b[0;34m,\u001b[0m \u001b[0mci\u001b[0m\u001b[0;34m=\u001b[0m\u001b[0;36m0\u001b[0m\u001b[0;34m)\u001b[0m\u001b[0;34m\u001b[0m\u001b[0;34m\u001b[0m\u001b[0m\n\u001b[0m\u001b[1;32m     20\u001b[0m                 \u001b[0mz\u001b[0m \u001b[0;34m=\u001b[0m \u001b[0mnp\u001b[0m\u001b[0;34m.\u001b[0m\u001b[0mpolyfit\u001b[0m\u001b[0;34m(\u001b[0m\u001b[0mtrainX\u001b[0m\u001b[0;34m,\u001b[0m \u001b[0mtrainY\u001b[0m\u001b[0;34m,\u001b[0m \u001b[0morder\u001b[0m\u001b[0;34m)\u001b[0m\u001b[0;34m\u001b[0m\u001b[0;34m\u001b[0m\u001b[0m\n\u001b[1;32m     21\u001b[0m                 \u001b[0mz\u001b[0m \u001b[0;34m=\u001b[0m \u001b[0mnp\u001b[0m\u001b[0;34m.\u001b[0m\u001b[0msqueeze\u001b[0m\u001b[0;34m(\u001b[0m\u001b[0mz\u001b[0m\u001b[0;34m)\u001b[0m\u001b[0;34m\u001b[0m\u001b[0;34m\u001b[0m\u001b[0m\n",
      "\u001b[0;32m~/anaconda3/lib/python3.6/site-packages/seaborn/regression.py\u001b[0m in \u001b[0;36mregplot\u001b[0;34m(x, y, data, x_estimator, x_bins, x_ci, scatter, fit_reg, ci, n_boot, units, order, logistic, lowess, robust, logx, x_partial, y_partial, truncate, dropna, x_jitter, y_jitter, label, color, marker, scatter_kws, line_kws, ax)\u001b[0m\n\u001b[1;32m    787\u001b[0m     \u001b[0mscatter_kws\u001b[0m\u001b[0;34m[\u001b[0m\u001b[0;34m\"marker\"\u001b[0m\u001b[0;34m]\u001b[0m \u001b[0;34m=\u001b[0m \u001b[0mmarker\u001b[0m\u001b[0;34m\u001b[0m\u001b[0;34m\u001b[0m\u001b[0m\n\u001b[1;32m    788\u001b[0m     \u001b[0mline_kws\u001b[0m \u001b[0;34m=\u001b[0m \u001b[0;34m{\u001b[0m\u001b[0;34m}\u001b[0m \u001b[0;32mif\u001b[0m \u001b[0mline_kws\u001b[0m \u001b[0;32mis\u001b[0m \u001b[0;32mNone\u001b[0m \u001b[0;32melse\u001b[0m \u001b[0mcopy\u001b[0m\u001b[0;34m.\u001b[0m\u001b[0mcopy\u001b[0m\u001b[0;34m(\u001b[0m\u001b[0mline_kws\u001b[0m\u001b[0;34m)\u001b[0m\u001b[0;34m\u001b[0m\u001b[0;34m\u001b[0m\u001b[0m\n\u001b[0;32m--> 789\u001b[0;31m     \u001b[0mplotter\u001b[0m\u001b[0;34m.\u001b[0m\u001b[0mplot\u001b[0m\u001b[0;34m(\u001b[0m\u001b[0max\u001b[0m\u001b[0;34m,\u001b[0m \u001b[0mscatter_kws\u001b[0m\u001b[0;34m,\u001b[0m \u001b[0mline_kws\u001b[0m\u001b[0;34m)\u001b[0m\u001b[0;34m\u001b[0m\u001b[0;34m\u001b[0m\u001b[0m\n\u001b[0m\u001b[1;32m    790\u001b[0m     \u001b[0;32mreturn\u001b[0m \u001b[0max\u001b[0m\u001b[0;34m\u001b[0m\u001b[0;34m\u001b[0m\u001b[0m\n\u001b[1;32m    791\u001b[0m \u001b[0;34m\u001b[0m\u001b[0m\n",
      "\u001b[0;32m~/anaconda3/lib/python3.6/site-packages/seaborn/regression.py\u001b[0m in \u001b[0;36mplot\u001b[0;34m(self, ax, scatter_kws, line_kws)\u001b[0m\n\u001b[1;32m    342\u001b[0m             \u001b[0mself\u001b[0m\u001b[0;34m.\u001b[0m\u001b[0mscatterplot\u001b[0m\u001b[0;34m(\u001b[0m\u001b[0max\u001b[0m\u001b[0;34m,\u001b[0m \u001b[0mscatter_kws\u001b[0m\u001b[0;34m)\u001b[0m\u001b[0;34m\u001b[0m\u001b[0;34m\u001b[0m\u001b[0m\n\u001b[1;32m    343\u001b[0m         \u001b[0;32mif\u001b[0m \u001b[0mself\u001b[0m\u001b[0;34m.\u001b[0m\u001b[0mfit_reg\u001b[0m\u001b[0;34m:\u001b[0m\u001b[0;34m\u001b[0m\u001b[0;34m\u001b[0m\u001b[0m\n\u001b[0;32m--> 344\u001b[0;31m             \u001b[0mself\u001b[0m\u001b[0;34m.\u001b[0m\u001b[0mlineplot\u001b[0m\u001b[0;34m(\u001b[0m\u001b[0max\u001b[0m\u001b[0;34m,\u001b[0m \u001b[0mline_kws\u001b[0m\u001b[0;34m)\u001b[0m\u001b[0;34m\u001b[0m\u001b[0;34m\u001b[0m\u001b[0m\n\u001b[0m\u001b[1;32m    345\u001b[0m \u001b[0;34m\u001b[0m\u001b[0m\n\u001b[1;32m    346\u001b[0m         \u001b[0;31m# Label the axes\u001b[0m\u001b[0;34m\u001b[0m\u001b[0;34m\u001b[0m\u001b[0;34m\u001b[0m\u001b[0m\n",
      "\u001b[0;32m~/anaconda3/lib/python3.6/site-packages/seaborn/regression.py\u001b[0m in \u001b[0;36mlineplot\u001b[0;34m(self, ax, kws)\u001b[0m\n\u001b[1;32m    387\u001b[0m \u001b[0;34m\u001b[0m\u001b[0m\n\u001b[1;32m    388\u001b[0m         \u001b[0;31m# Fit the regression model\u001b[0m\u001b[0;34m\u001b[0m\u001b[0;34m\u001b[0m\u001b[0;34m\u001b[0m\u001b[0m\n\u001b[0;32m--> 389\u001b[0;31m         \u001b[0mgrid\u001b[0m\u001b[0;34m,\u001b[0m \u001b[0myhat\u001b[0m\u001b[0;34m,\u001b[0m \u001b[0merr_bands\u001b[0m \u001b[0;34m=\u001b[0m \u001b[0mself\u001b[0m\u001b[0;34m.\u001b[0m\u001b[0mfit_regression\u001b[0m\u001b[0;34m(\u001b[0m\u001b[0max\u001b[0m\u001b[0;34m)\u001b[0m\u001b[0;34m\u001b[0m\u001b[0;34m\u001b[0m\u001b[0m\n\u001b[0m\u001b[1;32m    390\u001b[0m \u001b[0;34m\u001b[0m\u001b[0m\n\u001b[1;32m    391\u001b[0m         \u001b[0;31m# Get set default aesthetics\u001b[0m\u001b[0;34m\u001b[0m\u001b[0;34m\u001b[0m\u001b[0;34m\u001b[0m\u001b[0m\n",
      "\u001b[0;32m~/anaconda3/lib/python3.6/site-packages/seaborn/regression.py\u001b[0m in \u001b[0;36mfit_regression\u001b[0;34m(self, ax, x_range, grid)\u001b[0m\n\u001b[1;32m    191\u001b[0m         \u001b[0;31m# Fit the regression\u001b[0m\u001b[0;34m\u001b[0m\u001b[0;34m\u001b[0m\u001b[0;34m\u001b[0m\u001b[0m\n\u001b[1;32m    192\u001b[0m         \u001b[0;32mif\u001b[0m \u001b[0mself\u001b[0m\u001b[0;34m.\u001b[0m\u001b[0morder\u001b[0m \u001b[0;34m>\u001b[0m \u001b[0;36m1\u001b[0m\u001b[0;34m:\u001b[0m\u001b[0;34m\u001b[0m\u001b[0;34m\u001b[0m\u001b[0m\n\u001b[0;32m--> 193\u001b[0;31m             \u001b[0myhat\u001b[0m\u001b[0;34m,\u001b[0m \u001b[0myhat_boots\u001b[0m \u001b[0;34m=\u001b[0m \u001b[0mself\u001b[0m\u001b[0;34m.\u001b[0m\u001b[0mfit_poly\u001b[0m\u001b[0;34m(\u001b[0m\u001b[0mgrid\u001b[0m\u001b[0;34m,\u001b[0m \u001b[0mself\u001b[0m\u001b[0;34m.\u001b[0m\u001b[0morder\u001b[0m\u001b[0;34m)\u001b[0m\u001b[0;34m\u001b[0m\u001b[0;34m\u001b[0m\u001b[0m\n\u001b[0m\u001b[1;32m    194\u001b[0m         \u001b[0;32melif\u001b[0m \u001b[0mself\u001b[0m\u001b[0;34m.\u001b[0m\u001b[0mlogistic\u001b[0m\u001b[0;34m:\u001b[0m\u001b[0;34m\u001b[0m\u001b[0;34m\u001b[0m\u001b[0m\n\u001b[1;32m    195\u001b[0m             \u001b[0;32mfrom\u001b[0m \u001b[0mstatsmodels\u001b[0m\u001b[0;34m.\u001b[0m\u001b[0mgenmod\u001b[0m\u001b[0;34m.\u001b[0m\u001b[0mgeneralized_linear_model\u001b[0m \u001b[0;32mimport\u001b[0m \u001b[0mGLM\u001b[0m\u001b[0;34m\u001b[0m\u001b[0;34m\u001b[0m\u001b[0m\n",
      "\u001b[0;32m~/anaconda3/lib/python3.6/site-packages/seaborn/regression.py\u001b[0m in \u001b[0;36mfit_poly\u001b[0;34m(self, grid, order)\u001b[0m\n\u001b[1;32m    243\u001b[0m \u001b[0;34m\u001b[0m\u001b[0m\n\u001b[1;32m    244\u001b[0m         yhat_boots = algo.bootstrap(x, y, func=reg_func,\n\u001b[0;32m--> 245\u001b[0;31m                                     n_boot=self.n_boot, units=self.units)\n\u001b[0m\u001b[1;32m    246\u001b[0m         \u001b[0;32mreturn\u001b[0m \u001b[0myhat\u001b[0m\u001b[0;34m,\u001b[0m \u001b[0myhat_boots\u001b[0m\u001b[0;34m\u001b[0m\u001b[0;34m\u001b[0m\u001b[0m\n\u001b[1;32m    247\u001b[0m \u001b[0;34m\u001b[0m\u001b[0m\n",
      "\u001b[0;32m~/anaconda3/lib/python3.6/site-packages/seaborn/algorithms.py\u001b[0m in \u001b[0;36mbootstrap\u001b[0;34m(*args, **kwargs)\u001b[0m\n\u001b[1;32m     86\u001b[0m         \u001b[0mresampler\u001b[0m \u001b[0;34m=\u001b[0m \u001b[0mrs\u001b[0m\u001b[0;34m.\u001b[0m\u001b[0mrandint\u001b[0m\u001b[0;34m(\u001b[0m\u001b[0;36m0\u001b[0m\u001b[0;34m,\u001b[0m \u001b[0mn\u001b[0m\u001b[0;34m,\u001b[0m \u001b[0mn\u001b[0m\u001b[0;34m)\u001b[0m\u001b[0;34m\u001b[0m\u001b[0;34m\u001b[0m\u001b[0m\n\u001b[1;32m     87\u001b[0m         \u001b[0msample\u001b[0m \u001b[0;34m=\u001b[0m \u001b[0;34m[\u001b[0m\u001b[0ma\u001b[0m\u001b[0;34m.\u001b[0m\u001b[0mtake\u001b[0m\u001b[0;34m(\u001b[0m\u001b[0mresampler\u001b[0m\u001b[0;34m,\u001b[0m \u001b[0maxis\u001b[0m\u001b[0;34m=\u001b[0m\u001b[0;36m0\u001b[0m\u001b[0;34m)\u001b[0m \u001b[0;32mfor\u001b[0m \u001b[0ma\u001b[0m \u001b[0;32min\u001b[0m \u001b[0margs\u001b[0m\u001b[0;34m]\u001b[0m\u001b[0;34m\u001b[0m\u001b[0;34m\u001b[0m\u001b[0m\n\u001b[0;32m---> 88\u001b[0;31m         \u001b[0mboot_dist\u001b[0m\u001b[0;34m.\u001b[0m\u001b[0mappend\u001b[0m\u001b[0;34m(\u001b[0m\u001b[0mf\u001b[0m\u001b[0;34m(\u001b[0m\u001b[0;34m*\u001b[0m\u001b[0msample\u001b[0m\u001b[0;34m,\u001b[0m \u001b[0;34m**\u001b[0m\u001b[0mfunc_kwargs\u001b[0m\u001b[0;34m)\u001b[0m\u001b[0;34m)\u001b[0m\u001b[0;34m\u001b[0m\u001b[0;34m\u001b[0m\u001b[0m\n\u001b[0m\u001b[1;32m     89\u001b[0m     \u001b[0;32mreturn\u001b[0m \u001b[0mnp\u001b[0m\u001b[0;34m.\u001b[0m\u001b[0marray\u001b[0m\u001b[0;34m(\u001b[0m\u001b[0mboot_dist\u001b[0m\u001b[0;34m)\u001b[0m\u001b[0;34m\u001b[0m\u001b[0;34m\u001b[0m\u001b[0m\n\u001b[1;32m     90\u001b[0m \u001b[0;34m\u001b[0m\u001b[0m\n",
      "\u001b[0;32m~/anaconda3/lib/python3.6/site-packages/seaborn/regression.py\u001b[0m in \u001b[0;36mreg_func\u001b[0;34m(_x, _y)\u001b[0m\n\u001b[1;32m    235\u001b[0m         \u001b[0;34m\"\"\"Regression using numpy polyfit for higher-order trends.\"\"\"\u001b[0m\u001b[0;34m\u001b[0m\u001b[0;34m\u001b[0m\u001b[0m\n\u001b[1;32m    236\u001b[0m         \u001b[0;32mdef\u001b[0m \u001b[0mreg_func\u001b[0m\u001b[0;34m(\u001b[0m\u001b[0m_x\u001b[0m\u001b[0;34m,\u001b[0m \u001b[0m_y\u001b[0m\u001b[0;34m)\u001b[0m\u001b[0;34m:\u001b[0m\u001b[0;34m\u001b[0m\u001b[0;34m\u001b[0m\u001b[0m\n\u001b[0;32m--> 237\u001b[0;31m             \u001b[0;32mreturn\u001b[0m \u001b[0mnp\u001b[0m\u001b[0;34m.\u001b[0m\u001b[0mpolyval\u001b[0m\u001b[0;34m(\u001b[0m\u001b[0mnp\u001b[0m\u001b[0;34m.\u001b[0m\u001b[0mpolyfit\u001b[0m\u001b[0;34m(\u001b[0m\u001b[0m_x\u001b[0m\u001b[0;34m,\u001b[0m \u001b[0m_y\u001b[0m\u001b[0;34m,\u001b[0m \u001b[0morder\u001b[0m\u001b[0;34m)\u001b[0m\u001b[0;34m,\u001b[0m \u001b[0mgrid\u001b[0m\u001b[0;34m)\u001b[0m\u001b[0;34m\u001b[0m\u001b[0;34m\u001b[0m\u001b[0m\n\u001b[0m\u001b[1;32m    238\u001b[0m \u001b[0;34m\u001b[0m\u001b[0m\n\u001b[1;32m    239\u001b[0m         \u001b[0mx\u001b[0m\u001b[0;34m,\u001b[0m \u001b[0my\u001b[0m \u001b[0;34m=\u001b[0m \u001b[0mself\u001b[0m\u001b[0;34m.\u001b[0m\u001b[0mx\u001b[0m\u001b[0;34m,\u001b[0m \u001b[0mself\u001b[0m\u001b[0;34m.\u001b[0m\u001b[0my\u001b[0m\u001b[0;34m\u001b[0m\u001b[0;34m\u001b[0m\u001b[0m\n",
      "\u001b[0;32m~/anaconda3/lib/python3.6/site-packages/numpy/lib/polynomial.py\u001b[0m in \u001b[0;36mpolyfit\u001b[0;34m(x, y, deg, rcond, full, w, cov)\u001b[0m\n\u001b[1;32m    583\u001b[0m     \u001b[0mscale\u001b[0m \u001b[0;34m=\u001b[0m \u001b[0mNX\u001b[0m\u001b[0;34m.\u001b[0m\u001b[0msqrt\u001b[0m\u001b[0;34m(\u001b[0m\u001b[0;34m(\u001b[0m\u001b[0mlhs\u001b[0m\u001b[0;34m*\u001b[0m\u001b[0mlhs\u001b[0m\u001b[0;34m)\u001b[0m\u001b[0;34m.\u001b[0m\u001b[0msum\u001b[0m\u001b[0;34m(\u001b[0m\u001b[0maxis\u001b[0m\u001b[0;34m=\u001b[0m\u001b[0;36m0\u001b[0m\u001b[0;34m)\u001b[0m\u001b[0;34m)\u001b[0m\u001b[0;34m\u001b[0m\u001b[0;34m\u001b[0m\u001b[0m\n\u001b[1;32m    584\u001b[0m     \u001b[0mlhs\u001b[0m \u001b[0;34m/=\u001b[0m \u001b[0mscale\u001b[0m\u001b[0;34m\u001b[0m\u001b[0;34m\u001b[0m\u001b[0m\n\u001b[0;32m--> 585\u001b[0;31m     \u001b[0mc\u001b[0m\u001b[0;34m,\u001b[0m \u001b[0mresids\u001b[0m\u001b[0;34m,\u001b[0m \u001b[0mrank\u001b[0m\u001b[0;34m,\u001b[0m \u001b[0ms\u001b[0m \u001b[0;34m=\u001b[0m \u001b[0mlstsq\u001b[0m\u001b[0;34m(\u001b[0m\u001b[0mlhs\u001b[0m\u001b[0;34m,\u001b[0m \u001b[0mrhs\u001b[0m\u001b[0;34m,\u001b[0m \u001b[0mrcond\u001b[0m\u001b[0;34m)\u001b[0m\u001b[0;34m\u001b[0m\u001b[0;34m\u001b[0m\u001b[0m\n\u001b[0m\u001b[1;32m    586\u001b[0m     \u001b[0mc\u001b[0m \u001b[0;34m=\u001b[0m \u001b[0;34m(\u001b[0m\u001b[0mc\u001b[0m\u001b[0;34m.\u001b[0m\u001b[0mT\u001b[0m\u001b[0;34m/\u001b[0m\u001b[0mscale\u001b[0m\u001b[0;34m)\u001b[0m\u001b[0;34m.\u001b[0m\u001b[0mT\u001b[0m  \u001b[0;31m# broadcast scale coefficients\u001b[0m\u001b[0;34m\u001b[0m\u001b[0;34m\u001b[0m\u001b[0m\n\u001b[1;32m    587\u001b[0m \u001b[0;34m\u001b[0m\u001b[0m\n",
      "\u001b[0;32m~/anaconda3/lib/python3.6/site-packages/numpy/linalg/linalg.py\u001b[0m in \u001b[0;36mlstsq\u001b[0;34m(a, b, rcond)\u001b[0m\n\u001b[1;32m   2039\u001b[0m         \u001b[0mwork\u001b[0m \u001b[0;34m=\u001b[0m \u001b[0mzeros\u001b[0m\u001b[0;34m(\u001b[0m\u001b[0;34m(\u001b[0m\u001b[0mlwork\u001b[0m\u001b[0;34m,\u001b[0m\u001b[0;34m)\u001b[0m\u001b[0;34m,\u001b[0m \u001b[0mt\u001b[0m\u001b[0;34m)\u001b[0m\u001b[0;34m\u001b[0m\u001b[0;34m\u001b[0m\u001b[0m\n\u001b[1;32m   2040\u001b[0m         results = lapack_routine(m, n, n_rhs, a, m, bstar, ldb, s, rcond,\n\u001b[0;32m-> 2041\u001b[0;31m                                  0, work, lwork, iwork, 0)\n\u001b[0m\u001b[1;32m   2042\u001b[0m     \u001b[0;32mif\u001b[0m \u001b[0mresults\u001b[0m\u001b[0;34m[\u001b[0m\u001b[0;34m'info'\u001b[0m\u001b[0;34m]\u001b[0m \u001b[0;34m>\u001b[0m \u001b[0;36m0\u001b[0m\u001b[0;34m:\u001b[0m\u001b[0;34m\u001b[0m\u001b[0;34m\u001b[0m\u001b[0m\n\u001b[1;32m   2043\u001b[0m         \u001b[0;32mraise\u001b[0m \u001b[0mLinAlgError\u001b[0m\u001b[0;34m(\u001b[0m\u001b[0;34m'SVD did not converge in Linear Least Squares'\u001b[0m\u001b[0;34m)\u001b[0m\u001b[0;34m\u001b[0m\u001b[0;34m\u001b[0m\u001b[0m\n",
      "\u001b[0;31mKeyboardInterrupt\u001b[0m: "
     ]
    },
    {
     "data": {
      "image/png": "[encoded data removed]",
      "text/plain": [
       "<Figure size 432x288 with 1 Axes>"
      ]
     },
     "metadata": {
      "needs_background": "light"
     },
     "output_type": "display_data"
    }
   ],
   "source": [
    "import warnings\n",
    "warnings.filterwarnings('ignore')\n",
    "from sklearn.metrics import r2_score\n",
    "import seaborn as sns\n",
    "\n",
    "for_list = env.get_for_list()\n",
    "for _dir in for_list.dir:\n",
    "    for _ratio in for_list.ratio:\n",
    "        for _seed in for_list.seed:\n",
    "            for _times in times_list:\n",
    "                df = csv_array_3d[_dir][_ratio][_seed].copy()\n",
    "                trainX = df[target1][_times]['people'].copy()\n",
    "                trainY = df[target2][_times]['people'].copy()\n",
    "\n",
    "                # plt.figure(dpi=600)\n",
    "                plt.plot(trainX, trainY, 'o')\n",
    "\n",
    "                order=2\n",
    "                sns.regplot(x=trainX, y=trainY, order=order, ci=0)\n",
    "                z = np.polyfit(trainX, trainY, order)\n",
    "                z = np.squeeze(z)\n",
    "                p = np.poly1d(z)\n",
    "            #     print('y = ', p)\n",
    "                corr = np.corrcoef(trainX, trainY)[0,1]\n",
    "#                 print('相関 = ', round(corr, 4))\n",
    "\n",
    "                trainX = trainX.values.reshape(-1, 1)\n",
    "                trainY = trainY.values.reshape(-1, 1)\n",
    "                model = LR()\n",
    "                model.fit(trainX, trainY)            \n",
    "                score = model.score(trainX, trainY)\n",
    "                \n",
    "                print(_dir, _ratio, _seed, _times, ' [R^2 = ', round(score, 3), ']')\n",
    "                p = np.asanyarray(p)\n",
    "\n",
    "                x = trainX\n",
    "                y = p[0]*x**2 + p[1]*x + p[2]\n",
    "\n",
    "\n",
    "                # plt.savefig('correlation_{0}.png'.format(people))"
   ]
  },
  {
   "cell_type": "code",
   "execution_count": null,
   "metadata": {},
   "outputs": [],
   "source": [
    "# for _dir in ['p30000']:\n",
    "#     for _ratio in ['r6']:\n",
    "#         for _seed in ['s123']:\n",
    "#             for _times in ['3600']:\n",
    "#                 df = csv_array_3d[_dir][_ratio][_seed].copy()\n",
    "#                 trainX = df['od'][_times]['people'].copy()\n",
    "#                 trainY = df['census'][_times]['people'].copy()\n",
    "\n",
    "#                 # plt.figure(dpi=600)\n",
    "#                 plt.plot(trainX, trainY, 'o')\n",
    "\n",
    "#                 order=2\n",
    "#                 sns.regplot(x=trainX, y=trainY, order=order, ci=0)\n",
    "#                 z = np.polyfit(trainX, trainY, order)\n",
    "#                 z = np.squeeze(z)\n",
    "#                 p = np.poly1d(z)\n",
    "#             #     print('y = ', p)\n",
    "#                 corr = np.corrcoef(trainX, trainY)[0,1]\n",
    "# #                 print('相関 = ', round(corr, 4))\n",
    "\n",
    "#                 trainX = trainX.values.reshape(-1, 1)\n",
    "#                 trainY = trainY.values.reshape(-1, 1)\n",
    "#                 model = LR()\n",
    "#                 model.fit(trainX, trainY)            \n",
    "#                 score = model.score(trainX, trainY)\n",
    "                \n",
    "#                 print(_dir, _ratio, _seed, _times, ' [R^2 = ', round(score, 3), ']')\n",
    "#                 p = np.asanyarray(p)\n",
    "\n",
    "#                 x = trainX\n",
    "#                 y = p[0]*x**2 + p[1]*x + p[2]\n",
    "\n",
    "\n",
    "#                 # plt.savefig('correlation_{0}.png'.format(people))"
   ]
  },
  {
   "cell_type": "markdown",
   "metadata": {},
   "source": [
    "参考: http://tekenuko.hatenablog.com/entry/2016/09/19/193520"
   ]
  },
  {
   "cell_type": "code",
   "execution_count": null,
   "metadata": {},
   "outputs": [],
   "source": [
    "from sklearn.preprocessing import PolynomialFeatures\n",
    "\n",
    "score_array = []\n",
    "for_list = env.get_for_list()\n",
    "for _dir in for_list.dir:\n",
    "    for _ratio in for_list.ratio:\n",
    "        for _seed in for_list.seed:\n",
    "\n",
    "            df = csv_array[_dir][_ratio][_seed].copy()\n",
    "            trainX = df[target1]['people'].values.reshape(-1, 1)\n",
    "            trainY = df[target2]['people'].values.reshape(-1, 1)\n",
    "\n",
    "            quadratic = PolynomialFeatures(degree = 2)\n",
    "            X_quad = quadratic.fit_transform(trainX)\n",
    "            X_fit = np.arange(trainX.min(), trainX.max(), 1)[:, np.newaxis]\n",
    "            model = LR()\n",
    "\n",
    "            # 2次の項を追加、予測値、R^2を評価\n",
    "            mod_quad = model.fit(X_quad, trainY)\n",
    "            y_quad_fit = mod_quad.predict(quadratic.fit_transform(X_fit))\n",
    "            r2_quad = model.score(X_quad, trainY)\n",
    "            score_array.append(r2_quad)\n",
    "\n",
    "            plt.scatter(trainX, trainY, color = 'lightgray')\n",
    "            plt.plot(X_fit, y_quad_fit, 'r')\n",
    "            print(r2_quad)"
   ]
  },
  {
   "cell_type": "code",
   "execution_count": null,
   "metadata": {},
   "outputs": [],
   "source": [
    "tmp = 0\n",
    "for score in score_array:\n",
    "    tmp += score\n",
    "tmp/len(score_array)"
   ]
  },
  {
   "cell_type": "code",
   "execution_count": null,
   "metadata": {},
   "outputs": [],
   "source": []
  }
 ],
 "metadata": {
  "kernelspec": {
   "display_name": "Python 3",
   "language": "python",
   "name": "python3"
  },
  "language_info": {
   "codemirror_mode": {
    "name": "ipython",
    "version": 3
   },
   "file_extension": ".py",
   "mimetype": "text/x-python",
   "name": "python",
   "nbconvert_exporter": "python",
   "pygments_lexer": "ipython3",
   "version": "3.6.8"
  }
 },
 "nbformat": 4,
 "nbformat_minor": 2
}
